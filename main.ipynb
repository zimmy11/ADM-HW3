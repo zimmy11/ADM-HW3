{
 "cells": [
  {
   "cell_type": "markdown",
   "metadata": {},
   "source": [
    "# **Homework 3 - Michelin restaurants in Italy**\n",
    "\n",
    "*Group#20*\n",
    "\n",
    "- **Marco Zimmatore** - [zimmatore.1947442@studenti.uniroma1.it](mailto:zimmatore.1947442@studenti.uniroma1.it)\n",
    "- **Gabriele Cabibbo** - [cabibbo.2196717@studenti.uniroma1.it](mailto:cabibbo.2196717@studenti.uniroma1.it)\n",
    "- **Emre Yeşil** - [1emreyesil@gmail.com](mailto:1emreyesil@gmail.com)\n",
    "- **Emanuele Iaccarino** - [emanueleiaccarino.ei@gmail.com](mailto:emanueleiaccarino.ei@gmail.com)\n",
    "\n",
    "___"
   ]
  },
  {
   "cell_type": "code",
   "execution_count": 3,
   "metadata": {},
   "outputs": [],
   "source": [
    "import pandas as pd\n",
    "import numpy as np\n",
    "import nltk\n",
    "from nltk.corpus import stopwords\n",
    "import string\n",
    "from nltk.stem import PorterStemmer\n",
    "import contractions\n",
    "from nltk.stem import WordNetLemmatizer\n",
    "import re\n",
    "import json\n",
    "from collections import defaultdict\n",
    "from DataCollection import engine\n",
    "import Functions_3"
   ]
  },
  {
   "cell_type": "markdown",
   "metadata": {},
   "source": [
    "## **1. Data collection**"
   ]
  },
  {
   "cell_type": "markdown",
   "metadata": {},
   "source": [
    "Although it would be ideal to call all functions together under ``` engine.py ``` and perform the parsing in a single step, this approach was not possible with our \"more efficient\" implementation. \n",
    "\n",
    "We’ll explore these issues later on, along with the solution implemented to address them."
   ]
  },
  {
   "cell_type": "markdown",
   "metadata": {},
   "source": [
    "Anyway I left ``` engine.py ``` file under DataColletion folder: the file works there but doesn't here on this Jupyter Notebook"
   ]
  },
  {
   "cell_type": "markdown",
   "metadata": {},
   "source": [
    "### **1.1 Get the list of Michelin restaurants**"
   ]
  },
  {
   "cell_type": "markdown",
   "metadata": {},
   "source": [
    "Fun Fact: I first did this part of the code 04/11/2024, the next day the number of restaurants was reduced from 2037 to 1983 (this is confirmed by the official site where now we have 100 pages instead of 102)"
   ]
  },
  {
   "cell_type": "code",
   "execution_count": 8,
   "metadata": {},
   "outputs": [
    {
     "name": "stderr",
     "output_type": "stream",
     "text": [
      "DEBUG:root:Analyzing page 1\n",
      "DEBUG:urllib3.connectionpool:Starting new HTTPS connection (1): guide.michelin.com:443\n",
      "DEBUG:urllib3.connectionpool:https://guide.michelin.com:443 \"GET /en/it/restaurants/page/1 HTTP/11\" 200 None\n",
      "DEBUG:root:Analyzing page 2\n",
      "DEBUG:urllib3.connectionpool:Starting new HTTPS connection (1): guide.michelin.com:443\n",
      "DEBUG:urllib3.connectionpool:https://guide.michelin.com:443 \"GET /en/it/restaurants/page/2 HTTP/11\" 200 None\n",
      "DEBUG:root:Analyzing page 3\n",
      "DEBUG:urllib3.connectionpool:Starting new HTTPS connection (1): guide.michelin.com:443\n",
      "DEBUG:urllib3.connectionpool:https://guide.michelin.com:443 \"GET /en/it/restaurants/page/3 HTTP/11\" 200 None\n",
      "DEBUG:root:Analyzing page 4\n",
      "DEBUG:urllib3.connectionpool:Starting new HTTPS connection (1): guide.michelin.com:443\n",
      "DEBUG:urllib3.connectionpool:https://guide.michelin.com:443 \"GET /en/it/restaurants/page/4 HTTP/11\" 200 None\n",
      "DEBUG:root:Analyzing page 5\n",
      "DEBUG:urllib3.connectionpool:Starting new HTTPS connection (1): guide.michelin.com:443\n",
      "DEBUG:urllib3.connectionpool:https://guide.michelin.com:443 \"GET /en/it/restaurants/page/5 HTTP/11\" 200 None\n",
      "DEBUG:root:Analyzing page 6\n",
      "DEBUG:urllib3.connectionpool:Starting new HTTPS connection (1): guide.michelin.com:443\n",
      "DEBUG:urllib3.connectionpool:https://guide.michelin.com:443 \"GET /en/it/restaurants/page/6 HTTP/11\" 200 None\n",
      "DEBUG:root:Analyzing page 7\n",
      "DEBUG:urllib3.connectionpool:Starting new HTTPS connection (1): guide.michelin.com:443\n",
      "DEBUG:urllib3.connectionpool:https://guide.michelin.com:443 \"GET /en/it/restaurants/page/7 HTTP/11\" 200 None\n",
      "DEBUG:root:Analyzing page 8\n",
      "DEBUG:urllib3.connectionpool:Starting new HTTPS connection (1): guide.michelin.com:443\n",
      "DEBUG:urllib3.connectionpool:https://guide.michelin.com:443 \"GET /en/it/restaurants/page/8 HTTP/11\" 200 None\n",
      "DEBUG:root:Analyzing page 9\n",
      "DEBUG:urllib3.connectionpool:Starting new HTTPS connection (1): guide.michelin.com:443\n",
      "DEBUG:urllib3.connectionpool:https://guide.michelin.com:443 \"GET /en/it/restaurants/page/9 HTTP/11\" 200 None\n",
      "DEBUG:root:Analyzing page 10\n",
      "DEBUG:urllib3.connectionpool:Starting new HTTPS connection (1): guide.michelin.com:443\n",
      "DEBUG:urllib3.connectionpool:https://guide.michelin.com:443 \"GET /en/it/restaurants/page/10 HTTP/11\" 200 None\n",
      "DEBUG:root:Analyzing page 11\n",
      "DEBUG:urllib3.connectionpool:Starting new HTTPS connection (1): guide.michelin.com:443\n",
      "DEBUG:urllib3.connectionpool:https://guide.michelin.com:443 \"GET /en/it/restaurants/page/11 HTTP/11\" 200 None\n",
      "DEBUG:root:Analyzing page 12\n",
      "DEBUG:urllib3.connectionpool:Starting new HTTPS connection (1): guide.michelin.com:443\n",
      "DEBUG:urllib3.connectionpool:https://guide.michelin.com:443 \"GET /en/it/restaurants/page/12 HTTP/11\" 200 None\n",
      "DEBUG:root:Analyzing page 13\n",
      "DEBUG:urllib3.connectionpool:Starting new HTTPS connection (1): guide.michelin.com:443\n",
      "DEBUG:urllib3.connectionpool:https://guide.michelin.com:443 \"GET /en/it/restaurants/page/13 HTTP/11\" 200 None\n",
      "DEBUG:root:Analyzing page 14\n",
      "DEBUG:urllib3.connectionpool:Starting new HTTPS connection (1): guide.michelin.com:443\n",
      "DEBUG:urllib3.connectionpool:https://guide.michelin.com:443 \"GET /en/it/restaurants/page/14 HTTP/11\" 200 None\n",
      "DEBUG:root:Analyzing page 15\n",
      "DEBUG:urllib3.connectionpool:Starting new HTTPS connection (1): guide.michelin.com:443\n",
      "DEBUG:urllib3.connectionpool:https://guide.michelin.com:443 \"GET /en/it/restaurants/page/15 HTTP/11\" 200 None\n",
      "DEBUG:root:Analyzing page 16\n",
      "DEBUG:urllib3.connectionpool:Starting new HTTPS connection (1): guide.michelin.com:443\n",
      "DEBUG:urllib3.connectionpool:https://guide.michelin.com:443 \"GET /en/it/restaurants/page/16 HTTP/11\" 200 None\n",
      "DEBUG:root:Analyzing page 17\n",
      "DEBUG:urllib3.connectionpool:Starting new HTTPS connection (1): guide.michelin.com:443\n",
      "DEBUG:urllib3.connectionpool:https://guide.michelin.com:443 \"GET /en/it/restaurants/page/17 HTTP/11\" 200 None\n",
      "DEBUG:root:Analyzing page 18\n",
      "DEBUG:urllib3.connectionpool:Starting new HTTPS connection (1): guide.michelin.com:443\n",
      "DEBUG:urllib3.connectionpool:https://guide.michelin.com:443 \"GET /en/it/restaurants/page/18 HTTP/11\" 200 None\n",
      "DEBUG:root:Analyzing page 19\n",
      "DEBUG:urllib3.connectionpool:Starting new HTTPS connection (1): guide.michelin.com:443\n",
      "DEBUG:urllib3.connectionpool:https://guide.michelin.com:443 \"GET /en/it/restaurants/page/19 HTTP/11\" 200 None\n",
      "DEBUG:root:Analyzing page 20\n",
      "DEBUG:urllib3.connectionpool:Starting new HTTPS connection (1): guide.michelin.com:443\n",
      "DEBUG:urllib3.connectionpool:https://guide.michelin.com:443 \"GET /en/it/restaurants/page/20 HTTP/11\" 200 None\n",
      "DEBUG:root:Analyzing page 21\n",
      "DEBUG:urllib3.connectionpool:Starting new HTTPS connection (1): guide.michelin.com:443\n",
      "DEBUG:urllib3.connectionpool:https://guide.michelin.com:443 \"GET /en/it/restaurants/page/21 HTTP/11\" 200 None\n",
      "DEBUG:root:Analyzing page 22\n",
      "DEBUG:urllib3.connectionpool:Starting new HTTPS connection (1): guide.michelin.com:443\n",
      "DEBUG:urllib3.connectionpool:https://guide.michelin.com:443 \"GET /en/it/restaurants/page/22 HTTP/11\" 200 None\n",
      "DEBUG:root:Analyzing page 23\n",
      "DEBUG:urllib3.connectionpool:Starting new HTTPS connection (1): guide.michelin.com:443\n",
      "DEBUG:urllib3.connectionpool:https://guide.michelin.com:443 \"GET /en/it/restaurants/page/23 HTTP/11\" 200 None\n",
      "DEBUG:root:Analyzing page 24\n",
      "DEBUG:urllib3.connectionpool:Starting new HTTPS connection (1): guide.michelin.com:443\n",
      "DEBUG:urllib3.connectionpool:https://guide.michelin.com:443 \"GET /en/it/restaurants/page/24 HTTP/11\" 200 None\n",
      "DEBUG:root:Analyzing page 25\n",
      "DEBUG:urllib3.connectionpool:Starting new HTTPS connection (1): guide.michelin.com:443\n",
      "DEBUG:urllib3.connectionpool:https://guide.michelin.com:443 \"GET /en/it/restaurants/page/25 HTTP/11\" 200 None\n",
      "DEBUG:root:Analyzing page 26\n",
      "DEBUG:urllib3.connectionpool:Starting new HTTPS connection (1): guide.michelin.com:443\n",
      "DEBUG:urllib3.connectionpool:https://guide.michelin.com:443 \"GET /en/it/restaurants/page/26 HTTP/11\" 200 None\n",
      "DEBUG:root:Analyzing page 27\n",
      "DEBUG:urllib3.connectionpool:Starting new HTTPS connection (1): guide.michelin.com:443\n",
      "DEBUG:urllib3.connectionpool:https://guide.michelin.com:443 \"GET /en/it/restaurants/page/27 HTTP/11\" 200 None\n",
      "DEBUG:root:Analyzing page 28\n",
      "DEBUG:urllib3.connectionpool:Starting new HTTPS connection (1): guide.michelin.com:443\n",
      "DEBUG:urllib3.connectionpool:https://guide.michelin.com:443 \"GET /en/it/restaurants/page/28 HTTP/11\" 200 None\n",
      "DEBUG:root:Analyzing page 29\n",
      "DEBUG:urllib3.connectionpool:Starting new HTTPS connection (1): guide.michelin.com:443\n",
      "DEBUG:urllib3.connectionpool:https://guide.michelin.com:443 \"GET /en/it/restaurants/page/29 HTTP/11\" 200 None\n",
      "DEBUG:root:Analyzing page 30\n",
      "DEBUG:urllib3.connectionpool:Starting new HTTPS connection (1): guide.michelin.com:443\n",
      "DEBUG:urllib3.connectionpool:https://guide.michelin.com:443 \"GET /en/it/restaurants/page/30 HTTP/11\" 200 None\n",
      "DEBUG:root:Analyzing page 31\n",
      "DEBUG:urllib3.connectionpool:Starting new HTTPS connection (1): guide.michelin.com:443\n",
      "DEBUG:urllib3.connectionpool:https://guide.michelin.com:443 \"GET /en/it/restaurants/page/31 HTTP/11\" 200 None\n",
      "DEBUG:root:Analyzing page 32\n",
      "DEBUG:urllib3.connectionpool:Starting new HTTPS connection (1): guide.michelin.com:443\n",
      "DEBUG:urllib3.connectionpool:https://guide.michelin.com:443 \"GET /en/it/restaurants/page/32 HTTP/11\" 200 None\n",
      "DEBUG:root:Analyzing page 33\n",
      "DEBUG:urllib3.connectionpool:Starting new HTTPS connection (1): guide.michelin.com:443\n",
      "DEBUG:urllib3.connectionpool:https://guide.michelin.com:443 \"GET /en/it/restaurants/page/33 HTTP/11\" 200 None\n",
      "DEBUG:root:Analyzing page 34\n",
      "DEBUG:urllib3.connectionpool:Starting new HTTPS connection (1): guide.michelin.com:443\n",
      "DEBUG:urllib3.connectionpool:https://guide.michelin.com:443 \"GET /en/it/restaurants/page/34 HTTP/11\" 200 None\n",
      "DEBUG:root:Analyzing page 35\n",
      "DEBUG:urllib3.connectionpool:Starting new HTTPS connection (1): guide.michelin.com:443\n",
      "DEBUG:urllib3.connectionpool:https://guide.michelin.com:443 \"GET /en/it/restaurants/page/35 HTTP/11\" 200 None\n",
      "DEBUG:root:Analyzing page 36\n",
      "DEBUG:urllib3.connectionpool:Starting new HTTPS connection (1): guide.michelin.com:443\n",
      "DEBUG:urllib3.connectionpool:https://guide.michelin.com:443 \"GET /en/it/restaurants/page/36 HTTP/11\" 200 None\n",
      "DEBUG:root:Analyzing page 37\n",
      "DEBUG:urllib3.connectionpool:Starting new HTTPS connection (1): guide.michelin.com:443\n",
      "DEBUG:urllib3.connectionpool:https://guide.michelin.com:443 \"GET /en/it/restaurants/page/37 HTTP/11\" 200 None\n",
      "DEBUG:root:Analyzing page 38\n",
      "DEBUG:urllib3.connectionpool:Starting new HTTPS connection (1): guide.michelin.com:443\n",
      "DEBUG:urllib3.connectionpool:https://guide.michelin.com:443 \"GET /en/it/restaurants/page/38 HTTP/11\" 200 None\n",
      "DEBUG:root:Analyzing page 39\n",
      "DEBUG:urllib3.connectionpool:Starting new HTTPS connection (1): guide.michelin.com:443\n",
      "DEBUG:urllib3.connectionpool:https://guide.michelin.com:443 \"GET /en/it/restaurants/page/39 HTTP/11\" 200 None\n",
      "DEBUG:root:Analyzing page 40\n",
      "DEBUG:urllib3.connectionpool:Starting new HTTPS connection (1): guide.michelin.com:443\n",
      "DEBUG:urllib3.connectionpool:https://guide.michelin.com:443 \"GET /en/it/restaurants/page/40 HTTP/11\" 200 None\n",
      "DEBUG:root:Analyzing page 41\n",
      "DEBUG:urllib3.connectionpool:Starting new HTTPS connection (1): guide.michelin.com:443\n",
      "DEBUG:urllib3.connectionpool:https://guide.michelin.com:443 \"GET /en/it/restaurants/page/41 HTTP/11\" 200 None\n",
      "DEBUG:root:Analyzing page 42\n",
      "DEBUG:urllib3.connectionpool:Starting new HTTPS connection (1): guide.michelin.com:443\n",
      "DEBUG:urllib3.connectionpool:https://guide.michelin.com:443 \"GET /en/it/restaurants/page/42 HTTP/11\" 200 None\n",
      "DEBUG:root:Analyzing page 43\n",
      "DEBUG:urllib3.connectionpool:Starting new HTTPS connection (1): guide.michelin.com:443\n",
      "DEBUG:urllib3.connectionpool:https://guide.michelin.com:443 \"GET /en/it/restaurants/page/43 HTTP/11\" 200 None\n",
      "DEBUG:root:Analyzing page 44\n",
      "DEBUG:urllib3.connectionpool:Starting new HTTPS connection (1): guide.michelin.com:443\n",
      "DEBUG:urllib3.connectionpool:https://guide.michelin.com:443 \"GET /en/it/restaurants/page/44 HTTP/11\" 200 None\n",
      "DEBUG:root:Analyzing page 45\n",
      "DEBUG:urllib3.connectionpool:Starting new HTTPS connection (1): guide.michelin.com:443\n",
      "DEBUG:urllib3.connectionpool:https://guide.michelin.com:443 \"GET /en/it/restaurants/page/45 HTTP/11\" 200 None\n",
      "DEBUG:root:Analyzing page 46\n",
      "DEBUG:urllib3.connectionpool:Starting new HTTPS connection (1): guide.michelin.com:443\n",
      "DEBUG:urllib3.connectionpool:https://guide.michelin.com:443 \"GET /en/it/restaurants/page/46 HTTP/11\" 200 None\n",
      "DEBUG:root:Analyzing page 47\n",
      "DEBUG:urllib3.connectionpool:Starting new HTTPS connection (1): guide.michelin.com:443\n",
      "DEBUG:urllib3.connectionpool:https://guide.michelin.com:443 \"GET /en/it/restaurants/page/47 HTTP/11\" 200 None\n",
      "DEBUG:root:Analyzing page 48\n",
      "DEBUG:urllib3.connectionpool:Starting new HTTPS connection (1): guide.michelin.com:443\n",
      "DEBUG:urllib3.connectionpool:https://guide.michelin.com:443 \"GET /en/it/restaurants/page/48 HTTP/11\" 200 None\n",
      "DEBUG:root:Analyzing page 49\n",
      "DEBUG:urllib3.connectionpool:Starting new HTTPS connection (1): guide.michelin.com:443\n",
      "DEBUG:urllib3.connectionpool:https://guide.michelin.com:443 \"GET /en/it/restaurants/page/49 HTTP/11\" 200 None\n",
      "DEBUG:root:Analyzing page 50\n",
      "DEBUG:urllib3.connectionpool:Starting new HTTPS connection (1): guide.michelin.com:443\n",
      "DEBUG:urllib3.connectionpool:https://guide.michelin.com:443 \"GET /en/it/restaurants/page/50 HTTP/11\" 200 None\n",
      "DEBUG:root:Analyzing page 51\n",
      "DEBUG:urllib3.connectionpool:Starting new HTTPS connection (1): guide.michelin.com:443\n",
      "DEBUG:urllib3.connectionpool:https://guide.michelin.com:443 \"GET /en/it/restaurants/page/51 HTTP/11\" 200 None\n",
      "DEBUG:root:Analyzing page 52\n",
      "DEBUG:urllib3.connectionpool:Starting new HTTPS connection (1): guide.michelin.com:443\n",
      "DEBUG:urllib3.connectionpool:https://guide.michelin.com:443 \"GET /en/it/restaurants/page/52 HTTP/11\" 200 None\n",
      "DEBUG:root:Analyzing page 53\n",
      "DEBUG:urllib3.connectionpool:Starting new HTTPS connection (1): guide.michelin.com:443\n",
      "DEBUG:urllib3.connectionpool:https://guide.michelin.com:443 \"GET /en/it/restaurants/page/53 HTTP/11\" 200 None\n",
      "DEBUG:root:Analyzing page 54\n",
      "DEBUG:urllib3.connectionpool:Starting new HTTPS connection (1): guide.michelin.com:443\n",
      "DEBUG:urllib3.connectionpool:https://guide.michelin.com:443 \"GET /en/it/restaurants/page/54 HTTP/11\" 200 None\n",
      "DEBUG:root:Analyzing page 55\n",
      "DEBUG:urllib3.connectionpool:Starting new HTTPS connection (1): guide.michelin.com:443\n",
      "DEBUG:urllib3.connectionpool:https://guide.michelin.com:443 \"GET /en/it/restaurants/page/55 HTTP/11\" 200 None\n",
      "DEBUG:root:Analyzing page 56\n",
      "DEBUG:urllib3.connectionpool:Starting new HTTPS connection (1): guide.michelin.com:443\n",
      "DEBUG:urllib3.connectionpool:https://guide.michelin.com:443 \"GET /en/it/restaurants/page/56 HTTP/11\" 200 None\n",
      "DEBUG:root:Analyzing page 57\n",
      "DEBUG:urllib3.connectionpool:Starting new HTTPS connection (1): guide.michelin.com:443\n",
      "DEBUG:urllib3.connectionpool:https://guide.michelin.com:443 \"GET /en/it/restaurants/page/57 HTTP/11\" 200 None\n",
      "DEBUG:root:Analyzing page 58\n",
      "DEBUG:urllib3.connectionpool:Starting new HTTPS connection (1): guide.michelin.com:443\n",
      "DEBUG:urllib3.connectionpool:https://guide.michelin.com:443 \"GET /en/it/restaurants/page/58 HTTP/11\" 200 None\n",
      "DEBUG:root:Analyzing page 59\n",
      "DEBUG:urllib3.connectionpool:Starting new HTTPS connection (1): guide.michelin.com:443\n",
      "DEBUG:urllib3.connectionpool:https://guide.michelin.com:443 \"GET /en/it/restaurants/page/59 HTTP/11\" 200 None\n",
      "DEBUG:root:Analyzing page 60\n",
      "DEBUG:urllib3.connectionpool:Starting new HTTPS connection (1): guide.michelin.com:443\n",
      "DEBUG:urllib3.connectionpool:https://guide.michelin.com:443 \"GET /en/it/restaurants/page/60 HTTP/11\" 200 None\n",
      "DEBUG:root:Analyzing page 61\n",
      "DEBUG:urllib3.connectionpool:Starting new HTTPS connection (1): guide.michelin.com:443\n",
      "DEBUG:urllib3.connectionpool:https://guide.michelin.com:443 \"GET /en/it/restaurants/page/61 HTTP/11\" 200 None\n",
      "DEBUG:root:Analyzing page 62\n",
      "DEBUG:urllib3.connectionpool:Starting new HTTPS connection (1): guide.michelin.com:443\n",
      "DEBUG:urllib3.connectionpool:https://guide.michelin.com:443 \"GET /en/it/restaurants/page/62 HTTP/11\" 200 None\n",
      "DEBUG:root:Analyzing page 63\n",
      "DEBUG:urllib3.connectionpool:Starting new HTTPS connection (1): guide.michelin.com:443\n",
      "DEBUG:urllib3.connectionpool:https://guide.michelin.com:443 \"GET /en/it/restaurants/page/63 HTTP/11\" 200 None\n",
      "DEBUG:root:Analyzing page 64\n",
      "DEBUG:urllib3.connectionpool:Starting new HTTPS connection (1): guide.michelin.com:443\n",
      "DEBUG:urllib3.connectionpool:https://guide.michelin.com:443 \"GET /en/it/restaurants/page/64 HTTP/11\" 200 None\n",
      "DEBUG:root:Analyzing page 65\n",
      "DEBUG:urllib3.connectionpool:Starting new HTTPS connection (1): guide.michelin.com:443\n",
      "DEBUG:urllib3.connectionpool:https://guide.michelin.com:443 \"GET /en/it/restaurants/page/65 HTTP/11\" 200 None\n",
      "DEBUG:root:Analyzing page 66\n",
      "DEBUG:urllib3.connectionpool:Starting new HTTPS connection (1): guide.michelin.com:443\n",
      "DEBUG:urllib3.connectionpool:https://guide.michelin.com:443 \"GET /en/it/restaurants/page/66 HTTP/11\" 200 None\n",
      "DEBUG:root:Analyzing page 67\n",
      "DEBUG:urllib3.connectionpool:Starting new HTTPS connection (1): guide.michelin.com:443\n",
      "DEBUG:urllib3.connectionpool:https://guide.michelin.com:443 \"GET /en/it/restaurants/page/67 HTTP/11\" 200 None\n",
      "DEBUG:root:Analyzing page 68\n",
      "DEBUG:urllib3.connectionpool:Starting new HTTPS connection (1): guide.michelin.com:443\n",
      "DEBUG:urllib3.connectionpool:https://guide.michelin.com:443 \"GET /en/it/restaurants/page/68 HTTP/11\" 200 None\n",
      "DEBUG:root:Analyzing page 69\n",
      "DEBUG:urllib3.connectionpool:Starting new HTTPS connection (1): guide.michelin.com:443\n",
      "DEBUG:urllib3.connectionpool:https://guide.michelin.com:443 \"GET /en/it/restaurants/page/69 HTTP/11\" 200 None\n",
      "DEBUG:root:Analyzing page 70\n",
      "DEBUG:urllib3.connectionpool:Starting new HTTPS connection (1): guide.michelin.com:443\n",
      "DEBUG:urllib3.connectionpool:https://guide.michelin.com:443 \"GET /en/it/restaurants/page/70 HTTP/11\" 200 None\n",
      "DEBUG:root:Analyzing page 71\n",
      "DEBUG:urllib3.connectionpool:Starting new HTTPS connection (1): guide.michelin.com:443\n",
      "DEBUG:urllib3.connectionpool:https://guide.michelin.com:443 \"GET /en/it/restaurants/page/71 HTTP/11\" 200 None\n",
      "DEBUG:root:Analyzing page 72\n",
      "DEBUG:urllib3.connectionpool:Starting new HTTPS connection (1): guide.michelin.com:443\n",
      "DEBUG:urllib3.connectionpool:https://guide.michelin.com:443 \"GET /en/it/restaurants/page/72 HTTP/11\" 200 None\n",
      "DEBUG:root:Analyzing page 73\n",
      "DEBUG:urllib3.connectionpool:Starting new HTTPS connection (1): guide.michelin.com:443\n",
      "DEBUG:urllib3.connectionpool:https://guide.michelin.com:443 \"GET /en/it/restaurants/page/73 HTTP/11\" 200 None\n",
      "DEBUG:root:Analyzing page 74\n",
      "DEBUG:urllib3.connectionpool:Starting new HTTPS connection (1): guide.michelin.com:443\n",
      "DEBUG:urllib3.connectionpool:https://guide.michelin.com:443 \"GET /en/it/restaurants/page/74 HTTP/11\" 200 None\n",
      "DEBUG:root:Analyzing page 75\n",
      "DEBUG:urllib3.connectionpool:Starting new HTTPS connection (1): guide.michelin.com:443\n",
      "DEBUG:urllib3.connectionpool:https://guide.michelin.com:443 \"GET /en/it/restaurants/page/75 HTTP/11\" 200 None\n",
      "DEBUG:root:Analyzing page 76\n",
      "DEBUG:urllib3.connectionpool:Starting new HTTPS connection (1): guide.michelin.com:443\n",
      "DEBUG:urllib3.connectionpool:https://guide.michelin.com:443 \"GET /en/it/restaurants/page/76 HTTP/11\" 200 None\n",
      "DEBUG:root:Analyzing page 77\n",
      "DEBUG:urllib3.connectionpool:Starting new HTTPS connection (1): guide.michelin.com:443\n",
      "DEBUG:urllib3.connectionpool:https://guide.michelin.com:443 \"GET /en/it/restaurants/page/77 HTTP/11\" 200 None\n",
      "DEBUG:root:Analyzing page 78\n",
      "DEBUG:urllib3.connectionpool:Starting new HTTPS connection (1): guide.michelin.com:443\n",
      "DEBUG:urllib3.connectionpool:https://guide.michelin.com:443 \"GET /en/it/restaurants/page/78 HTTP/11\" 200 None\n",
      "DEBUG:root:Analyzing page 79\n",
      "DEBUG:urllib3.connectionpool:Starting new HTTPS connection (1): guide.michelin.com:443\n",
      "DEBUG:urllib3.connectionpool:https://guide.michelin.com:443 \"GET /en/it/restaurants/page/79 HTTP/11\" 200 None\n",
      "DEBUG:root:Analyzing page 80\n",
      "DEBUG:urllib3.connectionpool:Starting new HTTPS connection (1): guide.michelin.com:443\n",
      "DEBUG:urllib3.connectionpool:https://guide.michelin.com:443 \"GET /en/it/restaurants/page/80 HTTP/11\" 200 None\n",
      "DEBUG:root:Analyzing page 81\n",
      "DEBUG:urllib3.connectionpool:Starting new HTTPS connection (1): guide.michelin.com:443\n",
      "DEBUG:urllib3.connectionpool:https://guide.michelin.com:443 \"GET /en/it/restaurants/page/81 HTTP/11\" 200 None\n",
      "DEBUG:root:Analyzing page 82\n",
      "DEBUG:urllib3.connectionpool:Starting new HTTPS connection (1): guide.michelin.com:443\n",
      "DEBUG:urllib3.connectionpool:https://guide.michelin.com:443 \"GET /en/it/restaurants/page/82 HTTP/11\" 200 None\n",
      "DEBUG:root:Analyzing page 83\n",
      "DEBUG:urllib3.connectionpool:Starting new HTTPS connection (1): guide.michelin.com:443\n",
      "DEBUG:urllib3.connectionpool:https://guide.michelin.com:443 \"GET /en/it/restaurants/page/83 HTTP/11\" 200 None\n",
      "DEBUG:root:Analyzing page 84\n",
      "DEBUG:urllib3.connectionpool:Starting new HTTPS connection (1): guide.michelin.com:443\n",
      "DEBUG:urllib3.connectionpool:https://guide.michelin.com:443 \"GET /en/it/restaurants/page/84 HTTP/11\" 200 None\n",
      "DEBUG:root:Analyzing page 85\n",
      "DEBUG:urllib3.connectionpool:Starting new HTTPS connection (1): guide.michelin.com:443\n",
      "DEBUG:urllib3.connectionpool:https://guide.michelin.com:443 \"GET /en/it/restaurants/page/85 HTTP/11\" 200 None\n",
      "DEBUG:root:Analyzing page 86\n",
      "DEBUG:urllib3.connectionpool:Starting new HTTPS connection (1): guide.michelin.com:443\n",
      "DEBUG:urllib3.connectionpool:https://guide.michelin.com:443 \"GET /en/it/restaurants/page/86 HTTP/11\" 200 None\n",
      "DEBUG:root:Analyzing page 87\n",
      "DEBUG:urllib3.connectionpool:Starting new HTTPS connection (1): guide.michelin.com:443\n",
      "DEBUG:urllib3.connectionpool:https://guide.michelin.com:443 \"GET /en/it/restaurants/page/87 HTTP/11\" 200 None\n",
      "DEBUG:root:Analyzing page 88\n",
      "DEBUG:urllib3.connectionpool:Starting new HTTPS connection (1): guide.michelin.com:443\n",
      "DEBUG:urllib3.connectionpool:https://guide.michelin.com:443 \"GET /en/it/restaurants/page/88 HTTP/11\" 200 None\n",
      "DEBUG:root:Analyzing page 89\n",
      "DEBUG:urllib3.connectionpool:Starting new HTTPS connection (1): guide.michelin.com:443\n",
      "DEBUG:urllib3.connectionpool:https://guide.michelin.com:443 \"GET /en/it/restaurants/page/89 HTTP/11\" 200 None\n",
      "DEBUG:root:Analyzing page 90\n",
      "DEBUG:urllib3.connectionpool:Starting new HTTPS connection (1): guide.michelin.com:443\n",
      "DEBUG:urllib3.connectionpool:https://guide.michelin.com:443 \"GET /en/it/restaurants/page/90 HTTP/11\" 200 None\n",
      "DEBUG:root:Analyzing page 91\n",
      "DEBUG:urllib3.connectionpool:Starting new HTTPS connection (1): guide.michelin.com:443\n",
      "DEBUG:urllib3.connectionpool:https://guide.michelin.com:443 \"GET /en/it/restaurants/page/91 HTTP/11\" 200 None\n",
      "DEBUG:root:Analyzing page 92\n",
      "DEBUG:urllib3.connectionpool:Starting new HTTPS connection (1): guide.michelin.com:443\n",
      "DEBUG:urllib3.connectionpool:https://guide.michelin.com:443 \"GET /en/it/restaurants/page/92 HTTP/11\" 200 None\n",
      "DEBUG:root:Analyzing page 93\n",
      "DEBUG:urllib3.connectionpool:Starting new HTTPS connection (1): guide.michelin.com:443\n",
      "DEBUG:urllib3.connectionpool:https://guide.michelin.com:443 \"GET /en/it/restaurants/page/93 HTTP/11\" 200 None\n",
      "DEBUG:root:Analyzing page 94\n",
      "DEBUG:urllib3.connectionpool:Starting new HTTPS connection (1): guide.michelin.com:443\n",
      "DEBUG:urllib3.connectionpool:https://guide.michelin.com:443 \"GET /en/it/restaurants/page/94 HTTP/11\" 200 None\n",
      "DEBUG:root:Analyzing page 95\n",
      "DEBUG:urllib3.connectionpool:Starting new HTTPS connection (1): guide.michelin.com:443\n",
      "DEBUG:urllib3.connectionpool:https://guide.michelin.com:443 \"GET /en/it/restaurants/page/95 HTTP/11\" 200 None\n",
      "DEBUG:root:Analyzing page 96\n",
      "DEBUG:urllib3.connectionpool:Starting new HTTPS connection (1): guide.michelin.com:443\n",
      "DEBUG:urllib3.connectionpool:https://guide.michelin.com:443 \"GET /en/it/restaurants/page/96 HTTP/11\" 200 None\n",
      "DEBUG:root:Analyzing page 97\n",
      "DEBUG:urllib3.connectionpool:Starting new HTTPS connection (1): guide.michelin.com:443\n",
      "DEBUG:urllib3.connectionpool:https://guide.michelin.com:443 \"GET /en/it/restaurants/page/97 HTTP/11\" 200 None\n",
      "DEBUG:root:Analyzing page 98\n",
      "DEBUG:urllib3.connectionpool:Starting new HTTPS connection (1): guide.michelin.com:443\n",
      "DEBUG:urllib3.connectionpool:https://guide.michelin.com:443 \"GET /en/it/restaurants/page/98 HTTP/11\" 200 None\n",
      "DEBUG:root:Analyzing page 99\n",
      "DEBUG:urllib3.connectionpool:Starting new HTTPS connection (1): guide.michelin.com:443\n",
      "DEBUG:urllib3.connectionpool:https://guide.michelin.com:443 \"GET /en/it/restaurants/page/99 HTTP/11\" 200 None\n",
      "DEBUG:root:Analyzing page 100\n",
      "DEBUG:urllib3.connectionpool:Starting new HTTPS connection (1): guide.michelin.com:443\n",
      "DEBUG:urllib3.connectionpool:https://guide.michelin.com:443 \"GET /en/it/restaurants/page/100 HTTP/11\" 200 None\n",
      "DEBUG:root:Analyzing page 101\n",
      "DEBUG:urllib3.connectionpool:Starting new HTTPS connection (1): guide.michelin.com:443\n",
      "DEBUG:urllib3.connectionpool:https://guide.michelin.com:443 \"GET /en/it/restaurants/page/101 HTTP/11\" 404 None\n",
      "ERROR:root:Failed to fetch page 101: 404 Client Error: Not Found for url: https://guide.michelin.com/en/it/restaurants/page/101\n",
      "DEBUG:root:Analyzing page 102\n",
      "DEBUG:urllib3.connectionpool:Starting new HTTPS connection (1): guide.michelin.com:443\n",
      "DEBUG:urllib3.connectionpool:https://guide.michelin.com:443 \"GET /en/it/restaurants/page/102 HTTP/11\" 404 None\n",
      "ERROR:root:Failed to fetch page 102: 404 Client Error: Not Found for url: https://guide.michelin.com/en/it/restaurants/page/102\n",
      "INFO:root:Saving URLs to michelin_urls.txt\n",
      "INFO:root:URL collection completed.\n",
      "INFO:root:Time to collect urls: 84.20009136199951 seconds\n"
     ]
    }
   ],
   "source": [
    "from DataCollection.crawler import get_michelin_urls\n",
    "import logging\n",
    "import time\n",
    "\n",
    "logging.basicConfig(level=logging.INFO, format='%(asctime)s - %(levelname)s - %(message)s')\n",
    "\n",
    "start_time = time.time()\n",
    "get_michelin_urls()\n",
    "logging.info(f\"Time to collect urls: {time.time() - start_time} seconds\") # <3"
   ]
  },
  {
   "cell_type": "markdown",
   "metadata": {},
   "source": [
    "### **1.2 Crawl Michelin restaurant pages**"
   ]
  },
  {
   "cell_type": "markdown",
   "metadata": {},
   "source": [
    "Using asyncio in the web scraping code allows to handle multiple HTML downloads concurrently, making the process faster and more efficient. Instead of waiting for each download to complete before starting the next (sequentially), the event loop jumps to the next available task when one is waiting for data, allowing to download multiple pages at the same time.\n",
    "\n",
    "More info can be found [here](https://www.zenrows.com/blog/asynchronous-web-scraping-python#what-is-asynchronous-web-scraping), while the official Github repository is avaible at this [link](https://github.com/oxylabs/asynchronous-web-scraping-python)\n"
   ]
  },
  {
   "cell_type": "markdown",
   "metadata": {},
   "source": [
    " Apparently the reason why ``` engine.py ``` was working but calling here was not, is that jupyter run an event loop in the background that is not compatible with our asyncio library"
   ]
  },
  {
   "cell_type": "code",
   "execution_count": 9,
   "metadata": {},
   "outputs": [
    {
     "name": "stderr",
     "output_type": "stream",
     "text": [
      "INFO:root:Downloading batch 1\n",
      "INFO:root:Downloading batch 2\n",
      "INFO:root:Downloading batch 3\n",
      "INFO:root:Downloading batch 4\n",
      "INFO:root:Downloading batch 5\n",
      "INFO:root:Downloading batch 6\n",
      "INFO:root:Downloading batch 7\n",
      "INFO:root:Downloading batch 8\n",
      "INFO:root:Downloading batch 9\n",
      "INFO:root:Downloading batch 10\n",
      "INFO:root:Downloading batch 11\n",
      "INFO:root:Downloading batch 12\n",
      "INFO:root:Downloading batch 13\n",
      "INFO:root:Downloading batch 14\n",
      "INFO:root:Downloading batch 15\n",
      "INFO:root:Downloading batch 16\n",
      "INFO:root:Downloading batch 17\n",
      "INFO:root:Downloading batch 18\n",
      "INFO:root:Downloading batch 19\n",
      "INFO:root:Downloading batch 20\n",
      "INFO:root:Downloading batch 21\n",
      "INFO:root:Downloading batch 22\n",
      "INFO:root:Downloading batch 23\n",
      "INFO:root:Downloading batch 24\n",
      "INFO:root:Downloading batch 25\n",
      "INFO:root:Downloading batch 26\n",
      "INFO:root:Downloading batch 27\n",
      "INFO:root:Downloading batch 28\n",
      "INFO:root:Downloading batch 29\n",
      "INFO:root:Downloading batch 30\n",
      "INFO:root:Downloading batch 31\n",
      "INFO:root:Downloading batch 32\n",
      "INFO:root:Downloading batch 33\n",
      "INFO:root:Downloading batch 34\n",
      "INFO:root:Downloading batch 35\n",
      "INFO:root:Downloading batch 36\n",
      "INFO:root:Downloading batch 37\n",
      "INFO:root:Downloading batch 38\n",
      "INFO:root:Downloading batch 39\n",
      "INFO:root:Downloading batch 40\n",
      "INFO:root:Downloading batch 41\n",
      "INFO:root:Downloading batch 42\n",
      "INFO:root:Downloading batch 43\n",
      "INFO:root:Downloading batch 44\n",
      "INFO:root:Downloading batch 45\n",
      "INFO:root:Downloading batch 46\n",
      "INFO:root:Downloading batch 47\n",
      "INFO:root:Downloading batch 48\n",
      "INFO:root:Downloading batch 49\n",
      "INFO:root:Downloading batch 50\n",
      "INFO:root:Downloading batch 51\n",
      "INFO:root:Downloading batch 52\n",
      "INFO:root:Downloading batch 53\n",
      "INFO:root:Downloading batch 54\n",
      "INFO:root:Downloading batch 55\n",
      "INFO:root:Downloading batch 56\n",
      "INFO:root:Downloading batch 57\n",
      "INFO:root:Downloading batch 58\n",
      "INFO:root:Downloading batch 59\n",
      "INFO:root:Downloading batch 60\n",
      "INFO:root:Downloading batch 61\n",
      "INFO:root:Downloading batch 62\n",
      "INFO:root:Downloading batch 63\n",
      "INFO:root:Downloading batch 64\n",
      "INFO:root:Downloading batch 65\n",
      "INFO:root:Downloading batch 66\n",
      "INFO:root:Downloading batch 67\n",
      "INFO:root:Downloading batch 68\n",
      "INFO:root:Downloading batch 69\n",
      "INFO:root:Downloading batch 70\n",
      "INFO:root:Downloading batch 71\n",
      "INFO:root:Downloading batch 72\n",
      "INFO:root:Downloading batch 73\n",
      "INFO:root:Downloading batch 74\n",
      "INFO:root:Downloading batch 75\n",
      "INFO:root:Downloading batch 76\n",
      "INFO:root:Downloading batch 77\n",
      "INFO:root:Downloading batch 78\n",
      "INFO:root:Downloading batch 79\n",
      "INFO:root:Downloading batch 80\n",
      "INFO:root:Downloading batch 81\n",
      "INFO:root:Downloading batch 82\n",
      "INFO:root:Downloading batch 83\n",
      "INFO:root:Downloading batch 84\n",
      "INFO:root:Downloading batch 85\n",
      "INFO:root:Downloading batch 86\n",
      "INFO:root:Downloading batch 87\n",
      "INFO:root:Downloading batch 88\n",
      "INFO:root:Downloading batch 89\n",
      "INFO:root:Downloading batch 90\n",
      "INFO:root:Downloading batch 91\n",
      "INFO:root:Downloading batch 92\n",
      "INFO:root:Downloading batch 93\n",
      "ERROR:root:Access denied for https://guide.michelin.com/en/piemonte/castelletto-sopra-ticino/restaurant/rosso-di-sera\n",
      "ERROR:root:Access denied for https://guide.michelin.com/en/piemonte/toceno_1801599/restaurant/le-vie-del-borgo\n",
      "INFO:root:Downloading batch 94\n",
      "ERROR:root:Access denied for https://guide.michelin.com/en/toscana/siena/restaurant/particolare-di-siena\n",
      "ERROR:root:Access denied for https://guide.michelin.com/en/lombardia/busto-arsizio/restaurant/i-5-campanili\n",
      "ERROR:root:Access denied for https://guide.michelin.com/en/lombardia/brescia/restaurant/castello-malvezzi\n",
      "ERROR:root:Access denied for https://guide.michelin.com/en/trentino-alto-adige/bressanone/restaurant/elefante\n",
      "ERROR:root:Access denied for https://guide.michelin.com/en/calabria/rende/restaurant/agora\n",
      "ERROR:root:Access denied for https://guide.michelin.com/en/toscana/arezzo/restaurant/le-chiavi-d-oro\n",
      "ERROR:root:Access denied for https://guide.michelin.com/en/lombardia/torbiato/restaurant/dispensa-pani-e-vini-franciacorta\n",
      "ERROR:root:Access denied for https://guide.michelin.com/en/toscana/bolgheri/restaurant/osteria-magona\n",
      "ERROR:root:Access denied for https://guide.michelin.com/en/abruzzo/caramanico-terme/restaurant/locanda-del-barone\n",
      "ERROR:root:Access denied for https://guide.michelin.com/en/sicilia/agrigento/restaurant/osteria-expanificio\n",
      "ERROR:root:Access denied for https://guide.michelin.com/en/valle-d-aosta/aosta/restaurant/osteria-da-nando\n",
      "INFO:root:Downloading batch 95\n",
      "ERROR:root:Access denied for https://guide.michelin.com/en/lombardia/calvisano/restaurant/fiamma-cremisi\n",
      "ERROR:root:Access denied for https://guide.michelin.com/en/toscana/san-donato-in-poggio/restaurant/la-locanda-di-pietracupa\n",
      "ERROR:root:Access denied for https://guide.michelin.com/en/trentino-alto-adige/corvara-in-badia/restaurant/ladinia\n",
      "ERROR:root:Access denied for https://guide.michelin.com/en/toscana/san-gimignano/restaurant/da-pode\n",
      "ERROR:root:Access denied for https://guide.michelin.com/en/veneto/castelfranco-veneto/restaurant/feva\n",
      "ERROR:root:Access denied for https://guide.michelin.com/en/lombardia/adrara-san-martino/restaurant/ai-burattini\n",
      "ERROR:root:Access denied for https://guide.michelin.com/en/emilia-romagna/calestano/restaurant/locanda-mariella\n",
      "ERROR:root:Access denied for https://guide.michelin.com/en/lazio/castel-gandolfo/restaurant/antico-ristorante-pagnanelli\n",
      "ERROR:root:Access denied for https://guide.michelin.com/en/campania/castellammare-di-stabia/restaurant/piazzetta-milu\n",
      "ERROR:root:Access denied for https://guide.michelin.com/en/piemonte/canelli/restaurant/enoteca-di-canelli\n",
      "ERROR:root:Access denied for https://guide.michelin.com/en/veneto/caldogno/restaurant/molin-vecio\n",
      "ERROR:root:Access denied for https://guide.michelin.com/en/trentino-alto-adige/brez/restaurant/locanda-alpina\n",
      "INFO:root:Downloading batch 96\n",
      "ERROR:root:Access denied for https://guide.michelin.com/en/piemonte/spinetta-marengo/restaurant/le-cicale\n",
      "ERROR:root:Access denied for https://guide.michelin.com/en/veneto/asiago/restaurant/stube-gourmet\n",
      "ERROR:root:Access denied for https://guide.michelin.com/en/piemonte/borgomanero/restaurant/pinocchio\n",
      "ERROR:root:Access denied for https://guide.michelin.com/en/lombardia/bellagio/restaurant/mistral126374\n",
      "ERROR:root:Access denied for https://guide.michelin.com/en/lazio/gaeta/restaurant/dolia-gaeta\n",
      "ERROR:root:Access denied for https://guide.michelin.com/en/lombardia/borgonato/restaurant/due-colombe\n",
      "ERROR:root:Access denied for https://guide.michelin.com/en/emilia-romagna/sala-baganza/restaurant/i-pifferi\n",
      "ERROR:root:Access denied for https://guide.michelin.com/en/liguria/bordighera/restaurant/magiarge-osteria-contemporanea\n",
      "ERROR:root:Access denied for https://guide.michelin.com/en/liguria/alassio/restaurant/lamberti\n",
      "ERROR:root:Access denied for https://guide.michelin.com/en/emilia-romagna/carpaneto-piacentino/restaurant/nido-del-picchio\n",
      "ERROR:root:Access denied for https://guide.michelin.com/en/sicilia/castelbuono/restaurant/palazzaccio\n",
      "ERROR:root:Access denied for https://guide.michelin.com/en/piemonte/bra/restaurant/boccondivino\n",
      "ERROR:root:Access denied for https://guide.michelin.com/en/piemonte/borghetto-di-borbera/restaurant/il-fiorile\n",
      "ERROR:root:Access denied for https://guide.michelin.com/en/veneto/castelletto-di-brenzone/restaurant/alla-fassa\n",
      "ERROR:root:Access denied for https://guide.michelin.com/en/lazio/fiumicino/restaurant/il-tino\n",
      "ERROR:root:Access denied for https://guide.michelin.com/en/liguria/albenga/restaurant/pernambucco\n",
      "ERROR:root:Access denied for https://guide.michelin.com/en/lombardia/almenno-san-bartolomeo/restaurant/collina\n",
      "ERROR:root:Access denied for https://guide.michelin.com/en/toscana/viareggio/restaurant/da-miro-alla-lanterna\n",
      "ERROR:root:Access denied for https://guide.michelin.com/en/liguria/bordighera/restaurant/romolo-mare\n",
      "INFO:root:Downloading batch 97\n",
      "ERROR:root:Access denied for https://guide.michelin.com/en/puglia/barletta/restaurant/antica-cucina-1983\n",
      "ERROR:root:Access denied for https://guide.michelin.com/en/lombardia/milano/restaurant/frades-porto-cervo\n",
      "ERROR:root:Access denied for https://guide.michelin.com/en/liguria/castelbianco/restaurant/scola\n",
      "ERROR:root:Access denied for https://guide.michelin.com/en/piemonte/moretta_1797713/restaurant/villa-salina\n",
      "ERROR:root:Access denied for https://guide.michelin.com/en/emilia-romagna/cesenatico/restaurant/12-ristorante\n",
      "ERROR:root:Access denied for https://guide.michelin.com/en/piemonte/alessandria/restaurant/duomo\n",
      "ERROR:root:Access denied for https://guide.michelin.com/en/trentino-alto-adige/cermes/restaurant/miil\n",
      "ERROR:root:Access denied for https://guide.michelin.com/en/lazio/carnello/restaurant/mingone\n",
      "ERROR:root:Access denied for https://guide.michelin.com/en/sicilia/taormina/restaurant/blum-1208129\n",
      "ERROR:root:Access denied for https://guide.michelin.com/en/veneto/brenzone-sul-garda_1812115/restaurant/nin\n",
      "ERROR:root:Access denied for https://guide.michelin.com/en/veneto/cortina-d-ampezzo/restaurant/baita-pie-tofana\n",
      "ERROR:root:Access denied for https://guide.michelin.com/en/lombardia/bergamo/restaurant/villa-elena\n",
      "ERROR:root:Access denied for https://guide.michelin.com/en/liguria/pieve-ligure_1798688/restaurant/ortica\n",
      "ERROR:root:Access denied for https://guide.michelin.com/en/emilia-romagna/castelnovo-di-sotto/restaurant/poli-alla-stazione\n",
      "ERROR:root:Access denied for https://guide.michelin.com/en/campania/caserta/restaurant/antica-locanda\n",
      "ERROR:root:Access denied for https://guide.michelin.com/en/piemonte/bra/restaurant/osteria-la-pimpinella\n",
      "ERROR:root:Access denied for https://guide.michelin.com/en/trentino-alto-adige/castelbello/restaurant/kuppelrain\n",
      "ERROR:root:Access denied for https://guide.michelin.com/en/veneto/asolo/restaurant/locanda-baggio\n",
      "ERROR:root:Access denied for https://guide.michelin.com/en/piemonte/calamandrana/restaurant/violetta\n",
      "ERROR:root:Access denied for https://guide.michelin.com/en/campania/capri/restaurant/da-tonino\n",
      "INFO:root:Downloading batch 98\n",
      "ERROR:root:Access denied for https://guide.michelin.com/en/toscana/moggiona/restaurant/il-cedro\n",
      "ERROR:root:Access denied for https://guide.michelin.com/en/lombardia/cernobbio/restaurant/materia\n",
      "ERROR:root:Access denied for https://guide.michelin.com/en/liguria/san-bartolomeo-al-mare/restaurant/mood-osteria\n",
      "ERROR:root:Access denied for https://guide.michelin.com/en/toscana/castelnuovo-berardenga/restaurant/l-asinello\n",
      "ERROR:root:Access denied for https://guide.michelin.com/en/campania/napoli/restaurant/george-restaurant\n",
      "ERROR:root:Access denied for https://guide.michelin.com/en/campania/vico-equense/restaurant/mima\n",
      "ERROR:root:Access denied for https://guide.michelin.com/en/piemonte/stresa/restaurant/villa-pizzini\n",
      "ERROR:root:Access denied for https://guide.michelin.com/en/toscana/prato/restaurant/moi-omakase\n",
      "ERROR:root:Access denied for https://guide.michelin.com/en/puglia/carovigno/restaurant/osteria-casale-ferrovia\n",
      "ERROR:root:Access denied for https://guide.michelin.com/en/campania/salerno/restaurant/suscettibile\n",
      "ERROR:root:Access denied for https://guide.michelin.com/en/lombardia/olgiate-olona/restaurant/acqua-1201998\n",
      "ERROR:root:Access denied for https://guide.michelin.com/en/lazio/terracina/restaurant/essenza1157118\n",
      "ERROR:root:Access denied for https://guide.michelin.com/en/lazio/roma/restaurant/53-untitled\n",
      "ERROR:root:Access denied for https://guide.michelin.com/en/sicilia/isola-vulcano/restaurant/i-tenerumi\n",
      "ERROR:root:Access denied for https://guide.michelin.com/en/lombardia/tavernerio_1809991/restaurant/gnocchetto\n",
      "ERROR:root:Access denied for https://guide.michelin.com/en/sardegna/baia-sardinia/restaurant/capogiro\n",
      "INFO:root:Downloading batch 99\n",
      "ERROR:root:Access denied for https://guide.michelin.com/en/piemonte/vernante/restaurant/nazionale\n",
      "ERROR:root:Access denied for https://guide.michelin.com/en/lazio/roma/restaurant/shiroya\n",
      "ERROR:root:Access denied for https://guide.michelin.com/en/trentino-alto-adige/arco/restaurant/locanda-53-supper-club\n",
      "ERROR:root:Access denied for https://guide.michelin.com/en/emilia-romagna/bologna/restaurant/sotto-l-arco\n",
      "ERROR:root:Access denied for https://guide.michelin.com/en/lazio/roma/restaurant/orma-roma\n",
      "ERROR:root:Access denied for https://guide.michelin.com/en/veneto/verona/restaurant/iris-ristorante\n",
      "ERROR:root:Access denied for https://guide.michelin.com/en/sardegna/capoterra/restaurant/sa-cardiga-e-su-schironi\n",
      "ERROR:root:Access denied for https://guide.michelin.com/en/trentino-alto-adige/dobbiaco/restaurant/hebbo-wine-deli\n",
      "ERROR:root:Access denied for https://guide.michelin.com/en/toscana/pisa/restaurant/erbaluigia\n",
      "ERROR:root:Access denied for https://guide.michelin.com/en/campania/cava-de-tirreni/restaurant/crub\n",
      "ERROR:root:Access denied for https://guide.michelin.com/en/trentino-alto-adige/cardano/restaurant/eggentaler\n",
      "ERROR:root:Access denied for https://guide.michelin.com/en/liguria/badalucco/restaurant/umami-1211596\n",
      "ERROR:root:Access denied for https://guide.michelin.com/en/piemonte/barbaresco/restaurant/visione-restaurant-and-living\n",
      "ERROR:root:Access denied for https://guide.michelin.com/en/lazio/roma/restaurant/zia\n",
      "ERROR:root:Access denied for https://guide.michelin.com/en/veneto/cortina-d-ampezzo/restaurant/de-len\n",
      "ERROR:root:Access denied for https://guide.michelin.com/en/veneto/asiago/restaurant/osteria-europa\n",
      "ERROR:root:Access denied for https://guide.michelin.com/en/toscana/lucca/restaurant/peperosa\n",
      "ERROR:root:Access denied for https://guide.michelin.com/en/trentino-alto-adige/pinzolo/restaurant/rendener-alpine-food\n",
      "ERROR:root:Access denied for https://guide.michelin.com/en/piemonte/borgomanero/restaurant/gu-sta-re-oltrecucina\n",
      "ERROR:root:Access denied for https://guide.michelin.com/en/piemonte/monforte-d-alba/restaurant/borgo-sant-anna\n",
      "INFO:root:Downloading batch 100\n",
      "ERROR:root:Access denied for https://guide.michelin.com/en/veneto/vodo-di-cadore/restaurant/acerorosso\n",
      "ERROR:root:Access denied for https://guide.michelin.com/en/abruzzo/pescara/restaurant/cafe-les-paillotes\n",
      "INFO:root:All HTML downloads completed.\n"
     ]
    }
   ],
   "source": [
    "from DataCollection.crawler import download_html_async\n",
    "\n",
    "# I was having the following error: asyncio.run() cannot be called from a running event loop \n",
    "# solution was found here: https://community.openai.com/t/error-when-using-langchain-webresearchretriever-runtimeerror-asyncio-run-cannot-be-called-from-a-running-event-loop/341969/5\n",
    "# and here: https://github.com/googlecolab/colabtools/issues/3720\n",
    "async def main(): # This allow us to run the function asynchronously\n",
    "    await download_html_async() \n",
    "\n",
    "await main()\n",
    "\n",
    "# Apparently the reason why engine.py was working but calling here was not, is that jupyter run an event loop in the background that is not compatible with our asyncio library"
   ]
  },
  {
   "cell_type": "code",
   "execution_count": 10,
   "metadata": {},
   "outputs": [
    {
     "name": "stdout",
     "output_type": "stream",
     "text": [
      "Created main folder: michelin_restaurants\n",
      "All page_* folders have been organized into the main folder.\n"
     ]
    }
   ],
   "source": [
    "# moves folders under same main folder for cleaness\n",
    "from DataCollection.organize_folders import organize_folders\n",
    "organize_folders()"
   ]
  },
  {
   "cell_type": "markdown",
   "metadata": {},
   "source": [
    "### **1.3 Parse downloaded pages**"
   ]
  },
  {
   "cell_type": "markdown",
   "metadata": {},
   "source": [
    "With the same method, we use asyncio for parsing, allowing to process multiple HTML files at the same time.\n",
    "Additionally, the use of batches allow us to control the parallelism without overloading our sources, this way we analyze 100 files per batch. \n",
    "\n",
    "Smart and efficient way to perform it!"
   ]
  },
  {
   "cell_type": "code",
   "execution_count": 11,
   "metadata": {},
   "outputs": [
    {
     "name": "stderr",
     "output_type": "stream",
     "text": [
      "INFO:root:Starting to parse all restaurants.\n",
      "DEBUG:root:TSV file header written.\n",
      "INFO:root:Processing batch 1 with 100 files.\n",
      "INFO:root:Processing batch 2 with 100 files.\n",
      "INFO:root:Processing batch 3 with 100 files.\n",
      "INFO:root:Processing batch 4 with 100 files.\n",
      "INFO:root:Processing batch 5 with 100 files.\n",
      "INFO:root:Processing batch 6 with 100 files.\n"
     ]
    },
    {
     "ename": "CancelledError",
     "evalue": "",
     "output_type": "error",
     "traceback": [
      "\u001b[1;31m---------------------------------------------------------------------------\u001b[0m",
      "\u001b[1;31mCancelledError\u001b[0m                            Traceback (most recent call last)",
      "Cell \u001b[1;32mIn[11], line 3\u001b[0m\n\u001b[0;32m      1\u001b[0m \u001b[38;5;28;01mfrom\u001b[39;00m \u001b[38;5;21;01mDataCollection\u001b[39;00m\u001b[38;5;21;01m.\u001b[39;00m\u001b[38;5;21;01mparser\u001b[39;00m \u001b[38;5;28;01mimport\u001b[39;00m parse_all_restaurants\n\u001b[0;32m      2\u001b[0m \u001b[38;5;28;01mimport\u001b[39;00m \u001b[38;5;21;01masyncio\u001b[39;00m\n\u001b[1;32m----> 3\u001b[0m \u001b[38;5;28;01mawait\u001b[39;00m parse_all_restaurants()\n",
      "File \u001b[1;32mc:\\Users\\gabri\\Desktop\\LM-Data Science\\Algorithmic Methods of Data Mining\\ADM-HW3\\DataCollection\\parser.py:259\u001b[0m, in \u001b[0;36mparse_all_restaurants\u001b[1;34m(batch_size)\u001b[0m\n\u001b[0;32m    257\u001b[0m batch \u001b[38;5;241m=\u001b[39m tasks[i:i\u001b[38;5;241m+\u001b[39mbatch_size]\n\u001b[0;32m    258\u001b[0m logging\u001b[38;5;241m.\u001b[39minfo(\u001b[38;5;124mf\u001b[39m\u001b[38;5;124m\"\u001b[39m\u001b[38;5;124mProcessing batch \u001b[39m\u001b[38;5;132;01m{\u001b[39;00mi\u001b[38;5;250m \u001b[39m\u001b[38;5;241m/\u001b[39m\u001b[38;5;241m/\u001b[39m\u001b[38;5;250m \u001b[39mbatch_size\u001b[38;5;250m \u001b[39m\u001b[38;5;241m+\u001b[39m\u001b[38;5;250m \u001b[39m\u001b[38;5;241m1\u001b[39m\u001b[38;5;132;01m}\u001b[39;00m\u001b[38;5;124m with \u001b[39m\u001b[38;5;132;01m{\u001b[39;00m\u001b[38;5;28mlen\u001b[39m(batch)\u001b[38;5;132;01m}\u001b[39;00m\u001b[38;5;124m files.\u001b[39m\u001b[38;5;124m\"\u001b[39m)\n\u001b[1;32m--> 259\u001b[0m results \u001b[38;5;241m=\u001b[39m \u001b[38;5;28;01mawait\u001b[39;00m asyncio\u001b[38;5;241m.\u001b[39mgather(\u001b[38;5;241m*\u001b[39mbatch) \n\u001b[0;32m    261\u001b[0m \u001b[38;5;66;03m# Write results \u001b[39;00m\n\u001b[0;32m    262\u001b[0m \u001b[38;5;28;01mfor\u001b[39;00m row \u001b[38;5;129;01min\u001b[39;00m results:\n\u001b[0;32m    263\u001b[0m     \u001b[38;5;66;03m# Convert each field to a string and handle None values as empty strings\u001b[39;00m\n",
      "\u001b[1;31mCancelledError\u001b[0m: "
     ]
    }
   ],
   "source": [
    "from DataCollection.parser import parse_all_restaurants\n",
    "import asyncio\n",
    "await parse_all_restaurants()"
   ]
  },
  {
   "cell_type": "code",
   "execution_count": 10,
   "metadata": {},
   "outputs": [
    {
     "ename": "FileNotFoundError",
     "evalue": "[WinError 3] Impossibile trovare il percorso specificato: 'michelin_restaurants'",
     "output_type": "error",
     "traceback": [
      "\u001b[1;31m---------------------------------------------------------------------------\u001b[0m",
      "\u001b[1;31mFileNotFoundError\u001b[0m                         Traceback (most recent call last)",
      "Cell \u001b[1;32mIn[10], line 3\u001b[0m\n\u001b[0;32m      1\u001b[0m \u001b[38;5;28;01mimport\u001b[39;00m \u001b[38;5;21;01mshutil\u001b[39;00m\n\u001b[0;32m      2\u001b[0m folder_path \u001b[38;5;241m=\u001b[39m \u001b[38;5;124m\"\u001b[39m\u001b[38;5;124mmichelin_restaurants\u001b[39m\u001b[38;5;124m\"\u001b[39m\n\u001b[1;32m----> 3\u001b[0m \u001b[43mshutil\u001b[49m\u001b[38;5;241;43m.\u001b[39;49m\u001b[43mrmtree\u001b[49m\u001b[43m(\u001b[49m\u001b[43mfolder_path\u001b[49m\u001b[43m)\u001b[49m\n\u001b[0;32m      4\u001b[0m \u001b[38;5;28mprint\u001b[39m(\u001b[38;5;124mf\u001b[39m\u001b[38;5;124m\"\u001b[39m\u001b[38;5;124mThe folder \u001b[39m\u001b[38;5;124m'\u001b[39m\u001b[38;5;132;01m{\u001b[39;00mfolder_path\u001b[38;5;132;01m}\u001b[39;00m\u001b[38;5;124m'\u001b[39m\u001b[38;5;124m has been deleted successfully.\u001b[39m\u001b[38;5;124m\"\u001b[39m)\n\u001b[0;32m      5\u001b[0m \u001b[38;5;66;03m# it's too heavy to push it and anyway we don't neeed it anymore \u001b[39;00m\n",
      "File \u001b[1;32mc:\\Users\\emanu\\miniconda3\\envs\\BasicPy\\Lib\\shutil.py:820\u001b[0m, in \u001b[0;36mrmtree\u001b[1;34m(path, ignore_errors, onerror, onexc, dir_fd)\u001b[0m\n\u001b[0;32m    818\u001b[0m     \u001b[38;5;66;03m# can't continue even if onexc hook returns\u001b[39;00m\n\u001b[0;32m    819\u001b[0m     \u001b[38;5;28;01mreturn\u001b[39;00m\n\u001b[1;32m--> 820\u001b[0m \u001b[38;5;28;01mreturn\u001b[39;00m \u001b[43m_rmtree_unsafe\u001b[49m\u001b[43m(\u001b[49m\u001b[43mpath\u001b[49m\u001b[43m,\u001b[49m\u001b[43m \u001b[49m\u001b[43monexc\u001b[49m\u001b[43m)\u001b[49m\n",
      "File \u001b[1;32mc:\\Users\\emanu\\miniconda3\\envs\\BasicPy\\Lib\\shutil.py:624\u001b[0m, in \u001b[0;36m_rmtree_unsafe\u001b[1;34m(path, onexc)\u001b[0m\n\u001b[0;32m    622\u001b[0m         entries \u001b[38;5;241m=\u001b[39m \u001b[38;5;28mlist\u001b[39m(scandir_it)\n\u001b[0;32m    623\u001b[0m \u001b[38;5;28;01mexcept\u001b[39;00m \u001b[38;5;167;01mOSError\u001b[39;00m \u001b[38;5;28;01mas\u001b[39;00m err:\n\u001b[1;32m--> 624\u001b[0m     \u001b[43monexc\u001b[49m\u001b[43m(\u001b[49m\u001b[43mos\u001b[49m\u001b[38;5;241;43m.\u001b[39;49m\u001b[43mscandir\u001b[49m\u001b[43m,\u001b[49m\u001b[43m \u001b[49m\u001b[43mpath\u001b[49m\u001b[43m,\u001b[49m\u001b[43m \u001b[49m\u001b[43merr\u001b[49m\u001b[43m)\u001b[49m\n\u001b[0;32m    625\u001b[0m     entries \u001b[38;5;241m=\u001b[39m []\n\u001b[0;32m    626\u001b[0m \u001b[38;5;28;01mfor\u001b[39;00m entry \u001b[38;5;129;01min\u001b[39;00m entries:\n",
      "File \u001b[1;32mc:\\Users\\emanu\\miniconda3\\envs\\BasicPy\\Lib\\shutil.py:621\u001b[0m, in \u001b[0;36m_rmtree_unsafe\u001b[1;34m(path, onexc)\u001b[0m\n\u001b[0;32m    619\u001b[0m \u001b[38;5;28;01mdef\u001b[39;00m \u001b[38;5;21m_rmtree_unsafe\u001b[39m(path, onexc):\n\u001b[0;32m    620\u001b[0m     \u001b[38;5;28;01mtry\u001b[39;00m:\n\u001b[1;32m--> 621\u001b[0m         \u001b[38;5;28;01mwith\u001b[39;00m \u001b[43mos\u001b[49m\u001b[38;5;241;43m.\u001b[39;49m\u001b[43mscandir\u001b[49m\u001b[43m(\u001b[49m\u001b[43mpath\u001b[49m\u001b[43m)\u001b[49m \u001b[38;5;28;01mas\u001b[39;00m scandir_it:\n\u001b[0;32m    622\u001b[0m             entries \u001b[38;5;241m=\u001b[39m \u001b[38;5;28mlist\u001b[39m(scandir_it)\n\u001b[0;32m    623\u001b[0m     \u001b[38;5;28;01mexcept\u001b[39;00m \u001b[38;5;167;01mOSError\u001b[39;00m \u001b[38;5;28;01mas\u001b[39;00m err:\n",
      "\u001b[1;31mFileNotFoundError\u001b[0m: [WinError 3] Impossibile trovare il percorso specificato: 'michelin_restaurants'"
     ]
    }
   ],
   "source": [
    "import shutil\n",
    "folder_path = \"michelin_restaurants\"\n",
    "shutil.rmtree(folder_path)\n",
    "print(f\"The folder '{folder_path}' has been deleted successfully.\")\n",
    "# it's too heavy to push it and anyway we don't neeed it anymore "
   ]
  },
  {
   "cell_type": "code",
   "execution_count": 11,
   "metadata": {},
   "outputs": [
    {
     "name": "stdout",
     "output_type": "stream",
     "text": [
      "Conversion complete: michelin_restaurants_data.csv\n"
     ]
    }
   ],
   "source": [
    "from DataCollection.file_type_converter import tsv_to_csv\n",
    "tsv_to_csv('michelin_restaurants_data.tsv', 'michelin_restaurants_data.csv')"
   ]
  },
  {
   "cell_type": "markdown",
   "metadata": {},
   "source": [
    "## **2. Search Engine**\n",
    "\n",
    "___"
   ]
  },
  {
   "cell_type": "markdown",
   "metadata": {},
   "source": [
    "### **2.0 Preprocessing**"
   ]
  },
  {
   "cell_type": "markdown",
   "metadata": {},
   "source": [
    "#### **2.0.1 Preprocessing the Text**"
   ]
  },
  {
   "cell_type": "markdown",
   "metadata": {},
   "source": [
    "In text analysis, raw data is often messy, inconsistent, and full of unnecessary details. Before diving into any meaningful analysis, we need to \"clean\" this text, transforming it into a format that is both consistent and relevant. This preprocessing step is essential—it reduces noise, helps algorithms focus on the core content, and improves accuracy in tasks like classification, sentiment analysis, and topic modeling. "
   ]
  },
  {
   "cell_type": "code",
   "execution_count": 205,
   "metadata": {},
   "outputs": [],
   "source": [
    "df = pd.read_csv(\"michelin_restaurants_data.csv\")"
   ]
  },
  {
   "cell_type": "markdown",
   "metadata": {},
   "source": [
    "**Setting Display Options:**\n",
    "\n",
    "First, we configure Pandas to show all columns and rows without truncating the text. This makes it easier to verify each step in the process and ensures we don’t overlook any issues."
   ]
  },
  {
   "cell_type": "code",
   "execution_count": 206,
   "metadata": {},
   "outputs": [],
   "source": [
    "# Set options to display all columns, rows, and no truncation\n",
    "pd.set_option('display.max_columns', None)\n",
    "pd.set_option('display.max_rows', None)\n",
    "pd.set_option('display.max_colwidth', None)\n",
    "pd.set_option('display.width', None)"
   ]
  },
  {
   "cell_type": "markdown",
   "metadata": {},
   "source": [
    "**Removing Stopwords:**\n",
    "\n",
    "Stopwords are common words (like \"the\" and \"is\") that don’t add much meaning in analysis. By removing them, we highlight the important words that carry the actual message. Using NLTK’s English stopwords, we filter out these unnecessary terms, storing the result in a new column, no_stopwords."
   ]
  },
  {
   "cell_type": "code",
   "execution_count": 207,
   "metadata": {},
   "outputs": [
    {
     "name": "stdout",
     "output_type": "stream",
     "text": [
      "                                                                                                                                                                                                                                                                                                                                                                                                                                                                                                                                                                                                                                                                                                                                                                                                                                                                                             description  \\\n",
      "0                                                                                                                                                                                                                                                                                                                                                                 After many years’ experience in Michelin-starred restaurants, Luigi Tramontano and his wife Nicoletta have opened their first restaurant in the chef’s native Gargnano. Previously a pasta factory, the building has been converted into an elegant, contemporary-style restaurant which has nonetheless retained its charming high ceilings. The cuisine is inspired by regional traditions which are reinterpreted to create gourmet dishes, all prepared with respect for the ingredients used and a strong focus on local produce.   \n",
      "1                                                                                                                                                                                                                                                                                                                                   In a beautiful stone-vaulted building (an old 17C monastery) on the town’s seafront promenade, young owner-chef Alessandro Feo has made his mark in this region that perhaps has fewer gourmet restaurants than many places elsewhere. Here, he creates dishes that combine traditional influences and classic favourites from Campania with his own individual flair and creativity. His focus is on local, seasonal ingredients, including produce from his two kitchen gardens and fish sourced from local fishermen as well as from his own ventures out to sea.   \n",
      "2                                                                                                                                                                                                                                                                                                                                                                                                                                                                Situated just a few kilometres from Voghera in the Bassa Lomellina area, this gourmet restaurant run by a young chef occupies the old stables of the Castello di San Gaudenzio. Alongside local specialities such as baked onion and 24-month-old Grana Padano cheese, the menu also features more creative dishes based around authentic recipes. The wine list includes some particularly interesting labels from the Oltrepò region.   \n",
      "3                                                           Alain Ducasse, one of the great names in contemporary fine dining, has arrived in Naples, opening this restaurant in the former premises of the prestigious Ristorante Il Comandante. Situated on the 9th floor of the Romeo hotel overlooking the port, the restaurant boasts fine views of Vesuvius and the Bay of Naples, especially at sunset when the colours are truly spectacular. Meanwhile, the modern dining room, decorated completely in black, is equally as stunning as its surroundings. Alessandro Lucassino, who was born in 1991 and has years of experience working with his mentor, adds a personal flavour to local recipes: by using short cooking times, he preserves the nutritious qualities and flavours of local fish and vegetables while remaining faithful to Ducasse’s “cuisine de la naturalité” philosophy.   \n",
      "4  This historic building in the town centre has been brought back to life by the family of local entrepreneurs who bought it years ago and who have given the restaurant their name. Now an exclusive food venue just a stone’s throw from the capital of the “Food Valley” region, Palazzo Utini is home to a bar and bistro on its ground floor, while the first floor is occupied by the gourmet restaurant overseen by chef Enrico Bartolini and run by resident chef Roberto Monopoli who has plenty of culinary experience behind him. Guests can choose individual dishes from the tasting menus à la carte style, plus there’s an extensive wine list. We particularly enjoyed the exquisite turbot saltimbocca and the onion, black cherry and Lambrusco dessert. On the upper floors, elegant and intimate guestrooms are decorated in the same reassuring style as the rest of the building.   \n",
      "\n",
      "                                                                                                                                                                                                                                                                                                                                                                                                                                                                                                                                                                                                                                                      no_stopwords  \n",
      "0                                                                                                                                                                                                                                                    many years’ experience Michelin-starred restaurants, Luigi Tramontano wife Nicoletta opened first restaurant chef’s native Gargnano. Previously pasta factory, building converted elegant, contemporary-style restaurant nonetheless retained charming high ceilings. cuisine inspired regional traditions reinterpreted create gourmet dishes, prepared respect ingredients used strong focus local produce.  \n",
      "1                                                                                                                                                                                                                               beautiful stone-vaulted building (an old 17C monastery) town’s seafront promenade, young owner-chef Alessandro Feo made mark region perhaps fewer gourmet restaurants many places elsewhere. Here, creates dishes combine traditional influences classic favourites Campania individual flair creativity. focus local, seasonal ingredients, including produce two kitchen gardens fish sourced local fishermen well ventures sea.  \n",
      "2                                                                                                                                                                                                                                                                                                             Situated kilometres Voghera Bassa Lomellina area, gourmet restaurant run young chef occupies old stables Castello di San Gaudenzio. Alongside local specialities baked onion 24-month-old Grana Padano cheese, menu also features creative dishes based around authentic recipes. wine list includes particularly interesting labels Oltrepò region.  \n",
      "3   Alain Ducasse, one great names contemporary fine dining, arrived Naples, opening restaurant former premises prestigious Ristorante Il Comandante. Situated 9th floor Romeo hotel overlooking port, restaurant boasts fine views Vesuvius Bay Naples, especially sunset colours truly spectacular. Meanwhile, modern dining room, decorated completely black, equally stunning surroundings. Alessandro Lucassino, born 1991 years experience working mentor, adds personal flavour local recipes: using short cooking times, preserves nutritious qualities flavours local fish vegetables remaining faithful Ducasse’s “cuisine de la naturalité” philosophy.  \n",
      "4  historic building town centre brought back life family local entrepreneurs bought years ago given restaurant name. exclusive food venue stone’s throw capital “Food Valley” region, Palazzo Utini home bar bistro ground floor, first floor occupied gourmet restaurant overseen chef Enrico Bartolini run resident chef Roberto Monopoli plenty culinary experience behind him. Guests choose individual dishes tasting menus à la carte style, plus there’s extensive wine list. particularly enjoyed exquisite turbot saltimbocca onion, black cherry Lambrusco dessert. upper floors, elegant intimate guestrooms decorated reassuring style rest building.  \n"
     ]
    },
    {
     "name": "stderr",
     "output_type": "stream",
     "text": [
      "[nltk_data] Downloading package stopwords to\n",
      "[nltk_data]     C:\\Users\\gabri\\AppData\\Roaming\\nltk_data...\n",
      "[nltk_data]   Package stopwords is already up-to-date!\n"
     ]
    }
   ],
   "source": [
    "# Set up the stopwords list\n",
    "nltk.download('stopwords')\n",
    "stop_words = set(stopwords.words('english'))\n",
    "def remove_stopwords(text):\n",
    "    if isinstance(text, str):\n",
    "\n",
    "\n",
    "        words=text.split()\n",
    "        words=[word for word in words if word.lower() not in stop_words]\n",
    "        cleaned_text = ' '.join(words)\n",
    "\n",
    "        return cleaned_text\n",
    "    else:\n",
    "            return \"\"  \n",
    "\n",
    "df['no_stopwords']=df['description'].apply(remove_stopwords)\n",
    "print(df[['description', 'no_stopwords']].head())\n"
   ]
  },
  {
   "cell_type": "markdown",
   "metadata": {},
   "source": [
    "**Removing Punctuation:**\n",
    "\n",
    "Punctuation, while helpful for grammar, often doesn’t add analytical value. The remove_punc function removes it from our text, creating cleaner entries and making it easier to identify meaningful patterns in further analysis. The cleaned result is saved in no_stopwords_and_punct."
   ]
  },
  {
   "cell_type": "code",
   "execution_count": 208,
   "metadata": {},
   "outputs": [
    {
     "name": "stdout",
     "output_type": "stream",
     "text": [
      "                                                                                                                                                                                                                                                                                                                                                                                                                                                                                                                                                                                                                                                                                                                                                                                                                                                                                             description  \\\n",
      "0                                                                                                                                                                                                                                                                                                                                                                 After many years’ experience in Michelin-starred restaurants, Luigi Tramontano and his wife Nicoletta have opened their first restaurant in the chef’s native Gargnano. Previously a pasta factory, the building has been converted into an elegant, contemporary-style restaurant which has nonetheless retained its charming high ceilings. The cuisine is inspired by regional traditions which are reinterpreted to create gourmet dishes, all prepared with respect for the ingredients used and a strong focus on local produce.   \n",
      "1                                                                                                                                                                                                                                                                                                                                   In a beautiful stone-vaulted building (an old 17C monastery) on the town’s seafront promenade, young owner-chef Alessandro Feo has made his mark in this region that perhaps has fewer gourmet restaurants than many places elsewhere. Here, he creates dishes that combine traditional influences and classic favourites from Campania with his own individual flair and creativity. His focus is on local, seasonal ingredients, including produce from his two kitchen gardens and fish sourced from local fishermen as well as from his own ventures out to sea.   \n",
      "2                                                                                                                                                                                                                                                                                                                                                                                                                                                                Situated just a few kilometres from Voghera in the Bassa Lomellina area, this gourmet restaurant run by a young chef occupies the old stables of the Castello di San Gaudenzio. Alongside local specialities such as baked onion and 24-month-old Grana Padano cheese, the menu also features more creative dishes based around authentic recipes. The wine list includes some particularly interesting labels from the Oltrepò region.   \n",
      "3                                                           Alain Ducasse, one of the great names in contemporary fine dining, has arrived in Naples, opening this restaurant in the former premises of the prestigious Ristorante Il Comandante. Situated on the 9th floor of the Romeo hotel overlooking the port, the restaurant boasts fine views of Vesuvius and the Bay of Naples, especially at sunset when the colours are truly spectacular. Meanwhile, the modern dining room, decorated completely in black, is equally as stunning as its surroundings. Alessandro Lucassino, who was born in 1991 and has years of experience working with his mentor, adds a personal flavour to local recipes: by using short cooking times, he preserves the nutritious qualities and flavours of local fish and vegetables while remaining faithful to Ducasse’s “cuisine de la naturalité” philosophy.   \n",
      "4  This historic building in the town centre has been brought back to life by the family of local entrepreneurs who bought it years ago and who have given the restaurant their name. Now an exclusive food venue just a stone’s throw from the capital of the “Food Valley” region, Palazzo Utini is home to a bar and bistro on its ground floor, while the first floor is occupied by the gourmet restaurant overseen by chef Enrico Bartolini and run by resident chef Roberto Monopoli who has plenty of culinary experience behind him. Guests can choose individual dishes from the tasting menus à la carte style, plus there’s an extensive wine list. We particularly enjoyed the exquisite turbot saltimbocca and the onion, black cherry and Lambrusco dessert. On the upper floors, elegant and intimate guestrooms are decorated in the same reassuring style as the rest of the building.   \n",
      "\n",
      "                                                                                                                                                                                                                                                                                                                                                                                                                                                                                                                                                                                                                                                      no_stopwords  \\\n",
      "0                                                                                                                                                                                                                                                    many years’ experience Michelin-starred restaurants, Luigi Tramontano wife Nicoletta opened first restaurant chef’s native Gargnano. Previously pasta factory, building converted elegant, contemporary-style restaurant nonetheless retained charming high ceilings. cuisine inspired regional traditions reinterpreted create gourmet dishes, prepared respect ingredients used strong focus local produce.   \n",
      "1                                                                                                                                                                                                                               beautiful stone-vaulted building (an old 17C monastery) town’s seafront promenade, young owner-chef Alessandro Feo made mark region perhaps fewer gourmet restaurants many places elsewhere. Here, creates dishes combine traditional influences classic favourites Campania individual flair creativity. focus local, seasonal ingredients, including produce two kitchen gardens fish sourced local fishermen well ventures sea.   \n",
      "2                                                                                                                                                                                                                                                                                                             Situated kilometres Voghera Bassa Lomellina area, gourmet restaurant run young chef occupies old stables Castello di San Gaudenzio. Alongside local specialities baked onion 24-month-old Grana Padano cheese, menu also features creative dishes based around authentic recipes. wine list includes particularly interesting labels Oltrepò region.   \n",
      "3   Alain Ducasse, one great names contemporary fine dining, arrived Naples, opening restaurant former premises prestigious Ristorante Il Comandante. Situated 9th floor Romeo hotel overlooking port, restaurant boasts fine views Vesuvius Bay Naples, especially sunset colours truly spectacular. Meanwhile, modern dining room, decorated completely black, equally stunning surroundings. Alessandro Lucassino, born 1991 years experience working mentor, adds personal flavour local recipes: using short cooking times, preserves nutritious qualities flavours local fish vegetables remaining faithful Ducasse’s “cuisine de la naturalité” philosophy.   \n",
      "4  historic building town centre brought back life family local entrepreneurs bought years ago given restaurant name. exclusive food venue stone’s throw capital “Food Valley” region, Palazzo Utini home bar bistro ground floor, first floor occupied gourmet restaurant overseen chef Enrico Bartolini run resident chef Roberto Monopoli plenty culinary experience behind him. Guests choose individual dishes tasting menus à la carte style, plus there’s extensive wine list. particularly enjoyed exquisite turbot saltimbocca onion, black cherry Lambrusco dessert. upper floors, elegant intimate guestrooms decorated reassuring style rest building.   \n",
      "\n",
      "                                                                                                                                                                                                                                                                                                                                                                                                                                                                                                                                                                                                                                  no_stopwords_and_punct  \n",
      "0                                                                                                                                                                                                                                                   many years’ experience Michelinstarred restaurants Luigi Tramontano wife Nicoletta opened first restaurant chef’s native Gargnano Previously pasta factory building converted elegant contemporarystyle restaurant nonetheless retained charming high ceilings cuisine inspired regional traditions reinterpreted create gourmet dishes prepared respect ingredients used strong focus local produce  \n",
      "1                                                                                                                                                                                                                                beautiful stonevaulted building an old 17C monastery town’s seafront promenade young ownerchef Alessandro Feo made mark region perhaps fewer gourmet restaurants many places elsewhere Here creates dishes combine traditional influences classic favourites Campania individual flair creativity focus local seasonal ingredients including produce two kitchen gardens fish sourced local fishermen well ventures sea  \n",
      "2                                                                                                                                                                                                                                                                                                          Situated kilometres Voghera Bassa Lomellina area gourmet restaurant run young chef occupies old stables Castello di San Gaudenzio Alongside local specialities baked onion 24monthold Grana Padano cheese menu also features creative dishes based around authentic recipes wine list includes particularly interesting labels Oltrepò region  \n",
      "3         Alain Ducasse one great names contemporary fine dining arrived Naples opening restaurant former premises prestigious Ristorante Il Comandante Situated 9th floor Romeo hotel overlooking port restaurant boasts fine views Vesuvius Bay Naples especially sunset colours truly spectacular Meanwhile modern dining room decorated completely black equally stunning surroundings Alessandro Lucassino born 1991 years experience working mentor adds personal flavour local recipes using short cooking times preserves nutritious qualities flavours local fish vegetables remaining faithful Ducasse’s “cuisine de la naturalité” philosophy  \n",
      "4  historic building town centre brought back life family local entrepreneurs bought years ago given restaurant name exclusive food venue stone’s throw capital “Food Valley” region Palazzo Utini home bar bistro ground floor first floor occupied gourmet restaurant overseen chef Enrico Bartolini run resident chef Roberto Monopoli plenty culinary experience behind him Guests choose individual dishes tasting menus à la carte style plus there’s extensive wine list particularly enjoyed exquisite turbot saltimbocca onion black cherry Lambrusco dessert upper floors elegant intimate guestrooms decorated reassuring style rest building  \n"
     ]
    }
   ],
   "source": [
    "def remove_punc(text):\n",
    "    if isinstance (text,str):\n",
    "         return text.translate(str.maketrans('', '', string.punctuation))\n",
    "    else:\n",
    "        return \"\"    \n",
    "    \n",
    "df['no_stopwords_and_punct'] = df['no_stopwords'].apply(remove_punc)\n",
    "\n",
    "print(df[['description', 'no_stopwords', 'no_stopwords_and_punct']].head())   "
   ]
  },
  {
   "cell_type": "markdown",
   "metadata": {},
   "source": [
    "**Stemming Words:**\n",
    "\n",
    "Stemming reduces words to their root forms (like \"running\" to \"run\"). This generalization can improve the consistency of terms, especially in cases where we care about the concept of a word rather than its specific form. We apply this to the no_stopwords_and_punct column, saving the output as no_stpwrd_punc_and_stemmed."
   ]
  },
  {
   "cell_type": "code",
   "execution_count": 209,
   "metadata": {},
   "outputs": [
    {
     "name": "stdout",
     "output_type": "stream",
     "text": [
      "                                                                                                                                                                                                                                                                                                                                                                                                                                                                                                                                                                                                                                                                                                                                                                                                                                                                                             description  \\\n",
      "0                                                                                                                                                                                                                                                                                                                                                                 After many years’ experience in Michelin-starred restaurants, Luigi Tramontano and his wife Nicoletta have opened their first restaurant in the chef’s native Gargnano. Previously a pasta factory, the building has been converted into an elegant, contemporary-style restaurant which has nonetheless retained its charming high ceilings. The cuisine is inspired by regional traditions which are reinterpreted to create gourmet dishes, all prepared with respect for the ingredients used and a strong focus on local produce.   \n",
      "1                                                                                                                                                                                                                                                                                                                                   In a beautiful stone-vaulted building (an old 17C monastery) on the town’s seafront promenade, young owner-chef Alessandro Feo has made his mark in this region that perhaps has fewer gourmet restaurants than many places elsewhere. Here, he creates dishes that combine traditional influences and classic favourites from Campania with his own individual flair and creativity. His focus is on local, seasonal ingredients, including produce from his two kitchen gardens and fish sourced from local fishermen as well as from his own ventures out to sea.   \n",
      "2                                                                                                                                                                                                                                                                                                                                                                                                                                                                Situated just a few kilometres from Voghera in the Bassa Lomellina area, this gourmet restaurant run by a young chef occupies the old stables of the Castello di San Gaudenzio. Alongside local specialities such as baked onion and 24-month-old Grana Padano cheese, the menu also features more creative dishes based around authentic recipes. The wine list includes some particularly interesting labels from the Oltrepò region.   \n",
      "3                                                           Alain Ducasse, one of the great names in contemporary fine dining, has arrived in Naples, opening this restaurant in the former premises of the prestigious Ristorante Il Comandante. Situated on the 9th floor of the Romeo hotel overlooking the port, the restaurant boasts fine views of Vesuvius and the Bay of Naples, especially at sunset when the colours are truly spectacular. Meanwhile, the modern dining room, decorated completely in black, is equally as stunning as its surroundings. Alessandro Lucassino, who was born in 1991 and has years of experience working with his mentor, adds a personal flavour to local recipes: by using short cooking times, he preserves the nutritious qualities and flavours of local fish and vegetables while remaining faithful to Ducasse’s “cuisine de la naturalité” philosophy.   \n",
      "4  This historic building in the town centre has been brought back to life by the family of local entrepreneurs who bought it years ago and who have given the restaurant their name. Now an exclusive food venue just a stone’s throw from the capital of the “Food Valley” region, Palazzo Utini is home to a bar and bistro on its ground floor, while the first floor is occupied by the gourmet restaurant overseen by chef Enrico Bartolini and run by resident chef Roberto Monopoli who has plenty of culinary experience behind him. Guests can choose individual dishes from the tasting menus à la carte style, plus there’s an extensive wine list. We particularly enjoyed the exquisite turbot saltimbocca and the onion, black cherry and Lambrusco dessert. On the upper floors, elegant and intimate guestrooms are decorated in the same reassuring style as the rest of the building.   \n",
      "\n",
      "                                                                                                                                                                                                                                                                                                                                                                                                                                                                                                                                                                                                                                  no_stopwords_and_punct  \\\n",
      "0                                                                                                                                                                                                                                                   many years’ experience Michelinstarred restaurants Luigi Tramontano wife Nicoletta opened first restaurant chef’s native Gargnano Previously pasta factory building converted elegant contemporarystyle restaurant nonetheless retained charming high ceilings cuisine inspired regional traditions reinterpreted create gourmet dishes prepared respect ingredients used strong focus local produce   \n",
      "1                                                                                                                                                                                                                                beautiful stonevaulted building an old 17C monastery town’s seafront promenade young ownerchef Alessandro Feo made mark region perhaps fewer gourmet restaurants many places elsewhere Here creates dishes combine traditional influences classic favourites Campania individual flair creativity focus local seasonal ingredients including produce two kitchen gardens fish sourced local fishermen well ventures sea   \n",
      "2                                                                                                                                                                                                                                                                                                          Situated kilometres Voghera Bassa Lomellina area gourmet restaurant run young chef occupies old stables Castello di San Gaudenzio Alongside local specialities baked onion 24monthold Grana Padano cheese menu also features creative dishes based around authentic recipes wine list includes particularly interesting labels Oltrepò region   \n",
      "3         Alain Ducasse one great names contemporary fine dining arrived Naples opening restaurant former premises prestigious Ristorante Il Comandante Situated 9th floor Romeo hotel overlooking port restaurant boasts fine views Vesuvius Bay Naples especially sunset colours truly spectacular Meanwhile modern dining room decorated completely black equally stunning surroundings Alessandro Lucassino born 1991 years experience working mentor adds personal flavour local recipes using short cooking times preserves nutritious qualities flavours local fish vegetables remaining faithful Ducasse’s “cuisine de la naturalité” philosophy   \n",
      "4  historic building town centre brought back life family local entrepreneurs bought years ago given restaurant name exclusive food venue stone’s throw capital “Food Valley” region Palazzo Utini home bar bistro ground floor first floor occupied gourmet restaurant overseen chef Enrico Bartolini run resident chef Roberto Monopoli plenty culinary experience behind him Guests choose individual dishes tasting menus à la carte style plus there’s extensive wine list particularly enjoyed exquisite turbot saltimbocca onion black cherry Lambrusco dessert upper floors elegant intimate guestrooms decorated reassuring style rest building   \n",
      "\n",
      "                                                                                                                                                                                                                                                                                                                                                                                                                                                                                                                                                           no_stpwrd_punc_and_stemmed  \n",
      "0                                                                                                                                                                                                                                                mani years’ experi michelinstar restaur luigi tramontano wife nicoletta open first restaur chef’ nativ gargnano previous pasta factori build convert eleg contemporarystyl restaur nonetheless retain charm high ceil cuisin inspir region tradit reinterpret creat gourmet dish prepar respect ingredi use strong focu local produc  \n",
      "1                                                                                                                                                                                                                 beauti stonevault build an old 17c monasteri town’ seafront promenad young ownerchef alessandro feo made mark region perhap fewer gourmet restaur mani place elsewher here creat dish combin tradit influenc classic favourit campania individu flair creativ focu local season ingredi includ produc two kitchen garden fish sourc local fishermen well ventur sea  \n",
      "2                                                                                                                                                                                                                                                                          situat kilometr voghera bassa lomellina area gourmet restaur run young chef occupi old stabl castello di san gaudenzio alongsid local special bake onion 24monthold grana padano chees menu also featur creativ dish base around authent recip wine list includ particularli interest label oltrepò region  \n",
      "3                                         alain ducass one great name contemporari fine dine arriv napl open restaur former premis prestigi ristorant il comandant situat 9th floor romeo hotel overlook port restaur boast fine view vesuviu bay napl especi sunset colour truli spectacular meanwhil modern dine room decor complet black equal stun surround alessandro lucassino born 1991 year experi work mentor add person flavour local recip use short cook time preserv nutriti qualiti flavour local fish veget remain faith ducasse’ “cuisin de la naturalité” philosophi  \n",
      "4  histor build town centr brought back life famili local entrepreneur bought year ago given restaur name exclus food venu stone’ throw capit “food valley” region palazzo utini home bar bistro ground floor first floor occupi gourmet restaur overseen chef enrico bartolini run resid chef roberto monopoli plenti culinari experi behind him guest choos individu dish tast menu à la cart style plu there’ extens wine list particularli enjoy exquisit turbot saltimbocca onion black cherri lambrusco dessert upper floor eleg intim guestroom decor reassur style rest build  \n"
     ]
    }
   ],
   "source": [
    "stemmer=PorterStemmer()\n",
    "\n",
    "def apply_stemming(text):\n",
    "    words= text.split()\n",
    "    stemmed_words=[stemmer.stem(word) for word in words]\n",
    "    stemmed_text=' '.join(stemmed_words)\n",
    "    return stemmed_text\n",
    "\n",
    "df['no_stpwrd_punc_and_stemmed'] = df['no_stopwords_and_punct'].apply(apply_stemming)\n",
    "\n",
    "print(df[['description', 'no_stopwords_and_punct', 'no_stpwrd_punc_and_stemmed']].head())"
   ]
  },
  {
   "cell_type": "markdown",
   "metadata": {},
   "source": [
    "**Lemmatizing Words:**\n",
    "\n",
    "Unlike stemming, lemmatization returns words to their actual dictionary form (e.g., \"better\" becomes \"good\"), which improves readability and consistency. We apply lemmatization to create a new column, lemmatized_text"
   ]
  },
  {
   "cell_type": "code",
   "execution_count": 210,
   "metadata": {},
   "outputs": [
    {
     "name": "stderr",
     "output_type": "stream",
     "text": [
      "[nltk_data] Downloading package wordnet to\n",
      "[nltk_data]     C:\\Users\\gabri\\AppData\\Roaming\\nltk_data...\n",
      "[nltk_data]   Package wordnet is already up-to-date!\n"
     ]
    },
    {
     "name": "stdout",
     "output_type": "stream",
     "text": [
      "                                                                                                                                                                                                                                                                                                                                                                                                                                                                                                                                                                                                                                                                                                                                                                                                                                                                                             description  \\\n",
      "0                                                                                                                                                                                                                                                                                                                                                                 After many years’ experience in Michelin-starred restaurants, Luigi Tramontano and his wife Nicoletta have opened their first restaurant in the chef’s native Gargnano. Previously a pasta factory, the building has been converted into an elegant, contemporary-style restaurant which has nonetheless retained its charming high ceilings. The cuisine is inspired by regional traditions which are reinterpreted to create gourmet dishes, all prepared with respect for the ingredients used and a strong focus on local produce.   \n",
      "1                                                                                                                                                                                                                                                                                                                                   In a beautiful stone-vaulted building (an old 17C monastery) on the town’s seafront promenade, young owner-chef Alessandro Feo has made his mark in this region that perhaps has fewer gourmet restaurants than many places elsewhere. Here, he creates dishes that combine traditional influences and classic favourites from Campania with his own individual flair and creativity. His focus is on local, seasonal ingredients, including produce from his two kitchen gardens and fish sourced from local fishermen as well as from his own ventures out to sea.   \n",
      "2                                                                                                                                                                                                                                                                                                                                                                                                                                                                Situated just a few kilometres from Voghera in the Bassa Lomellina area, this gourmet restaurant run by a young chef occupies the old stables of the Castello di San Gaudenzio. Alongside local specialities such as baked onion and 24-month-old Grana Padano cheese, the menu also features more creative dishes based around authentic recipes. The wine list includes some particularly interesting labels from the Oltrepò region.   \n",
      "3                                                           Alain Ducasse, one of the great names in contemporary fine dining, has arrived in Naples, opening this restaurant in the former premises of the prestigious Ristorante Il Comandante. Situated on the 9th floor of the Romeo hotel overlooking the port, the restaurant boasts fine views of Vesuvius and the Bay of Naples, especially at sunset when the colours are truly spectacular. Meanwhile, the modern dining room, decorated completely in black, is equally as stunning as its surroundings. Alessandro Lucassino, who was born in 1991 and has years of experience working with his mentor, adds a personal flavour to local recipes: by using short cooking times, he preserves the nutritious qualities and flavours of local fish and vegetables while remaining faithful to Ducasse’s “cuisine de la naturalité” philosophy.   \n",
      "4  This historic building in the town centre has been brought back to life by the family of local entrepreneurs who bought it years ago and who have given the restaurant their name. Now an exclusive food venue just a stone’s throw from the capital of the “Food Valley” region, Palazzo Utini is home to a bar and bistro on its ground floor, while the first floor is occupied by the gourmet restaurant overseen by chef Enrico Bartolini and run by resident chef Roberto Monopoli who has plenty of culinary experience behind him. Guests can choose individual dishes from the tasting menus à la carte style, plus there’s an extensive wine list. We particularly enjoyed the exquisite turbot saltimbocca and the onion, black cherry and Lambrusco dessert. On the upper floors, elegant and intimate guestrooms are decorated in the same reassuring style as the rest of the building.   \n",
      "\n",
      "                                                                                                                                                                                                                                                                                                                                                                                                                                                                                                                                                                                                                                                      no_stopwords  \\\n",
      "0                                                                                                                                                                                                                                                    many years’ experience Michelin-starred restaurants, Luigi Tramontano wife Nicoletta opened first restaurant chef’s native Gargnano. Previously pasta factory, building converted elegant, contemporary-style restaurant nonetheless retained charming high ceilings. cuisine inspired regional traditions reinterpreted create gourmet dishes, prepared respect ingredients used strong focus local produce.   \n",
      "1                                                                                                                                                                                                                               beautiful stone-vaulted building (an old 17C monastery) town’s seafront promenade, young owner-chef Alessandro Feo made mark region perhaps fewer gourmet restaurants many places elsewhere. Here, creates dishes combine traditional influences classic favourites Campania individual flair creativity. focus local, seasonal ingredients, including produce two kitchen gardens fish sourced local fishermen well ventures sea.   \n",
      "2                                                                                                                                                                                                                                                                                                             Situated kilometres Voghera Bassa Lomellina area, gourmet restaurant run young chef occupies old stables Castello di San Gaudenzio. Alongside local specialities baked onion 24-month-old Grana Padano cheese, menu also features creative dishes based around authentic recipes. wine list includes particularly interesting labels Oltrepò region.   \n",
      "3   Alain Ducasse, one great names contemporary fine dining, arrived Naples, opening restaurant former premises prestigious Ristorante Il Comandante. Situated 9th floor Romeo hotel overlooking port, restaurant boasts fine views Vesuvius Bay Naples, especially sunset colours truly spectacular. Meanwhile, modern dining room, decorated completely black, equally stunning surroundings. Alessandro Lucassino, born 1991 years experience working mentor, adds personal flavour local recipes: using short cooking times, preserves nutritious qualities flavours local fish vegetables remaining faithful Ducasse’s “cuisine de la naturalité” philosophy.   \n",
      "4  historic building town centre brought back life family local entrepreneurs bought years ago given restaurant name. exclusive food venue stone’s throw capital “Food Valley” region, Palazzo Utini home bar bistro ground floor, first floor occupied gourmet restaurant overseen chef Enrico Bartolini run resident chef Roberto Monopoli plenty culinary experience behind him. Guests choose individual dishes tasting menus à la carte style, plus there’s extensive wine list. particularly enjoyed exquisite turbot saltimbocca onion, black cherry Lambrusco dessert. upper floors, elegant intimate guestrooms decorated reassuring style rest building.   \n",
      "\n",
      "                                                                                                                                                                                                                                                                                                                                                                                                                                                                                                                                                                                                                                  no_stopwords_and_punct  \\\n",
      "0                                                                                                                                                                                                                                                   many years’ experience Michelinstarred restaurants Luigi Tramontano wife Nicoletta opened first restaurant chef’s native Gargnano Previously pasta factory building converted elegant contemporarystyle restaurant nonetheless retained charming high ceilings cuisine inspired regional traditions reinterpreted create gourmet dishes prepared respect ingredients used strong focus local produce   \n",
      "1                                                                                                                                                                                                                                beautiful stonevaulted building an old 17C monastery town’s seafront promenade young ownerchef Alessandro Feo made mark region perhaps fewer gourmet restaurants many places elsewhere Here creates dishes combine traditional influences classic favourites Campania individual flair creativity focus local seasonal ingredients including produce two kitchen gardens fish sourced local fishermen well ventures sea   \n",
      "2                                                                                                                                                                                                                                                                                                          Situated kilometres Voghera Bassa Lomellina area gourmet restaurant run young chef occupies old stables Castello di San Gaudenzio Alongside local specialities baked onion 24monthold Grana Padano cheese menu also features creative dishes based around authentic recipes wine list includes particularly interesting labels Oltrepò region   \n",
      "3         Alain Ducasse one great names contemporary fine dining arrived Naples opening restaurant former premises prestigious Ristorante Il Comandante Situated 9th floor Romeo hotel overlooking port restaurant boasts fine views Vesuvius Bay Naples especially sunset colours truly spectacular Meanwhile modern dining room decorated completely black equally stunning surroundings Alessandro Lucassino born 1991 years experience working mentor adds personal flavour local recipes using short cooking times preserves nutritious qualities flavours local fish vegetables remaining faithful Ducasse’s “cuisine de la naturalité” philosophy   \n",
      "4  historic building town centre brought back life family local entrepreneurs bought years ago given restaurant name exclusive food venue stone’s throw capital “Food Valley” region Palazzo Utini home bar bistro ground floor first floor occupied gourmet restaurant overseen chef Enrico Bartolini run resident chef Roberto Monopoli plenty culinary experience behind him Guests choose individual dishes tasting menus à la carte style plus there’s extensive wine list particularly enjoyed exquisite turbot saltimbocca onion black cherry Lambrusco dessert upper floors elegant intimate guestrooms decorated reassuring style rest building   \n",
      "\n",
      "                                                                                                                                                                                                                                                                                                                                                                                                                                                                                                                                                                                                                                 lemmatized_text  \n",
      "0                                                                                                                                                                                                                                                 many years’ experience michelinstarred restaurant luigi tramontano wife nicoletta opened first restaurant chef’s native gargnano previously pasta factory building converted elegant contemporarystyle restaurant nonetheless retained charming high ceiling cuisine inspired regional tradition reinterpreted create gourmet dish prepared respect ingredient used strong focus local produce  \n",
      "1                                                                                                                                                                                                                                 beautiful stonevaulted building an old 17c monastery town’s seafront promenade young ownerchef alessandro feo made mark region perhaps fewer gourmet restaurant many place elsewhere here creates dish combine traditional influence classic favourite campania individual flair creativity focus local seasonal ingredient including produce two kitchen garden fish sourced local fisherman well venture sea  \n",
      "2                                                                                                                                                                                                                                                                                                           situated kilometre voghera bassa lomellina area gourmet restaurant run young chef occupies old stable castello di san gaudenzio alongside local speciality baked onion 24monthold grana padano cheese menu also feature creative dish based around authentic recipe wine list includes particularly interesting label oltrepò region  \n",
      "3               alain ducasse one great name contemporary fine dining arrived naples opening restaurant former premise prestigious ristorante il comandante situated 9th floor romeo hotel overlooking port restaurant boast fine view vesuvius bay naples especially sunset colour truly spectacular meanwhile modern dining room decorated completely black equally stunning surroundings alessandro lucassino born 1991 year experience working mentor add personal flavour local recipe using short cooking time preserve nutritious quality flavour local fish vegetable remaining faithful ducasse’s “cuisine de la naturalité” philosophy  \n",
      "4  historic building town centre brought back life family local entrepreneur bought year ago given restaurant name exclusive food venue stone’s throw capital “food valley” region palazzo utini home bar bistro ground floor first floor occupied gourmet restaurant overseen chef enrico bartolini run resident chef roberto monopoli plenty culinary experience behind him guest choose individual dish tasting menu à la carte style plus there’s extensive wine list particularly enjoyed exquisite turbot saltimbocca onion black cherry lambrusco dessert upper floor elegant intimate guestroom decorated reassuring style rest building  \n"
     ]
    }
   ],
   "source": [
    "nltk.download('wordnet')\n",
    "lemmatizer = WordNetLemmatizer()\n",
    "\n",
    "def apply_lemmatization(text):\n",
    "    text = text.lower()\n",
    "    words = text.split()\n",
    "    lemmatized_words = [lemmatizer.lemmatize(word) for word in words]\n",
    "    lemmatized_text = ' '.join(lemmatized_words)  \n",
    "    return lemmatized_text\n",
    "\n",
    "df['lemmatized_text'] = df['no_stopwords_and_punct'].apply(apply_lemmatization)\n",
    "print(df[['description', 'no_stopwords', 'no_stopwords_and_punct', 'lemmatized_text']].head())\n"
   ]
  },
  {
   "cell_type": "markdown",
   "metadata": {},
   "source": [
    "After I checked the results of Stemming  and lemmatizer, I prefer to use lemmatized's output. Because I realized that,Stemming caused same meaningless words. I think this method uses directly throw away same letters from end of the words. As a result, according to outputs of two methods I will contuinue with lemmatizer. (For example:restaurant>>>restaur)\n"
   ]
  },
  {
   "cell_type": "markdown",
   "metadata": {},
   "source": [
    "**Removing Extra Spaces:**\n",
    "\n",
    "As a side effect of all the text manipulations, extra spaces can appear, which disrupts the flow of clean data. We fix this with a regular expression to ensure neat, evenly spaced text.\n",
    "\n",
    "**Removing Non-ASCII Characters and Emojis:**\n",
    "\n",
    "Special characters and emojis often don’t add value in analysis, so we remove them by re-encoding text to ASCII. This keeps everything in a standard English character set, reducing noise.\n",
    "\n",
    "**Expanding Contractions:**\n",
    "\n",
    "Expanding contractions (like changing \"don’t\" to \"do not\") improves readability and clarity in text analysis, helping algorithms better understand the meaning. We apply this to make the text more complete and user-friendly.\n",
    "\n",
    "**Removing URLs and Emails:**\n",
    "\n",
    "URLs and emails are typically irrelevant to most types of text analysis, so we remove them to keep the text focused on the main content."
   ]
  },
  {
   "cell_type": "code",
   "execution_count": 211,
   "metadata": {},
   "outputs": [],
   "source": [
    "df['lemmatized_text+'] = df['lemmatized_text'].str.replace(r'\\s+', ' ', regex=True).str.strip()\n",
    "\n",
    "df['cleaned_text'] = df['lemmatized_text+'].str.encode('ascii', 'ignore').str.decode('ascii')\n",
    "\n",
    "df['cleaned_text'] = df['cleaned_text'].apply(lambda x: contractions.fix(x))\n",
    "\n",
    "df['cleaned_text'] = df['cleaned_text'].str.replace(r'http\\S+|www\\S+|https\\S+', '', regex=True)\n",
    "df['cleaned_text'] = df['cleaned_text'].str.replace(r'\\S+@\\S+', '', regex=True)"
   ]
  },
  {
   "cell_type": "markdown",
   "metadata": {},
   "source": [
    "**Standardizing Restaurant Names:**\n",
    "\n",
    "Finally, we clean up restaurant_name by removing anything after a dash, leaving just the main name. This standardization is crucial for accurate grouping and comparison in analysis."
   ]
  },
  {
   "cell_type": "code",
   "execution_count": 212,
   "metadata": {},
   "outputs": [
    {
     "data": {
      "text/plain": [
       "0                        O Me O Il Mare\n",
       "1                        Alessandro Feo\n",
       "2                                  Dama\n",
       "3    Il Ristorante Alain Ducasse Napoli\n",
       "4                         Palazzo Utini\n",
       "Name: restaurant_name, dtype: object"
      ]
     },
     "execution_count": 212,
     "metadata": {},
     "output_type": "execute_result"
    }
   ],
   "source": [
    "\n",
    "\n",
    "df['restaurant_name'] = df['restaurant_name'].str.split('–|-').str[0].str.strip()\n",
    "df['restaurant_name'].head(5)"
   ]
  },
  {
   "cell_type": "markdown",
   "metadata": {},
   "source": [
    "### **2.1 Conjunctive Query** "
   ]
  },
  {
   "cell_type": "markdown",
   "metadata": {},
   "source": [
    "#### **2.1.1 Create Your Index!**"
   ]
  },
  {
   "cell_type": "markdown",
   "metadata": {},
   "source": [
    "In this part of our project, we're creating a unique vocabulary and an inverted index for our restaurant descriptions. This approach helps us quickly look up which documents (or restaurant entries) contain specific terms, making search and retrieval much faster and more efficient. Here's a breakdown of each step:\n",
    "\n",
    "  **Creating Unique Document IDs:**\n",
    "\n",
    "*   We assign a unique document ID to each entry in our DataFrame by setting document_id equal to each entry's index. This gives each restaurant a distinct identifier, making it easy to refer back to specific entries later in our inverted index.\n",
    "\n",
    "\n",
    "\n",
    "  **Initializing Vocabulary and Inverted Index:**\n",
    "\n",
    "        \n",
    "\n",
    "*   We set up an empty dictionary vocab to store unique terms (words) and their IDs. The current_term_id counter keeps track of the IDs as we assign them. We also initialize inverted_index, a dictionary that will map each term to a list of document IDs where that term appears.\n",
    " \n",
    "\n",
    "  **Defining the get_term_id Function:**\n",
    "\n",
    "\n",
    "*   The get_term_id function is crucial for building our vocabulary. It checks if a word already has an ID in vocab; if not, it assigns the next available ID to the word. This function ensures that each word has a unique ID, which we can use as a key in our inverted index.\n",
    "\n",
    "\n",
    "\n",
    "\n",
    "        \n",
    "\n",
    "  **Building Vocabulary and Inverted Index:**       \n",
    "*   We then go through each restaurant’s description in the DataFrame. For each description, we:\n",
    "\n",
    "  1.   Retrieve the document_id and split the cleaned text into individual words.\n",
    "  2.   Use set(words) to get unique words, preventing duplicate entries of the same word in a single document.\n",
    "  3.   For each unique word, we get or assign a term ID using get_term_id, then update our inverted_index to add the document_id to the list of documents associated with this term. This structure allows us to quickly retrieve all documents containing a given word.\n",
    "        \n",
    "\n",
    "  **Saving Vocabulary to CSV:**\n",
    "*   Once our vocabulary is built, we save it to a CSV file called vocabulary.csv. This file provides a convenient reference for the terms and their IDs, which will be helpful for other tasks or for reloading the vocabulary later.\n",
    "        \n",
    "  **Saving the Inverted Index as JSON:**\n",
    "*   We save the inverted_index as a JSON file. The JSON format preserves the dictionary structure and can be easily loaded later to quickly retrieve documents that contain specific terms.\n",
    "        \n",
    "\n",
    "  **Loading the Inverted Index and Vocabulary for Searches:**\n",
    "*   Finally, we include commands to reload the inverted index and vocabulary. When we need to process a search query, we load inverted_index.json and vocabulary.csv to retrieve terms and their associated document IDs, making our search functionality efficient and ready to use.\n"
   ]
  },
  {
   "cell_type": "code",
   "execution_count": 213,
   "metadata": {},
   "outputs": [],
   "source": [
    "# Create a unique document ID for each restaurant entry in the DataFrame\n",
    "df['document_id'] = df.index  \n",
    "\n",
    "\n",
    "vocab = {}\n",
    "current_term_id = 0\n",
    "inverted_index = defaultdict(list)  \n",
    "\n",
    "# Function to get or assign a term ID\n",
    "def get_term_id(word):\n",
    "    \"\"\"Assigns a unique ID to each word in the vocabulary.\"\"\"\n",
    "    global current_term_id\n",
    "    if word not in vocab:\n",
    "        vocab[word] = current_term_id\n",
    "        current_term_id += 1  \n",
    "    return vocab[word]  \n",
    "\n",
    "for _, row in df.iterrows():\n",
    "    doc_id = row['document_id']\n",
    "    words = row['cleaned_text'].split()  \n",
    "    unique_words = set(words)  \n",
    "\n",
    "    for word in unique_words:\n",
    "        term_id = get_term_id(word)\n",
    "        inverted_index[term_id].append(doc_id)\n",
    "\n",
    "# Convert the vocabulary dictionary to a DataFrame and save it to a CSV file for future reference\n",
    "vocab_df = pd.DataFrame(list(vocab.items()), columns=['word', 'term_id'])\n",
    "vocab_df.to_csv('vocabulary.csv', index=False)\n",
    "\n",
    "# Save the inverted index as a JSON file to use later when processing queries\n",
    "with open('inverted_index.json', 'w') as f:\n",
    "    json.dump(inverted_index, f)\n",
    "\n",
    "# Load the inverted index and vocabulary when we need to process a search query\n",
    "with open('inverted_index.json', 'r') as f:\n",
    "    inverted_index = json.load(f)\n",
    "\n",
    "# Reload vocabulary from CSV into a dictionary\n",
    "vocab_df = pd.read_csv('vocabulary.csv')\n",
    "vocab = dict(zip(vocab_df['word'], vocab_df['term_id']))"
   ]
  },
  {
   "cell_type": "markdown",
   "metadata": {},
   "source": [
    "#### **2.1.2 Execute the Query**"
   ]
  },
  {
   "cell_type": "markdown",
   "metadata": {},
   "source": [
    "In this section, we create an inverted index and set up functions to process search queries. This allows us to efficiently retrieve restaurants based on keyword searches."
   ]
  },
  {
   "cell_type": "markdown",
   "metadata": {},
   "source": [
    "**Step 1: Save and Load the Inverted Index and Vocabulary**\n",
    "\n",
    "1.  **Save the Inverted Index to JSON**\n",
    "\n",
    "We save the inverted index to a JSON file for easy access when processing queries."
   ]
  },
  {
   "cell_type": "code",
   "execution_count": 214,
   "metadata": {},
   "outputs": [],
   "source": [
    "with open('inverted_index.json', 'w') as f:\n",
    "    json.dump(inverted_index, f)"
   ]
  },
  {
   "cell_type": "markdown",
   "metadata": {},
   "source": [
    "2.  **Load the Inverted Index and Vocabulary**\n",
    "\n",
    "We load both the inverted index and vocabulary back into memory for query processing."
   ]
  },
  {
   "cell_type": "code",
   "execution_count": 215,
   "metadata": {},
   "outputs": [],
   "source": [
    "with open('inverted_index.json', 'r') as f:\n",
    "    inverted_index = json.load(f)\n",
    "\n",
    "vocab_df = pd.read_csv('vocabulary.csv')\n",
    "vocab = dict(zip(vocab_df['word'], vocab_df['term_id']))"
   ]
  },
  {
   "cell_type": "markdown",
   "metadata": {},
   "source": [
    "**Step 2: Query Preprocessing Function**\n",
    "\n",
    "The preprocess_query function prepares a user's search query by removing punctuation and stopwords, converting each word into its unique term ID."
   ]
  },
  {
   "cell_type": "code",
   "execution_count": 216,
   "metadata": {},
   "outputs": [],
   "source": [
    "def preprocess_query(query):\n",
    "    query = query.lower()\n",
    "    query = re.sub(r'[^\\w\\s]', '', query)  \n",
    "    query_terms = [word for word in query.split() if word not in stop_words] \n",
    "    term_ids = [vocab.get(word) for word in query_terms if word in vocab]\n",
    "    return term_ids  "
   ]
  },
  {
   "cell_type": "markdown",
   "metadata": {},
   "source": [
    "*  **Purpose:** This function cleans up a query by lowercasing, removing punctuation, and filtering out stopwords.\n",
    "*  **Output:** The function returns a list of term IDs that represent the query words found in the vocabulary.\n",
    "\n",
    "**Step 3: Search Function**\n",
    "\n",
    "The search_restaurants function uses the term IDs from preprocess_query to find restaurants that contain all words in the query."
   ]
  },
  {
   "cell_type": "code",
   "execution_count": 217,
   "metadata": {},
   "outputs": [],
   "source": [
    "def search_restaurants(query):\n",
    "    term_ids = preprocess_query(query)\n",
    "    if not term_ids:\n",
    "        print(\"No matching terms found in the vocabulary.\")\n",
    "        return pd.DataFrame()  \n",
    "\n",
    "    matching_docs = set(inverted_index.get(str(term_ids[0]), []))  \n",
    "    for term_id in term_ids[1:]:\n",
    "        matching_docs.intersection_update(inverted_index.get(str(term_id), [])) \n",
    "\n",
    "    if matching_docs:\n",
    "        results = df[df['document_id'].isin(matching_docs)][['restaurant_name', 'address', 'description', 'url']]\n",
    "        return results.head(5)\n",
    "    else:\n",
    "        print(\"No documents match all query terms.\")\n",
    "        return pd.DataFrame()  "
   ]
  },
  {
   "cell_type": "markdown",
   "metadata": {},
   "source": [
    "**Process:**\n",
    "\n",
    "*    First, it preprocesses the query to get term IDs.\n",
    "*    Then, it finds document IDs that contain all the query terms, using set intersections to narrow down the matches.\n",
    "\n",
    "**Output:** If matching restaurants are found, it returns their details (name, address, description, and URL). If no matches are found, it either indicates no documents matched or returns an empty DataFrame.\n",
    "\n",
    "It is an example command for trying commands and check the output."
   ]
  },
  {
   "cell_type": "code",
   "execution_count": 218,
   "metadata": {},
   "outputs": [
    {
     "name": "stdout",
     "output_type": "stream",
     "text": [
      "                       restaurant_name  \\\n",
      "3   Il Ristorante Alain Ducasse Napoli   \n",
      "11                          Donevandro   \n",
      "22                         Quintogusto   \n",
      "36               Il Luogo Aimo e Nadia   \n",
      "37                              Dolada   \n",
      "\n",
      "                                   address  \\\n",
      "3                Via Cristoforo Colombo 45   \n",
      "11                         via Garibaldi 2   \n",
      "22              piazza Sandro Pertini 54 r   \n",
      "36                      via Montecuccoli 6   \n",
      "37  via Dolada 21, località Plois alt. 870   \n",
      "\n",
      "                                                                                                                                                                                                                                                                                                                                                                                                                                                                                                                                                                                                                                                                                                                                                                                                                                                                                                     description  \\\n",
      "3                                                                   Alain Ducasse, one of the great names in contemporary fine dining, has arrived in Naples, opening this restaurant in the former premises of the prestigious Ristorante Il Comandante. Situated on the 9th floor of the Romeo hotel overlooking the port, the restaurant boasts fine views of Vesuvius and the Bay of Naples, especially at sunset when the colours are truly spectacular. Meanwhile, the modern dining room, decorated completely in black, is equally as stunning as its surroundings. Alessandro Lucassino, who was born in 1991 and has years of experience working with his mentor, adds a personal flavour to local recipes: by using short cooking times, he preserves the nutritious qualities and flavours of local fish and vegetables while remaining faithful to Ducasse’s “cuisine de la naturalité” philosophy.   \n",
      "11                                                                                                                                                                                                                                                                                                                                                                                  Up until a few years ago, the owner-chef at this restaurant was working as a painter – a fact that is evident from the artistic touch in his cuisine. His recipes are modern and personalised, with careful attention naturally paid to harmonious presentation, while the flavour of his dishes is brought out by ingredients that are skilfully chosen from the Abruzzo inland area. In 2024, the restaurant moved to new, centrally located premises which have an intimate feel and are elegant and minimalist in style.   \n",
      "22                                                                                                                                                                                                                                                                                                                                                                                                                                                                                                     Recently opened in the renovated section of Corso Italia in central Savona, Quintogusto is a small, contemporary and minimalist-style restaurant occupying one side of the former hospital. Here, the owner-chef (once sous-chef at the excellent Michelin-starred Il Vescovado in Noli) cements his reputation with Ligurian-influenced cuisine to which he adds his own modern and imaginative touches.   \n",
      "36  This long-established restaurant has been part of the Milanese culinary scene for over 60 years and continues to attract food-lovers in search of top-quality cuisine today. It serves a generous tasting menu that showcases Italian cuisine in modern dishes, some inspired by the origins of the two dynamic chefs, Alessandro Negrini and Fabio Pisani (the former from Lombardy, the latter from Puglia). There’s also a menu dedicated to the seasons, where seasonal vegetables enhance the different dishes, while the “Omaggio a Milano” (Tribute to Milan – tortelli pasta stuffed with Fassona beef ossobuco and marrow in a Sardinian saffron and parmesan reduction) is always very popular. Make sure you allow plenty of time to peruse the extensive wine selection which is displayed on a tablet and includes some hard-to-find labels. The service is courteous and attentive throughout.   \n",
      "37                     An idyllic picture-postcard setting in a panoramic location overlooking Santa Croce lake, surrounded by villages and mountain peaks. This is matched by an elegant interior with a mix of antique and modern furnishings, and a succession of stylish small dining rooms and lounges, including an open fireplace where many of the ingredients are cooked. For over a century, this restaurant has told the story of the De Pra family and their love for the mountains which is clearly evident in the cuisine served here. Chef Riccardo has strengthened this connection by intensifying his search for local ingredients (game, mushrooms, freshwater fish etc) and cultivating his own kitchen garden and vineyard. The fragrant ingredients are prepared simply yet with technical expertise, with flavour always the primary focus – an infallible recipe for resounding success!   \n",
      "\n",
      "                                                                                             url  \n",
      "3   https://theromeocollection.com/en/romeo-napoli/restaurants-bars/il-ristorante-alain-ducasse/  \n",
      "11                                                            http://www.donevandroristorante.it  \n",
      "22                                                            https://ristorantequintogusto.com/  \n",
      "36                                              https://www.aimoenadia.com/il-luogo-aimo-e-nadia  \n",
      "37                                                                        https://www.dolada.it/  \n"
     ]
    }
   ],
   "source": [
    "# Example usage\n",
    "query = \"modern cuisine restaurant\"\n",
    "results = search_restaurants(query)\n",
    "print(results)"
   ]
  },
  {
   "cell_type": "markdown",
   "metadata": {},
   "source": [
    "### **2.2 Ranked Search Engine with TF-IDF and Cosine Similarity**"
   ]
  },
  {
   "cell_type": "markdown",
   "metadata": {},
   "source": [
    "#### **2.2.1 Inverted Index with TF-IDF Scores**"
   ]
  },
  {
   "cell_type": "code",
   "execution_count": 219,
   "metadata": {},
   "outputs": [
    {
     "data": {
      "text/plain": [
       "<module 'DataCollection.engine' from 'c:\\\\Users\\\\gabri\\\\Desktop\\\\LM-Data Science\\\\Algorithmic Methods of Data Mining\\\\ADM-HW3\\\\DataCollection\\\\engine.py'>"
      ]
     },
     "execution_count": 219,
     "metadata": {},
     "output_type": "execute_result"
    }
   ],
   "source": [
    "import importlib\n",
    "importlib.reload(engine)\n"
   ]
  },
  {
   "cell_type": "markdown",
   "metadata": {},
   "source": [
    "1. **tfIdf Scores**: Calculate TF-IDF scores for each term in each restaurant’s description.\n"
   ]
  },
  {
   "cell_type": "code",
   "execution_count": 220,
   "metadata": {},
   "outputs": [],
   "source": [
    "df_tfidf = df.copy()\n",
    "vocabulary = pd.read_csv(\"vocabulary.csv\")\n",
    "\n",
    "with open(\"inverted_index.json\", 'r', encoding='utf-8') as file:\n",
    "    inverted_index = json.load(file)\n",
    "updated_inverted_index = engine.update_inverted_index(df_tfidf, inverted_index, vocabulary)"
   ]
  },
  {
   "cell_type": "markdown",
   "metadata": {},
   "source": [
    "2. **Updated Inverted Index**: Build a new inverted index where each entry is a term, and the value is a list of tuples containing document IDs and TF-IDF scores."
   ]
  },
  {
   "cell_type": "code",
   "execution_count": 221,
   "metadata": {},
   "outputs": [],
   "source": [
    "# Finally we load the inverted_index in a JSON file\n",
    "with open(\"updated_inverted_index.json\", \"w\") as file:\n",
    "    json.dump(updated_inverted_index, file)\n"
   ]
  },
  {
   "cell_type": "markdown",
   "metadata": {},
   "source": [
    "#### **2.2.2 Execute the Ranked Query**\n"
   ]
  },
  {
   "cell_type": "markdown",
   "metadata": {},
   "source": [
    "1. Process the query terms."
   ]
  },
  {
   "cell_type": "code",
   "execution_count": 222,
   "metadata": {},
   "outputs": [
    {
     "data": {
      "text/plain": [
       "'modern season cuisine'"
      ]
     },
     "execution_count": 222,
     "metadata": {},
     "output_type": "execute_result"
    }
   ],
   "source": [
    "query = \"MODERN; Seasonal CUISINE.\"\n",
    "\n",
    "query_series = pd.Series(query)\n",
    "query_series=query_series.apply(remove_stopwords).apply(apply_stemming).apply(remove_punc).apply(apply_lemmatization)\n",
    "query_preprocessed = query_series.iloc[0]\n",
    "query_preprocessed"
   ]
  },
  {
   "cell_type": "markdown",
   "metadata": {},
   "source": [
    "2. Use Cosine Similarity to rank matching restaurants based on the TF-IDF vectors of the query and each document.\n"
   ]
  },
  {
   "cell_type": "code",
   "execution_count": 223,
   "metadata": {},
   "outputs": [],
   "source": [
    "similarities = engine.rank_documents(query_preprocessed, updated_inverted_index, df, vocabulary)"
   ]
  },
  {
   "cell_type": "markdown",
   "metadata": {},
   "source": [
    "3. Return the top-k results or all matching restaurants if fewer than k have non-zero similarity."
   ]
  },
  {
   "cell_type": "code",
   "execution_count": 224,
   "metadata": {},
   "outputs": [
    {
     "name": "stderr",
     "output_type": "stream",
     "text": [
      "C:\\Users\\gabri\\AppData\\Local\\Temp\\ipykernel_8972\\1052310851.py:4: SettingWithCopyWarning: \n",
      "A value is trying to be set on a copy of a slice from a DataFrame.\n",
      "Try using .loc[row_indexer,col_indexer] = value instead\n",
      "\n",
      "See the caveats in the documentation: https://pandas.pydata.org/pandas-docs/stable/user_guide/indexing.html#returning-a-view-versus-a-copy\n",
      "  documents_best_k[\"similarity_score\"] = [values[1] for values in top_k_values]\n"
     ]
    },
    {
     "data": {
      "text/html": [
       "<div>\n",
       "<style scoped>\n",
       "    .dataframe tbody tr th:only-of-type {\n",
       "        vertical-align: middle;\n",
       "    }\n",
       "\n",
       "    .dataframe tbody tr th {\n",
       "        vertical-align: top;\n",
       "    }\n",
       "\n",
       "    .dataframe thead th {\n",
       "        text-align: right;\n",
       "    }\n",
       "</style>\n",
       "<table border=\"1\" class=\"dataframe\">\n",
       "  <thead>\n",
       "    <tr style=\"text-align: right;\">\n",
       "      <th></th>\n",
       "      <th>restaurant_name</th>\n",
       "      <th>address</th>\n",
       "      <th>description</th>\n",
       "      <th>url</th>\n",
       "      <th>similarity_score</th>\n",
       "    </tr>\n",
       "  </thead>\n",
       "  <tbody>\n",
       "    <tr>\n",
       "      <th>1604</th>\n",
       "      <td>Sintesi</td>\n",
       "      <td>viale dei Castani 17</td>\n",
       "      <td>A modern, welcoming restaurant whose motto “Tradition &amp; Innovation” perfectly sums up its cuisine. On the à la carte and tasting menus alike you’ll find classic dishes including risotto with peas, lemon and raw scampi alongside more creative offerings such as grilled pannicolo (hanger steak) with Nemi strawberries and herbs, all presented in a modern and precise manner, and with the occasional nod to Asian techniques and northern European culinary methods (fermentation, marinades, dry aging of fish etc). The wine list changes with the seasons and the menu.</td>\n",
       "      <td>http://ristorantesintesi.it</td>\n",
       "      <td>0.866517</td>\n",
       "    </tr>\n",
       "    <tr>\n",
       "      <th>889</th>\n",
       "      <td>San Giorgio</td>\n",
       "      <td>viale Brigate Bisagno 69r</td>\n",
       "      <td>Situated in the city albeit not right in the centre, San Giorgio is a typical Genovese restaurant – elegant and classic in style, with excellent cuisine served by the Scala family who have been in charge for decades. Young chef Samuele Di Mauro is at the helm, having started here as an apprentice and worked his way to the position of sous-chef and then head chef in 2022. Despite a focus on modern presentation and techniques, as demonstrated in dishes such as the raw bluefin tuna seasoned with an intense verbena mousse and served with caper cream and a “caviar” of dried and fried tuna, his cuisine is Mediterranean in style, with its roots in Ligurian aromas and flavours. The wine list is as impressive as the cuisine, with an entire section dedicated to French and Italian sparkling wines.</td>\n",
       "      <td>https://www.ristorantesangiorgiogenova.it/</td>\n",
       "      <td>0.825476</td>\n",
       "    </tr>\n",
       "    <tr>\n",
       "      <th>939</th>\n",
       "      <td>Gucci Osteria da Massimo Bottura</td>\n",
       "      <td>piazza della Signoria 10</td>\n",
       "      <td>Florence’s cosmopolitan credentials receive a boost with Karime Lopez and Takahiko Kondo’s cuisine, served in this modern, lively restaurant that bears the name of theatrical chef Massimo Bottura. The cuisine overseen by these excellent cooks demonstrates an openness to the rest of the world, with influences and reinterpretations of dishes from other countries, as well as Italy and Modena in particular. In addition to the à la carte, there are two tasting menus (I Nostri Souvenirs and Le Nostre Nuove Memorie)and - only for lunch the Breve Viaggio in Osteria. A visit to the Gucci Garden, an elegant museum on the upper floors dedicated to the famous fashion house, is highly recommended.</td>\n",
       "      <td>https://www.gucciosteria.com/it/florence</td>\n",
       "      <td>0.819238</td>\n",
       "    </tr>\n",
       "    <tr>\n",
       "      <th>1081</th>\n",
       "      <td>Seta Sushi Restaurant</td>\n",
       "      <td>corte Isolani 2</td>\n",
       "      <td>It was friendship and passion for Japanese cuisine that prompted two young business partners to open this quiet, welcoming restaurant in the heart of Bologna. Situated in a courtyard with medieval origins, Seta Sushi Restaurant has a modern bistro-style dining room, as well as plenty of outdoor space for summer dining. The menu features an impressive selection of traditional Japanese dishes with the occasional personalised touch, all made from top-quality ingredients. Don’t worry if you’re new to Japanese cuisine – Maurilio is front of house to offer guests friendly, expert advice on both food and beverage. The latter includes a choice of sake for those wishing to immerse themselves fully in the Japanese dining experience.</td>\n",
       "      <td>http://www.setasushirestaurant.com</td>\n",
       "      <td>0.819238</td>\n",
       "    </tr>\n",
       "    <tr>\n",
       "      <th>1156</th>\n",
       "      <td>SanBrite</td>\n",
       "      <td>Località Alverà</td>\n",
       "      <td>This restaurant has just a few tables amid a decor of elegantly recycled old wood, while a large window offers views of the stunning Ampezzo Dolomites outside. Your meal starts in a memorable way: waiters file into the dining room carrying mountains of creamy butter, which is served to every table accompanied by excellent bread with an incomparable texture. Owner-chef Riccardo Gaspari makes careful use of home-produced and regional ingredients, creating delicious cuisine in which mountain traditions are refreshed with modern touches, most noticeably visible in the desserts which are made without adding extra sugar. Sanbrite literally means “healthy pasture”, a name that definitely evokes the qualities of the cuisine served here.</td>\n",
       "      <td>https://www.sanbrite.it/</td>\n",
       "      <td>0.819238</td>\n",
       "    </tr>\n",
       "  </tbody>\n",
       "</table>\n",
       "</div>"
      ],
      "text/plain": [
       "                       restaurant_name                    address  \\\n",
       "1604                           Sintesi       viale dei Castani 17   \n",
       "889                        San Giorgio  viale Brigate Bisagno 69r   \n",
       "939   Gucci Osteria da Massimo Bottura   piazza della Signoria 10   \n",
       "1081             Seta Sushi Restaurant            corte Isolani 2   \n",
       "1156                          SanBrite            Località Alverà   \n",
       "\n",
       "                                                                                                                                                                                                                                                                                                                                                                                                                                                                                                                                                                                                                                                                                                                                                                                                                        description  \\\n",
       "1604                                                                                                                                                                                                                                             A modern, welcoming restaurant whose motto “Tradition & Innovation” perfectly sums up its cuisine. On the à la carte and tasting menus alike you’ll find classic dishes including risotto with peas, lemon and raw scampi alongside more creative offerings such as grilled pannicolo (hanger steak) with Nemi strawberries and herbs, all presented in a modern and precise manner, and with the occasional nod to Asian techniques and northern European culinary methods (fermentation, marinades, dry aging of fish etc). The wine list changes with the seasons and the menu.   \n",
       "889   Situated in the city albeit not right in the centre, San Giorgio is a typical Genovese restaurant – elegant and classic in style, with excellent cuisine served by the Scala family who have been in charge for decades. Young chef Samuele Di Mauro is at the helm, having started here as an apprentice and worked his way to the position of sous-chef and then head chef in 2022. Despite a focus on modern presentation and techniques, as demonstrated in dishes such as the raw bluefin tuna seasoned with an intense verbena mousse and served with caper cream and a “caviar” of dried and fried tuna, his cuisine is Mediterranean in style, with its roots in Ligurian aromas and flavours. The wine list is as impressive as the cuisine, with an entire section dedicated to French and Italian sparkling wines.   \n",
       "939                                                                                                           Florence’s cosmopolitan credentials receive a boost with Karime Lopez and Takahiko Kondo’s cuisine, served in this modern, lively restaurant that bears the name of theatrical chef Massimo Bottura. The cuisine overseen by these excellent cooks demonstrates an openness to the rest of the world, with influences and reinterpretations of dishes from other countries, as well as Italy and Modena in particular. In addition to the à la carte, there are two tasting menus (I Nostri Souvenirs and Le Nostre Nuove Memorie)and - only for lunch the Breve Viaggio in Osteria. A visit to the Gucci Garden, an elegant museum on the upper floors dedicated to the famous fashion house, is highly recommended.   \n",
       "1081                                                                   It was friendship and passion for Japanese cuisine that prompted two young business partners to open this quiet, welcoming restaurant in the heart of Bologna. Situated in a courtyard with medieval origins, Seta Sushi Restaurant has a modern bistro-style dining room, as well as plenty of outdoor space for summer dining. The menu features an impressive selection of traditional Japanese dishes with the occasional personalised touch, all made from top-quality ingredients. Don’t worry if you’re new to Japanese cuisine – Maurilio is front of house to offer guests friendly, expert advice on both food and beverage. The latter includes a choice of sake for those wishing to immerse themselves fully in the Japanese dining experience.   \n",
       "1156                                                             This restaurant has just a few tables amid a decor of elegantly recycled old wood, while a large window offers views of the stunning Ampezzo Dolomites outside. Your meal starts in a memorable way: waiters file into the dining room carrying mountains of creamy butter, which is served to every table accompanied by excellent bread with an incomparable texture. Owner-chef Riccardo Gaspari makes careful use of home-produced and regional ingredients, creating delicious cuisine in which mountain traditions are refreshed with modern touches, most noticeably visible in the desserts which are made without adding extra sugar. Sanbrite literally means “healthy pasture”, a name that definitely evokes the qualities of the cuisine served here.   \n",
       "\n",
       "                                             url  similarity_score  \n",
       "1604                 http://ristorantesintesi.it          0.866517  \n",
       "889   https://www.ristorantesangiorgiogenova.it/          0.825476  \n",
       "939     https://www.gucciosteria.com/it/florence          0.819238  \n",
       "1081          http://www.setasushirestaurant.com          0.819238  \n",
       "1156                    https://www.sanbrite.it/          0.819238  "
      ]
     },
     "execution_count": 224,
     "metadata": {},
     "output_type": "execute_result"
    }
   ],
   "source": [
    "k = 5  \n",
    "top_k_values = similarities[:k]\n",
    "documents_best_k = df_tfidf.iloc[[top_k_index[0] for top_k_index in top_k_values]]\n",
    "documents_best_k[\"similarity_score\"] = [values[1] for values in top_k_values]\n",
    "documents_best_k[[\"restaurant_name\", \"address\", \"description\", \"url\", \"similarity_score\"]]"
   ]
  },
  {
   "cell_type": "markdown",
   "metadata": {},
   "source": [
    "## **3. Define a New Score!**\n",
    "\n",
    "___"
   ]
  },
  {
   "cell_type": "markdown",
   "metadata": {},
   "source": [
    "1. **User Query**: The user provides a text query. We’ll retrieve relevant documents using the search engine built in Step 2.1."
   ]
  },
  {
   "cell_type": "code",
   "execution_count": 225,
   "metadata": {},
   "outputs": [],
   "source": [
    "# Load the inverted index to retrieve the relevant documents using the search engine in 2.1\n",
    "with open('inverted_index.json', 'r') as f:\n",
    "    inverted_index = json.load(f)\n",
    "\n",
    "vocab_df = pd.read_csv('vocabulary.csv')\n",
    "vocab = dict(zip(vocab_df['word'], vocab_df['term_id']))"
   ]
  },
  {
   "cell_type": "code",
   "execution_count": 258,
   "metadata": {},
   "outputs": [
    {
     "data": {
      "text/plain": [
       "'modern season cuisine'"
      ]
     },
     "execution_count": 258,
     "metadata": {},
     "output_type": "execute_result"
    }
   ],
   "source": [
    "query = \"MODERN; Seasonal CUISINE.\"\n",
    "\n",
    "query_series = pd.Series(query)\n",
    "query_series=query_series.apply(remove_stopwords).apply(apply_stemming).apply(remove_punc).apply(apply_lemmatization)\n",
    "query_preprocessed = query_series.iloc[0]\n",
    "query_preprocessed"
   ]
  },
  {
   "cell_type": "code",
   "execution_count": 259,
   "metadata": {},
   "outputs": [
    {
     "name": "stderr",
     "output_type": "stream",
     "text": [
      "C:\\Users\\gabri\\AppData\\Local\\Temp\\ipykernel_8972\\3012253158.py:5: SettingWithCopyWarning: \n",
      "A value is trying to be set on a copy of a slice from a DataFrame.\n",
      "Try using .loc[row_indexer,col_indexer] = value instead\n",
      "\n",
      "See the caveats in the documentation: https://pandas.pydata.org/pandas-docs/stable/user_guide/indexing.html#returning-a-view-versus-a-copy\n",
      "  documents_best_k[\"similarity_score\"] = [values[1] for values in top_k_values]\n"
     ]
    },
    {
     "data": {
      "text/html": [
       "<div>\n",
       "<style scoped>\n",
       "    .dataframe tbody tr th:only-of-type {\n",
       "        vertical-align: middle;\n",
       "    }\n",
       "\n",
       "    .dataframe tbody tr th {\n",
       "        vertical-align: top;\n",
       "    }\n",
       "\n",
       "    .dataframe thead th {\n",
       "        text-align: right;\n",
       "    }\n",
       "</style>\n",
       "<table border=\"1\" class=\"dataframe\">\n",
       "  <thead>\n",
       "    <tr style=\"text-align: right;\">\n",
       "      <th></th>\n",
       "      <th>restaurant_name</th>\n",
       "      <th>address</th>\n",
       "      <th>description</th>\n",
       "      <th>url</th>\n",
       "      <th>similarity_score</th>\n",
       "    </tr>\n",
       "  </thead>\n",
       "  <tbody>\n",
       "    <tr>\n",
       "      <th>1604</th>\n",
       "      <td>Sintesi</td>\n",
       "      <td>viale dei Castani 17</td>\n",
       "      <td>A modern, welcoming restaurant whose motto “Tradition &amp; Innovation” perfectly sums up its cuisine. On the à la carte and tasting menus alike you’ll find classic dishes including risotto with peas, lemon and raw scampi alongside more creative offerings such as grilled pannicolo (hanger steak) with Nemi strawberries and herbs, all presented in a modern and precise manner, and with the occasional nod to Asian techniques and northern European culinary methods (fermentation, marinades, dry aging of fish etc). The wine list changes with the seasons and the menu.</td>\n",
       "      <td>http://ristorantesintesi.it</td>\n",
       "      <td>0.866517</td>\n",
       "    </tr>\n",
       "    <tr>\n",
       "      <th>889</th>\n",
       "      <td>San Giorgio</td>\n",
       "      <td>viale Brigate Bisagno 69r</td>\n",
       "      <td>Situated in the city albeit not right in the centre, San Giorgio is a typical Genovese restaurant – elegant and classic in style, with excellent cuisine served by the Scala family who have been in charge for decades. Young chef Samuele Di Mauro is at the helm, having started here as an apprentice and worked his way to the position of sous-chef and then head chef in 2022. Despite a focus on modern presentation and techniques, as demonstrated in dishes such as the raw bluefin tuna seasoned with an intense verbena mousse and served with caper cream and a “caviar” of dried and fried tuna, his cuisine is Mediterranean in style, with its roots in Ligurian aromas and flavours. The wine list is as impressive as the cuisine, with an entire section dedicated to French and Italian sparkling wines.</td>\n",
       "      <td>https://www.ristorantesangiorgiogenova.it/</td>\n",
       "      <td>0.825476</td>\n",
       "    </tr>\n",
       "    <tr>\n",
       "      <th>939</th>\n",
       "      <td>Gucci Osteria da Massimo Bottura</td>\n",
       "      <td>piazza della Signoria 10</td>\n",
       "      <td>Florence’s cosmopolitan credentials receive a boost with Karime Lopez and Takahiko Kondo’s cuisine, served in this modern, lively restaurant that bears the name of theatrical chef Massimo Bottura. The cuisine overseen by these excellent cooks demonstrates an openness to the rest of the world, with influences and reinterpretations of dishes from other countries, as well as Italy and Modena in particular. In addition to the à la carte, there are two tasting menus (I Nostri Souvenirs and Le Nostre Nuove Memorie)and - only for lunch the Breve Viaggio in Osteria. A visit to the Gucci Garden, an elegant museum on the upper floors dedicated to the famous fashion house, is highly recommended.</td>\n",
       "      <td>https://www.gucciosteria.com/it/florence</td>\n",
       "      <td>0.819238</td>\n",
       "    </tr>\n",
       "    <tr>\n",
       "      <th>1081</th>\n",
       "      <td>Seta Sushi Restaurant</td>\n",
       "      <td>corte Isolani 2</td>\n",
       "      <td>It was friendship and passion for Japanese cuisine that prompted two young business partners to open this quiet, welcoming restaurant in the heart of Bologna. Situated in a courtyard with medieval origins, Seta Sushi Restaurant has a modern bistro-style dining room, as well as plenty of outdoor space for summer dining. The menu features an impressive selection of traditional Japanese dishes with the occasional personalised touch, all made from top-quality ingredients. Don’t worry if you’re new to Japanese cuisine – Maurilio is front of house to offer guests friendly, expert advice on both food and beverage. The latter includes a choice of sake for those wishing to immerse themselves fully in the Japanese dining experience.</td>\n",
       "      <td>http://www.setasushirestaurant.com</td>\n",
       "      <td>0.819238</td>\n",
       "    </tr>\n",
       "    <tr>\n",
       "      <th>1156</th>\n",
       "      <td>SanBrite</td>\n",
       "      <td>Località Alverà</td>\n",
       "      <td>This restaurant has just a few tables amid a decor of elegantly recycled old wood, while a large window offers views of the stunning Ampezzo Dolomites outside. Your meal starts in a memorable way: waiters file into the dining room carrying mountains of creamy butter, which is served to every table accompanied by excellent bread with an incomparable texture. Owner-chef Riccardo Gaspari makes careful use of home-produced and regional ingredients, creating delicious cuisine in which mountain traditions are refreshed with modern touches, most noticeably visible in the desserts which are made without adding extra sugar. Sanbrite literally means “healthy pasture”, a name that definitely evokes the qualities of the cuisine served here.</td>\n",
       "      <td>https://www.sanbrite.it/</td>\n",
       "      <td>0.819238</td>\n",
       "    </tr>\n",
       "  </tbody>\n",
       "</table>\n",
       "</div>"
      ],
      "text/plain": [
       "                       restaurant_name                    address  \\\n",
       "1604                           Sintesi       viale dei Castani 17   \n",
       "889                        San Giorgio  viale Brigate Bisagno 69r   \n",
       "939   Gucci Osteria da Massimo Bottura   piazza della Signoria 10   \n",
       "1081             Seta Sushi Restaurant            corte Isolani 2   \n",
       "1156                          SanBrite            Località Alverà   \n",
       "\n",
       "                                                                                                                                                                                                                                                                                                                                                                                                                                                                                                                                                                                                                                                                                                                                                                                                                        description  \\\n",
       "1604                                                                                                                                                                                                                                             A modern, welcoming restaurant whose motto “Tradition & Innovation” perfectly sums up its cuisine. On the à la carte and tasting menus alike you’ll find classic dishes including risotto with peas, lemon and raw scampi alongside more creative offerings such as grilled pannicolo (hanger steak) with Nemi strawberries and herbs, all presented in a modern and precise manner, and with the occasional nod to Asian techniques and northern European culinary methods (fermentation, marinades, dry aging of fish etc). The wine list changes with the seasons and the menu.   \n",
       "889   Situated in the city albeit not right in the centre, San Giorgio is a typical Genovese restaurant – elegant and classic in style, with excellent cuisine served by the Scala family who have been in charge for decades. Young chef Samuele Di Mauro is at the helm, having started here as an apprentice and worked his way to the position of sous-chef and then head chef in 2022. Despite a focus on modern presentation and techniques, as demonstrated in dishes such as the raw bluefin tuna seasoned with an intense verbena mousse and served with caper cream and a “caviar” of dried and fried tuna, his cuisine is Mediterranean in style, with its roots in Ligurian aromas and flavours. The wine list is as impressive as the cuisine, with an entire section dedicated to French and Italian sparkling wines.   \n",
       "939                                                                                                           Florence’s cosmopolitan credentials receive a boost with Karime Lopez and Takahiko Kondo’s cuisine, served in this modern, lively restaurant that bears the name of theatrical chef Massimo Bottura. The cuisine overseen by these excellent cooks demonstrates an openness to the rest of the world, with influences and reinterpretations of dishes from other countries, as well as Italy and Modena in particular. In addition to the à la carte, there are two tasting menus (I Nostri Souvenirs and Le Nostre Nuove Memorie)and - only for lunch the Breve Viaggio in Osteria. A visit to the Gucci Garden, an elegant museum on the upper floors dedicated to the famous fashion house, is highly recommended.   \n",
       "1081                                                                   It was friendship and passion for Japanese cuisine that prompted two young business partners to open this quiet, welcoming restaurant in the heart of Bologna. Situated in a courtyard with medieval origins, Seta Sushi Restaurant has a modern bistro-style dining room, as well as plenty of outdoor space for summer dining. The menu features an impressive selection of traditional Japanese dishes with the occasional personalised touch, all made from top-quality ingredients. Don’t worry if you’re new to Japanese cuisine – Maurilio is front of house to offer guests friendly, expert advice on both food and beverage. The latter includes a choice of sake for those wishing to immerse themselves fully in the Japanese dining experience.   \n",
       "1156                                                             This restaurant has just a few tables amid a decor of elegantly recycled old wood, while a large window offers views of the stunning Ampezzo Dolomites outside. Your meal starts in a memorable way: waiters file into the dining room carrying mountains of creamy butter, which is served to every table accompanied by excellent bread with an incomparable texture. Owner-chef Riccardo Gaspari makes careful use of home-produced and regional ingredients, creating delicious cuisine in which mountain traditions are refreshed with modern touches, most noticeably visible in the desserts which are made without adding extra sugar. Sanbrite literally means “healthy pasture”, a name that definitely evokes the qualities of the cuisine served here.   \n",
       "\n",
       "                                             url  similarity_score  \n",
       "1604                 http://ristorantesintesi.it          0.866517  \n",
       "889   https://www.ristorantesangiorgiogenova.it/          0.825476  \n",
       "939     https://www.gucciosteria.com/it/florence          0.819238  \n",
       "1081          http://www.setasushirestaurant.com          0.819238  \n",
       "1156                    https://www.sanbrite.it/          0.819238  "
      ]
     },
     "execution_count": 259,
     "metadata": {},
     "output_type": "execute_result"
    }
   ],
   "source": [
    "similarities = engine.rank_documents(query_preprocessed, updated_inverted_index, df, vocabulary)\n",
    "k = 5  \n",
    "top_k_values = similarities[:k]\n",
    "documents_best_k = df_tfidf.iloc[[top_k_index[0] for top_k_index in top_k_values]]\n",
    "documents_best_k[\"similarity_score\"] = [values[1] for values in top_k_values]\n",
    "df_query = documents_best_k[[\"restaurant_name\", \"address\", \"description\", \"url\", \"similarity_score\"]]\n",
    "df_query"
   ]
  },
  {
   "cell_type": "markdown",
   "metadata": {},
   "source": [
    "2. **New Ranking Metric**: After retrieving relevant documents, we’ll rank them using a new custom score. Instead of limiting the scoring to only the description field, we can include other attributes like `priceRange`, `facilitiesServices`, and `cuisineType`."
   ]
  },
  {
   "cell_type": "code",
   "execution_count": 260,
   "metadata": {},
   "outputs": [],
   "source": [
    "# Function to compute the cosine similarities and create a new column in df_query\n",
    "\n",
    "def score_column(query, updated_inverted_index, df_query, vocabulary):\n",
    "\n",
    "    # Compute tf idf-scores between the terms in the query and the description of all restaurants\n",
    "    tf_idf_query = engine.compute_tfidf_query(query, updated_inverted_index, df, vocabulary)\n",
    "    \n",
    "\n",
    "    document_tfidf = {}\n",
    "    term_ids = [x[0] for x in tf_idf_query]\n",
    "    for word in term_ids:\n",
    "\n",
    "        for entry in updated_inverted_index[word]:\n",
    "            doc_id = entry[0]\n",
    "            tf_idf = entry[1]\n",
    "\n",
    "            if doc_id not in document_tfidf:\n",
    "                document_tfidf[doc_id] = []\n",
    "            \n",
    "            document_tfidf[doc_id].append((word, tf_idf))\n",
    "    \n",
    "    \n",
    "    df_result_ids = set(df_query['document_id'])\n",
    "\n",
    "    # Compute the cosine similarities\n",
    "    similaritiy = []\n",
    "    for doc_id, doc_vector in document_tfidf.items():\n",
    "        if doc_id in df_result_ids:\n",
    "            sim = engine.cosine_similarity(tf_idf_query, doc_vector)\n",
    "            similaritiy.append((doc_id, sim))\n",
    "    \n",
    "    # Append to df_query the cosine similarities between query and each restaurant description\n",
    "    similarity_dict = dict(similaritiy)\n",
    "    df_query['cosine_similarity'] = df_query['document_id'].map(similarity_dict).fillna(0)\n",
    "    \n",
    "    return df_query"
   ]
  },
  {
   "cell_type": "markdown",
   "metadata": {},
   "source": [
    "3. You will use a **heap data structure** (e.g., Python’s heapq library) to maintain the *top-k* restaurants."
   ]
  },
  {
   "cell_type": "markdown",
   "metadata": {},
   "source": [
    "### **New score**\n",
    "\n",
    "Now we update the cosine similarity score to include cuisine type, the number of facilities and services and the price range.\n",
    "\n",
    "\\begin{align}\n",
    "Score = Cuisine + \\frac{(Cosine Similarity*log_2(Facilities+2))}{Price Range}\n",
    "\\end{align}\n",
    "\n",
    "- *Cuisine*: Variable that take the value of 1 if the cuisine type in the query matches the cuisine type of the restaurant, otherwise it is set to 0. This penalizes a lot restaurants with that make cuisines different from the one that the user asked in the query or outside of it;\n",
    "\n",
    "- *Facilities*: We take the base 2 logarithm of the number of facilities plus 2. This ensures that if the facilities asked don't match the facilities offered by the restaurant it's cosine similarity doesn't change, while it slowly increases the score if a user asks for more facilities and they're matched by the restaurant;\n",
    "\n",
    "- Then we divide the product between the facility score and the cosine similarity by the numeric price range to decrease the score if the price range increases, in this way we promote more the restaurant that are most accessible."
   ]
  },
  {
   "cell_type": "code",
   "execution_count": 261,
   "metadata": {},
   "outputs": [],
   "source": [
    "import heapq\n",
    "# Function to create the new score and rank the results using it\n",
    "def rank_new_score(query, facilities_rq = None, cuisine_type_rq = None, k=5):\n",
    "\n",
    "    # Compute similarity scores based on the Cosine Similarity \n",
    "    similarities = engine.rank_documents(query, updated_inverted_index, df, vocabulary)   \n",
    "    top_k_values = similarities[:k]\n",
    "    documents_best_k = df_tfidf.iloc[[top_k_index[0] for top_k_index in top_k_values]]\n",
    "    documents_best_k[\"similarity_score\"] = [values[1] for values in top_k_values]\n",
    "    df_response = documents_best_k[[\"restaurant_name\", \"address\", \"description\", \"url\", \"similarity_score\"]]\n",
    "\n",
    "    # Append document ids, price ranges, facilities and cuisine types to the data frame that contains the result of the query \n",
    "    df_response = df_response.merge(df[['url', 'document_id']], on='url', how='left')\n",
    "    df_response = df_response.merge(df[['url', 'price_range']], on = 'url', how = 'left')\n",
    "    df_response = df_response.merge(df[['url', 'facilities_services']], on = 'url', how = 'left')\n",
    "    df_response = df_response.merge(df[['url', 'cuisine_type']], on = 'url', how = 'left')\n",
    "\n",
    "    # Create a data frame to append the new score\n",
    "    df_score = score_column(query, updated_inverted_index, df_response, vocabulary)\n",
    "\n",
    "    # Apply preprocessing to the facilities and the cuisine type columns \n",
    "    df_score['facilities_services'] = df_score['facilities_services'].apply(remove_stopwords).apply(apply_stemming).apply(remove_punc).apply(apply_lemmatization)\n",
    "    df_score['cuisine_type'] = df_score['cuisine_type'].apply(remove_stopwords).apply(apply_stemming).apply(remove_punc).apply(apply_lemmatization)\n",
    "\n",
    "    # Create a set to avoid duplicates in the output\n",
    "    ids = set()\n",
    "\n",
    "    # Initialize scores list\n",
    "    scores = []\n",
    "\n",
    "    # Convert the price range to a numeric value and append the column to df_score\n",
    "    new_price_range = [df_score.loc[i, 'price_range'].count('€') if str(df_score.loc[i, 'price_range'].count('€')) else 0 for i in df_score.index]\n",
    "    df_score['new_price_range'] = new_price_range\n",
    "    \n",
    "    for i in df_score.index:\n",
    "\n",
    "        # If we computed the score on a document don't do anything\n",
    "        if df_score.loc[i, 'document_id'] in ids:\n",
    "            continue\n",
    "\n",
    "        # Find the facilities requested that match the facilities of the restaurant\n",
    "        facilities = 0\n",
    "        if facilities_rq is not None:\n",
    "            for facility in df_score.loc[i, 'facilities_services'].split():\n",
    "                if facility in facilities_rq:\n",
    "                    facilities += 1\n",
    "        \n",
    "        \n",
    "        # Using log2(facilities+2) to make this part of the score 1 if a restaurant doesn't match any facility asked\n",
    "        facilities = np.log2(facilities+2)\n",
    "        \n",
    "\n",
    "        # Create a cuisine variable to use in the new score if the cuisine type asked matches the cuisine of the restaurant\n",
    "        cuisine = 0\n",
    "        if cuisine_type_rq is not None:\n",
    "            for word in df_score.loc[i, 'cuisine_type'].split():\n",
    "                # If the cuisine requested (in the query or separately) matches cuisine takes the value of 1 otherwise it's 0\n",
    "                if word in cuisine_type_rq or word in query:\n",
    "                    cuisine = 1\n",
    "                    break\n",
    "        \n",
    "        # Find restaurant numeric price range and cosine similarity \n",
    "        new_price_range = df_score.loc[i, 'new_price_range']\n",
    "        cos_sim = df_score.loc[i, 'cosine_similarity']\n",
    "        \n",
    "        # Create the new score\n",
    "        final_score = cuisine + (cos_sim*facilities)/new_price_range\n",
    "\n",
    "        # Append the new score and add the id of the document to the used ids\n",
    "        if df_score.loc[i, 'document_id'] not in ids:\n",
    "            scores.append((final_score, df_score.loc[i, 'document_id']))\n",
    "            ids.add(df_score.loc[i, 'document_id'])\n",
    "        \n",
    "        # Store restaurants in a heap\n",
    "        if len(scores) < k:\n",
    "            heapq.heappush(scores, (final_score, df_score.loc[i, 'document_id']))\n",
    "        else:\n",
    "            heapq.heappushpop(scores, (final_score, df_score.loc[i, 'document_id']))\n",
    "        \n",
    "        \n",
    "        # Sort the scores and return relevant documents based on it\n",
    "        scores = sorted(scores, key = lambda x:x[0], reverse = True)\n",
    "        out = []\n",
    "        ids = set()\n",
    "        for score, idx in scores:\n",
    "            if idx in ids:\n",
    "                continue\n",
    "            ids.add(idx)\n",
    "            doc = df_score[df_score['document_id'] == idx].iloc[0]     \n",
    "            \n",
    "            if score > 0:\n",
    "                out.append({'restaurant_name' : doc['restaurant_name'],\n",
    "                'address': doc['address'],\n",
    "                'description' : doc['description'],\n",
    "                'website': doc['url'],\n",
    "                'score' : np.round(score, 4)})\n",
    "            \n",
    "    return pd.DataFrame(out)"
   ]
  },
  {
   "cell_type": "code",
   "execution_count": 262,
   "metadata": {},
   "outputs": [
    {
     "name": "stderr",
     "output_type": "stream",
     "text": [
      "C:\\Users\\gabri\\AppData\\Local\\Temp\\ipykernel_8972\\740782897.py:9: SettingWithCopyWarning: \n",
      "A value is trying to be set on a copy of a slice from a DataFrame.\n",
      "Try using .loc[row_indexer,col_indexer] = value instead\n",
      "\n",
      "See the caveats in the documentation: https://pandas.pydata.org/pandas-docs/stable/user_guide/indexing.html#returning-a-view-versus-a-copy\n",
      "  documents_best_k[\"similarity_score\"] = [values[1] for values in top_k_values]\n"
     ]
    },
    {
     "data": {
      "text/html": [
       "<div>\n",
       "<style scoped>\n",
       "    .dataframe tbody tr th:only-of-type {\n",
       "        vertical-align: middle;\n",
       "    }\n",
       "\n",
       "    .dataframe tbody tr th {\n",
       "        vertical-align: top;\n",
       "    }\n",
       "\n",
       "    .dataframe thead th {\n",
       "        text-align: right;\n",
       "    }\n",
       "</style>\n",
       "<table border=\"1\" class=\"dataframe\">\n",
       "  <thead>\n",
       "    <tr style=\"text-align: right;\">\n",
       "      <th></th>\n",
       "      <th>restaurant_name</th>\n",
       "      <th>address</th>\n",
       "      <th>description</th>\n",
       "      <th>website</th>\n",
       "      <th>score</th>\n",
       "    </tr>\n",
       "  </thead>\n",
       "  <tbody>\n",
       "    <tr>\n",
       "      <th>0</th>\n",
       "      <td>Sintesi</td>\n",
       "      <td>viale dei Castani 17</td>\n",
       "      <td>A modern, welcoming restaurant whose motto “Tradition &amp; Innovation” perfectly sums up its cuisine. On the à la carte and tasting menus alike you’ll find classic dishes including risotto with peas, lemon and raw scampi alongside more creative offerings such as grilled pannicolo (hanger steak) with Nemi strawberries and herbs, all presented in a modern and precise manner, and with the occasional nod to Asian techniques and northern European culinary methods (fermentation, marinades, dry aging of fish etc). The wine list changes with the seasons and the menu.</td>\n",
       "      <td>http://ristorantesintesi.it</td>\n",
       "      <td>1.2888</td>\n",
       "    </tr>\n",
       "    <tr>\n",
       "      <th>1</th>\n",
       "      <td>San Giorgio</td>\n",
       "      <td>viale Brigate Bisagno 69r</td>\n",
       "      <td>Situated in the city albeit not right in the centre, San Giorgio is a typical Genovese restaurant – elegant and classic in style, with excellent cuisine served by the Scala family who have been in charge for decades. Young chef Samuele Di Mauro is at the helm, having started here as an apprentice and worked his way to the position of sous-chef and then head chef in 2022. Despite a focus on modern presentation and techniques, as demonstrated in dishes such as the raw bluefin tuna seasoned with an intense verbena mousse and served with caper cream and a “caviar” of dried and fried tuna, his cuisine is Mediterranean in style, with its roots in Ligurian aromas and flavours. The wine list is as impressive as the cuisine, with an entire section dedicated to French and Italian sparkling wines.</td>\n",
       "      <td>https://www.ristorantesangiorgiogenova.it/</td>\n",
       "      <td>1.2752</td>\n",
       "    </tr>\n",
       "    <tr>\n",
       "      <th>2</th>\n",
       "      <td>SanBrite</td>\n",
       "      <td>Località Alverà</td>\n",
       "      <td>This restaurant has just a few tables amid a decor of elegantly recycled old wood, while a large window offers views of the stunning Ampezzo Dolomites outside. Your meal starts in a memorable way: waiters file into the dining room carrying mountains of creamy butter, which is served to every table accompanied by excellent bread with an incomparable texture. Owner-chef Riccardo Gaspari makes careful use of home-produced and regional ingredients, creating delicious cuisine in which mountain traditions are refreshed with modern touches, most noticeably visible in the desserts which are made without adding extra sugar. Sanbrite literally means “healthy pasture”, a name that definitely evokes the qualities of the cuisine served here.</td>\n",
       "      <td>https://www.sanbrite.it/</td>\n",
       "      <td>1.2048</td>\n",
       "    </tr>\n",
       "    <tr>\n",
       "      <th>3</th>\n",
       "      <td>Seta Sushi Restaurant</td>\n",
       "      <td>corte Isolani 2</td>\n",
       "      <td>It was friendship and passion for Japanese cuisine that prompted two young business partners to open this quiet, welcoming restaurant in the heart of Bologna. Situated in a courtyard with medieval origins, Seta Sushi Restaurant has a modern bistro-style dining room, as well as plenty of outdoor space for summer dining. The menu features an impressive selection of traditional Japanese dishes with the occasional personalised touch, all made from top-quality ingredients. Don’t worry if you’re new to Japanese cuisine – Maurilio is front of house to offer guests friendly, expert advice on both food and beverage. The latter includes a choice of sake for those wishing to immerse themselves fully in the Japanese dining experience.</td>\n",
       "      <td>http://www.setasushirestaurant.com</td>\n",
       "      <td>0.4096</td>\n",
       "    </tr>\n",
       "    <tr>\n",
       "      <th>4</th>\n",
       "      <td>Gucci Osteria da Massimo Bottura</td>\n",
       "      <td>piazza della Signoria 10</td>\n",
       "      <td>Florence’s cosmopolitan credentials receive a boost with Karime Lopez and Takahiko Kondo’s cuisine, served in this modern, lively restaurant that bears the name of theatrical chef Massimo Bottura. The cuisine overseen by these excellent cooks demonstrates an openness to the rest of the world, with influences and reinterpretations of dishes from other countries, as well as Italy and Modena in particular. In addition to the à la carte, there are two tasting menus (I Nostri Souvenirs and Le Nostre Nuove Memorie)and - only for lunch the Breve Viaggio in Osteria. A visit to the Gucci Garden, an elegant museum on the upper floors dedicated to the famous fashion house, is highly recommended.</td>\n",
       "      <td>https://www.gucciosteria.com/it/florence</td>\n",
       "      <td>0.2048</td>\n",
       "    </tr>\n",
       "  </tbody>\n",
       "</table>\n",
       "</div>"
      ],
      "text/plain": [
       "                    restaurant_name                    address  \\\n",
       "0                           Sintesi       viale dei Castani 17   \n",
       "1                       San Giorgio  viale Brigate Bisagno 69r   \n",
       "2                          SanBrite            Località Alverà   \n",
       "3             Seta Sushi Restaurant            corte Isolani 2   \n",
       "4  Gucci Osteria da Massimo Bottura   piazza della Signoria 10   \n",
       "\n",
       "                                                                                                                                                                                                                                                                                                                                                                                                                                                                                                                                                                                                                                                                                                                                                                                                                     description  \\\n",
       "0                                                                                                                                                                                                                                             A modern, welcoming restaurant whose motto “Tradition & Innovation” perfectly sums up its cuisine. On the à la carte and tasting menus alike you’ll find classic dishes including risotto with peas, lemon and raw scampi alongside more creative offerings such as grilled pannicolo (hanger steak) with Nemi strawberries and herbs, all presented in a modern and precise manner, and with the occasional nod to Asian techniques and northern European culinary methods (fermentation, marinades, dry aging of fish etc). The wine list changes with the seasons and the menu.   \n",
       "1  Situated in the city albeit not right in the centre, San Giorgio is a typical Genovese restaurant – elegant and classic in style, with excellent cuisine served by the Scala family who have been in charge for decades. Young chef Samuele Di Mauro is at the helm, having started here as an apprentice and worked his way to the position of sous-chef and then head chef in 2022. Despite a focus on modern presentation and techniques, as demonstrated in dishes such as the raw bluefin tuna seasoned with an intense verbena mousse and served with caper cream and a “caviar” of dried and fried tuna, his cuisine is Mediterranean in style, with its roots in Ligurian aromas and flavours. The wine list is as impressive as the cuisine, with an entire section dedicated to French and Italian sparkling wines.   \n",
       "2                                                             This restaurant has just a few tables amid a decor of elegantly recycled old wood, while a large window offers views of the stunning Ampezzo Dolomites outside. Your meal starts in a memorable way: waiters file into the dining room carrying mountains of creamy butter, which is served to every table accompanied by excellent bread with an incomparable texture. Owner-chef Riccardo Gaspari makes careful use of home-produced and regional ingredients, creating delicious cuisine in which mountain traditions are refreshed with modern touches, most noticeably visible in the desserts which are made without adding extra sugar. Sanbrite literally means “healthy pasture”, a name that definitely evokes the qualities of the cuisine served here.   \n",
       "3                                                                   It was friendship and passion for Japanese cuisine that prompted two young business partners to open this quiet, welcoming restaurant in the heart of Bologna. Situated in a courtyard with medieval origins, Seta Sushi Restaurant has a modern bistro-style dining room, as well as plenty of outdoor space for summer dining. The menu features an impressive selection of traditional Japanese dishes with the occasional personalised touch, all made from top-quality ingredients. Don’t worry if you’re new to Japanese cuisine – Maurilio is front of house to offer guests friendly, expert advice on both food and beverage. The latter includes a choice of sake for those wishing to immerse themselves fully in the Japanese dining experience.   \n",
       "4                                                                                                          Florence’s cosmopolitan credentials receive a boost with Karime Lopez and Takahiko Kondo’s cuisine, served in this modern, lively restaurant that bears the name of theatrical chef Massimo Bottura. The cuisine overseen by these excellent cooks demonstrates an openness to the rest of the world, with influences and reinterpretations of dishes from other countries, as well as Italy and Modena in particular. In addition to the à la carte, there are two tasting menus (I Nostri Souvenirs and Le Nostre Nuove Memorie)and - only for lunch the Breve Viaggio in Osteria. A visit to the Gucci Garden, an elegant museum on the upper floors dedicated to the famous fashion house, is highly recommended.   \n",
       "\n",
       "                                      website   score  \n",
       "0                 http://ristorantesintesi.it  1.2888  \n",
       "1  https://www.ristorantesangiorgiogenova.it/  1.2752  \n",
       "2                    https://www.sanbrite.it/  1.2048  \n",
       "3          http://www.setasushirestaurant.com  0.4096  \n",
       "4    https://www.gucciosteria.com/it/florence  0.2048  "
      ]
     },
     "execution_count": 262,
     "metadata": {},
     "output_type": "execute_result"
    }
   ],
   "source": [
    "query = 'MODERN; Seasonal CUISINE.'\n",
    "\n",
    "query_preprocessed = pd.Series(query)\n",
    "query_preprocessed = query_preprocessed.apply(remove_stopwords).apply(apply_stemming).apply(remove_punc).apply(apply_lemmatization)\n",
    "query_preprocessed = query_preprocessed.iloc[0]\n",
    "\n",
    "facilities_rq = ['Wheelchair access', 'Air Conditioning']\n",
    "facilities_rq = pd.Series(facilities_rq)\n",
    "facilities_rq = list(facilities_rq.apply(remove_stopwords).apply(apply_stemming).apply(remove_punc).apply(apply_lemmatization))\n",
    "\n",
    "cuisine_type_rq = ['Modern']\n",
    "cuisine_type_rq = pd.Series(cuisine_type_rq)\n",
    "cuisine_type_rq = list(cuisine_type_rq.apply(remove_stopwords).apply(apply_stemming).apply(remove_punc).apply(apply_lemmatization))\n",
    "\n",
    "rank_new_score(query_preprocessed, facilities_rq, cuisine_type_rq)"
   ]
  },
  {
   "cell_type": "code",
   "execution_count": 263,
   "metadata": {},
   "outputs": [
    {
     "data": {
      "text/html": [
       "<div>\n",
       "<style scoped>\n",
       "    .dataframe tbody tr th:only-of-type {\n",
       "        vertical-align: middle;\n",
       "    }\n",
       "\n",
       "    .dataframe tbody tr th {\n",
       "        vertical-align: top;\n",
       "    }\n",
       "\n",
       "    .dataframe thead th {\n",
       "        text-align: right;\n",
       "    }\n",
       "</style>\n",
       "<table border=\"1\" class=\"dataframe\">\n",
       "  <thead>\n",
       "    <tr style=\"text-align: right;\">\n",
       "      <th></th>\n",
       "      <th>restaurant_name</th>\n",
       "      <th>price_range</th>\n",
       "      <th>facilities_services</th>\n",
       "      <th>cuisine_type</th>\n",
       "      <th>url</th>\n",
       "    </tr>\n",
       "  </thead>\n",
       "  <tbody>\n",
       "    <tr>\n",
       "      <th>889</th>\n",
       "      <td>San Giorgio</td>\n",
       "      <td>€€€</td>\n",
       "      <td>Air conditioning, Interesting wine list, Wheelchair access</td>\n",
       "      <td>Modern Cuisine, Ligurian</td>\n",
       "      <td>https://www.ristorantesangiorgiogenova.it/</td>\n",
       "    </tr>\n",
       "    <tr>\n",
       "      <th>939</th>\n",
       "      <td>Gucci Osteria da Massimo Bottura</td>\n",
       "      <td>€€€€</td>\n",
       "      <td>Air conditioning, Terrace</td>\n",
       "      <td>Italian Contemporary, International</td>\n",
       "      <td>https://www.gucciosteria.com/it/florence</td>\n",
       "    </tr>\n",
       "    <tr>\n",
       "      <th>1081</th>\n",
       "      <td>Seta Sushi Restaurant</td>\n",
       "      <td>€€</td>\n",
       "      <td>Air conditioning, Terrace</td>\n",
       "      <td>Japanese</td>\n",
       "      <td>http://www.setasushirestaurant.com</td>\n",
       "    </tr>\n",
       "    <tr>\n",
       "      <th>1156</th>\n",
       "      <td>SanBrite</td>\n",
       "      <td>€€€€</td>\n",
       "      <td>Air conditioning, Car park, Great view, Terrace, Wheelchair access</td>\n",
       "      <td>Alpine, Modern Cuisine</td>\n",
       "      <td>https://www.sanbrite.it/</td>\n",
       "    </tr>\n",
       "    <tr>\n",
       "      <th>1604</th>\n",
       "      <td>Sintesi</td>\n",
       "      <td>€€€</td>\n",
       "      <td>Air conditioning, Car park</td>\n",
       "      <td>Contemporary, Seasonal Cuisine</td>\n",
       "      <td>http://ristorantesintesi.it</td>\n",
       "    </tr>\n",
       "  </tbody>\n",
       "</table>\n",
       "</div>"
      ],
      "text/plain": [
       "                       restaurant_name price_range  \\\n",
       "889                        San Giorgio         €€€   \n",
       "939   Gucci Osteria da Massimo Bottura        €€€€   \n",
       "1081             Seta Sushi Restaurant          €€   \n",
       "1156                          SanBrite        €€€€   \n",
       "1604                           Sintesi         €€€   \n",
       "\n",
       "                                                     facilities_services  \\\n",
       "889           Air conditioning, Interesting wine list, Wheelchair access   \n",
       "939                                            Air conditioning, Terrace   \n",
       "1081                                           Air conditioning, Terrace   \n",
       "1156  Air conditioning, Car park, Great view, Terrace, Wheelchair access   \n",
       "1604                                          Air conditioning, Car park   \n",
       "\n",
       "                             cuisine_type  \\\n",
       "889              Modern Cuisine, Ligurian   \n",
       "939   Italian Contemporary, International   \n",
       "1081                             Japanese   \n",
       "1156               Alpine, Modern Cuisine   \n",
       "1604       Contemporary, Seasonal Cuisine   \n",
       "\n",
       "                                             url  \n",
       "889   https://www.ristorantesangiorgiogenova.it/  \n",
       "939     https://www.gucciosteria.com/it/florence  \n",
       "1081          http://www.setasushirestaurant.com  \n",
       "1156                    https://www.sanbrite.it/  \n",
       "1604                 http://ristorantesintesi.it  "
      ]
     },
     "execution_count": 263,
     "metadata": {},
     "output_type": "execute_result"
    }
   ],
   "source": [
    "restaurants = ['http://ristorantesintesi.it', 'https://www.ristorantesangiorgiogenova.it/', 'https://www.gucciosteria.com/it/florence', 'http://www.setasushirestaurant.com', 'https://www.sanbrite.it/']\n",
    "filtered_df = df[df['url'].isin(restaurants)][['restaurant_name', 'price_range', 'facilities_services', 'cuisine_type', 'url']]\n",
    "filtered_df"
   ]
  },
  {
   "cell_type": "markdown",
   "metadata": {},
   "source": [
    "#### **Comparison between results with Cosine Similarity and results with our score**\n",
    "\n",
    "Retrieving restaurants with the query \"*MODERN; Seasonal CUISINE*\" and using the cosine similarity to rank them and ranking them with our score results in different outcomes.\n",
    "\n",
    "- \"*Sintesi*\" is still the the restaurant with the highest score since it matches the cuisine type and the facility \"Air Conditioning\", same with \"*San Giorgio*\" that matches the facility \"Wheelchair access\" too and has the same price range as \"*Sintesi*\", but it has a smaller cosine similarity;\n",
    "\n",
    "- \"*Gucci Osteria da Massimo Bottura*\" gets penalized a lot for its high price range and gets ranked last and it doesn't even match the cuisine type;\n",
    "\n",
    "- \"*SanBrite*\" moves up in the ranking because it matches both of the facilities asked.\n",
    "\n",
    "So, the ranking retrieved using our score are better because they succeed in taking into account the user's requests for cuisine type and facilities and they make more visible more accessible restaurants against those that are more expensive."
   ]
  },
  {
   "cell_type": "markdown",
   "metadata": {},
   "source": [
    "## **4. Visualizing the Most Relevant Restaurants**\n",
    "\n",
    "___"
   ]
  },
  {
   "cell_type": "markdown",
   "metadata": {},
   "source": [
    "Geocode Locations were already parsed when scraping the HTML files, since the info was contained in the webpage and could be extracted using REGEX on the link that connected to Google Maps"
   ]
  },
  {
   "cell_type": "code",
   "execution_count": 12,
   "metadata": {},
   "outputs": [
    {
     "name": "stdout",
     "output_type": "stream",
     "text": [
      "Collecting folium\n",
      "  Downloading folium-0.18.0-py2.py3-none-any.whl.metadata (3.8 kB)\n",
      "Collecting branca>=0.6.0 (from folium)\n",
      "  Downloading branca-0.8.0-py3-none-any.whl.metadata (1.5 kB)\n",
      "Requirement already satisfied: jinja2>=2.9 in c:\\users\\emanu\\miniconda3\\envs\\basicpy\\lib\\site-packages (from folium) (3.1.3)\n",
      "Requirement already satisfied: numpy in c:\\users\\emanu\\miniconda3\\envs\\basicpy\\lib\\site-packages (from folium) (1.26.4)\n",
      "Requirement already satisfied: requests in c:\\users\\emanu\\miniconda3\\envs\\basicpy\\lib\\site-packages (from folium) (2.31.0)\n",
      "Collecting xyzservices (from folium)\n",
      "  Downloading xyzservices-2024.9.0-py3-none-any.whl.metadata (4.1 kB)\n",
      "Requirement already satisfied: MarkupSafe>=2.0 in c:\\users\\emanu\\miniconda3\\envs\\basicpy\\lib\\site-packages (from jinja2>=2.9->folium) (2.1.5)\n",
      "Requirement already satisfied: charset-normalizer<4,>=2 in c:\\users\\emanu\\miniconda3\\envs\\basicpy\\lib\\site-packages (from requests->folium) (3.3.2)\n",
      "Requirement already satisfied: idna<4,>=2.5 in c:\\users\\emanu\\miniconda3\\envs\\basicpy\\lib\\site-packages (from requests->folium) (3.6)\n",
      "Requirement already satisfied: urllib3<3,>=1.21.1 in c:\\users\\emanu\\miniconda3\\envs\\basicpy\\lib\\site-packages (from requests->folium) (1.26.18)\n",
      "Requirement already satisfied: certifi>=2017.4.17 in c:\\users\\emanu\\miniconda3\\envs\\basicpy\\lib\\site-packages (from requests->folium) (2024.2.2)\n",
      "Downloading folium-0.18.0-py2.py3-none-any.whl (108 kB)\n",
      "Downloading branca-0.8.0-py3-none-any.whl (25 kB)\n",
      "Downloading xyzservices-2024.9.0-py3-none-any.whl (85 kB)\n",
      "Installing collected packages: xyzservices, branca, folium\n",
      "Successfully installed branca-0.8.0 folium-0.18.0 xyzservices-2024.9.0\n"
     ]
    },
    {
     "name": "stderr",
     "output_type": "stream",
     "text": [
      "\n",
      "[notice] A new release of pip is available: 24.2 -> 24.3.1\n",
      "[notice] To update, run: python.exe -m pip install --upgrade pip\n"
     ]
    }
   ],
   "source": [
    "!pip install folium"
   ]
  },
  {
   "cell_type": "markdown",
   "metadata": {},
   "source": [
    "## Why Folium\n",
    "\n",
    "We chose **Folium** due to its simplicity, flexibility, and all the integration avaible.\n",
    "\n",
    "### Key Benefits of Using Folium\n",
    "- **Interactive Maps**: Allows users to zoom, pan, and explore different locations dynamically.\n",
    "- **Customization**: Supports adding custom markers, color coding, and popups to display detailed information.\n",
    "- **Plugin Integration**: Folium supports various plugins that enhance interactivity\n",
    "\n",
    "For more details: **[Folium Documentation](https://python-visualization.github.io/folium/)**.\n",
    "\n",
    "---\n",
    "\n",
    "## Explanation of Folium Plugins Used\n",
    "\n",
    "\n",
    "### 1. MarkerCluster\n",
    "\n",
    "The MarkerCluster plugin groups nearby markers into clusters, which expand to show individual markers as the user zooms in. It prevents overcrowding of markers on the map on high density area.\n",
    "\n",
    "**Documentation**: [MarkerCluster Documentation](https://python-visualization.github.io/folium/latest/user_guide/plugins/marker_cluster.html)\n",
    "\n",
    "---\n",
    "\n",
    "### 2. MiniMap\n",
    "\n",
    "The MiniMap plugin adds a mini-map to the right-bottom corner of the main map, helping users orient themselves within the broader region.\n",
    "\n",
    "**Documentation**: [MiniMap Documentation](https://python-visualization.github.io/folium/latest/user_guide/plugins/mini_map.html)\n",
    "\n",
    "---\n",
    "\n",
    "### 3. HeatMap\n",
    "\n",
    "The HeatMap plugin creates a heat map overlay that highlights areas with a high concentration of restaurants.\n",
    "\n",
    "**Documentation**: [HeatMap Documentation](https://python-visualization.github.io/folium/latest/user_guide/plugins/heatmap.html)\n",
    "\n",
    "---\n",
    "\n",
    "### 4. MeasureControl\n",
    "\n",
    "The MeasureControl plugin adds a tool to measure distances directly on the map. \n",
    "\n",
    "**Documentation**: [MeasureControl Documentation](https://python-visualization.github.io/folium/latest/user_guide/plugins/measure_control.html)\n",
    "\n",
    "---\n",
    "\n",
    "### 5. LocateControl\n",
    "\n",
    "The LocateControl plugin adds a button that centers the map on the user’s current location.\n",
    "\n",
    "**Documentation**: [LocateControl Documentation](https://python-visualization.github.io/folium/latest/user_guide/plugins/locate_control.html)\n"
   ]
  },
  {
   "cell_type": "code",
   "execution_count": null,
   "metadata": {},
   "outputs": [
    {
     "name": "stdout",
     "output_type": "stream",
     "text": [
      "Map has been saved to restaurants_map.html\n"
     ]
    }
   ],
   "source": [
    "import folium\n",
    "import pandas as pd\n",
    "from folium.plugins import MarkerCluster, HeatMap, MiniMap, MeasureControl, LocateControl\n",
    "\n",
    "def create_restaurant_map(csv_file, output_map=\"restaurants_map.html\"):\n",
    "    data = pd.read_csv(csv_file)\n",
    "    \n",
    "    data['latitude'] = pd.to_numeric(data['latitude'], errors='coerce')\n",
    "    data['longitude'] = pd.to_numeric(data['longitude'], errors='coerce')\n",
    "    \n",
    "    data = data.dropna(subset=['latitude', 'longitude'])\n",
    "    \n",
    "    # to center the map\n",
    "    avg_lat = data['latitude'].mean()\n",
    "    avg_lon = data['longitude'].mean()\n",
    "    \n",
    "    # Initialize map \n",
    "    m = folium.Map(location=[avg_lat, avg_lon], zoom_start=6, control_scale=True)\n",
    "\n",
    "    # plugins\n",
    "    marker_cluster = MarkerCluster().add_to(m) #group nearby markers to make it easier to explore the map (specially in high density zones)\n",
    "    minimap = MiniMap().add_to(m) # improves navigation\n",
    "    HeatMap([[row['latitude'], row['longitude']] for _, row in data.iterrows()]).add_to(m) # highlights areas with high concentrations of restaurants\n",
    "    m.add_child(MeasureControl()) # tool to calculate distances directly on the map\n",
    "    LocateControl().add_to(m) # to retrieve users current position\n",
    "\n",
    "    # color mapping for price ranges\n",
    "    price_color_mapping = {\n",
    "        \"€\": \"green\",\n",
    "        \"€€\": \"blue\",\n",
    "        \"€€€\": \"orange\",\n",
    "        \"€€€€\": \"red\"\n",
    "    }\n",
    "    \n",
    "    # pop-up HTML for each restaurant so we can provide all the needed info when u click on it\n",
    "    def create_popup_html(row):\n",
    "        info = f\"\"\"\n",
    "        <strong>{row['restaurant_name']}</strong><br>\n",
    "        <em>{row['cuisine_type']}</em><br>\n",
    "        <br><strong>Address:</strong> {row['address']}, {row['city']}, {row['postal_code']}, {row['country']}<br>\n",
    "        <strong>Price Range:</strong> {row['price_range']}<br>\n",
    "        <strong>Phone:</strong> {row['phone_number']}<br>\n",
    "        <strong>Website:</strong> <a href=\"{row['url']}\" target=\"_blank\">{row['url']}</a><br>\n",
    "        <strong>Description:</strong> {row['description']}<br>\n",
    "        <br><strong>Opening Hours:</strong><br>\n",
    "        <table style=\"width:100%; border:1px solid black;\">\n",
    "            <tr><td><strong>Monday</strong></td><td>{row['monday_hours']}</td></tr>\n",
    "            <tr><td><strong>Tuesday</strong></td><td>{row['tuesday_hours']}</td></tr>\n",
    "            <tr><td><strong>Wednesday</strong></td><td>{row['wednesday_hours']}</td></tr>\n",
    "            <tr><td><strong>Thursday</strong></td><td>{row['thursday_hours']}</td></tr>\n",
    "            <tr><td><strong>Friday</strong></td><td>{row['friday_hours']}</td></tr>\n",
    "            <tr><td><strong>Saturday</strong></td><td>{row['saturday_hours']}</td></tr>\n",
    "            <tr><td><strong>Sunday</strong></td><td>{row['sunday_hours']}</td></tr>\n",
    "        </table><br>\n",
    "        <strong>Facilities:</strong> {row['facilities_services']}<br>\n",
    "        <strong>Credit Cards:</strong> {row['credit_cards']}\n",
    "        \"\"\"\n",
    "        return info\n",
    "    \n",
    "    # markers\n",
    "    for _, row in data.iterrows():\n",
    "        lat, lon = row['latitude'], row['longitude']\n",
    "        price_range = row['price_range']\n",
    "        \n",
    "        marker_color = price_color_mapping.get(price_range, \"gray\")\n",
    "        \n",
    "        # pop up to store info for each restaurant\n",
    "        popup_html = create_popup_html(row)\n",
    "        popup = folium.Popup(popup_html, max_width=300)\n",
    "        \n",
    "        # Create a marker for each restaurant\n",
    "        folium.Marker(\n",
    "            location=[lat, lon],\n",
    "            popup=popup,\n",
    "            tooltip_text = f\"{row['restaurant_name']} - {row['price_range']} - {row['cuisine_type']}\",\n",
    "            icon=folium.Icon(color=marker_color, icon=\"cutlery\", prefix=\"fa\") # to make it more pretty I added cutlery icon from FontAwesome\n",
    "        ).add_to(marker_cluster)\n",
    "    \n",
    "    #legend for price range\n",
    "    legend_html = '''\n",
    "     <div style=\"position: fixed; \n",
    "                 bottom: 50px; left: 50px; width: 150px; height: 140px; \n",
    "                 background-color: white; border:2px solid grey; z-index:9999; font-size:14px;\">\n",
    "     <strong>Price Range Legend</strong><br>\n",
    "     <i style=\"color:green; font-size:15px;\">&#9679;</i> €<br>\n",
    "     <i style=\"color:blue; font-size:15px;\">&#9679;</i> €€<br>\n",
    "     <i style=\"color:orange; font-size:15px;\">&#9679;</i> €€€<br>\n",
    "     <i style=\"color:red; font-size:15px;\">&#9679;</i> €€€€<br>\n",
    "     </div>\n",
    "     '''\n",
    "    m.get_root().html.add_child(folium.Element(legend_html))\n",
    "    \n",
    "    m.save(output_map)\n",
    "    print(f\"Map has been saved to {output_map}\")\n",
    "\n",
    "create_restaurant_map(\"michelin_restaurants_data.csv\")\n"
   ]
  },
  {
   "cell_type": "markdown",
   "metadata": {},
   "source": [
    "## **5. BONUS: Advanced Search Engine**\n",
    "\n",
    "___"
   ]
  },
  {
   "cell_type": "markdown",
   "metadata": {},
   "source": [
    "Before setting up the search engine, I would read dataset again. Because there could be some missing columns."
   ]
  },
  {
   "cell_type": "code",
   "execution_count": 4,
   "metadata": {},
   "outputs": [],
   "source": [
    "url=\"https://raw.githubusercontent.com/zimmy11/ADM-HW3/refs/heads/main/michelin_restaurants_data.csv\"\n",
    "dataset_bonus=pd.read_csv(url)\n"
   ]
  },
  {
   "cell_type": "code",
   "execution_count": 5,
   "metadata": {},
   "outputs": [
    {
     "data": {
      "text/plain": [
       "Index(['restaurant_name', 'address', 'city', 'postal_code', 'country',\n",
       "       'price_range', 'cuisine_type', 'description', 'facilities_services',\n",
       "       'credit_cards', 'phone_number', 'latitude', 'longitude', 'monday_hours',\n",
       "       'tuesday_hours', 'wednesday_hours', 'thursday_hours', 'friday_hours',\n",
       "       'saturday_hours', 'sunday_hours', 'url_micheline', 'url'],\n",
       "      dtype='object')"
      ]
     },
     "execution_count": 5,
     "metadata": {},
     "output_type": "execute_result"
    }
   ],
   "source": [
    "dataset_bonus.columns"
   ]
  },
  {
   "cell_type": "markdown",
   "metadata": {},
   "source": [
    "In the *url_micheline* column, the restaurant's region is embedded within the URL structure. For example, in a URL like \"https://guide.michelin.com/en/campania/gragnan...\", \"campania\" represents the restaurant's region. We extracted this part of the URL using a regular expression and saved it as a new column named *region*. Finally, we verified the result by displaying the *url_micheline* and *region* columns together."
   ]
  },
  {
   "cell_type": "code",
   "execution_count": 6,
   "metadata": {},
   "outputs": [
    {
     "name": "stdout",
     "output_type": "stream",
     "text": [
      "                                          url_micheline               region\n",
      "0     https://guide.michelin.com/en/campania/gragnan...             campania\n",
      "1     https://guide.michelin.com/en/campania/marina-...             campania\n",
      "2     https://guide.michelin.com/en/lombardia/cerves...            lombardia\n",
      "3     https://guide.michelin.com/en/campania/napoli/...             campania\n",
      "4     https://guide.michelin.com/en/emilia-romagna/n...       emilia-romagna\n",
      "...                                                 ...                  ...\n",
      "1981  https://guide.michelin.com/en/piemonte/borgoma...             piemonte\n",
      "1982  https://guide.michelin.com/en/trentino-alto-ad...  trentino-alto-adige\n",
      "1983  https://guide.michelin.com/en/liguria/badalucc...              liguria\n",
      "1984  https://guide.michelin.com/en/piemonte/barbare...             piemonte\n",
      "1985  https://guide.michelin.com/en/veneto/cortina-d...               veneto\n",
      "\n",
      "[1986 rows x 2 columns]\n"
     ]
    }
   ],
   "source": [
    "dataset_bonus['region'] = dataset_bonus['url_micheline'].str.extract(r'https://guide\\.michelin\\.com/en/([^/]+)/')\n",
    "\n",
    "# Verify the result\n",
    "print(dataset_bonus[['url_micheline', 'region']])"
   ]
  },
  {
   "cell_type": "markdown",
   "metadata": {},
   "source": [
    "In the *restaurant_name* column, additional information such as city and address is sometimes included after the actual restaurant name, separated by a hyphen *(-)*. To simplify this column, we used a command to split the text at the first hyphen and keep only the first part, which is the restaurant name. This way, the *restaurant_name* column now contains only the main name of each restaurant."
   ]
  },
  {
   "cell_type": "code",
   "execution_count": 7,
   "metadata": {},
   "outputs": [],
   "source": [
    "dataset_bonus['restaurant_name'] = dataset_bonus['restaurant_name'].str.split(' -').str[0]\n"
   ]
  },
  {
   "cell_type": "code",
   "execution_count": null,
   "metadata": {},
   "outputs": [],
   "source": [
    "# Convert relevant columns to sets for easier filtering, ensuring each value is treated as a string\n",
    "dataset_bonus['credit_cards'] = dataset_bonus['credit_cards'].apply(lambda x: set(str(x).split(',')) if pd.notna(x) else set())\n",
    "dataset_bonus['facilities_services'] = dataset_bonus['facilities_services'].apply(lambda x: set(str(x).split(',')) if pd.notna(x) else set())\n",
    "\n",
    "# Ensure columns are strings to avoid AttributeError\n",
    "dataset_bonus['city'] = dataset_bonus['city'].fillna('').astype(str).str.lower()\n",
    "dataset_bonus['restaurant_name'] = dataset_bonus['restaurant_name'].fillna('').astype(str).str.lower()\n",
    "dataset_bonus['cuisine_type'] = dataset_bonus['cuisine_type'].fillna('').astype(str).str.lower()\n",
    "dataset_bonus['price_range'] = dataset_bonus['price_range'].fillna('')"
   ]
  },
  {
   "cell_type": "markdown",
   "metadata": {},
   "source": [
    "This code defines a function search_restaurants that lets users search for restaurants based on various criteria. Here’s a breakdown of what each part does:\n",
    "\n",
    "1.  **Collecting User Inputs:**\n",
    "\n",
    "*  We prompt the user to enter search criteria, including restaurant name, city, cuisine type, price range, regions, accepted cards, and services. Each input can be skipped by pressing Enter, making it flexible for partial searches.\n",
    "*  We ensure each input is case-insensitive by converting it to lowercase and stripping whitespace to handle variations cleanly.\n",
    "\n",
    "2.  **Filtering Logic:**\n",
    "\n",
    "*  We iterate over each restaurant in dataset_bonus. For each restaurant, we check if it meets the user’s specified criteria:\n",
    "\n",
    "    - City, Price Range: For these, we require an exact match between the input and the existing data.\n",
    "    - Restaurant Name, Cuisine Type, Accepted Cards, Services: For these inputs, we allow partial matches, meaning the input values don't need to be an exact match, but must be contained within the existing data.\n",
    "\n",
    "*  If a restaurant meets all the criteria, it’s added to the results list.\n",
    "\n",
    "3. **Displaying Results:**\n",
    "\n",
    "*  If any restaurants match the criteria, we display each result with formatted details, including the restaurant name, address, cuisine type, price range, and website.\n",
    "*  If no matches are found, a message informs the user.\n",
    "This function is a useful and user-friendly tool for finding restaurants that match specific preferences. The flexibility in criteria input and clear display of results enhance the overall experience.\n",
    "\n",
    "\n",
    "After run the function, you can follow the instructions.\n",
    "\n",
    "In"
   ]
  },
  {
   "cell_type": "code",
   "execution_count": null,
   "metadata": {},
   "outputs": [
    {
     "name": "stdout",
     "output_type": "stream",
     "text": [
      "No restaurants found matching the criteria.\n"
     ]
    }
   ],
   "source": [
    "def search_restaurants():\n",
    "    restaurant_name = input(\"Enter restaurant name (or press Enter to skip): \").strip().lower()\n",
    "    city = input(\"Enter city (or press Enter to skip): \").strip().lower()\n",
    "    cuisine_type = input(\"Enter cuisine type (or press Enter to skip): \").strip().lower()\n",
    "    price_range = input(\"Enter price range (€, €€, €€€) (or press Enter to skip): \").strip()\n",
    "    regions = input(\"Enter regions separated by commas (or press Enter to skip): \").strip().split(',')\n",
    "    regions = [region.strip().lower() for region in regions if region.strip()]  # Clean whitespace\n",
    "    accepted_cards = set(input(\"Enter accepted cards separated by commas (or press Enter to skip): \").strip().split(','))\n",
    "    accepted_cards = {card.strip().lower() for card in accepted_cards if card}  # Clean whitespace\n",
    "    services = set(input(\"Enter services separated by commas (or press Enter to skip): \").strip().split(','))\n",
    "    services = {service.strip().lower() for service in services if service}  # Clean whitespace\n",
    "\n",
    "    results = []\n",
    "    for _, restaurant in dataset_bonus.iterrows():\n",
    "        if restaurant_name and restaurant_name not in restaurant.get(\"restaurant_name\", \"\").lower():\n",
    "            continue\n",
    "\n",
    "        if city and city != restaurant.get(\"city\", \"\").lower():\n",
    "            continue\n",
    "\n",
    "        if cuisine_type and cuisine_type not in restaurant.get(\"cuisine_type\", \"\").lower():\n",
    "            continue\n",
    "\n",
    "        if price_range and price_range != restaurant.get(\"price_range\", \"\"):\n",
    "            continue\n",
    "\n",
    "        if regions and restaurant.get(\"region\", \"\").lower() not in regions:\n",
    "            continue\n",
    "\n",
    "        if accepted_cards and not accepted_cards.intersection(restaurant[\"credit_cards\"]):\n",
    "            continue\n",
    "\n",
    "        if services and not services.issubset(restaurant[\"facilities_services\"]):\n",
    "            continue\n",
    "\n",
    "        results.append({\n",
    "            \"restaurant_name\": restaurant[\"restaurant_name\"],\n",
    "            \"address\": restaurant[\"address\"],\n",
    "            \"cuisine_type\": restaurant[\"cuisine_type\"],\n",
    "            \"price_range\": restaurant[\"price_range\"],\n",
    "            \"website\": restaurant[\"url_micheline\"]\n",
    "        })\n",
    "\n",
    "    # Print results\n",
    "    if results:\n",
    "        print(\"\\nSearch Results:\")\n",
    "        for result in results:\n",
    "            print(f\"Name: {result['restaurant_name'].title()}, Address: {result['address']}, Cuisine: {result['cuisine_type'].title()}, Price: {result['price_range']}, Website: {result['website']}\")\n",
    "    else:\n",
    "        print(\"No restaurants found matching the criteria.\")\n",
    "\n",
    "# Run search function\n",
    "search_restaurants()"
   ]
  },
  {
   "cell_type": "markdown",
   "metadata": {},
   "source": [
    "## **Algorithmic Question (AQ)**\n",
    "___"
   ]
  },
  {
   "cell_type": "markdown",
   "metadata": {},
   "source": [
    "1. Write the pseudocode for an algorithm that solves this problem.\n"
   ]
  },
  {
   "cell_type": "markdown",
   "metadata": {},
   "source": [
    "### **Overview**\n",
    "The algorithm is designed to guide a robot that collects packages located on a grid, starting from the origin point (0,0). The robot can only move right ('R') or up ('U'). The goal is to collect all packages using the fewest moves while maintaining a lexicographically smallest path.\n",
    "\n",
    "\n",
    "#### **Input**\n",
    "- The number of test cases, `t`.\n",
    "- For each test case:\n",
    "  - The number of packages, `n`.\n",
    "  - The coordinates `(x_i, y_i)` of each package.\n",
    "\n",
    "#### **Output**\n",
    "- For each test case, print \"YES\" followed by the smallest path if all packages can be collected, or \"NO\" if it is impossible.\n",
    "\n",
    "\n",
    "### **Pseudocode**\n",
    "- The idea behind the followed *pseudocode* is that we want to divide each problem into smaller problems. Instead of thinking about \"How can we collect all the packages in the best way?\", we can firstly solve the problem \"How can i reach in the fastes way the next package?\" and iterate over the packages.\n",
    "- To develop this in the most efficient way, we have to sort the collection that will contain the coordinates of each package we are receiving in input, because we dont want to solve in the brute force way trying every path possible. To do that\n",
    "we compute the distance between the origin and each of the coordinates and we sort them on this distance. \n",
    "- Then we compute the **Manhattan Distance** (or **L1 distance**) that helps up to compute the number of single steps from point A to point B:\n",
    "$$ d = |x_1 - x_2| + |y_1 - y_2| $$\n",
    "- We iterate over this number and in each iteration we decide to go up or right giving more value to the right because lexicographycally  $\"R\" < \"U\"$\n",
    "- Finally return the Path scaling this idea\n",
    "\n",
    "Here the pseudocode:\n",
    "\n",
    "```python\n",
    "    FOR each test_case FROM 1 TO t DO\n",
    "      n = READ integer from input\n",
    "      list_of_coordinates = []\n",
    "\n",
    "      FOR each package FROM 1 to N DO\n",
    "        coordinates = READ integers from input\n",
    "        ADD coordinates to list_of_coordinates\n",
    "\n",
    "      sorted_coordinates = sort(list_of_coordinates)\n",
    "\n",
    "      FOR target_x, target_yy IN sorted_coordinates DO\n",
    "        if target_x or target_y LESS THAN current_coordinates\n",
    "          BREAK\n",
    "          PRINT(\"NO\")\n",
    "\n",
    "        COMPUTE DISTANCE BETWEEN target_x, target_y AND current_coordinates\n",
    "\n",
    "        FOR steps FROM 1 TO distance DO\n",
    "          IF current_coordinate_x LESS THAN target_x \n",
    "            THEN MOVE RIGHT AND ADD \"R\" TO PATH\n",
    "            CONTINUE\n",
    "\n",
    "          ELSE IF current_coordinate_Y LESS THAN target_y\n",
    "            THEN MOVE UP AND ADD \"U\" TO PATH\n",
    "\n",
    "    RETURN PATH\n",
    "\n",
    "\n",
    "```\n",
    "\n",
    "\n"
   ]
  },
  {
   "cell_type": "markdown",
   "metadata": {},
   "source": [
    "Then we have implemented in python this solution using numpy package to make the sorting more efficient:"
   ]
  },
  {
   "cell_type": "code",
   "execution_count": null,
   "metadata": {},
   "outputs": [
    {
     "name": "stdout",
     "output_type": "stream",
     "text": [
      "YES\n",
      "RUUURRRRUU\n",
      "NO\n",
      "YES\n",
      "RRRRUUU\n"
     ]
    }
   ],
   "source": [
    "import numpy as np \n",
    "import functions\n",
    "\n",
    "with open(\"algorithmic_input.txt\") as file:\n",
    "\n",
    "    # Select the number of Test Cases\n",
    "    t = int(file.readline().strip())\n",
    "    # Iterate over the number fo test cases\n",
    "    for _ in range(t):\n",
    "        \n",
    "        # Extract the number of Packages to collect\n",
    "        number_packages = int(file.readline().strip())\n",
    "\n",
    "        # Store all the input coordinate into the Numpy Array\n",
    "        list_of_coordinates = np.array([tuple(map(int, file.readline().strip().split())) for _ in range(number_packages)] , dtype = int)\n",
    "\n",
    "        # I compute the distance from the (0,0) point to sort the list\n",
    "        distances = np.sqrt(list_of_coordinates[:, 0]**2 + list_of_coordinates[:, 1]**2)\n",
    "\n",
    "        # I have used the argsort function in order to return the indices of the distances ordered in ascendent way\n",
    "        sorted_indices = np.argsort(distances)\n",
    "\n",
    "        # I return the list ordered\n",
    "        sorted_coordinates = list_of_coordinates[sorted_indices]\n",
    "\n",
    "        # Execute the function to return the smallest path given an array of sorted coordinates\n",
    "        functions.compute_smallest_path(sorted_coordinates)\n",
    "\n",
    "    \n",
    "\n",
    "\n"
   ]
  },
  {
   "cell_type": "markdown",
   "metadata": {},
   "source": [
    "2. Prove that your algorithm is correct."
   ]
  },
  {
   "cell_type": "markdown",
   "metadata": {},
   "source": [
    "To prove the correctness of our algorithm, which contains a loop, the best way to do it is applying the **Invariant of the Loop**.\n",
    "It is a logic condition that remains true at the beginning and end of each iteration of a loop during the execution of an algorithm.\n",
    "Showing that a loop has an invariant can help to prove that the loop behaves correctly and in general the correctness of the algorithm.\n",
    "\n",
    "#### **Invariant of the Loop**\n",
    "\n",
    "**Loop Invariant**: At the beginning of each iteration, the current_coordinate represents a point reachable from the origin using only \"U\" and \"R\" moves, and result contains a valid path from the origin to current_coordinate.\n",
    "\n",
    "**Proof**:\n",
    "\n",
    "- **Initialization**: The starting point is (0, 0), which is trivially reachable from the origin.\n",
    "\n",
    "- **Maintenance**:\n",
    "The algorithm checks if the next coordinate (`target_x`, `target_y`) can be reached using only \"U\" and \"R\". This is verified by checking that `target_x` is not less than `current_coordinate[0]` and `target_y` is not less than `current_coordinate[1]`.\n",
    "If this condition fails, the algorithm outputs \"NO\" and terminates, proving that reaching all points in the list is impossible with the allowed moves.\n",
    "If the condition holds, the algorithm updates current_coordinate and appends \"R\" and \"U\" moves accordingly, ensuring that only valid moves are added to result.\n",
    "\n",
    "- **Termination**: The loop iterates over all coordinates in list. When it completes without triggering the \"NO\" condition, it implies that all coordinates were reachable from the previous position using only \"U\" and \"R\" moves.\n",
    "\n",
    "**Conclusion**: The loop invariant holds true throughout each iteration, guaranteeing that result represents a valid path up to `current_coordinate`.\n",
    "\n",
    "Obviously we can scale up the invariant also for the external loop over the number_of_packages to complete the proof."
   ]
  },
  {
   "cell_type": "markdown",
   "metadata": {},
   "source": [
    "___\n",
    "3. Compute the time complexity of your algorithm in Big O notation. Break down the steps involved in the algorithm, and explain which parts contribute most to the overall time complexity.\n",
    "___"
   ]
  },
  {
   "cell_type": "markdown",
   "metadata": {},
   "source": [
    "To Compute the time complexity of the algorithm int the **BIG O** Notation we have to consider in the *worst case*  the operation in your algorithm that consumes the most execution time.\n",
    "\n",
    "The *worst case* happens when we are able to collect all the packages in input, so there is no stopping condition.\n",
    "\n",
    "Let's break down the steps in the algorithm.\n",
    "We define $t$ as the number of `test cases` and $n$ as the number of `packages` our robot has to collect each test case $t$.\n",
    "\n",
    "- So at first we have to execute a for loop to iterate over the `test cases` t, so everything we'll be describe below will be executed $t$ times:\n",
    "    ```python\n",
    "                            for _ in range(t):\n",
    "    ```\n",
    "    - Then we use a list comprehension (*python functionality*) to store all the coordinates of the `packages` for that test case:\n",
    "    ```python\n",
    "    list_of_coordinates = np.array([tuple(map(int, file.readline().strip().split())) for _ in range(number_packages)] ,dtype = int)\n",
    "    ```\n",
    "    - The previous instruction maps a series of $n$ tuples (`number of packages`) inside the numpy array, so the instruction \n",
    "    ```python \n",
    "                            tuple(map(int, file.readline().strip().split())) \n",
    "    ``` \n",
    "    - will be executed $n$ times.\n",
    "\n",
    "    - The **fundamental instruction** of the algorithm, is:\n",
    "    ```python \n",
    "                            sorted_indices = np.argsort(distances)\n",
    "    ```\n",
    "    - Infact, as we know in the worst case the most efficient **Sorting algorithms** based on comparisons like *Merge Sort* have a lower bound of $O(n\\log(n))$\n",
    "\n",
    "Even if the previous instruction consumes the most execution time, let's be specific in the calculus of complexity and dive in the remaining part of the code.\n",
    "\n",
    "- the function `compute_smallest_path` takes in input the *list_of_sorted_coordinates* and outputs the smallest path to collect all the packages if it is possible:\n",
    "\n",
    "\n",
    "    - Ignoring instructions of initialization we consider $O(1)$ computationally, we iterate over the input list of size $n$ that contains the coordinates of each package sorted by the distance to the origin:\n",
    "\n",
    "```python \n",
    "                            for target_x, target_y in list:\n",
    "``` \n",
    "\n",
    "- The *fundamental operation* in this function is this loop, that in the worst case will be executed $s_i$ times where $s_i$ is the single step distance between the i-th and i+1-th package. \n",
    "\n",
    "```python \n",
    "                            for _ in range(distance_from_next):\n",
    "\n",
    "``` \n",
    "\n",
    "- If we call $p$ the number of total steps, $p =  \\sum_{i=1}^{n} s_i $\n",
    "\n",
    "\n",
    "So the algorithm will have time complexity equal to $O(t \\times n\\log(n)) + O(t \\times p \\times n)$\n",
    "\n"
   ]
  },
  {
   "cell_type": "markdown",
   "metadata": {},
   "source": [
    "___\n",
    "4. Ask an LLM tool (such as ChatGPT, Claude AI, Gemini, Perplexity, etc.) to evaluate the time complexity of your code using Big O notation. Is the assessment accurate? If it differs from your previous analysis, which would be correct? Please explain your reasoning.\n",
    "___"
   ]
  },
  {
   "cell_type": "markdown",
   "metadata": {},
   "source": [
    "> My prompt to *ChatGpt* was `\"##CODE## evaluate the time complexity of this code using Big O notation \"`.\n",
    "\n",
    "This was the answer:\n",
    "\n",
    "To analyze the time complexity of this code, let’s break down each section and determine the number of operations relative to $n$, where $n$ represents the number of packages.\n",
    "\n",
    "#### 1. **Reading and Parsing Input**\n",
    "   - **File Reading**: The code reads $t$ test cases from a file. For each test case, it reads the number of packages and coordinates.\n",
    "   - **Parsing Coordinates**: Each coordinate pair is read and converted into an integer tuple, which is stored in a Numpy array. Parsing takes $O(n)$ time per test case since it reads $n$ coordinates, each in $O(1)$ time.\n",
    "   \n",
    "   **Time Complexity for Parsing Input**: $O(t \\times n)$.\n",
    "\n",
    "#### 2. **Calculating Distances**\n",
    "   - For each coordinate, the distance from the origin $0,0$ is calculated using the Euclidean formula $\\sqrt{x^2 + y^2}$.\n",
    "   - Calculating the distance for each of the $n$ points takes $O(n)$ time, as computing the distance for each point is $O(1)$.\n",
    "\n",
    "   **Time Complexity for Distance Calculation**: $O(t \\times n)$.\n",
    "\n",
    "#### 3. **Sorting Coordinates by Distance**\n",
    "   - The code sorts the indices based on their distances from the origin. Sorting an array of $n$ elements takes $O(n \\log n)$.\n",
    "   - After sorting, the code creates a new array `sorted_coordinates` by rearranging the coordinates based on the sorted order, which is $O(n)$.\n",
    "\n",
    "   **Time Complexity for Sorting**: $O(t \\times n \\log n)$.\n",
    "\n",
    "#### 4. **Computing the Smallest Path**\n",
    "   - The `compute_smallest_path` function iterates through each of the sorted coordinates in $O(n)$ time.\n",
    "   - For each coordinate, it checks if the target coordinate can be reached by only moving \"up\" (U) or \"right\" (R). This involves a constant-time check and, if infeasible, it returns immediately.\n",
    "   - If the target can be reached, the code calculates the distance along $x$ and $y$ axes.\n",
    "   - For each coordinate, it adds the steps to reach it. Moving each step and updating coordinates takes $O(1)$, and each package requires a bounded number of steps (no more than $x + y$ operations per package).\n",
    "\n",
    "   Overall, this is an $O(n)$ operation since it iterates through all coordinates once and performs a bounded amount of work for each coordinate.\n",
    "\n",
    "   **Time Complexity for Smallest Path Calculation**: $O(t \\times n)$.\n",
    "\n",
    "#### 5. **Printing Results**\n",
    "   - Printing “YES” or “NO” and the path string is $O(n)$ for each test case.\n",
    "\n",
    "   **Time Complexity for Printing**: $O(t \\times n)$.\n",
    "\n",
    "#### **Total Time Complexity**\n",
    "\n",
    "Summing up the complexities for each step, the dominant term is $O(t \\times n \\log n)$ from the sorting step. Thus, the overall time complexity is:\n",
    "\n",
    "$$O(t \\times n \\log n)$$\n",
    "\n",
    "\n",
    "where:\n",
    "- $t$ is the number of test cases,\n",
    "- $n$ is the number of packages per test case.\n",
    "\n",
    "This complexity indicates that the code's performance primarily depends on the sorting operation within each test case.\n"
   ]
  },
  {
   "cell_type": "markdown",
   "metadata": {},
   "source": [
    " - I dont fully agree with the response give by *ChatGPT*. It has broken in small parts the calculus of time complexity like we have done, but it wasnt accurate in my opinion on the study of the algorithm `compute_smallest_path` because it has made the assumption that the size of the path $p$ is $O(1)$. \n",
    "\n",
    "- But if $p$ is $O(n)$ for example the **Total time complexity** is not $O(t \\times \\log(n))$ but it would be $O(t \\times n^2)$ which would be the worst case because the function `compute_smallest_path` would consume the most amount of time."
   ]
  },
  {
   "cell_type": "markdown",
   "metadata": {},
   "source": [
    "5. Assume now that the robot can also move towards the left or downwards, and consider the greedy approach: from the current location go to the closest package. Notice that now we can always collect all packages. Prove that the greedy algorithm is optimal (i.e., it minimizes the total distance traveled), or provide a counterexample showing that it is not.   "
   ]
  },
  {
   "cell_type": "markdown",
   "metadata": {},
   "source": [
    "The proof of optimality for this greedy approach relies on the optimal substructure of the problem. Specifically, we show that if the greedy choice is not optimal at some step, swapping the greedy move with an alternative will equalize or increase the total distance traveled. \n",
    "\n",
    "#### **Step-by-Step Analysis**: \n",
    "\n",
    "The algorithm is based on the calculus of the **Manhattan Distance** that minimizes by definition the number of single steps between two points.\n",
    "\n",
    "**Initial State**: The robot starts at some position $(𝑥_0,𝑦_0)$ and is tasked with collecting a set of packages, each located at $( 𝑥_𝑖 , 𝑦_𝑖 )$.\n",
    "\n",
    "**Greedy Step**: At each step, the robot moves to the closest package (because we have previously sorted the list of packages). \n",
    "Let’s assume the greedy algorithm at some stage goes from the current position $(x_k,y_k)$ to some package $( 𝑥_𝑞 , 𝑦_𝑞)$, and then from $(x_q ​ ,y_q ​ )$ to $(x_p ​ ,y_p ​ )$ selecting the closest package.\n",
    "\n",
    " Now, let’s consider an another algorithm alternative (not *greedy*) swapping the two steps: first move from $(x_k ​ ,y_k ​ )$ to $(x_p ​ ,y_p ​ )$, and then move from $( 𝑥_𝑝 , 𝑦_𝑝 )$ to $(x_q ​ ,y_q ​)$. \n",
    "\n",
    " The total distance (equal to the **Manhattan Distance**) for the greedy choice is: $𝐷_{greedy} = |x_k − 𝑥_𝑝|+ |𝑦_𝑘 − 𝑦_𝑝| + |𝑥_𝑝 − 𝑥_𝑞| + |𝑦_𝑝 − 𝑦_𝑞|$\n",
    "\n",
    "The total distance for the alternative choice is: $D_{alternative} ​ = ∣x_k ​− x_q ∣ + ∣y_k− y_q∣ + ∣x_q − x_p∣ + |y_q​ − y_p|$\n",
    "\n",
    "The key observation here is that, by the triangle **inequality for Manhattan distance**, we have: \n",
    "$$ |x_k ​ −x_p ∣ + ∣y_k ​− y_p∣ + |𝑥_𝑝 − 𝑥_𝑞| + |𝑦_𝑝 − 𝑦_𝑞| \\le ∣ x_k − x_q∣ + ∣y_k​ − y_q∣ + ∣x_q − x_p∣ + ∣y_q​ − y_p∣$$\n",
    "Hence, moving directly from  $(x_k,y_k )$ to $(x_p,y_p)$ and then to $(x_q ,y_q)$ will not result in a greater distance than the alternative move. \n",
    " \n",
    "Therefore, the greedy approach (choosing the closest package at each step) is at least as good as any alternative strategy in terms of total distance."
   ]
  },
  {
   "cell_type": "markdown",
   "metadata": {},
   "source": [
    "For completeness, we have implemented also the function that simulates this extended case."
   ]
  },
  {
   "cell_type": "code",
   "execution_count": null,
   "metadata": {},
   "outputs": [
    {
     "name": "stdout",
     "output_type": "stream",
     "text": [
      "YES\n",
      "RUUURRRRUU\n",
      "YES\n",
      "RLU\n",
      "YES\n",
      "RRRRUUU\n"
     ]
    }
   ],
   "source": [
    "import numpy as np \n",
    "import functions\n",
    "\n",
    "with open(\"algorithmic_input.txt\") as file:\n",
    "\n",
    "    # Select the number of Test Cases\n",
    "    t = int(file.readline().strip())\n",
    "    # Iterate over the number fo test cases\n",
    "    for _ in range(t):\n",
    "        \n",
    "        # Extract the number of Packages to collect\n",
    "        number_packages = int(file.readline().strip())\n",
    "\n",
    "        # Store all the input coordinate into the Numpy Array\n",
    "        list_of_coordinates = np.array([tuple(map(int, file.readline().strip().split())) for _ in range(number_packages)] , dtype = int)\n",
    "\n",
    "        # I compute the distance from the (0,0) point to sort the list\n",
    "        distances = np.sqrt(list_of_coordinates[:, 0]**2 + list_of_coordinates[:, 1]**2)\n",
    "\n",
    "        # I have used the argsort function in order to return the indices of the distances ordered in ascendent way\n",
    "        sorted_indices = np.argsort(distances)\n",
    "\n",
    "        # I return the list ordered\n",
    "        sorted_coordinates = list_of_coordinates[sorted_indices]\n",
    "\n",
    "        # Execute the function to return the smallest path given an array of sorted coordinates\n",
    "        functions.extended_compute_smallest_path(sorted_coordinates)\n",
    "\n",
    "    \n",
    "\n",
    "\n"
   ]
  },
  {
   "cell_type": "markdown",
   "metadata": {},
   "source": [
    "We can see that in this case we are able to collect all the packages, so \"NO\" is not printed in the output"
   ]
  }
 ],
 "metadata": {
  "kernelspec": {
   "display_name": "base",
   "language": "python",
   "name": "python3"
  },
  "language_info": {
   "codemirror_mode": {
    "name": "ipython",
    "version": 3
   },
   "file_extension": ".py",
   "mimetype": "text/x-python",
   "name": "python",
   "nbconvert_exporter": "python",
   "pygments_lexer": "ipython3",
   "version": "3.12.4"
  }
 },
 "nbformat": 4,
 "nbformat_minor": 2
}
