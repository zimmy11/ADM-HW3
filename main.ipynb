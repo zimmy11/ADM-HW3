{
 "cells": [
  {
   "cell_type": "markdown",
   "metadata": {},
   "source": [
    "# **Homework 3 - Michelin restaurants in Italy**\n",
    "\n",
    "*Group#20*\n",
    "\n",
    "- **Marco Zimmatore** - [zimmatore.1947442@studenti.uniroma1.it](mailto:zimmatore.1947442@studenti.uniroma1.it)\n",
    "- **Gabriele Cabibbo** - [cabibbo.2196717@studenti.uniroma1.it](mailto:cabibbo.2196717@studenti.uniroma1.it)\n",
    "- **Emre Yeşil** - [1emreyesil@gmail.com](mailto:1emreyesil@gmail.com)\n",
    "- **Emanuele Iaccarino** - [emanueleiaccarino.ei@gmail.com](mailto:emanueleiaccarino.ei@gmail.com)\n",
    "\n",
    "___"
   ]
  },
  {
   "cell_type": "code",
   "execution_count": 40,
   "metadata": {},
   "outputs": [],
   "source": [
    "import pandas as pd\n",
    "import numpy as np\n",
    "import nltk\n",
    "from nltk.corpus import stopwords\n",
    "import string\n",
    "from nltk.stem import PorterStemmer\n",
    "import contractions\n",
    "from nltk.stem import WordNetLemmatizer\n",
    "import re\n",
    "import json\n",
    "from collections import defaultdict\n",
    "from DataCollection import engine"
   ]
  },
  {
   "cell_type": "markdown",
   "metadata": {},
   "source": [
    "## **1. Data collection**"
   ]
  },
  {
   "cell_type": "markdown",
   "metadata": {},
   "source": [
    "Although it would be ideal to call all functions together under ``` engine.py ``` and perform the parsing in a single step, this approach was not possible with our \"more efficient\" implementation. \n",
    "\n",
    "We’ll explore these issues later on, along with the solution implemented to address them."
   ]
  },
  {
   "cell_type": "markdown",
   "metadata": {},
   "source": [
    "Anyway I left ``` engine.py ``` file under DataColletion folder: the file works there but doesn't here on this Jupyter Notebook"
   ]
  },
  {
   "cell_type": "markdown",
   "metadata": {},
   "source": [
    "### **1.1 Get the list of Michelin restaurants**"
   ]
  },
  {
   "cell_type": "markdown",
   "metadata": {},
   "source": [
    "Fun Fact: I first did this part of the code 04/11/2024, the next day the number of restaurants was reduced from 2037 to 1983 (this is confirmed by the official site where now we have 100 pages instead of 102)"
   ]
  },
  {
   "cell_type": "code",
   "execution_count": 4,
   "metadata": {},
   "outputs": [
    {
     "name": "stderr",
     "output_type": "stream",
     "text": [
      "DEBUG:root:Analyzing page 1\n",
      "DEBUG:urllib3.connectionpool:Starting new HTTPS connection (1): guide.michelin.com:443\n",
      "DEBUG:urllib3.connectionpool:https://guide.michelin.com:443 \"GET /en/it/restaurants/page/1 HTTP/1.1\" 200 None\n",
      "DEBUG:root:Analyzing page 2\n",
      "DEBUG:urllib3.connectionpool:Starting new HTTPS connection (1): guide.michelin.com:443\n",
      "DEBUG:urllib3.connectionpool:https://guide.michelin.com:443 \"GET /en/it/restaurants/page/2 HTTP/1.1\" 200 None\n",
      "DEBUG:root:Analyzing page 3\n",
      "DEBUG:urllib3.connectionpool:Starting new HTTPS connection (1): guide.michelin.com:443\n",
      "DEBUG:urllib3.connectionpool:https://guide.michelin.com:443 \"GET /en/it/restaurants/page/3 HTTP/1.1\" 200 None\n",
      "DEBUG:root:Analyzing page 4\n",
      "DEBUG:urllib3.connectionpool:Starting new HTTPS connection (1): guide.michelin.com:443\n",
      "DEBUG:urllib3.connectionpool:https://guide.michelin.com:443 \"GET /en/it/restaurants/page/4 HTTP/1.1\" 200 None\n",
      "DEBUG:root:Analyzing page 5\n",
      "DEBUG:urllib3.connectionpool:Starting new HTTPS connection (1): guide.michelin.com:443\n",
      "DEBUG:urllib3.connectionpool:https://guide.michelin.com:443 \"GET /en/it/restaurants/page/5 HTTP/1.1\" 200 None\n",
      "DEBUG:root:Analyzing page 6\n",
      "DEBUG:urllib3.connectionpool:Starting new HTTPS connection (1): guide.michelin.com:443\n",
      "DEBUG:urllib3.connectionpool:https://guide.michelin.com:443 \"GET /en/it/restaurants/page/6 HTTP/1.1\" 200 None\n",
      "DEBUG:root:Analyzing page 7\n",
      "DEBUG:urllib3.connectionpool:Starting new HTTPS connection (1): guide.michelin.com:443\n",
      "DEBUG:urllib3.connectionpool:https://guide.michelin.com:443 \"GET /en/it/restaurants/page/7 HTTP/1.1\" 200 None\n",
      "DEBUG:root:Analyzing page 8\n",
      "DEBUG:urllib3.connectionpool:Starting new HTTPS connection (1): guide.michelin.com:443\n",
      "DEBUG:urllib3.connectionpool:https://guide.michelin.com:443 \"GET /en/it/restaurants/page/8 HTTP/1.1\" 200 None\n",
      "DEBUG:root:Analyzing page 9\n",
      "DEBUG:urllib3.connectionpool:Starting new HTTPS connection (1): guide.michelin.com:443\n",
      "DEBUG:urllib3.connectionpool:https://guide.michelin.com:443 \"GET /en/it/restaurants/page/9 HTTP/1.1\" 200 None\n",
      "DEBUG:root:Analyzing page 10\n",
      "DEBUG:urllib3.connectionpool:Starting new HTTPS connection (1): guide.michelin.com:443\n",
      "DEBUG:urllib3.connectionpool:https://guide.michelin.com:443 \"GET /en/it/restaurants/page/10 HTTP/1.1\" 200 None\n",
      "DEBUG:root:Analyzing page 11\n",
      "DEBUG:urllib3.connectionpool:Starting new HTTPS connection (1): guide.michelin.com:443\n",
      "DEBUG:urllib3.connectionpool:https://guide.michelin.com:443 \"GET /en/it/restaurants/page/11 HTTP/1.1\" 200 None\n",
      "DEBUG:root:Analyzing page 12\n",
      "DEBUG:urllib3.connectionpool:Starting new HTTPS connection (1): guide.michelin.com:443\n",
      "DEBUG:urllib3.connectionpool:https://guide.michelin.com:443 \"GET /en/it/restaurants/page/12 HTTP/1.1\" 200 None\n",
      "DEBUG:root:Analyzing page 13\n",
      "DEBUG:urllib3.connectionpool:Starting new HTTPS connection (1): guide.michelin.com:443\n",
      "DEBUG:urllib3.connectionpool:https://guide.michelin.com:443 \"GET /en/it/restaurants/page/13 HTTP/1.1\" 200 None\n",
      "DEBUG:root:Analyzing page 14\n",
      "DEBUG:urllib3.connectionpool:Starting new HTTPS connection (1): guide.michelin.com:443\n",
      "DEBUG:urllib3.connectionpool:https://guide.michelin.com:443 \"GET /en/it/restaurants/page/14 HTTP/1.1\" 200 None\n",
      "DEBUG:root:Analyzing page 15\n",
      "DEBUG:urllib3.connectionpool:Starting new HTTPS connection (1): guide.michelin.com:443\n",
      "DEBUG:urllib3.connectionpool:https://guide.michelin.com:443 \"GET /en/it/restaurants/page/15 HTTP/1.1\" 200 None\n",
      "DEBUG:root:Analyzing page 16\n",
      "DEBUG:urllib3.connectionpool:Starting new HTTPS connection (1): guide.michelin.com:443\n",
      "DEBUG:urllib3.connectionpool:https://guide.michelin.com:443 \"GET /en/it/restaurants/page/16 HTTP/1.1\" 200 None\n",
      "DEBUG:root:Analyzing page 17\n",
      "DEBUG:urllib3.connectionpool:Starting new HTTPS connection (1): guide.michelin.com:443\n",
      "DEBUG:urllib3.connectionpool:https://guide.michelin.com:443 \"GET /en/it/restaurants/page/17 HTTP/1.1\" 200 None\n",
      "DEBUG:root:Analyzing page 18\n",
      "DEBUG:urllib3.connectionpool:Starting new HTTPS connection (1): guide.michelin.com:443\n",
      "DEBUG:urllib3.connectionpool:https://guide.michelin.com:443 \"GET /en/it/restaurants/page/18 HTTP/1.1\" 200 None\n",
      "DEBUG:root:Analyzing page 19\n",
      "DEBUG:urllib3.connectionpool:Starting new HTTPS connection (1): guide.michelin.com:443\n",
      "DEBUG:urllib3.connectionpool:https://guide.michelin.com:443 \"GET /en/it/restaurants/page/19 HTTP/1.1\" 200 None\n",
      "DEBUG:root:Analyzing page 20\n",
      "DEBUG:urllib3.connectionpool:Starting new HTTPS connection (1): guide.michelin.com:443\n",
      "DEBUG:urllib3.connectionpool:https://guide.michelin.com:443 \"GET /en/it/restaurants/page/20 HTTP/1.1\" 200 None\n",
      "DEBUG:root:Analyzing page 21\n",
      "DEBUG:urllib3.connectionpool:Starting new HTTPS connection (1): guide.michelin.com:443\n",
      "DEBUG:urllib3.connectionpool:https://guide.michelin.com:443 \"GET /en/it/restaurants/page/21 HTTP/1.1\" 200 None\n",
      "DEBUG:root:Analyzing page 22\n",
      "DEBUG:urllib3.connectionpool:Starting new HTTPS connection (1): guide.michelin.com:443\n",
      "DEBUG:urllib3.connectionpool:https://guide.michelin.com:443 \"GET /en/it/restaurants/page/22 HTTP/1.1\" 200 None\n",
      "DEBUG:root:Analyzing page 23\n",
      "DEBUG:urllib3.connectionpool:Starting new HTTPS connection (1): guide.michelin.com:443\n",
      "DEBUG:urllib3.connectionpool:https://guide.michelin.com:443 \"GET /en/it/restaurants/page/23 HTTP/1.1\" 200 None\n",
      "DEBUG:root:Analyzing page 24\n",
      "DEBUG:urllib3.connectionpool:Starting new HTTPS connection (1): guide.michelin.com:443\n",
      "DEBUG:urllib3.connectionpool:https://guide.michelin.com:443 \"GET /en/it/restaurants/page/24 HTTP/1.1\" 200 None\n",
      "DEBUG:root:Analyzing page 25\n",
      "DEBUG:urllib3.connectionpool:Starting new HTTPS connection (1): guide.michelin.com:443\n",
      "DEBUG:urllib3.connectionpool:https://guide.michelin.com:443 \"GET /en/it/restaurants/page/25 HTTP/1.1\" 200 None\n",
      "DEBUG:root:Analyzing page 26\n",
      "DEBUG:urllib3.connectionpool:Starting new HTTPS connection (1): guide.michelin.com:443\n",
      "DEBUG:urllib3.connectionpool:https://guide.michelin.com:443 \"GET /en/it/restaurants/page/26 HTTP/1.1\" 200 None\n",
      "DEBUG:root:Analyzing page 27\n",
      "DEBUG:urllib3.connectionpool:Starting new HTTPS connection (1): guide.michelin.com:443\n",
      "DEBUG:urllib3.connectionpool:https://guide.michelin.com:443 \"GET /en/it/restaurants/page/27 HTTP/1.1\" 200 None\n",
      "DEBUG:root:Analyzing page 28\n",
      "DEBUG:urllib3.connectionpool:Starting new HTTPS connection (1): guide.michelin.com:443\n",
      "DEBUG:urllib3.connectionpool:https://guide.michelin.com:443 \"GET /en/it/restaurants/page/28 HTTP/1.1\" 200 None\n",
      "DEBUG:root:Analyzing page 29\n",
      "DEBUG:urllib3.connectionpool:Starting new HTTPS connection (1): guide.michelin.com:443\n",
      "DEBUG:urllib3.connectionpool:https://guide.michelin.com:443 \"GET /en/it/restaurants/page/29 HTTP/1.1\" 200 None\n",
      "DEBUG:root:Analyzing page 30\n",
      "DEBUG:urllib3.connectionpool:Starting new HTTPS connection (1): guide.michelin.com:443\n",
      "DEBUG:urllib3.connectionpool:https://guide.michelin.com:443 \"GET /en/it/restaurants/page/30 HTTP/1.1\" 200 None\n",
      "DEBUG:root:Analyzing page 31\n",
      "DEBUG:urllib3.connectionpool:Starting new HTTPS connection (1): guide.michelin.com:443\n",
      "DEBUG:urllib3.connectionpool:https://guide.michelin.com:443 \"GET /en/it/restaurants/page/31 HTTP/1.1\" 200 None\n",
      "DEBUG:root:Analyzing page 32\n",
      "DEBUG:urllib3.connectionpool:Starting new HTTPS connection (1): guide.michelin.com:443\n",
      "DEBUG:urllib3.connectionpool:https://guide.michelin.com:443 \"GET /en/it/restaurants/page/32 HTTP/1.1\" 200 None\n",
      "DEBUG:root:Analyzing page 33\n",
      "DEBUG:urllib3.connectionpool:Starting new HTTPS connection (1): guide.michelin.com:443\n",
      "DEBUG:urllib3.connectionpool:https://guide.michelin.com:443 \"GET /en/it/restaurants/page/33 HTTP/1.1\" 200 None\n",
      "DEBUG:root:Analyzing page 34\n",
      "DEBUG:urllib3.connectionpool:Starting new HTTPS connection (1): guide.michelin.com:443\n",
      "DEBUG:urllib3.connectionpool:https://guide.michelin.com:443 \"GET /en/it/restaurants/page/34 HTTP/1.1\" 200 None\n",
      "DEBUG:root:Analyzing page 35\n",
      "DEBUG:urllib3.connectionpool:Starting new HTTPS connection (1): guide.michelin.com:443\n",
      "DEBUG:urllib3.connectionpool:https://guide.michelin.com:443 \"GET /en/it/restaurants/page/35 HTTP/1.1\" 200 None\n",
      "DEBUG:root:Analyzing page 36\n",
      "DEBUG:urllib3.connectionpool:Starting new HTTPS connection (1): guide.michelin.com:443\n",
      "DEBUG:urllib3.connectionpool:https://guide.michelin.com:443 \"GET /en/it/restaurants/page/36 HTTP/1.1\" 200 None\n",
      "DEBUG:root:Analyzing page 37\n",
      "DEBUG:urllib3.connectionpool:Starting new HTTPS connection (1): guide.michelin.com:443\n",
      "DEBUG:urllib3.connectionpool:https://guide.michelin.com:443 \"GET /en/it/restaurants/page/37 HTTP/1.1\" 200 None\n",
      "DEBUG:root:Analyzing page 38\n",
      "DEBUG:urllib3.connectionpool:Starting new HTTPS connection (1): guide.michelin.com:443\n",
      "DEBUG:urllib3.connectionpool:https://guide.michelin.com:443 \"GET /en/it/restaurants/page/38 HTTP/1.1\" 200 None\n",
      "DEBUG:root:Analyzing page 39\n",
      "DEBUG:urllib3.connectionpool:Starting new HTTPS connection (1): guide.michelin.com:443\n",
      "DEBUG:urllib3.connectionpool:https://guide.michelin.com:443 \"GET /en/it/restaurants/page/39 HTTP/1.1\" 200 None\n",
      "DEBUG:root:Analyzing page 40\n",
      "DEBUG:urllib3.connectionpool:Starting new HTTPS connection (1): guide.michelin.com:443\n",
      "DEBUG:urllib3.connectionpool:https://guide.michelin.com:443 \"GET /en/it/restaurants/page/40 HTTP/1.1\" 200 None\n",
      "DEBUG:root:Analyzing page 41\n",
      "DEBUG:urllib3.connectionpool:Starting new HTTPS connection (1): guide.michelin.com:443\n",
      "DEBUG:urllib3.connectionpool:https://guide.michelin.com:443 \"GET /en/it/restaurants/page/41 HTTP/1.1\" 200 None\n",
      "DEBUG:root:Analyzing page 42\n",
      "DEBUG:urllib3.connectionpool:Starting new HTTPS connection (1): guide.michelin.com:443\n",
      "DEBUG:urllib3.connectionpool:https://guide.michelin.com:443 \"GET /en/it/restaurants/page/42 HTTP/1.1\" 200 None\n",
      "DEBUG:root:Analyzing page 43\n",
      "DEBUG:urllib3.connectionpool:Starting new HTTPS connection (1): guide.michelin.com:443\n",
      "DEBUG:urllib3.connectionpool:https://guide.michelin.com:443 \"GET /en/it/restaurants/page/43 HTTP/1.1\" 200 None\n",
      "DEBUG:root:Analyzing page 44\n",
      "DEBUG:urllib3.connectionpool:Starting new HTTPS connection (1): guide.michelin.com:443\n",
      "DEBUG:urllib3.connectionpool:https://guide.michelin.com:443 \"GET /en/it/restaurants/page/44 HTTP/1.1\" 200 None\n",
      "DEBUG:root:Analyzing page 45\n",
      "DEBUG:urllib3.connectionpool:Starting new HTTPS connection (1): guide.michelin.com:443\n",
      "DEBUG:urllib3.connectionpool:https://guide.michelin.com:443 \"GET /en/it/restaurants/page/45 HTTP/1.1\" 200 None\n",
      "DEBUG:root:Analyzing page 46\n",
      "DEBUG:urllib3.connectionpool:Starting new HTTPS connection (1): guide.michelin.com:443\n",
      "DEBUG:urllib3.connectionpool:https://guide.michelin.com:443 \"GET /en/it/restaurants/page/46 HTTP/1.1\" 200 None\n",
      "DEBUG:root:Analyzing page 47\n",
      "DEBUG:urllib3.connectionpool:Starting new HTTPS connection (1): guide.michelin.com:443\n",
      "DEBUG:urllib3.connectionpool:https://guide.michelin.com:443 \"GET /en/it/restaurants/page/47 HTTP/1.1\" 200 None\n",
      "DEBUG:root:Analyzing page 48\n",
      "DEBUG:urllib3.connectionpool:Starting new HTTPS connection (1): guide.michelin.com:443\n",
      "DEBUG:urllib3.connectionpool:https://guide.michelin.com:443 \"GET /en/it/restaurants/page/48 HTTP/1.1\" 200 None\n",
      "DEBUG:root:Analyzing page 49\n",
      "DEBUG:urllib3.connectionpool:Starting new HTTPS connection (1): guide.michelin.com:443\n",
      "DEBUG:urllib3.connectionpool:https://guide.michelin.com:443 \"GET /en/it/restaurants/page/49 HTTP/1.1\" 200 None\n",
      "DEBUG:root:Analyzing page 50\n",
      "DEBUG:urllib3.connectionpool:Starting new HTTPS connection (1): guide.michelin.com:443\n",
      "DEBUG:urllib3.connectionpool:https://guide.michelin.com:443 \"GET /en/it/restaurants/page/50 HTTP/1.1\" 200 None\n",
      "DEBUG:root:Analyzing page 51\n",
      "DEBUG:urllib3.connectionpool:Starting new HTTPS connection (1): guide.michelin.com:443\n",
      "DEBUG:urllib3.connectionpool:https://guide.michelin.com:443 \"GET /en/it/restaurants/page/51 HTTP/1.1\" 200 None\n",
      "DEBUG:root:Analyzing page 52\n",
      "DEBUG:urllib3.connectionpool:Starting new HTTPS connection (1): guide.michelin.com:443\n",
      "DEBUG:urllib3.connectionpool:https://guide.michelin.com:443 \"GET /en/it/restaurants/page/52 HTTP/1.1\" 200 None\n",
      "DEBUG:root:Analyzing page 53\n",
      "DEBUG:urllib3.connectionpool:Starting new HTTPS connection (1): guide.michelin.com:443\n",
      "DEBUG:urllib3.connectionpool:https://guide.michelin.com:443 \"GET /en/it/restaurants/page/53 HTTP/1.1\" 200 None\n",
      "DEBUG:root:Analyzing page 54\n",
      "DEBUG:urllib3.connectionpool:Starting new HTTPS connection (1): guide.michelin.com:443\n",
      "DEBUG:urllib3.connectionpool:https://guide.michelin.com:443 \"GET /en/it/restaurants/page/54 HTTP/1.1\" 200 None\n",
      "DEBUG:root:Analyzing page 55\n",
      "DEBUG:urllib3.connectionpool:Starting new HTTPS connection (1): guide.michelin.com:443\n",
      "DEBUG:urllib3.connectionpool:https://guide.michelin.com:443 \"GET /en/it/restaurants/page/55 HTTP/1.1\" 200 None\n",
      "DEBUG:root:Analyzing page 56\n",
      "DEBUG:urllib3.connectionpool:Starting new HTTPS connection (1): guide.michelin.com:443\n",
      "DEBUG:urllib3.connectionpool:https://guide.michelin.com:443 \"GET /en/it/restaurants/page/56 HTTP/1.1\" 200 None\n",
      "DEBUG:root:Analyzing page 57\n",
      "DEBUG:urllib3.connectionpool:Starting new HTTPS connection (1): guide.michelin.com:443\n",
      "DEBUG:urllib3.connectionpool:https://guide.michelin.com:443 \"GET /en/it/restaurants/page/57 HTTP/1.1\" 200 None\n",
      "DEBUG:root:Analyzing page 58\n",
      "DEBUG:urllib3.connectionpool:Starting new HTTPS connection (1): guide.michelin.com:443\n",
      "DEBUG:urllib3.connectionpool:https://guide.michelin.com:443 \"GET /en/it/restaurants/page/58 HTTP/1.1\" 200 None\n",
      "DEBUG:root:Analyzing page 59\n",
      "DEBUG:urllib3.connectionpool:Starting new HTTPS connection (1): guide.michelin.com:443\n",
      "DEBUG:urllib3.connectionpool:https://guide.michelin.com:443 \"GET /en/it/restaurants/page/59 HTTP/1.1\" 200 None\n",
      "DEBUG:root:Analyzing page 60\n",
      "DEBUG:urllib3.connectionpool:Starting new HTTPS connection (1): guide.michelin.com:443\n",
      "DEBUG:urllib3.connectionpool:https://guide.michelin.com:443 \"GET /en/it/restaurants/page/60 HTTP/1.1\" 200 None\n",
      "DEBUG:root:Analyzing page 61\n",
      "DEBUG:urllib3.connectionpool:Starting new HTTPS connection (1): guide.michelin.com:443\n",
      "DEBUG:urllib3.connectionpool:https://guide.michelin.com:443 \"GET /en/it/restaurants/page/61 HTTP/1.1\" 200 None\n",
      "DEBUG:root:Analyzing page 62\n",
      "DEBUG:urllib3.connectionpool:Starting new HTTPS connection (1): guide.michelin.com:443\n",
      "DEBUG:urllib3.connectionpool:https://guide.michelin.com:443 \"GET /en/it/restaurants/page/62 HTTP/1.1\" 200 None\n",
      "DEBUG:root:Analyzing page 63\n",
      "DEBUG:urllib3.connectionpool:Starting new HTTPS connection (1): guide.michelin.com:443\n",
      "DEBUG:urllib3.connectionpool:https://guide.michelin.com:443 \"GET /en/it/restaurants/page/63 HTTP/1.1\" 200 None\n",
      "DEBUG:root:Analyzing page 64\n",
      "DEBUG:urllib3.connectionpool:Starting new HTTPS connection (1): guide.michelin.com:443\n",
      "DEBUG:urllib3.connectionpool:https://guide.michelin.com:443 \"GET /en/it/restaurants/page/64 HTTP/1.1\" 200 None\n",
      "DEBUG:root:Analyzing page 65\n",
      "DEBUG:urllib3.connectionpool:Starting new HTTPS connection (1): guide.michelin.com:443\n",
      "DEBUG:urllib3.connectionpool:https://guide.michelin.com:443 \"GET /en/it/restaurants/page/65 HTTP/1.1\" 200 None\n",
      "DEBUG:root:Analyzing page 66\n",
      "DEBUG:urllib3.connectionpool:Starting new HTTPS connection (1): guide.michelin.com:443\n",
      "DEBUG:urllib3.connectionpool:https://guide.michelin.com:443 \"GET /en/it/restaurants/page/66 HTTP/1.1\" 200 None\n",
      "DEBUG:root:Analyzing page 67\n",
      "DEBUG:urllib3.connectionpool:Starting new HTTPS connection (1): guide.michelin.com:443\n",
      "DEBUG:urllib3.connectionpool:https://guide.michelin.com:443 \"GET /en/it/restaurants/page/67 HTTP/1.1\" 200 None\n",
      "DEBUG:root:Analyzing page 68\n",
      "DEBUG:urllib3.connectionpool:Starting new HTTPS connection (1): guide.michelin.com:443\n",
      "DEBUG:urllib3.connectionpool:https://guide.michelin.com:443 \"GET /en/it/restaurants/page/68 HTTP/1.1\" 200 None\n",
      "DEBUG:root:Analyzing page 69\n",
      "DEBUG:urllib3.connectionpool:Starting new HTTPS connection (1): guide.michelin.com:443\n",
      "DEBUG:urllib3.connectionpool:https://guide.michelin.com:443 \"GET /en/it/restaurants/page/69 HTTP/1.1\" 200 None\n",
      "DEBUG:root:Analyzing page 70\n",
      "DEBUG:urllib3.connectionpool:Starting new HTTPS connection (1): guide.michelin.com:443\n",
      "DEBUG:urllib3.connectionpool:https://guide.michelin.com:443 \"GET /en/it/restaurants/page/70 HTTP/1.1\" 200 None\n",
      "DEBUG:root:Analyzing page 71\n",
      "DEBUG:urllib3.connectionpool:Starting new HTTPS connection (1): guide.michelin.com:443\n",
      "DEBUG:urllib3.connectionpool:https://guide.michelin.com:443 \"GET /en/it/restaurants/page/71 HTTP/1.1\" 200 None\n",
      "DEBUG:root:Analyzing page 72\n",
      "DEBUG:urllib3.connectionpool:Starting new HTTPS connection (1): guide.michelin.com:443\n",
      "DEBUG:urllib3.connectionpool:https://guide.michelin.com:443 \"GET /en/it/restaurants/page/72 HTTP/1.1\" 200 None\n",
      "DEBUG:root:Analyzing page 73\n",
      "DEBUG:urllib3.connectionpool:Starting new HTTPS connection (1): guide.michelin.com:443\n",
      "DEBUG:urllib3.connectionpool:https://guide.michelin.com:443 \"GET /en/it/restaurants/page/73 HTTP/1.1\" 200 None\n",
      "DEBUG:root:Analyzing page 74\n",
      "DEBUG:urllib3.connectionpool:Starting new HTTPS connection (1): guide.michelin.com:443\n",
      "DEBUG:urllib3.connectionpool:https://guide.michelin.com:443 \"GET /en/it/restaurants/page/74 HTTP/1.1\" 200 None\n",
      "DEBUG:root:Analyzing page 75\n",
      "DEBUG:urllib3.connectionpool:Starting new HTTPS connection (1): guide.michelin.com:443\n",
      "DEBUG:urllib3.connectionpool:https://guide.michelin.com:443 \"GET /en/it/restaurants/page/75 HTTP/1.1\" 200 None\n",
      "DEBUG:root:Analyzing page 76\n",
      "DEBUG:urllib3.connectionpool:Starting new HTTPS connection (1): guide.michelin.com:443\n",
      "DEBUG:urllib3.connectionpool:https://guide.michelin.com:443 \"GET /en/it/restaurants/page/76 HTTP/1.1\" 200 None\n",
      "DEBUG:root:Analyzing page 77\n",
      "DEBUG:urllib3.connectionpool:Starting new HTTPS connection (1): guide.michelin.com:443\n",
      "DEBUG:urllib3.connectionpool:https://guide.michelin.com:443 \"GET /en/it/restaurants/page/77 HTTP/1.1\" 200 None\n",
      "DEBUG:root:Analyzing page 78\n",
      "DEBUG:urllib3.connectionpool:Starting new HTTPS connection (1): guide.michelin.com:443\n",
      "DEBUG:urllib3.connectionpool:https://guide.michelin.com:443 \"GET /en/it/restaurants/page/78 HTTP/1.1\" 200 None\n",
      "DEBUG:root:Analyzing page 79\n",
      "DEBUG:urllib3.connectionpool:Starting new HTTPS connection (1): guide.michelin.com:443\n",
      "DEBUG:urllib3.connectionpool:https://guide.michelin.com:443 \"GET /en/it/restaurants/page/79 HTTP/1.1\" 200 None\n",
      "DEBUG:root:Analyzing page 80\n",
      "DEBUG:urllib3.connectionpool:Starting new HTTPS connection (1): guide.michelin.com:443\n",
      "DEBUG:urllib3.connectionpool:https://guide.michelin.com:443 \"GET /en/it/restaurants/page/80 HTTP/1.1\" 200 None\n",
      "DEBUG:root:Analyzing page 81\n",
      "DEBUG:urllib3.connectionpool:Starting new HTTPS connection (1): guide.michelin.com:443\n",
      "DEBUG:urllib3.connectionpool:https://guide.michelin.com:443 \"GET /en/it/restaurants/page/81 HTTP/1.1\" 200 None\n",
      "DEBUG:root:Analyzing page 82\n",
      "DEBUG:urllib3.connectionpool:Starting new HTTPS connection (1): guide.michelin.com:443\n",
      "DEBUG:urllib3.connectionpool:https://guide.michelin.com:443 \"GET /en/it/restaurants/page/82 HTTP/1.1\" 200 None\n",
      "DEBUG:root:Analyzing page 83\n",
      "DEBUG:urllib3.connectionpool:Starting new HTTPS connection (1): guide.michelin.com:443\n",
      "DEBUG:urllib3.connectionpool:https://guide.michelin.com:443 \"GET /en/it/restaurants/page/83 HTTP/1.1\" 200 None\n",
      "DEBUG:root:Analyzing page 84\n",
      "DEBUG:urllib3.connectionpool:Starting new HTTPS connection (1): guide.michelin.com:443\n",
      "DEBUG:urllib3.connectionpool:https://guide.michelin.com:443 \"GET /en/it/restaurants/page/84 HTTP/1.1\" 200 None\n",
      "DEBUG:root:Analyzing page 85\n",
      "DEBUG:urllib3.connectionpool:Starting new HTTPS connection (1): guide.michelin.com:443\n",
      "DEBUG:urllib3.connectionpool:https://guide.michelin.com:443 \"GET /en/it/restaurants/page/85 HTTP/1.1\" 200 None\n",
      "DEBUG:root:Analyzing page 86\n",
      "DEBUG:urllib3.connectionpool:Starting new HTTPS connection (1): guide.michelin.com:443\n",
      "DEBUG:urllib3.connectionpool:https://guide.michelin.com:443 \"GET /en/it/restaurants/page/86 HTTP/1.1\" 200 None\n",
      "DEBUG:root:Analyzing page 87\n",
      "DEBUG:urllib3.connectionpool:Starting new HTTPS connection (1): guide.michelin.com:443\n",
      "DEBUG:urllib3.connectionpool:https://guide.michelin.com:443 \"GET /en/it/restaurants/page/87 HTTP/1.1\" 200 None\n",
      "DEBUG:root:Analyzing page 88\n",
      "DEBUG:urllib3.connectionpool:Starting new HTTPS connection (1): guide.michelin.com:443\n",
      "DEBUG:urllib3.connectionpool:https://guide.michelin.com:443 \"GET /en/it/restaurants/page/88 HTTP/1.1\" 200 None\n",
      "DEBUG:root:Analyzing page 89\n",
      "DEBUG:urllib3.connectionpool:Starting new HTTPS connection (1): guide.michelin.com:443\n",
      "DEBUG:urllib3.connectionpool:https://guide.michelin.com:443 \"GET /en/it/restaurants/page/89 HTTP/1.1\" 200 None\n",
      "DEBUG:root:Analyzing page 90\n",
      "DEBUG:urllib3.connectionpool:Starting new HTTPS connection (1): guide.michelin.com:443\n",
      "DEBUG:urllib3.connectionpool:https://guide.michelin.com:443 \"GET /en/it/restaurants/page/90 HTTP/1.1\" 200 None\n",
      "DEBUG:root:Analyzing page 91\n",
      "DEBUG:urllib3.connectionpool:Starting new HTTPS connection (1): guide.michelin.com:443\n",
      "DEBUG:urllib3.connectionpool:https://guide.michelin.com:443 \"GET /en/it/restaurants/page/91 HTTP/1.1\" 200 None\n",
      "DEBUG:root:Analyzing page 92\n",
      "DEBUG:urllib3.connectionpool:Starting new HTTPS connection (1): guide.michelin.com:443\n",
      "DEBUG:urllib3.connectionpool:https://guide.michelin.com:443 \"GET /en/it/restaurants/page/92 HTTP/1.1\" 200 None\n",
      "DEBUG:root:Analyzing page 93\n",
      "DEBUG:urllib3.connectionpool:Starting new HTTPS connection (1): guide.michelin.com:443\n",
      "DEBUG:urllib3.connectionpool:https://guide.michelin.com:443 \"GET /en/it/restaurants/page/93 HTTP/1.1\" 200 None\n",
      "DEBUG:root:Analyzing page 94\n",
      "DEBUG:urllib3.connectionpool:Starting new HTTPS connection (1): guide.michelin.com:443\n",
      "DEBUG:urllib3.connectionpool:https://guide.michelin.com:443 \"GET /en/it/restaurants/page/94 HTTP/1.1\" 200 None\n",
      "DEBUG:root:Analyzing page 95\n",
      "DEBUG:urllib3.connectionpool:Starting new HTTPS connection (1): guide.michelin.com:443\n",
      "DEBUG:urllib3.connectionpool:https://guide.michelin.com:443 \"GET /en/it/restaurants/page/95 HTTP/1.1\" 200 None\n",
      "DEBUG:root:Analyzing page 96\n",
      "DEBUG:urllib3.connectionpool:Starting new HTTPS connection (1): guide.michelin.com:443\n",
      "DEBUG:urllib3.connectionpool:https://guide.michelin.com:443 \"GET /en/it/restaurants/page/96 HTTP/1.1\" 200 None\n",
      "DEBUG:root:Analyzing page 97\n",
      "DEBUG:urllib3.connectionpool:Starting new HTTPS connection (1): guide.michelin.com:443\n",
      "DEBUG:urllib3.connectionpool:https://guide.michelin.com:443 \"GET /en/it/restaurants/page/97 HTTP/1.1\" 200 None\n",
      "DEBUG:root:Analyzing page 98\n",
      "DEBUG:urllib3.connectionpool:Starting new HTTPS connection (1): guide.michelin.com:443\n",
      "DEBUG:urllib3.connectionpool:https://guide.michelin.com:443 \"GET /en/it/restaurants/page/98 HTTP/1.1\" 200 None\n",
      "DEBUG:root:Analyzing page 99\n",
      "DEBUG:urllib3.connectionpool:Starting new HTTPS connection (1): guide.michelin.com:443\n",
      "DEBUG:urllib3.connectionpool:https://guide.michelin.com:443 \"GET /en/it/restaurants/page/99 HTTP/1.1\" 200 None\n",
      "DEBUG:root:Analyzing page 100\n",
      "DEBUG:urllib3.connectionpool:Starting new HTTPS connection (1): guide.michelin.com:443\n",
      "DEBUG:urllib3.connectionpool:https://guide.michelin.com:443 \"GET /en/it/restaurants/page/100 HTTP/1.1\" 200 None\n",
      "DEBUG:root:Analyzing page 101\n",
      "DEBUG:urllib3.connectionpool:Starting new HTTPS connection (1): guide.michelin.com:443\n",
      "DEBUG:urllib3.connectionpool:https://guide.michelin.com:443 \"GET /en/it/restaurants/page/101 HTTP/1.1\" 404 None\n",
      "ERROR:root:Failed to fetch page 101: 404 Client Error: Not Found for url: https://guide.michelin.com/en/it/restaurants/page/101\n",
      "DEBUG:root:Analyzing page 102\n",
      "DEBUG:urllib3.connectionpool:Starting new HTTPS connection (1): guide.michelin.com:443\n",
      "DEBUG:urllib3.connectionpool:https://guide.michelin.com:443 \"GET /en/it/restaurants/page/102 HTTP/1.1\" 404 None\n",
      "ERROR:root:Failed to fetch page 102: 404 Client Error: Not Found for url: https://guide.michelin.com/en/it/restaurants/page/102\n",
      "INFO:root:Saving URLs to michelin_urls.txt\n",
      "INFO:root:URL collection completed.\n",
      "INFO:root:Time to collect urls: 108.09139847755432 seconds\n"
     ]
    }
   ],
   "source": [
    "from DataCollection.crawler import get_michelin_urls\n",
    "import logging\n",
    "import time\n",
    "\n",
    "logging.basicConfig(level=logging.INFO, format='%(asctime)s - %(levelname)s - %(message)s')\n",
    "\n",
    "start_time = time.time()\n",
    "get_michelin_urls()\n",
    "logging.info(f\"Time to collect urls: {time.time() - start_time} seconds\") # <3"
   ]
  },
  {
   "cell_type": "markdown",
   "metadata": {},
   "source": [
    "### **1.2 Crawl Michelin restaurant pages**"
   ]
  },
  {
   "cell_type": "markdown",
   "metadata": {},
   "source": [
    "Using asyncio in the web scraping code allows to handle multiple HTML downloads concurrently, making the process faster and more efficient. Instead of waiting for each download to complete before starting the next (sequentially), the event loop jumps to the next available task when one is waiting for data, allowing to download multiple pages at the same time.\n",
    "\n",
    "More info can be found [here](https://www.zenrows.com/blog/asynchronous-web-scraping-python#what-is-asynchronous-web-scraping), while the official Github repository is avaible at this [link](https://github.com/oxylabs/asynchronous-web-scraping-python)\n"
   ]
  },
  {
   "cell_type": "markdown",
   "metadata": {},
   "source": [
    " Apparently the reason why ``` engine.py ``` was working but calling here was not, is that jupyter run an event loop in the background that is not compatible with our asyncio library"
   ]
  },
  {
   "cell_type": "code",
   "execution_count": 9,
   "metadata": {},
   "outputs": [
    {
     "name": "stderr",
     "output_type": "stream",
     "text": [
      "INFO:root:Downloading batch 1\n",
      "DEBUG:root:Saved HTML to page_1\\restaurant_15.html\n",
      "DEBUG:root:Saved HTML to page_1\\restaurant_17.html\n",
      "DEBUG:root:Saved HTML to page_1\\restaurant_7.html\n",
      "DEBUG:root:Saved HTML to page_1\\restaurant_9.html\n",
      "DEBUG:root:Saved HTML to page_1\\restaurant_6.html\n",
      "DEBUG:root:Saved HTML to page_1\\restaurant_5.html\n",
      "DEBUG:root:Saved HTML to page_1\\restaurant_10.html\n",
      "DEBUG:root:Saved HTML to page_1\\restaurant_1.html\n",
      "DEBUG:root:Saved HTML to page_1\\restaurant_18.html\n",
      "DEBUG:root:Saved HTML to page_1\\restaurant_13.html\n",
      "DEBUG:root:Saved HTML to page_1\\restaurant_8.html\n",
      "DEBUG:root:Saved HTML to page_1\\restaurant_12.html\n",
      "DEBUG:root:Saved HTML to page_1\\restaurant_4.html\n",
      "DEBUG:root:Saved HTML to page_1\\restaurant_19.html\n",
      "DEBUG:root:Saved HTML to page_1\\restaurant_3.html\n",
      "DEBUG:root:Saved HTML to page_1\\restaurant_14.html\n",
      "DEBUG:root:Saved HTML to page_1\\restaurant_11.html\n",
      "DEBUG:root:Saved HTML to page_1\\restaurant_20.html\n",
      "DEBUG:root:Saved HTML to page_1\\restaurant_16.html\n",
      "DEBUG:root:Saved HTML to page_1\\restaurant_2.html\n",
      "INFO:root:Downloading batch 2\n",
      "DEBUG:root:Saved HTML to page_2\\restaurant_36.html\n",
      "DEBUG:root:Saved HTML to page_2\\restaurant_40.html\n",
      "DEBUG:root:Saved HTML to page_2\\restaurant_37.html\n",
      "DEBUG:root:Saved HTML to page_2\\restaurant_27.html\n",
      "DEBUG:root:Saved HTML to page_2\\restaurant_32.html\n",
      "DEBUG:root:Saved HTML to page_2\\restaurant_33.html\n",
      "DEBUG:root:Saved HTML to page_2\\restaurant_22.html\n",
      "DEBUG:root:Saved HTML to page_2\\restaurant_24.html\n",
      "DEBUG:root:Saved HTML to page_2\\restaurant_28.html\n",
      "DEBUG:root:Saved HTML to page_2\\restaurant_23.html\n",
      "DEBUG:root:Saved HTML to page_2\\restaurant_21.html\n",
      "DEBUG:root:Saved HTML to page_2\\restaurant_25.html\n",
      "DEBUG:root:Saved HTML to page_2\\restaurant_35.html\n",
      "DEBUG:root:Saved HTML to page_2\\restaurant_39.html\n",
      "DEBUG:root:Saved HTML to page_2\\restaurant_31.html\n",
      "DEBUG:root:Saved HTML to page_2\\restaurant_26.html\n",
      "DEBUG:root:Saved HTML to page_2\\restaurant_38.html\n",
      "DEBUG:root:Saved HTML to page_2\\restaurant_30.html\n",
      "DEBUG:root:Saved HTML to page_2\\restaurant_29.html\n",
      "DEBUG:root:Saved HTML to page_2\\restaurant_34.html\n",
      "INFO:root:Downloading batch 3\n",
      "DEBUG:root:Saved HTML to page_3\\restaurant_48.html\n",
      "DEBUG:root:Saved HTML to page_3\\restaurant_59.html\n",
      "DEBUG:root:Saved HTML to page_3\\restaurant_47.html\n",
      "DEBUG:root:Saved HTML to page_3\\restaurant_41.html\n",
      "DEBUG:root:Saved HTML to page_3\\restaurant_55.html\n",
      "DEBUG:root:Saved HTML to page_3\\restaurant_58.html\n",
      "DEBUG:root:Saved HTML to page_3\\restaurant_60.html\n",
      "DEBUG:root:Saved HTML to page_3\\restaurant_46.html\n",
      "DEBUG:root:Saved HTML to page_3\\restaurant_44.html\n",
      "DEBUG:root:Saved HTML to page_3\\restaurant_43.html\n",
      "DEBUG:root:Saved HTML to page_3\\restaurant_56.html\n",
      "DEBUG:root:Saved HTML to page_3\\restaurant_42.html\n",
      "DEBUG:root:Saved HTML to page_3\\restaurant_53.html\n",
      "DEBUG:root:Saved HTML to page_3\\restaurant_57.html\n",
      "DEBUG:root:Saved HTML to page_3\\restaurant_51.html\n",
      "DEBUG:root:Saved HTML to page_3\\restaurant_45.html\n",
      "DEBUG:root:Saved HTML to page_3\\restaurant_49.html\n",
      "DEBUG:root:Saved HTML to page_3\\restaurant_54.html\n",
      "DEBUG:root:Saved HTML to page_3\\restaurant_52.html\n",
      "DEBUG:root:Saved HTML to page_3\\restaurant_50.html\n",
      "INFO:root:Downloading batch 4\n",
      "DEBUG:root:Saved HTML to page_4\\restaurant_78.html\n",
      "DEBUG:root:Saved HTML to page_4\\restaurant_75.html\n",
      "DEBUG:root:Saved HTML to page_4\\restaurant_66.html\n",
      "DEBUG:root:Saved HTML to page_4\\restaurant_74.html\n",
      "DEBUG:root:Saved HTML to page_4\\restaurant_64.html\n",
      "DEBUG:root:Saved HTML to page_4\\restaurant_70.html\n",
      "DEBUG:root:Saved HTML to page_4\\restaurant_76.html\n",
      "DEBUG:root:Saved HTML to page_4\\restaurant_61.html\n",
      "DEBUG:root:Saved HTML to page_4\\restaurant_77.html\n",
      "DEBUG:root:Saved HTML to page_4\\restaurant_73.html\n",
      "DEBUG:root:Saved HTML to page_4\\restaurant_71.html\n",
      "DEBUG:root:Saved HTML to page_4\\restaurant_63.html\n",
      "DEBUG:root:Saved HTML to page_4\\restaurant_80.html\n",
      "DEBUG:root:Saved HTML to page_4\\restaurant_68.html\n",
      "DEBUG:root:Saved HTML to page_4\\restaurant_79.html\n",
      "DEBUG:root:Saved HTML to page_4\\restaurant_67.html\n",
      "DEBUG:root:Saved HTML to page_4\\restaurant_72.html\n",
      "DEBUG:root:Saved HTML to page_4\\restaurant_65.html\n",
      "DEBUG:root:Saved HTML to page_4\\restaurant_69.html\n"
     ]
    },
    {
     "ename": "CancelledError",
     "evalue": "",
     "output_type": "error",
     "traceback": [
      "\u001b[1;31m---------------------------------------------------------------------------\u001b[0m",
      "\u001b[1;31mCancelledError\u001b[0m                            Traceback (most recent call last)",
      "Cell \u001b[1;32mIn[9], line 9\u001b[0m\n\u001b[0;32m      6\u001b[0m \u001b[38;5;28;01masync\u001b[39;00m \u001b[38;5;28;01mdef\u001b[39;00m \u001b[38;5;21mmain\u001b[39m(): \u001b[38;5;66;03m# This allow us to run the function asynchronously\u001b[39;00m\n\u001b[0;32m      7\u001b[0m     \u001b[38;5;28;01mawait\u001b[39;00m download_html_async() \n\u001b[1;32m----> 9\u001b[0m \u001b[38;5;28;01mawait\u001b[39;00m main()\n\u001b[0;32m     11\u001b[0m \u001b[38;5;66;03m# Apparently the reason why engine.py was working but calling here was not, is that jupyter run an event loop in the background that is not compatible with our asyncio library\u001b[39;00m\n",
      "Cell \u001b[1;32mIn[9], line 7\u001b[0m, in \u001b[0;36mmain\u001b[1;34m()\u001b[0m\n\u001b[0;32m      6\u001b[0m \u001b[38;5;28;01masync\u001b[39;00m \u001b[38;5;28;01mdef\u001b[39;00m \u001b[38;5;21mmain\u001b[39m(): \u001b[38;5;66;03m# This allow us to run the function asynchronously\u001b[39;00m\n\u001b[1;32m----> 7\u001b[0m     \u001b[38;5;28;01mawait\u001b[39;00m download_html_async()\n",
      "File \u001b[1;32mc:\\Users\\emanu\\ADM-HW3\\DataCollection\\crawler.py:128\u001b[0m, in \u001b[0;36mdownload_html_async\u001b[1;34m(urls_file, batch_size)\u001b[0m\n\u001b[0;32m    126\u001b[0m         \u001b[38;5;28;01mif\u001b[39;00m (i \u001b[38;5;241m+\u001b[39m \u001b[38;5;241m1\u001b[39m) \u001b[38;5;241m%\u001b[39m batch_size \u001b[38;5;241m==\u001b[39m \u001b[38;5;241m0\u001b[39m \u001b[38;5;129;01mor\u001b[39;00m (i \u001b[38;5;241m+\u001b[39m \u001b[38;5;241m1\u001b[39m) \u001b[38;5;241m==\u001b[39m \u001b[38;5;28mlen\u001b[39m(restaurant_urls): \u001b[38;5;66;03m# for every batch_size URLs\u001b[39;00m\n\u001b[0;32m    127\u001b[0m             logging\u001b[38;5;241m.\u001b[39minfo(\u001b[38;5;124mf\u001b[39m\u001b[38;5;124m\"\u001b[39m\u001b[38;5;124mDownloading batch \u001b[39m\u001b[38;5;132;01m{\u001b[39;00mi\u001b[38;5;250m \u001b[39m\u001b[38;5;241m/\u001b[39m\u001b[38;5;241m/\u001b[39m\u001b[38;5;250m \u001b[39mbatch_size\u001b[38;5;250m \u001b[39m\u001b[38;5;241m+\u001b[39m\u001b[38;5;250m \u001b[39m\u001b[38;5;241m1\u001b[39m\u001b[38;5;132;01m}\u001b[39;00m\u001b[38;5;124m\"\u001b[39m)\n\u001b[1;32m--> 128\u001b[0m             \u001b[38;5;28;01mawait\u001b[39;00m asyncio\u001b[38;5;241m.\u001b[39mgather(\u001b[38;5;241m*\u001b[39mtasks) \u001b[38;5;66;03m# runs the batch concurrently\u001b[39;00m\n\u001b[0;32m    129\u001b[0m             tasks\u001b[38;5;241m.\u001b[39mclear()  \u001b[38;5;66;03m# Clear completed tasks to manage memory\u001b[39;00m\n\u001b[0;32m    131\u001b[0m logging\u001b[38;5;241m.\u001b[39minfo(\u001b[38;5;124m\"\u001b[39m\u001b[38;5;124mAll HTML downloads completed.\u001b[39m\u001b[38;5;124m\"\u001b[39m)\n",
      "File \u001b[1;32mc:\\Users\\emanu\\ADM-HW3\\DataCollection\\crawler.py:89\u001b[0m, in \u001b[0;36mfetch_and_save_html\u001b[1;34m(session, url, folder, filename, headers)\u001b[0m\n\u001b[0;32m     86\u001b[0m     \u001b[38;5;28;01mreturn\u001b[39;00m\n\u001b[0;32m     88\u001b[0m response\u001b[38;5;241m.\u001b[39mraise_for_status()  \n\u001b[1;32m---> 89\u001b[0m html_content \u001b[38;5;241m=\u001b[39m \u001b[38;5;28;01mawait\u001b[39;00m response\u001b[38;5;241m.\u001b[39mtext()\n\u001b[0;32m     91\u001b[0m html_content \u001b[38;5;241m=\u001b[39m \u001b[38;5;124mf\u001b[39m\u001b[38;5;124m\"\u001b[39m\u001b[38;5;124m<!-- URL: \u001b[39m\u001b[38;5;132;01m{\u001b[39;00murl\u001b[38;5;132;01m}\u001b[39;00m\u001b[38;5;124m -->\u001b[39m\u001b[38;5;130;01m\\n\u001b[39;00m\u001b[38;5;124m\"\u001b[39m \u001b[38;5;241m+\u001b[39m html_content \u001b[38;5;66;03m# we leave info regarding the url that will be usefull later\u001b[39;00m\n\u001b[0;32m     93\u001b[0m \u001b[38;5;66;03m# Save HTML content to the specified file\u001b[39;00m\n",
      "File \u001b[1;32mc:\\Users\\emanu\\miniconda3\\envs\\BasicPy\\Lib\\site-packages\\aiohttp\\client_reqrep.py:1153\u001b[0m, in \u001b[0;36mClientResponse.text\u001b[1;34m(self, encoding, errors)\u001b[0m\n\u001b[0;32m   1151\u001b[0m \u001b[38;5;250m\u001b[39m\u001b[38;5;124;03m\"\"\"Read response payload and decode.\"\"\"\u001b[39;00m\n\u001b[0;32m   1152\u001b[0m \u001b[38;5;28;01mif\u001b[39;00m \u001b[38;5;28mself\u001b[39m\u001b[38;5;241m.\u001b[39m_body \u001b[38;5;129;01mis\u001b[39;00m \u001b[38;5;28;01mNone\u001b[39;00m:\n\u001b[1;32m-> 1153\u001b[0m     \u001b[38;5;28;01mawait\u001b[39;00m \u001b[38;5;28mself\u001b[39m\u001b[38;5;241m.\u001b[39mread()\n\u001b[0;32m   1155\u001b[0m \u001b[38;5;28;01mif\u001b[39;00m encoding \u001b[38;5;129;01mis\u001b[39;00m \u001b[38;5;28;01mNone\u001b[39;00m:\n\u001b[0;32m   1156\u001b[0m     encoding \u001b[38;5;241m=\u001b[39m \u001b[38;5;28mself\u001b[39m\u001b[38;5;241m.\u001b[39mget_encoding()\n",
      "File \u001b[1;32mc:\\Users\\emanu\\miniconda3\\envs\\BasicPy\\Lib\\site-packages\\aiohttp\\client_reqrep.py:1111\u001b[0m, in \u001b[0;36mClientResponse.read\u001b[1;34m(self)\u001b[0m\n\u001b[0;32m   1109\u001b[0m \u001b[38;5;28;01mif\u001b[39;00m \u001b[38;5;28mself\u001b[39m\u001b[38;5;241m.\u001b[39m_body \u001b[38;5;129;01mis\u001b[39;00m \u001b[38;5;28;01mNone\u001b[39;00m:\n\u001b[0;32m   1110\u001b[0m     \u001b[38;5;28;01mtry\u001b[39;00m:\n\u001b[1;32m-> 1111\u001b[0m         \u001b[38;5;28mself\u001b[39m\u001b[38;5;241m.\u001b[39m_body \u001b[38;5;241m=\u001b[39m \u001b[38;5;28;01mawait\u001b[39;00m \u001b[38;5;28mself\u001b[39m\u001b[38;5;241m.\u001b[39mcontent\u001b[38;5;241m.\u001b[39mread()\n\u001b[0;32m   1112\u001b[0m         \u001b[38;5;28;01mfor\u001b[39;00m trace \u001b[38;5;129;01min\u001b[39;00m \u001b[38;5;28mself\u001b[39m\u001b[38;5;241m.\u001b[39m_traces:\n\u001b[0;32m   1113\u001b[0m             \u001b[38;5;28;01mawait\u001b[39;00m trace\u001b[38;5;241m.\u001b[39msend_response_chunk_received(\n\u001b[0;32m   1114\u001b[0m                 \u001b[38;5;28mself\u001b[39m\u001b[38;5;241m.\u001b[39mmethod, \u001b[38;5;28mself\u001b[39m\u001b[38;5;241m.\u001b[39murl, \u001b[38;5;28mself\u001b[39m\u001b[38;5;241m.\u001b[39m_body\n\u001b[0;32m   1115\u001b[0m             )\n",
      "File \u001b[1;32mc:\\Users\\emanu\\miniconda3\\envs\\BasicPy\\Lib\\site-packages\\aiohttp\\streams.py:383\u001b[0m, in \u001b[0;36mStreamReader.read\u001b[1;34m(self, n)\u001b[0m\n\u001b[0;32m    381\u001b[0m blocks \u001b[38;5;241m=\u001b[39m []\n\u001b[0;32m    382\u001b[0m \u001b[38;5;28;01mwhile\u001b[39;00m \u001b[38;5;28;01mTrue\u001b[39;00m:\n\u001b[1;32m--> 383\u001b[0m     block \u001b[38;5;241m=\u001b[39m \u001b[38;5;28;01mawait\u001b[39;00m \u001b[38;5;28mself\u001b[39m\u001b[38;5;241m.\u001b[39mreadany()\n\u001b[0;32m    384\u001b[0m     \u001b[38;5;28;01mif\u001b[39;00m \u001b[38;5;129;01mnot\u001b[39;00m block:\n\u001b[0;32m    385\u001b[0m         \u001b[38;5;28;01mbreak\u001b[39;00m\n",
      "File \u001b[1;32mc:\\Users\\emanu\\miniconda3\\envs\\BasicPy\\Lib\\site-packages\\aiohttp\\streams.py:405\u001b[0m, in \u001b[0;36mStreamReader.readany\u001b[1;34m(self)\u001b[0m\n\u001b[0;32m    401\u001b[0m \u001b[38;5;66;03m# TODO: should be `if` instead of `while`\u001b[39;00m\n\u001b[0;32m    402\u001b[0m \u001b[38;5;66;03m# because waiter maybe triggered on chunk end,\u001b[39;00m\n\u001b[0;32m    403\u001b[0m \u001b[38;5;66;03m# without feeding any data\u001b[39;00m\n\u001b[0;32m    404\u001b[0m \u001b[38;5;28;01mwhile\u001b[39;00m \u001b[38;5;129;01mnot\u001b[39;00m \u001b[38;5;28mself\u001b[39m\u001b[38;5;241m.\u001b[39m_buffer \u001b[38;5;129;01mand\u001b[39;00m \u001b[38;5;129;01mnot\u001b[39;00m \u001b[38;5;28mself\u001b[39m\u001b[38;5;241m.\u001b[39m_eof:\n\u001b[1;32m--> 405\u001b[0m     \u001b[38;5;28;01mawait\u001b[39;00m \u001b[38;5;28mself\u001b[39m\u001b[38;5;241m.\u001b[39m_wait(\u001b[38;5;124m\"\u001b[39m\u001b[38;5;124mreadany\u001b[39m\u001b[38;5;124m\"\u001b[39m)\n\u001b[0;32m    407\u001b[0m \u001b[38;5;28;01mreturn\u001b[39;00m \u001b[38;5;28mself\u001b[39m\u001b[38;5;241m.\u001b[39m_read_nowait(\u001b[38;5;241m-\u001b[39m\u001b[38;5;241m1\u001b[39m)\n",
      "File \u001b[1;32mc:\\Users\\emanu\\miniconda3\\envs\\BasicPy\\Lib\\site-packages\\aiohttp\\streams.py:312\u001b[0m, in \u001b[0;36mStreamReader._wait\u001b[1;34m(self, func_name)\u001b[0m\n\u001b[0;32m    310\u001b[0m \u001b[38;5;28;01mtry\u001b[39;00m:\n\u001b[0;32m    311\u001b[0m     \u001b[38;5;28;01mwith\u001b[39;00m \u001b[38;5;28mself\u001b[39m\u001b[38;5;241m.\u001b[39m_timer:\n\u001b[1;32m--> 312\u001b[0m         \u001b[38;5;28;01mawait\u001b[39;00m waiter\n\u001b[0;32m    313\u001b[0m \u001b[38;5;28;01mfinally\u001b[39;00m:\n\u001b[0;32m    314\u001b[0m     \u001b[38;5;28mself\u001b[39m\u001b[38;5;241m.\u001b[39m_waiter \u001b[38;5;241m=\u001b[39m \u001b[38;5;28;01mNone\u001b[39;00m\n",
      "\u001b[1;31mCancelledError\u001b[0m: "
     ]
    }
   ],
   "source": [
    "from DataCollection.crawler import download_html_async\n",
    "\n",
    "# I was having the following error: asyncio.run() cannot be called from a running event loop \n",
    "# solution was found here: https://community.openai.com/t/error-when-using-langchain-webresearchretriever-runtimeerror-asyncio-run-cannot-be-called-from-a-running-event-loop/341969/5\n",
    "# and here: https://github.com/googlecolab/colabtools/issues/3720\n",
    "async def main(): # This allow us to run the function asynchronously\n",
    "    await download_html_async() \n",
    "\n",
    "await main()\n",
    "\n",
    "# Apparently the reason why engine.py was working but calling here was not, is that jupyter run an event loop in the background that is not compatible with our asyncio library"
   ]
  },
  {
   "cell_type": "code",
   "execution_count": 6,
   "metadata": {},
   "outputs": [
    {
     "name": "stdout",
     "output_type": "stream",
     "text": [
      "Created main folder: michelin_restaurants\n",
      "All page_* folders have been organized into the main folder.\n"
     ]
    }
   ],
   "source": [
    "# moves folders under same main folder for cleaness\n",
    "from DataCollection.organize_folders import organize_folders\n",
    "organize_folders()"
   ]
  },
  {
   "cell_type": "markdown",
   "metadata": {},
   "source": [
    "### **1.3 Parse downloaded pages**"
   ]
  },
  {
   "cell_type": "markdown",
   "metadata": {},
   "source": [
    "With the same method, we use asyncio for parsing, allowing to process multiple HTML files at the same time.\n",
    "Additionally, the use of batches allow us to control the parallelism without overloading our sources, this way we analyze 100 files per batch. \n",
    "\n",
    "Smart and efficient way to perform it!"
   ]
  },
  {
   "cell_type": "code",
   "execution_count": 7,
   "metadata": {},
   "outputs": [
    {
     "name": "stderr",
     "output_type": "stream",
     "text": [
      "INFO:root:Starting to parse all restaurants.\n",
      "DEBUG:root:TSV file header written.\n",
      "INFO:root:Processing batch 1 with 100 files.\n",
      "INFO:root:Processing batch 2 with 100 files.\n",
      "INFO:root:Processing batch 3 with 100 files.\n",
      "INFO:root:Processing batch 4 with 100 files.\n",
      "INFO:root:Processing batch 5 with 100 files.\n",
      "INFO:root:Processing batch 6 with 100 files.\n",
      "INFO:root:Processing batch 7 with 100 files.\n",
      "INFO:root:Processing batch 8 with 100 files.\n",
      "INFO:root:Processing batch 9 with 100 files.\n",
      "INFO:root:Processing batch 10 with 100 files.\n",
      "INFO:root:Processing batch 11 with 100 files.\n",
      "INFO:root:Processing batch 12 with 100 files.\n",
      "INFO:root:Processing batch 13 with 100 files.\n",
      "INFO:root:Processing batch 14 with 100 files.\n",
      "INFO:root:Processing batch 15 with 100 files.\n",
      "INFO:root:Processing batch 16 with 100 files.\n",
      "INFO:root:Processing batch 17 with 100 files.\n",
      "INFO:root:Processing batch 18 with 100 files.\n",
      "INFO:root:Processing batch 19 with 100 files.\n",
      "INFO:root:Processing batch 20 with 82 files.\n",
      "INFO:root:Data extraction completed. Results saved to michelin_restaurants_data.tsv\n"
     ]
    }
   ],
   "source": [
    "from DataCollection.parser import parse_all_restaurants\n",
    "import asyncio\n",
    "await parse_all_restaurants()"
   ]
  },
  {
   "cell_type": "code",
   "execution_count": 10,
   "metadata": {},
   "outputs": [
    {
     "ename": "FileNotFoundError",
     "evalue": "[WinError 3] Impossibile trovare il percorso specificato: 'michelin_restaurants'",
     "output_type": "error",
     "traceback": [
      "\u001b[1;31m---------------------------------------------------------------------------\u001b[0m",
      "\u001b[1;31mFileNotFoundError\u001b[0m                         Traceback (most recent call last)",
      "Cell \u001b[1;32mIn[10], line 3\u001b[0m\n\u001b[0;32m      1\u001b[0m \u001b[38;5;28;01mimport\u001b[39;00m \u001b[38;5;21;01mshutil\u001b[39;00m\n\u001b[0;32m      2\u001b[0m folder_path \u001b[38;5;241m=\u001b[39m \u001b[38;5;124m\"\u001b[39m\u001b[38;5;124mmichelin_restaurants\u001b[39m\u001b[38;5;124m\"\u001b[39m\n\u001b[1;32m----> 3\u001b[0m \u001b[43mshutil\u001b[49m\u001b[38;5;241;43m.\u001b[39;49m\u001b[43mrmtree\u001b[49m\u001b[43m(\u001b[49m\u001b[43mfolder_path\u001b[49m\u001b[43m)\u001b[49m\n\u001b[0;32m      4\u001b[0m \u001b[38;5;28mprint\u001b[39m(\u001b[38;5;124mf\u001b[39m\u001b[38;5;124m\"\u001b[39m\u001b[38;5;124mThe folder \u001b[39m\u001b[38;5;124m'\u001b[39m\u001b[38;5;132;01m{\u001b[39;00mfolder_path\u001b[38;5;132;01m}\u001b[39;00m\u001b[38;5;124m'\u001b[39m\u001b[38;5;124m has been deleted successfully.\u001b[39m\u001b[38;5;124m\"\u001b[39m)\n\u001b[0;32m      5\u001b[0m \u001b[38;5;66;03m# it's too heavy to push it and anyway we don't neeed it anymore \u001b[39;00m\n",
      "File \u001b[1;32mc:\\Users\\emanu\\miniconda3\\envs\\BasicPy\\Lib\\shutil.py:820\u001b[0m, in \u001b[0;36mrmtree\u001b[1;34m(path, ignore_errors, onerror, onexc, dir_fd)\u001b[0m\n\u001b[0;32m    818\u001b[0m     \u001b[38;5;66;03m# can't continue even if onexc hook returns\u001b[39;00m\n\u001b[0;32m    819\u001b[0m     \u001b[38;5;28;01mreturn\u001b[39;00m\n\u001b[1;32m--> 820\u001b[0m \u001b[38;5;28;01mreturn\u001b[39;00m \u001b[43m_rmtree_unsafe\u001b[49m\u001b[43m(\u001b[49m\u001b[43mpath\u001b[49m\u001b[43m,\u001b[49m\u001b[43m \u001b[49m\u001b[43monexc\u001b[49m\u001b[43m)\u001b[49m\n",
      "File \u001b[1;32mc:\\Users\\emanu\\miniconda3\\envs\\BasicPy\\Lib\\shutil.py:624\u001b[0m, in \u001b[0;36m_rmtree_unsafe\u001b[1;34m(path, onexc)\u001b[0m\n\u001b[0;32m    622\u001b[0m         entries \u001b[38;5;241m=\u001b[39m \u001b[38;5;28mlist\u001b[39m(scandir_it)\n\u001b[0;32m    623\u001b[0m \u001b[38;5;28;01mexcept\u001b[39;00m \u001b[38;5;167;01mOSError\u001b[39;00m \u001b[38;5;28;01mas\u001b[39;00m err:\n\u001b[1;32m--> 624\u001b[0m     \u001b[43monexc\u001b[49m\u001b[43m(\u001b[49m\u001b[43mos\u001b[49m\u001b[38;5;241;43m.\u001b[39;49m\u001b[43mscandir\u001b[49m\u001b[43m,\u001b[49m\u001b[43m \u001b[49m\u001b[43mpath\u001b[49m\u001b[43m,\u001b[49m\u001b[43m \u001b[49m\u001b[43merr\u001b[49m\u001b[43m)\u001b[49m\n\u001b[0;32m    625\u001b[0m     entries \u001b[38;5;241m=\u001b[39m []\n\u001b[0;32m    626\u001b[0m \u001b[38;5;28;01mfor\u001b[39;00m entry \u001b[38;5;129;01min\u001b[39;00m entries:\n",
      "File \u001b[1;32mc:\\Users\\emanu\\miniconda3\\envs\\BasicPy\\Lib\\shutil.py:621\u001b[0m, in \u001b[0;36m_rmtree_unsafe\u001b[1;34m(path, onexc)\u001b[0m\n\u001b[0;32m    619\u001b[0m \u001b[38;5;28;01mdef\u001b[39;00m \u001b[38;5;21m_rmtree_unsafe\u001b[39m(path, onexc):\n\u001b[0;32m    620\u001b[0m     \u001b[38;5;28;01mtry\u001b[39;00m:\n\u001b[1;32m--> 621\u001b[0m         \u001b[38;5;28;01mwith\u001b[39;00m \u001b[43mos\u001b[49m\u001b[38;5;241;43m.\u001b[39;49m\u001b[43mscandir\u001b[49m\u001b[43m(\u001b[49m\u001b[43mpath\u001b[49m\u001b[43m)\u001b[49m \u001b[38;5;28;01mas\u001b[39;00m scandir_it:\n\u001b[0;32m    622\u001b[0m             entries \u001b[38;5;241m=\u001b[39m \u001b[38;5;28mlist\u001b[39m(scandir_it)\n\u001b[0;32m    623\u001b[0m     \u001b[38;5;28;01mexcept\u001b[39;00m \u001b[38;5;167;01mOSError\u001b[39;00m \u001b[38;5;28;01mas\u001b[39;00m err:\n",
      "\u001b[1;31mFileNotFoundError\u001b[0m: [WinError 3] Impossibile trovare il percorso specificato: 'michelin_restaurants'"
     ]
    }
   ],
   "source": [
    "import shutil\n",
    "folder_path = \"michelin_restaurants\"\n",
    "shutil.rmtree(folder_path)\n",
    "print(f\"The folder '{folder_path}' has been deleted successfully.\")\n",
    "# it's too heavy to push it and anyway we don't neeed it anymore "
   ]
  },
  {
   "cell_type": "code",
   "execution_count": 11,
   "metadata": {},
   "outputs": [
    {
     "name": "stdout",
     "output_type": "stream",
     "text": [
      "Conversion complete: michelin_restaurants_data.csv\n"
     ]
    }
   ],
   "source": [
    "from DataCollection.file_type_converter import tsv_to_csv\n",
    "tsv_to_csv('michelin_restaurants_data.tsv', 'michelin_restaurants_data.csv')"
   ]
  },
  {
   "cell_type": "markdown",
   "metadata": {},
   "source": [
    "## **2. Search Engine**\n",
    "\n",
    "___"
   ]
  },
  {
   "cell_type": "markdown",
   "metadata": {},
   "source": [
    "### **2.0 Preprocessing**"
   ]
  },
  {
   "cell_type": "markdown",
   "metadata": {},
   "source": [
    "#### **2.0.1 Preprocessing the Text**"
   ]
  },
  {
   "cell_type": "code",
   "execution_count": 38,
   "metadata": {},
   "outputs": [],
   "source": [
    "# Load The Datframe\n",
    "df = pd.read_csv(\"michelin_restaurants_data.csv\")"
   ]
  },
  {
   "cell_type": "code",
   "execution_count": 41,
   "metadata": {},
   "outputs": [
    {
     "name": "stderr",
     "output_type": "stream",
     "text": [
      "[nltk_data] Downloading package stopwords to\n",
      "[nltk_data]     C:\\Users\\emanu\\AppData\\Roaming\\nltk_data...\n",
      "[nltk_data]   Unzipping corpora\\stopwords.zip.\n"
     ]
    }
   ],
   "source": [
    "# Set up the stopwords list\n",
    "nltk.download('stopwords')\n",
    "stop_words = set(stopwords.words('english'))\n",
    "def remove_stopwords(text):\n",
    "    if isinstance(text, str):\n",
    "\n",
    "\n",
    "        words=text.split()\n",
    "        words=[word for word in words if word.lower() not in stop_words]\n",
    "        cleaned_text = ' '.join(words)\n",
    "\n",
    "        return cleaned_text\n",
    "    else:\n",
    "            return \"\"  \n",
    "\n"
   ]
  },
  {
   "cell_type": "code",
   "execution_count": 42,
   "metadata": {},
   "outputs": [],
   "source": [
    "df['no_stopwords']=df['description'].apply(remove_stopwords)"
   ]
  },
  {
   "cell_type": "code",
   "execution_count": 43,
   "metadata": {},
   "outputs": [],
   "source": [
    "\n",
    "# Set options to display all columns, rows, and no truncation\n",
    "pd.set_option('display.max_columns', None)\n",
    "pd.set_option('display.max_rows', None)\n",
    "pd.set_option('display.max_colwidth', None)\n",
    "pd.set_option('display.width', None)"
   ]
  },
  {
   "cell_type": "code",
   "execution_count": 44,
   "metadata": {},
   "outputs": [
    {
     "name": "stdout",
     "output_type": "stream",
     "text": [
      "                                                                                                                                                                                                                                                                                                                                                                                                                                                                                                                                                                                                                                                                                                                                                                                                                                                                                             description  \\\n",
      "0                                                                                                                                                                                                                                                                                                                                                                 After many years’ experience in Michelin-starred restaurants, Luigi Tramontano and his wife Nicoletta have opened their first restaurant in the chef’s native Gargnano. Previously a pasta factory, the building has been converted into an elegant, contemporary-style restaurant which has nonetheless retained its charming high ceilings. The cuisine is inspired by regional traditions which are reinterpreted to create gourmet dishes, all prepared with respect for the ingredients used and a strong focus on local produce.   \n",
      "1                                                                                                                                                                                                                                                                                                                                   In a beautiful stone-vaulted building (an old 17C monastery) on the town’s seafront promenade, young owner-chef Alessandro Feo has made his mark in this region that perhaps has fewer gourmet restaurants than many places elsewhere. Here, he creates dishes that combine traditional influences and classic favourites from Campania with his own individual flair and creativity. His focus is on local, seasonal ingredients, including produce from his two kitchen gardens and fish sourced from local fishermen as well as from his own ventures out to sea.   \n",
      "2                                                                                                                                                                                                                                                                                                                                                                                                                                                                Situated just a few kilometres from Voghera in the Bassa Lomellina area, this gourmet restaurant run by a young chef occupies the old stables of the Castello di San Gaudenzio. Alongside local specialities such as baked onion and 24-month-old Grana Padano cheese, the menu also features more creative dishes based around authentic recipes. The wine list includes some particularly interesting labels from the Oltrepò region.   \n",
      "3                                                           Alain Ducasse, one of the great names in contemporary fine dining, has arrived in Naples, opening this restaurant in the former premises of the prestigious Ristorante Il Comandante. Situated on the 9th floor of the Romeo hotel overlooking the port, the restaurant boasts fine views of Vesuvius and the Bay of Naples, especially at sunset when the colours are truly spectacular. Meanwhile, the modern dining room, decorated completely in black, is equally as stunning as its surroundings. Alessandro Lucassino, who was born in 1991 and has years of experience working with his mentor, adds a personal flavour to local recipes: by using short cooking times, he preserves the nutritious qualities and flavours of local fish and vegetables while remaining faithful to Ducasse’s “cuisine de la naturalité” philosophy.   \n",
      "4  This historic building in the town centre has been brought back to life by the family of local entrepreneurs who bought it years ago and who have given the restaurant their name. Now an exclusive food venue just a stone’s throw from the capital of the “Food Valley” region, Palazzo Utini is home to a bar and bistro on its ground floor, while the first floor is occupied by the gourmet restaurant overseen by chef Enrico Bartolini and run by resident chef Roberto Monopoli who has plenty of culinary experience behind him. Guests can choose individual dishes from the tasting menus à la carte style, plus there’s an extensive wine list. We particularly enjoyed the exquisite turbot saltimbocca and the onion, black cherry and Lambrusco dessert. On the upper floors, elegant and intimate guestrooms are decorated in the same reassuring style as the rest of the building.   \n",
      "\n",
      "                                                                                                                                                                                                                                                                                                                                                                                                                                                                                                                                                                                                                                                      no_stopwords  \n",
      "0                                                                                                                                                                                                                                                    many years’ experience Michelin-starred restaurants, Luigi Tramontano wife Nicoletta opened first restaurant chef’s native Gargnano. Previously pasta factory, building converted elegant, contemporary-style restaurant nonetheless retained charming high ceilings. cuisine inspired regional traditions reinterpreted create gourmet dishes, prepared respect ingredients used strong focus local produce.  \n",
      "1                                                                                                                                                                                                                               beautiful stone-vaulted building (an old 17C monastery) town’s seafront promenade, young owner-chef Alessandro Feo made mark region perhaps fewer gourmet restaurants many places elsewhere. Here, creates dishes combine traditional influences classic favourites Campania individual flair creativity. focus local, seasonal ingredients, including produce two kitchen gardens fish sourced local fishermen well ventures sea.  \n",
      "2                                                                                                                                                                                                                                                                                                             Situated kilometres Voghera Bassa Lomellina area, gourmet restaurant run young chef occupies old stables Castello di San Gaudenzio. Alongside local specialities baked onion 24-month-old Grana Padano cheese, menu also features creative dishes based around authentic recipes. wine list includes particularly interesting labels Oltrepò region.  \n",
      "3   Alain Ducasse, one great names contemporary fine dining, arrived Naples, opening restaurant former premises prestigious Ristorante Il Comandante. Situated 9th floor Romeo hotel overlooking port, restaurant boasts fine views Vesuvius Bay Naples, especially sunset colours truly spectacular. Meanwhile, modern dining room, decorated completely black, equally stunning surroundings. Alessandro Lucassino, born 1991 years experience working mentor, adds personal flavour local recipes: using short cooking times, preserves nutritious qualities flavours local fish vegetables remaining faithful Ducasse’s “cuisine de la naturalité” philosophy.  \n",
      "4  historic building town centre brought back life family local entrepreneurs bought years ago given restaurant name. exclusive food venue stone’s throw capital “Food Valley” region, Palazzo Utini home bar bistro ground floor, first floor occupied gourmet restaurant overseen chef Enrico Bartolini run resident chef Roberto Monopoli plenty culinary experience behind him. Guests choose individual dishes tasting menus à la carte style, plus there’s extensive wine list. particularly enjoyed exquisite turbot saltimbocca onion, black cherry Lambrusco dessert. upper floors, elegant intimate guestrooms decorated reassuring style rest building.  \n"
     ]
    }
   ],
   "source": [
    "print(df[['description', 'no_stopwords']].head())\n"
   ]
  },
  {
   "cell_type": "code",
   "execution_count": 45,
   "metadata": {},
   "outputs": [],
   "source": [
    "def remove_punc(text):\n",
    "    if isinstance (text,str):\n",
    "         return text.translate(str.maketrans('', '', string.punctuation))\n",
    "    else:\n",
    "        return \"\"       "
   ]
  },
  {
   "cell_type": "code",
   "execution_count": 46,
   "metadata": {},
   "outputs": [
    {
     "name": "stdout",
     "output_type": "stream",
     "text": [
      "                                                                                                                                                                                                                                                                                                                                                                                                                                                                                                                                                                                                                                                                                                                                                                                                                                                                                             description  \\\n",
      "0                                                                                                                                                                                                                                                                                                                                                                 After many years’ experience in Michelin-starred restaurants, Luigi Tramontano and his wife Nicoletta have opened their first restaurant in the chef’s native Gargnano. Previously a pasta factory, the building has been converted into an elegant, contemporary-style restaurant which has nonetheless retained its charming high ceilings. The cuisine is inspired by regional traditions which are reinterpreted to create gourmet dishes, all prepared with respect for the ingredients used and a strong focus on local produce.   \n",
      "1                                                                                                                                                                                                                                                                                                                                   In a beautiful stone-vaulted building (an old 17C monastery) on the town’s seafront promenade, young owner-chef Alessandro Feo has made his mark in this region that perhaps has fewer gourmet restaurants than many places elsewhere. Here, he creates dishes that combine traditional influences and classic favourites from Campania with his own individual flair and creativity. His focus is on local, seasonal ingredients, including produce from his two kitchen gardens and fish sourced from local fishermen as well as from his own ventures out to sea.   \n",
      "2                                                                                                                                                                                                                                                                                                                                                                                                                                                                Situated just a few kilometres from Voghera in the Bassa Lomellina area, this gourmet restaurant run by a young chef occupies the old stables of the Castello di San Gaudenzio. Alongside local specialities such as baked onion and 24-month-old Grana Padano cheese, the menu also features more creative dishes based around authentic recipes. The wine list includes some particularly interesting labels from the Oltrepò region.   \n",
      "3                                                           Alain Ducasse, one of the great names in contemporary fine dining, has arrived in Naples, opening this restaurant in the former premises of the prestigious Ristorante Il Comandante. Situated on the 9th floor of the Romeo hotel overlooking the port, the restaurant boasts fine views of Vesuvius and the Bay of Naples, especially at sunset when the colours are truly spectacular. Meanwhile, the modern dining room, decorated completely in black, is equally as stunning as its surroundings. Alessandro Lucassino, who was born in 1991 and has years of experience working with his mentor, adds a personal flavour to local recipes: by using short cooking times, he preserves the nutritious qualities and flavours of local fish and vegetables while remaining faithful to Ducasse’s “cuisine de la naturalité” philosophy.   \n",
      "4  This historic building in the town centre has been brought back to life by the family of local entrepreneurs who bought it years ago and who have given the restaurant their name. Now an exclusive food venue just a stone’s throw from the capital of the “Food Valley” region, Palazzo Utini is home to a bar and bistro on its ground floor, while the first floor is occupied by the gourmet restaurant overseen by chef Enrico Bartolini and run by resident chef Roberto Monopoli who has plenty of culinary experience behind him. Guests can choose individual dishes from the tasting menus à la carte style, plus there’s an extensive wine list. We particularly enjoyed the exquisite turbot saltimbocca and the onion, black cherry and Lambrusco dessert. On the upper floors, elegant and intimate guestrooms are decorated in the same reassuring style as the rest of the building.   \n",
      "\n",
      "                                                                                                                                                                                                                                                                                                                                                                                                                                                                                                                                                                                                                                                      no_stopwords  \\\n",
      "0                                                                                                                                                                                                                                                    many years’ experience Michelin-starred restaurants, Luigi Tramontano wife Nicoletta opened first restaurant chef’s native Gargnano. Previously pasta factory, building converted elegant, contemporary-style restaurant nonetheless retained charming high ceilings. cuisine inspired regional traditions reinterpreted create gourmet dishes, prepared respect ingredients used strong focus local produce.   \n",
      "1                                                                                                                                                                                                                               beautiful stone-vaulted building (an old 17C monastery) town’s seafront promenade, young owner-chef Alessandro Feo made mark region perhaps fewer gourmet restaurants many places elsewhere. Here, creates dishes combine traditional influences classic favourites Campania individual flair creativity. focus local, seasonal ingredients, including produce two kitchen gardens fish sourced local fishermen well ventures sea.   \n",
      "2                                                                                                                                                                                                                                                                                                             Situated kilometres Voghera Bassa Lomellina area, gourmet restaurant run young chef occupies old stables Castello di San Gaudenzio. Alongside local specialities baked onion 24-month-old Grana Padano cheese, menu also features creative dishes based around authentic recipes. wine list includes particularly interesting labels Oltrepò region.   \n",
      "3   Alain Ducasse, one great names contemporary fine dining, arrived Naples, opening restaurant former premises prestigious Ristorante Il Comandante. Situated 9th floor Romeo hotel overlooking port, restaurant boasts fine views Vesuvius Bay Naples, especially sunset colours truly spectacular. Meanwhile, modern dining room, decorated completely black, equally stunning surroundings. Alessandro Lucassino, born 1991 years experience working mentor, adds personal flavour local recipes: using short cooking times, preserves nutritious qualities flavours local fish vegetables remaining faithful Ducasse’s “cuisine de la naturalité” philosophy.   \n",
      "4  historic building town centre brought back life family local entrepreneurs bought years ago given restaurant name. exclusive food venue stone’s throw capital “Food Valley” region, Palazzo Utini home bar bistro ground floor, first floor occupied gourmet restaurant overseen chef Enrico Bartolini run resident chef Roberto Monopoli plenty culinary experience behind him. Guests choose individual dishes tasting menus à la carte style, plus there’s extensive wine list. particularly enjoyed exquisite turbot saltimbocca onion, black cherry Lambrusco dessert. upper floors, elegant intimate guestrooms decorated reassuring style rest building.   \n",
      "\n",
      "                                                                                                                                                                                                                                                                                                                                                                                                                                                                                                                                                                                                                                  no_stopwords_and_punct  \n",
      "0                                                                                                                                                                                                                                                   many years’ experience Michelinstarred restaurants Luigi Tramontano wife Nicoletta opened first restaurant chef’s native Gargnano Previously pasta factory building converted elegant contemporarystyle restaurant nonetheless retained charming high ceilings cuisine inspired regional traditions reinterpreted create gourmet dishes prepared respect ingredients used strong focus local produce  \n",
      "1                                                                                                                                                                                                                                beautiful stonevaulted building an old 17C monastery town’s seafront promenade young ownerchef Alessandro Feo made mark region perhaps fewer gourmet restaurants many places elsewhere Here creates dishes combine traditional influences classic favourites Campania individual flair creativity focus local seasonal ingredients including produce two kitchen gardens fish sourced local fishermen well ventures sea  \n",
      "2                                                                                                                                                                                                                                                                                                          Situated kilometres Voghera Bassa Lomellina area gourmet restaurant run young chef occupies old stables Castello di San Gaudenzio Alongside local specialities baked onion 24monthold Grana Padano cheese menu also features creative dishes based around authentic recipes wine list includes particularly interesting labels Oltrepò region  \n",
      "3         Alain Ducasse one great names contemporary fine dining arrived Naples opening restaurant former premises prestigious Ristorante Il Comandante Situated 9th floor Romeo hotel overlooking port restaurant boasts fine views Vesuvius Bay Naples especially sunset colours truly spectacular Meanwhile modern dining room decorated completely black equally stunning surroundings Alessandro Lucassino born 1991 years experience working mentor adds personal flavour local recipes using short cooking times preserves nutritious qualities flavours local fish vegetables remaining faithful Ducasse’s “cuisine de la naturalité” philosophy  \n",
      "4  historic building town centre brought back life family local entrepreneurs bought years ago given restaurant name exclusive food venue stone’s throw capital “Food Valley” region Palazzo Utini home bar bistro ground floor first floor occupied gourmet restaurant overseen chef Enrico Bartolini run resident chef Roberto Monopoli plenty culinary experience behind him Guests choose individual dishes tasting menus à la carte style plus there’s extensive wine list particularly enjoyed exquisite turbot saltimbocca onion black cherry Lambrusco dessert upper floors elegant intimate guestrooms decorated reassuring style rest building  \n"
     ]
    }
   ],
   "source": [
    "df['no_stopwords_and_punct'] = df['no_stopwords'].apply(remove_punc)\n",
    "\n",
    "# Display the first few rows to verify the result\n",
    "print(df[['description', 'no_stopwords', 'no_stopwords_and_punct']].head())"
   ]
  },
  {
   "cell_type": "code",
   "execution_count": 47,
   "metadata": {},
   "outputs": [],
   "source": [
    "stemmer=PorterStemmer()\n",
    "\n",
    "def apply_stemming(text):\n",
    "    words= text.split()\n",
    "    stemmed_words=[stemmer.stem(word) for word in words]\n",
    "    stemmed_text=' '.join(stemmed_words)\n",
    "    return stemmed_text"
   ]
  },
  {
   "cell_type": "code",
   "execution_count": 48,
   "metadata": {},
   "outputs": [
    {
     "name": "stdout",
     "output_type": "stream",
     "text": [
      "                                                                                                                                                                                                                                                                                                                                                                                                                                                                                                                                                                                                                                                                                                                                                                                                                                                                                             description  \\\n",
      "0                                                                                                                                                                                                                                                                                                                                                                 After many years’ experience in Michelin-starred restaurants, Luigi Tramontano and his wife Nicoletta have opened their first restaurant in the chef’s native Gargnano. Previously a pasta factory, the building has been converted into an elegant, contemporary-style restaurant which has nonetheless retained its charming high ceilings. The cuisine is inspired by regional traditions which are reinterpreted to create gourmet dishes, all prepared with respect for the ingredients used and a strong focus on local produce.   \n",
      "1                                                                                                                                                                                                                                                                                                                                   In a beautiful stone-vaulted building (an old 17C monastery) on the town’s seafront promenade, young owner-chef Alessandro Feo has made his mark in this region that perhaps has fewer gourmet restaurants than many places elsewhere. Here, he creates dishes that combine traditional influences and classic favourites from Campania with his own individual flair and creativity. His focus is on local, seasonal ingredients, including produce from his two kitchen gardens and fish sourced from local fishermen as well as from his own ventures out to sea.   \n",
      "2                                                                                                                                                                                                                                                                                                                                                                                                                                                                Situated just a few kilometres from Voghera in the Bassa Lomellina area, this gourmet restaurant run by a young chef occupies the old stables of the Castello di San Gaudenzio. Alongside local specialities such as baked onion and 24-month-old Grana Padano cheese, the menu also features more creative dishes based around authentic recipes. The wine list includes some particularly interesting labels from the Oltrepò region.   \n",
      "3                                                           Alain Ducasse, one of the great names in contemporary fine dining, has arrived in Naples, opening this restaurant in the former premises of the prestigious Ristorante Il Comandante. Situated on the 9th floor of the Romeo hotel overlooking the port, the restaurant boasts fine views of Vesuvius and the Bay of Naples, especially at sunset when the colours are truly spectacular. Meanwhile, the modern dining room, decorated completely in black, is equally as stunning as its surroundings. Alessandro Lucassino, who was born in 1991 and has years of experience working with his mentor, adds a personal flavour to local recipes: by using short cooking times, he preserves the nutritious qualities and flavours of local fish and vegetables while remaining faithful to Ducasse’s “cuisine de la naturalité” philosophy.   \n",
      "4  This historic building in the town centre has been brought back to life by the family of local entrepreneurs who bought it years ago and who have given the restaurant their name. Now an exclusive food venue just a stone’s throw from the capital of the “Food Valley” region, Palazzo Utini is home to a bar and bistro on its ground floor, while the first floor is occupied by the gourmet restaurant overseen by chef Enrico Bartolini and run by resident chef Roberto Monopoli who has plenty of culinary experience behind him. Guests can choose individual dishes from the tasting menus à la carte style, plus there’s an extensive wine list. We particularly enjoyed the exquisite turbot saltimbocca and the onion, black cherry and Lambrusco dessert. On the upper floors, elegant and intimate guestrooms are decorated in the same reassuring style as the rest of the building.   \n",
      "\n",
      "                                                                                                                                                                                                                                                                                                                                                                                                                                                                                                                                                                                                                                  no_stopwords_and_punct  \\\n",
      "0                                                                                                                                                                                                                                                   many years’ experience Michelinstarred restaurants Luigi Tramontano wife Nicoletta opened first restaurant chef’s native Gargnano Previously pasta factory building converted elegant contemporarystyle restaurant nonetheless retained charming high ceilings cuisine inspired regional traditions reinterpreted create gourmet dishes prepared respect ingredients used strong focus local produce   \n",
      "1                                                                                                                                                                                                                                beautiful stonevaulted building an old 17C monastery town’s seafront promenade young ownerchef Alessandro Feo made mark region perhaps fewer gourmet restaurants many places elsewhere Here creates dishes combine traditional influences classic favourites Campania individual flair creativity focus local seasonal ingredients including produce two kitchen gardens fish sourced local fishermen well ventures sea   \n",
      "2                                                                                                                                                                                                                                                                                                          Situated kilometres Voghera Bassa Lomellina area gourmet restaurant run young chef occupies old stables Castello di San Gaudenzio Alongside local specialities baked onion 24monthold Grana Padano cheese menu also features creative dishes based around authentic recipes wine list includes particularly interesting labels Oltrepò region   \n",
      "3         Alain Ducasse one great names contemporary fine dining arrived Naples opening restaurant former premises prestigious Ristorante Il Comandante Situated 9th floor Romeo hotel overlooking port restaurant boasts fine views Vesuvius Bay Naples especially sunset colours truly spectacular Meanwhile modern dining room decorated completely black equally stunning surroundings Alessandro Lucassino born 1991 years experience working mentor adds personal flavour local recipes using short cooking times preserves nutritious qualities flavours local fish vegetables remaining faithful Ducasse’s “cuisine de la naturalité” philosophy   \n",
      "4  historic building town centre brought back life family local entrepreneurs bought years ago given restaurant name exclusive food venue stone’s throw capital “Food Valley” region Palazzo Utini home bar bistro ground floor first floor occupied gourmet restaurant overseen chef Enrico Bartolini run resident chef Roberto Monopoli plenty culinary experience behind him Guests choose individual dishes tasting menus à la carte style plus there’s extensive wine list particularly enjoyed exquisite turbot saltimbocca onion black cherry Lambrusco dessert upper floors elegant intimate guestrooms decorated reassuring style rest building   \n",
      "\n",
      "                                                                                                                                                                                                                                                                                                                                                                                                                                                                                                                                                           no_stpwrd_punc_and_stemmed  \n",
      "0                                                                                                                                                                                                                                                mani years’ experi michelinstar restaur luigi tramontano wife nicoletta open first restaur chef’ nativ gargnano previous pasta factori build convert eleg contemporarystyl restaur nonetheless retain charm high ceil cuisin inspir region tradit reinterpret creat gourmet dish prepar respect ingredi use strong focu local produc  \n",
      "1                                                                                                                                                                                                                 beauti stonevault build an old 17c monasteri town’ seafront promenad young ownerchef alessandro feo made mark region perhap fewer gourmet restaur mani place elsewher here creat dish combin tradit influenc classic favourit campania individu flair creativ focu local season ingredi includ produc two kitchen garden fish sourc local fishermen well ventur sea  \n",
      "2                                                                                                                                                                                                                                                                          situat kilometr voghera bassa lomellina area gourmet restaur run young chef occupi old stabl castello di san gaudenzio alongsid local special bake onion 24monthold grana padano chees menu also featur creativ dish base around authent recip wine list includ particularli interest label oltrepò region  \n",
      "3                                         alain ducass one great name contemporari fine dine arriv napl open restaur former premis prestigi ristorant il comandant situat 9th floor romeo hotel overlook port restaur boast fine view vesuviu bay napl especi sunset colour truli spectacular meanwhil modern dine room decor complet black equal stun surround alessandro lucassino born 1991 year experi work mentor add person flavour local recip use short cook time preserv nutriti qualiti flavour local fish veget remain faith ducasse’ “cuisin de la naturalité” philosophi  \n",
      "4  histor build town centr brought back life famili local entrepreneur bought year ago given restaur name exclus food venu stone’ throw capit “food valley” region palazzo utini home bar bistro ground floor first floor occupi gourmet restaur overseen chef enrico bartolini run resid chef roberto monopoli plenti culinari experi behind him guest choos individu dish tast menu à la cart style plu there’ extens wine list particularli enjoy exquisit turbot saltimbocca onion black cherri lambrusco dessert upper floor eleg intim guestroom decor reassur style rest build  \n"
     ]
    }
   ],
   "source": [
    "# Apply stemming to the 'no_stopwords_and_punct' column\n",
    "df['no_stpwrd_punc_and_stemmed'] = df['no_stopwords_and_punct'].apply(apply_stemming)\n",
    "\n",
    "# Display the first few rows to verify the result\n",
    "print(df[['description', 'no_stopwords_and_punct', 'no_stpwrd_punc_and_stemmed']].head())"
   ]
  },
  {
   "cell_type": "code",
   "execution_count": 49,
   "metadata": {},
   "outputs": [
    {
     "name": "stderr",
     "output_type": "stream",
     "text": [
      "[nltk_data] Downloading package wordnet to\n",
      "[nltk_data]     C:\\Users\\emanu\\AppData\\Roaming\\nltk_data...\n"
     ]
    },
    {
     "name": "stdout",
     "output_type": "stream",
     "text": [
      "                                                                                                                                                                                                                                                                                                                                                                                                                                                                                                                                                                                                                                                                                                                                                                                                                                                                                             description  \\\n",
      "0                                                                                                                                                                                                                                                                                                                                                                 After many years’ experience in Michelin-starred restaurants, Luigi Tramontano and his wife Nicoletta have opened their first restaurant in the chef’s native Gargnano. Previously a pasta factory, the building has been converted into an elegant, contemporary-style restaurant which has nonetheless retained its charming high ceilings. The cuisine is inspired by regional traditions which are reinterpreted to create gourmet dishes, all prepared with respect for the ingredients used and a strong focus on local produce.   \n",
      "1                                                                                                                                                                                                                                                                                                                                   In a beautiful stone-vaulted building (an old 17C monastery) on the town’s seafront promenade, young owner-chef Alessandro Feo has made his mark in this region that perhaps has fewer gourmet restaurants than many places elsewhere. Here, he creates dishes that combine traditional influences and classic favourites from Campania with his own individual flair and creativity. His focus is on local, seasonal ingredients, including produce from his two kitchen gardens and fish sourced from local fishermen as well as from his own ventures out to sea.   \n",
      "2                                                                                                                                                                                                                                                                                                                                                                                                                                                                Situated just a few kilometres from Voghera in the Bassa Lomellina area, this gourmet restaurant run by a young chef occupies the old stables of the Castello di San Gaudenzio. Alongside local specialities such as baked onion and 24-month-old Grana Padano cheese, the menu also features more creative dishes based around authentic recipes. The wine list includes some particularly interesting labels from the Oltrepò region.   \n",
      "3                                                           Alain Ducasse, one of the great names in contemporary fine dining, has arrived in Naples, opening this restaurant in the former premises of the prestigious Ristorante Il Comandante. Situated on the 9th floor of the Romeo hotel overlooking the port, the restaurant boasts fine views of Vesuvius and the Bay of Naples, especially at sunset when the colours are truly spectacular. Meanwhile, the modern dining room, decorated completely in black, is equally as stunning as its surroundings. Alessandro Lucassino, who was born in 1991 and has years of experience working with his mentor, adds a personal flavour to local recipes: by using short cooking times, he preserves the nutritious qualities and flavours of local fish and vegetables while remaining faithful to Ducasse’s “cuisine de la naturalité” philosophy.   \n",
      "4  This historic building in the town centre has been brought back to life by the family of local entrepreneurs who bought it years ago and who have given the restaurant their name. Now an exclusive food venue just a stone’s throw from the capital of the “Food Valley” region, Palazzo Utini is home to a bar and bistro on its ground floor, while the first floor is occupied by the gourmet restaurant overseen by chef Enrico Bartolini and run by resident chef Roberto Monopoli who has plenty of culinary experience behind him. Guests can choose individual dishes from the tasting menus à la carte style, plus there’s an extensive wine list. We particularly enjoyed the exquisite turbot saltimbocca and the onion, black cherry and Lambrusco dessert. On the upper floors, elegant and intimate guestrooms are decorated in the same reassuring style as the rest of the building.   \n",
      "\n",
      "                                                                                                                                                                                                                                                                                                                                                                                                                                                                                                                                                                                                                                                      no_stopwords  \\\n",
      "0                                                                                                                                                                                                                                                    many years’ experience Michelin-starred restaurants, Luigi Tramontano wife Nicoletta opened first restaurant chef’s native Gargnano. Previously pasta factory, building converted elegant, contemporary-style restaurant nonetheless retained charming high ceilings. cuisine inspired regional traditions reinterpreted create gourmet dishes, prepared respect ingredients used strong focus local produce.   \n",
      "1                                                                                                                                                                                                                               beautiful stone-vaulted building (an old 17C monastery) town’s seafront promenade, young owner-chef Alessandro Feo made mark region perhaps fewer gourmet restaurants many places elsewhere. Here, creates dishes combine traditional influences classic favourites Campania individual flair creativity. focus local, seasonal ingredients, including produce two kitchen gardens fish sourced local fishermen well ventures sea.   \n",
      "2                                                                                                                                                                                                                                                                                                             Situated kilometres Voghera Bassa Lomellina area, gourmet restaurant run young chef occupies old stables Castello di San Gaudenzio. Alongside local specialities baked onion 24-month-old Grana Padano cheese, menu also features creative dishes based around authentic recipes. wine list includes particularly interesting labels Oltrepò region.   \n",
      "3   Alain Ducasse, one great names contemporary fine dining, arrived Naples, opening restaurant former premises prestigious Ristorante Il Comandante. Situated 9th floor Romeo hotel overlooking port, restaurant boasts fine views Vesuvius Bay Naples, especially sunset colours truly spectacular. Meanwhile, modern dining room, decorated completely black, equally stunning surroundings. Alessandro Lucassino, born 1991 years experience working mentor, adds personal flavour local recipes: using short cooking times, preserves nutritious qualities flavours local fish vegetables remaining faithful Ducasse’s “cuisine de la naturalité” philosophy.   \n",
      "4  historic building town centre brought back life family local entrepreneurs bought years ago given restaurant name. exclusive food venue stone’s throw capital “Food Valley” region, Palazzo Utini home bar bistro ground floor, first floor occupied gourmet restaurant overseen chef Enrico Bartolini run resident chef Roberto Monopoli plenty culinary experience behind him. Guests choose individual dishes tasting menus à la carte style, plus there’s extensive wine list. particularly enjoyed exquisite turbot saltimbocca onion, black cherry Lambrusco dessert. upper floors, elegant intimate guestrooms decorated reassuring style rest building.   \n",
      "\n",
      "                                                                                                                                                                                                                                                                                                                                                                                                                                                                                                                                                                                                                                  no_stopwords_and_punct  \\\n",
      "0                                                                                                                                                                                                                                                   many years’ experience Michelinstarred restaurants Luigi Tramontano wife Nicoletta opened first restaurant chef’s native Gargnano Previously pasta factory building converted elegant contemporarystyle restaurant nonetheless retained charming high ceilings cuisine inspired regional traditions reinterpreted create gourmet dishes prepared respect ingredients used strong focus local produce   \n",
      "1                                                                                                                                                                                                                                beautiful stonevaulted building an old 17C monastery town’s seafront promenade young ownerchef Alessandro Feo made mark region perhaps fewer gourmet restaurants many places elsewhere Here creates dishes combine traditional influences classic favourites Campania individual flair creativity focus local seasonal ingredients including produce two kitchen gardens fish sourced local fishermen well ventures sea   \n",
      "2                                                                                                                                                                                                                                                                                                          Situated kilometres Voghera Bassa Lomellina area gourmet restaurant run young chef occupies old stables Castello di San Gaudenzio Alongside local specialities baked onion 24monthold Grana Padano cheese menu also features creative dishes based around authentic recipes wine list includes particularly interesting labels Oltrepò region   \n",
      "3         Alain Ducasse one great names contemporary fine dining arrived Naples opening restaurant former premises prestigious Ristorante Il Comandante Situated 9th floor Romeo hotel overlooking port restaurant boasts fine views Vesuvius Bay Naples especially sunset colours truly spectacular Meanwhile modern dining room decorated completely black equally stunning surroundings Alessandro Lucassino born 1991 years experience working mentor adds personal flavour local recipes using short cooking times preserves nutritious qualities flavours local fish vegetables remaining faithful Ducasse’s “cuisine de la naturalité” philosophy   \n",
      "4  historic building town centre brought back life family local entrepreneurs bought years ago given restaurant name exclusive food venue stone’s throw capital “Food Valley” region Palazzo Utini home bar bistro ground floor first floor occupied gourmet restaurant overseen chef Enrico Bartolini run resident chef Roberto Monopoli plenty culinary experience behind him Guests choose individual dishes tasting menus à la carte style plus there’s extensive wine list particularly enjoyed exquisite turbot saltimbocca onion black cherry Lambrusco dessert upper floors elegant intimate guestrooms decorated reassuring style rest building   \n",
      "\n",
      "                                                                                                                                                                                                                                                                                                                                                                                                                                                                                                                                                                                                                                 lemmatized_text  \n",
      "0                                                                                                                                                                                                                                                 many years’ experience michelinstarred restaurant luigi tramontano wife nicoletta opened first restaurant chef’s native gargnano previously pasta factory building converted elegant contemporarystyle restaurant nonetheless retained charming high ceiling cuisine inspired regional tradition reinterpreted create gourmet dish prepared respect ingredient used strong focus local produce  \n",
      "1                                                                                                                                                                                                                                 beautiful stonevaulted building an old 17c monastery town’s seafront promenade young ownerchef alessandro feo made mark region perhaps fewer gourmet restaurant many place elsewhere here creates dish combine traditional influence classic favourite campania individual flair creativity focus local seasonal ingredient including produce two kitchen garden fish sourced local fisherman well venture sea  \n",
      "2                                                                                                                                                                                                                                                                                                           situated kilometre voghera bassa lomellina area gourmet restaurant run young chef occupies old stable castello di san gaudenzio alongside local speciality baked onion 24monthold grana padano cheese menu also feature creative dish based around authentic recipe wine list includes particularly interesting label oltrepò region  \n",
      "3               alain ducasse one great name contemporary fine dining arrived naples opening restaurant former premise prestigious ristorante il comandante situated 9th floor romeo hotel overlooking port restaurant boast fine view vesuvius bay naples especially sunset colour truly spectacular meanwhile modern dining room decorated completely black equally stunning surroundings alessandro lucassino born 1991 year experience working mentor add personal flavour local recipe using short cooking time preserve nutritious quality flavour local fish vegetable remaining faithful ducasse’s “cuisine de la naturalité” philosophy  \n",
      "4  historic building town centre brought back life family local entrepreneur bought year ago given restaurant name exclusive food venue stone’s throw capital “food valley” region palazzo utini home bar bistro ground floor first floor occupied gourmet restaurant overseen chef enrico bartolini run resident chef roberto monopoli plenty culinary experience behind him guest choose individual dish tasting menu à la carte style plus there’s extensive wine list particularly enjoyed exquisite turbot saltimbocca onion black cherry lambrusco dessert upper floor elegant intimate guestroom decorated reassuring style rest building  \n"
     ]
    }
   ],
   "source": [
    "nltk.download('wordnet')\n",
    "lemmatizer = WordNetLemmatizer()\n",
    "\n",
    "def apply_lemmatization(text):\n",
    "    text = text.lower()\n",
    "    words = text.split()\n",
    "    lemmatized_words = [lemmatizer.lemmatize(word) for word in words]\n",
    "    lemmatized_text = ' '.join(lemmatized_words)  \n",
    "    return lemmatized_text\n",
    "\n",
    "df['lemmatized_text'] = df['no_stopwords_and_punct'].apply(apply_lemmatization)\n",
    "print(df[['description', 'no_stopwords', 'no_stopwords_and_punct', 'lemmatized_text']].head())\n"
   ]
  },
  {
   "cell_type": "markdown",
   "metadata": {},
   "source": [
    "After I checked the results of Stemming  and lemmatizer, I prefer to use lemmatized's output. Because I realized that,Stemming caused same meaningless words. I think this method uses directly throw away same letters from end of the words. As a result, according to outputs of two methods I will contuinue with lemmatizer. (For example:restaurant>>>restaur)\n"
   ]
  },
  {
   "cell_type": "code",
   "execution_count": 50,
   "metadata": {},
   "outputs": [],
   "source": [
    "# Removing Extra Whitespace\n",
    "\n",
    "df['lemmatized_text+'] = df['lemmatized_text'].str.replace(r'\\s+', ' ', regex=True).str.strip()\n",
    "\n",
    "\n",
    "# Removing  Non-ASCII Characters or Emojis\n",
    "df['cleaned_text'] = df['lemmatized_text+'].str.encode('ascii', 'ignore').str.decode('ascii')\n"
   ]
  },
  {
   "cell_type": "code",
   "execution_count": 51,
   "metadata": {},
   "outputs": [],
   "source": [
    "#Expanding Contractions\n",
    "df['cleaned_text'] = df['cleaned_text'].apply(lambda x: contractions.fix(x))\n"
   ]
  },
  {
   "cell_type": "code",
   "execution_count": 52,
   "metadata": {},
   "outputs": [
    {
     "data": {
      "text/plain": [
       "0                        O Me O Il Mare\n",
       "1                        Alessandro Feo\n",
       "2                                  Dama\n",
       "3    Il Ristorante Alain Ducasse Napoli\n",
       "4                         Palazzo Utini\n",
       "Name: restaurant_name, dtype: object"
      ]
     },
     "execution_count": 52,
     "metadata": {},
     "output_type": "execute_result"
    }
   ],
   "source": [
    "#Removing URLs and Email Addresses\n",
    "df['cleaned_text'] = df['cleaned_text'].str.replace(r'http\\S+|www\\S+|https\\S+', '', regex=True)\n",
    "df['cleaned_text'] = df['cleaned_text'].str.replace(r'\\S+@\\S+', '', regex=True)\n",
    "df['restaurant_name'] = df['restaurant_name'].str.split('–|-').str[0].str.strip()\n",
    "df['restaurant_name'].head(5)"
   ]
  },
  {
   "cell_type": "markdown",
   "metadata": {},
   "source": [
    "### **2.1 Conjunctive Query** "
   ]
  },
  {
   "cell_type": "markdown",
   "metadata": {},
   "source": [
    "#### **2.1.1 Create Your Index!**"
   ]
  },
  {
   "cell_type": "code",
   "execution_count": 53,
   "metadata": {},
   "outputs": [],
   "source": [
    "# Create a unique document ID for each restaurant entry in the DataFrame\n",
    "df['document_id'] = df.index  \n",
    "\n",
    "\n",
    "vocab = {}\n",
    "current_term_id = 0\n",
    "inverted_index = defaultdict(list)  \n",
    "\n",
    "# Function to get or assign a term ID\n",
    "def get_term_id(word):\n",
    "    \"\"\"Assigns a unique ID to each word in the vocabulary.\"\"\"\n",
    "    global current_term_id\n",
    "    # If the word is not already in the vocabulary, add it with a new ID\n",
    "    if word not in vocab:\n",
    "        vocab[word] = current_term_id\n",
    "        current_term_id += 1  \n",
    "    return vocab[word]  \n",
    "\n",
    "# Go through each restaurant's description and build the vocabulary and index\n",
    "for _, row in df.iterrows():\n",
    "    doc_id = row['document_id']\n",
    "    words = row['cleaned_text'].split()  \n",
    "    unique_words = set(words)  \n",
    "\n",
    "    # For each unique word, get its term ID and add the document ID to the inverted index\n",
    "    for word in unique_words:\n",
    "        term_id = get_term_id(word)\n",
    "        inverted_index[term_id].append(doc_id)\n",
    "\n",
    "# Convert the vocabulary dictionary to a DataFrame and save it to a CSV file for future reference\n",
    "vocab_df = pd.DataFrame(list(vocab.items()), columns=['word', 'term_id'])\n",
    "vocab_df.to_csv('vocabulary.csv', index=False)\n",
    "\n",
    "# Save the inverted index as a JSON file to use later when processing queries\n",
    "with open('inverted_index.json', 'w') as f:\n",
    "    json.dump(inverted_index, f)\n",
    "\n",
    "# Load the inverted index and vocabulary when we need to process a search query\n",
    "with open('inverted_index.json', 'r') as f:\n",
    "    inverted_index = json.load(f)\n",
    "\n",
    "# Reload vocabulary from CSV into a dictionary\n",
    "vocab_df = pd.read_csv('vocabulary.csv')\n",
    "vocab = dict(zip(vocab_df['word'], vocab_df['term_id']))"
   ]
  },
  {
   "cell_type": "markdown",
   "metadata": {},
   "source": [
    "#### **2.1.2 Execute the Query**"
   ]
  },
  {
   "cell_type": "code",
   "execution_count": 54,
   "metadata": {},
   "outputs": [],
   "source": [
    "\n",
    "# Save inverted index to JSON\n",
    "with open('inverted_index.json', 'w') as f:\n",
    "    json.dump(inverted_index, f)\n",
    "\n",
    "# Load inverted index and vocabulary (for query processing)\n",
    "with open('inverted_index.json', 'r') as f:\n",
    "    inverted_index = json.load(f)\n",
    "\n",
    "vocab_df = pd.read_csv('vocabulary.csv')\n",
    "vocab = dict(zip(vocab_df['word'], vocab_df['term_id']))\n",
    "\n",
    "# Query preprocessing function\n",
    "def preprocess_query(query):\n",
    "    \"\"\"Processes a user query to remove punctuation and stop words, returning term IDs.\"\"\"\n",
    "    query = query.lower()\n",
    "    query = re.sub(r'[^\\w\\s]', '', query)  # Remove punctuation\n",
    "    query_terms = [word for word in query.split() if word not in stop_words] \n",
    "    # Convert each word to its term ID if it's in the vocabulary\n",
    "    term_ids = [vocab.get(word) for word in query_terms if word in vocab]\n",
    "    return term_ids  # Return the list of term IDs for the query\n",
    "\n",
    "# %% Search Function\n",
    "def search_restaurants(query):\n",
    "    \"\"\"Finds and returns restaurants that match all words in the query.\"\"\"\n",
    "    term_ids = preprocess_query(query)\n",
    "    if not term_ids:\n",
    "        print(\"No matching terms found in the vocabulary.\")\n",
    "        return pd.DataFrame()  # No matching terms\n",
    "\n",
    "    # Get document IDs that contain all the query terms\n",
    "    matching_docs = set(inverted_index.get(str(term_ids[0]), []))  \n",
    "    for term_id in term_ids[1:]:\n",
    "        matching_docs.intersection_update(inverted_index.get(str(term_id), [])) \n",
    "\n",
    "    # If there are matches, retrieve their restaurant details\n",
    "    if matching_docs:\n",
    "        results = df[df['document_id'].isin(matching_docs)][['restaurant_name', 'address', 'description', 'url']]\n",
    "        return results.head(5)\n",
    "    else:\n",
    "        print(\"No documents match all query terms.\")\n",
    "        return pd.DataFrame()  # No matching documents\n",
    "\n"
   ]
  },
  {
   "cell_type": "code",
   "execution_count": 55,
   "metadata": {},
   "outputs": [
    {
     "name": "stdout",
     "output_type": "stream",
     "text": [
      "                       restaurant_name                    address  \\\n",
      "0                       O Me O Il Mare             Via Roma 45/47   \n",
      "3   Il Ristorante Alain Ducasse Napoli  Via Cristoforo Colombo 45   \n",
      "7        La Trattoria Enrico Bartolini           Località Badiola   \n",
      "10                              Ménage        Via Euplio Reina 13   \n",
      "11                          Donevandro            via Garibaldi 2   \n",
      "\n",
      "                                                                                                                                                                                                                                                                                                                                                                                                                                                                                                                                                                                                                                                                                                                                                                                                                                                                                                                                                                                                                                                                         description  \\\n",
      "0                                                                                                                                                                                                                                                                                                                                                                                                                                                                                                                                             After many years’ experience in Michelin-starred restaurants, Luigi Tramontano and his wife Nicoletta have opened their first restaurant in the chef’s native Gargnano. Previously a pasta factory, the building has been converted into an elegant, contemporary-style restaurant which has nonetheless retained its charming high ceilings. The cuisine is inspired by regional traditions which are reinterpreted to create gourmet dishes, all prepared with respect for the ingredients used and a strong focus on local produce.   \n",
      "3                                                                                                                                                                                                                                       Alain Ducasse, one of the great names in contemporary fine dining, has arrived in Naples, opening this restaurant in the former premises of the prestigious Ristorante Il Comandante. Situated on the 9th floor of the Romeo hotel overlooking the port, the restaurant boasts fine views of Vesuvius and the Bay of Naples, especially at sunset when the colours are truly spectacular. Meanwhile, the modern dining room, decorated completely in black, is equally as stunning as its surroundings. Alessandro Lucassino, who was born in 1991 and has years of experience working with his mentor, adds a personal flavour to local recipes: by using short cooking times, he preserves the nutritious qualities and flavours of local fish and vegetables while remaining faithful to Ducasse’s “cuisine de la naturalité” philosophy.   \n",
      "7   After a majestic picture-postcard approach via a long avenue lined with cypress trees and maritime pines, passing vineyards and Maremma cattle along the way, you finally arrive at this restaurant which serves trattoria-style cuisine full of intense, familiar and reassuring flavours. The decor here is elegant with the occasional rustic touch, while the service is of the highest level yet pleasantly friendly and informal. Welcome to Bartolini’s Maremma restaurant! Here, resident chef Bruno De Moura Cossio offers a choice of dishes with one common denominator, namely charcoal grilling. All the dishes served here have been grilled in some way, so that they have a distinctive barbecued flavour. However, although the chef’s Brazilian origins are obvious in many different ways, the ingredients are resolutely local, some even from the restaurant’s own farm. The friendly service makes guests feel completely at home, while the excellent wine selection is an added attraction – those produced on the estate itself are highly recommended.   \n",
      "10                                                                                                                                                                                                                                                                                                    Situated in the heart of the city near the Teatro Bellini and Piazza Università, this restaurant occupies an Art Nouveau-style building. Here, a trio of experienced young chefs from Catania have brought new life to the old “Da Turi Finocchiaro” restaurant, which has always been very popular with the city’s high society. Offering a small outdoor space near the entrance, the quiet, intimate dining room on the ground floor provides the backdrop for reinterpreted, contemporary Sicilian cuisine with an exclusive focus on meat (especially barbecued dishes which are the restaurant’s trademark), while the first floor is home to a cocktail bar run with passion by one of the partners. Two frescoes painted by Giuseppe Barone in 1930 add to the appeal.   \n",
      "11                                                                                                                                                                                                                                                                                                                                                                                                                                                                                                                                                      Up until a few years ago, the owner-chef at this restaurant was working as a painter – a fact that is evident from the artistic touch in his cuisine. His recipes are modern and personalised, with careful attention naturally paid to harmonious presentation, while the flavour of his dishes is brought out by ingredients that are skilfully chosen from the Abruzzo inland area. In 2024, the restaurant moved to new, centrally located premises which have an intimate feel and are elegant and minimalist in style.   \n",
      "\n",
      "                                                                                             url  \n",
      "0                                                                          http://omeoilmare.com  \n",
      "3   https://theromeocollection.com/en/romeo-napoli/restaurants-bars/il-ristorante-alain-ducasse/  \n",
      "7                            https://www.enricobartolini.net/ristorante-la-trattoria-castiglione  \n",
      "10                                                                  https://www.menagelounge.it/  \n",
      "11                                                            http://www.donevandroristorante.it  \n"
     ]
    }
   ],
   "source": [
    "# Example usage\n",
    "query = \"moder cuisine restaurant\"\n",
    "results = search_restaurants(query)\n",
    "print(results)"
   ]
  },
  {
   "cell_type": "markdown",
   "metadata": {},
   "source": [
    "### **2.2 Ranked Search Engine with TF-IDF and Cosine Similarity**"
   ]
  },
  {
   "cell_type": "markdown",
   "metadata": {},
   "source": [
    "#### **2.2.1 Inverted Index with TF-IDF Scores**"
   ]
  },
  {
   "cell_type": "code",
   "execution_count": 160,
   "metadata": {},
   "outputs": [
    {
     "data": {
      "text/plain": [
       "<module 'DataCollection.engine' from 'c:\\\\Users\\\\Marco\\\\Desktop\\\\Data Science Magistrale\\\\ADM\\\\ADM-HW3\\\\ADM-HW3\\\\DataCollection\\\\engine.py'>"
      ]
     },
     "execution_count": 160,
     "metadata": {},
     "output_type": "execute_result"
    }
   ],
   "source": [
    "import importlib\n",
    "importlib.reload(engine)\n"
   ]
  },
  {
   "cell_type": "markdown",
   "metadata": {},
   "source": [
    "1. **tfIdf Scores**: Calculate TF-IDF scores for each term in each restaurant’s description.\n"
   ]
  },
  {
   "cell_type": "code",
   "execution_count": 162,
   "metadata": {},
   "outputs": [],
   "source": [
    "df_tfidf = df.copy()\n",
    "vocabulary = pd.read_csv(\"vocabulary.csv\")\n",
    "\n",
    "with open(\"inverted_index.json\", 'r', encoding='utf-8') as file:\n",
    "    inverted_index = json.load(file)\n",
    "updated_inverted_index = engine.update_inverted_index(df_tfidf, inverted_index, vocabulary)"
   ]
  },
  {
   "cell_type": "markdown",
   "metadata": {},
   "source": [
    "2. **Updated Inverted Index**: Build a new inverted index where each entry is a term, and the value is a list of tuples containing document IDs and TF-IDF scores."
   ]
  },
  {
   "cell_type": "code",
   "execution_count": 80,
   "metadata": {},
   "outputs": [],
   "source": [
    "# Finally we load the inverted_index in a JSON file\n",
    "with open(\"updated_inverted_index.json\", \"w\") as file:\n",
    "    json.dump(updated_inverted_index, file)\n"
   ]
  },
  {
   "cell_type": "markdown",
   "metadata": {},
   "source": [
    "#### **2.2.2 Execute the Ranked Query**\n"
   ]
  },
  {
   "cell_type": "markdown",
   "metadata": {},
   "source": [
    "1. Process the query terms."
   ]
  },
  {
   "cell_type": "code",
   "execution_count": 163,
   "metadata": {},
   "outputs": [
    {
     "data": {
      "text/plain": [
       "'modern season cuisine'"
      ]
     },
     "execution_count": 163,
     "metadata": {},
     "output_type": "execute_result"
    }
   ],
   "source": [
    "query = \"MODERN; Seasonal CUISINE.\"\n",
    "\n",
    "query_series = pd.Series(query)\n",
    "query_series=query_series.apply(remove_stopwords).apply(apply_stemming).apply(remove_punc).apply(apply_lemmatization)\n",
    "query_preprocessed = query_series.iloc[0]\n",
    "query_preprocessed"
   ]
  },
  {
   "cell_type": "markdown",
   "metadata": {},
   "source": [
    "2. Use Cosine Similarity to rank matching restaurants based on the TF-IDF vectors of the query and each document.\n"
   ]
  },
  {
   "cell_type": "code",
   "execution_count": 164,
   "metadata": {},
   "outputs": [
    {
     "name": "stdout",
     "output_type": "stream",
     "text": [
      "{3: [('162', 0.017414950922279588), ('8', 0.0067800391143437)], 6: [('162', 0.019938856853044747)], 9: [('162', 0.05981657055913424)], 11: [('162', 0.03355563714292897), ('8', 0.013063977805686643)], 19: [('162', 0.04438003622129315)], 22: [('162', 0.039308032081716786), ('8', 0.015303516858090066)], 28: [('162', 0.03355563714292897)], 36: [('162', 0.016378346700715328), ('933', 0.08000654137987041), ('8', 0.012752930715075056)], 37: [('162', 0.017638219523847275), ('8', 0.006866962692732722)], 40: [('162', 0.02990828527956712), ('8', 0.011643980218112008)], 42: [('162', 0.03126775279227472), ('8', 0.012173252046208009)], 43: [('162', 0.05095485640222546), ('8', 0.019837892223450084)], 45: [('162', 0.02372036418724289), ('933', 0.057935771344044096), ('8', 0.009234880862640557)], 55: [('162', 0.08598632017875547)], 63: [('162', 0.039308032081716786), ('8', 0.015303516858090066)], 64: [('162', 0.057324213452503645), ('8', 0.022317628751381345)], 65: [('162', 0.02927193878425718)], 70: [('162', 0.04438003622129315), ('8', 0.017278164194617817)], 75: [('162', 0.055031244914403504), ('8', 0.021424923601326095)], 79: [('162', 0.022190018110646574), ('8', 0.008639082097308909)], 81: [('162', 0.09171874152400583)], 88: [('162', 0.02927193878425718), ('8', 0.011396235958152177)], 91: [('162', 0.04744072837448578)], 92: [('162', 0.01884631675150805), ('8', 0.007337302603193868)], 95: [('162', 0.05095485640222546)], 96: [('162', 0.03527643904769455)], 98: [('162', 0.02149658004468887), ('8', 0.008369110781768005)], 105: [('162', 0.031994909833955525), ('8', 0.012456350931003543)], 107: [('162', 0.045859370762002916), ('8', 0.017854103001105077)], 116: [('162', 0.05291465857154183), ('8', 0.020600888078198168)], 120: [('162', 0.02697610044823701), ('8', 0.01050241353006181)], 123: [('162', 0.01859163679540659), ('8', 0.00723814986531287)], 129: [('162', 0.034394528071502194), ('8', 0.01339057725082881)], 132: [('162', 0.03718327359081318), ('8', 0.01447629973062574)], 137: [('162', 0.04299316008937774), ('8', 0.01673822156353601)], 138: [('162', 0.04299316008937774)], 146: [('162', 0.01884631675150805), ('8', 0.007337302603193868)], 153: [('162', 0.040464150672355516)], 159: [('162', 0.027515622457201752), ('8', 0.010712461800663048)], 165: [('162', 0.034394528071502194), ('8', 0.01339057725082881)], 168: [('162', 0.057324213452503645), ('8', 0.022317628751381345)], 169: [('162', 0.049135040102145984), ('8', 0.019129396072612583)], 170: [('162', 0.020534046609852055), ('8', 0.00799437447810675)], 171: [('162', 0.04438003622129315)], 174: [('162', 0.09827008020429197), ('8', 0.038258792145225165)], 184: [('162', 0.028077165772654848)], 185: [('162', 0.017197264035751097), ('933', 0.04200343422443197)], 194: [('162', 0.08598632017875547)], 196: [('162', 0.039308032081716786), ('8', 0.015303516858090066)], 198: [('162', 0.013102677360572263), ('8', 0.005101172286030023)], 200: [('162', 0.03527643904769455), ('8', 0.013733925385465444)], 207: [('162', 0.04438003622129315), ('8', 0.017278164194617817)], 208: [('162', 0.03527643904769455)], 209: [('162', 0.019108071150834547)], 210: [('162', 0.03620476639105493), ('8', 0.01409534447455664)], 211: [('162', 0.027515622457201752), ('8', 0.010712461800663048)], 221: [('162', 0.02990828527956712), ('8', 0.011643980218112008)], 222: [('162', 0.03718327359081318)], 227: [('162', 0.07240953278210986), ('8', 0.02819068894911328)], 233: [('162', 0.012507101116909886), ('8', 0.004869300818483203)], 234: [('162', 0.014038582886327424), ('933', 0.06857703546846035), ('8', 0.005465541735032166)], 237: [('162', 0.028077165772654848), ('8', 0.010931083470064332)], 250: [('162', 0.09171874152400583), ('8', 0.035708206002210155)], 256: [('162', 0.03718327359081318), ('8', 0.01447629973062574)], 260: [('162', 0.019654016040858393), ('8', 0.007651758429045033)], 269: [('162', 0.040464150672355516)], 277: [('162', 0.02990828527956712), ('8', 0.023287960436224015)], 281: [('162', 0.038216142301669094), ('8', 0.014878419167587564)], 285: [('162', 0.041690337056366294)], 298: [('162', 0.01786728730987127), ('8', 0.013912288052809153)], 301: [('162', 0.039308032081716786)], 303: [('162', 0.02697610044823701), ('8', 0.01050241353006181)], 304: [('162', 0.040464150672355516), ('8', 0.015753620295092717)], 306: [('162', 0.05095485640222546)], 311: [('162', 0.06253550558454944)], 312: [('162', 0.06878905614300439), ('8', 0.02678115450165762)], 314: [('162', 0.028077165772654848), ('8', 0.010931083470064332)], 325: [('162', 0.04744072837448578)], 333: [('162', 0.025014202233819772), ('8', 0.009738601636966406)], 336: [('162', 0.057324213452503645)], 339: [('162', 0.049135040102145984), ('8', 0.019129396072612583)], 345: [('162', 0.07643228460333819), ('8', 0.029756838335175128)], 350: [('162', 0.02927193878425718), ('8', 0.011396235958152177)], 352: [('162', 0.05291465857154183), ('8', 0.020600888078198168)], 354: [('162', 0.020845168528183147), ('8', 0.008115501364138671)], 355: [('162', 0.04744072837448578)], 360: [('162', 0.045859370762002916), ('8', 0.017854103001105077)], 361: [('162', 0.055031244914403504)], 364: [('162', 0.03126775279227472), ('8', 0.012173252046208009)], 368: [('162', 0.027515622457201752)], 370: [('162', 0.025014202233819772)], 373: [('162', 0.02331832411627267)], 388: [('162', 0.028077165772654848), ('8', 0.010931083470064332)], 394: [('162', 0.03527643904769455)], 397: [('162', 0.02331832411627267), ('8', 0.009078357458189022)], 408: [('162', 0.06878905614300439), ('8', 0.02678115450165762)], 413: [('162', 0.0225537888993457), ('8', 0.008780706393986105)], 417: [('162', 0.016185660268942206)], 421: [('162', 0.08598632017875547), ('8', 0.03347644312707202)], 423: [('162', 0.038216142301669094), ('8', 0.014878419167587564)], 424: [('162', 0.032756693401430656)], 425: [('162', 0.045859370762002916)], 431: [('162', 0.04744072837448578)], 434: [('162', 0.03718327359081318), ('8', 0.01447629973062574)], 441: [('162', 0.032756693401430656), ('8', 0.012752930715075056)], 446: [('162', 0.024567520051072992), ('8', 0.009564698036306291)], 451: [('162', 0.025958134393586556)], 455: [('162', 0.040464150672355516)], 467: [('162', 0.034394528071502194), ('8', 0.01339057725082881)], 488: [('162', 0.016984952134075155), ('8', 0.006612630741150029)], 489: [('162', 0.039308032081716786)], 492: [('162', 0.019654016040858393), ('8', 0.015303516858090066)], 498: [('162', 0.01581357612482859), ('8', 0.006156587241760372)], 499: [('162', 0.01581357612482859), ('8', 0.012313174483520744)], 505: [('162', 0.08092830134471103)], 509: [('162', 0.039308032081716786), ('8', 0.015303516858090066)], 514: [('162', 0.025958134393586556), ('8', 0.010106096038361365)], 518: [('162', 0.025958134393586556)], 521: [('162', 0.049135040102145984), ('8', 0.019129396072612583)], 522: [('162', 0.013757811228600876), ('8', 0.010712461800663048)], 531: [('162', 0.09488145674897155), ('8', 0.018469761725281114)], 536: [('162', 0.03718327359081318)], 537: [('162', 0.03718327359081318)], 543: [('162', 0.045859370762002916), ('8', 0.017854103001105077)], 545: [('162', 0.049135040102145984)], 547: [('162', 0.04438003622129315), ('8', 0.034556328389235634)], 554: [('162', 0.02697610044823701)], 556: [('162', 0.049135040102145984)], 557: [('162', 0.06878905614300439)], 560: [('162', 0.025014202233819772)], 563: [('162', 0.057324213452503645), ('8', 0.022317628751381345)], 565: [('162', 0.015997454916977762), ('8', 0.0062281754655017715)], 567: [('162', 0.01884631675150805), ('8', 0.007337302603193868)], 576: [('162', 0.03355563714292897), ('8', 0.013063977805686643)], 582: [('162', 0.01834374830480117), ('8', 0.007141641200442032)], 591: [('162', 0.05291465857154183)], 596: [('162', 0.07643228460333819), ('8', 0.014878419167587564)], 604: [('162', 0.038216142301669094)], 607: [('162', 0.049135040102145984), ('8', 0.019129396072612583)], 608: [('162', 0.034394528071502194)], 611: [('162', 0.08092830134471103), ('8', 0.031507240590185434)], 612: [('162', 0.04663664823254534), ('8', 0.009078357458189022)], 614: [('162', 0.055031244914403504)], 616: [('162', 0.040464150672355516)], 623: [('162', 0.01786728730987127), ('8', 0.0069561440264045765)], 639: [('162', 0.04299316008937774)], 641: [('162', 0.039308032081716786), ('8', 0.015303516858090066)], 643: [('162', 0.057324213452503645)], 651: [('162', 0.04744072837448578), ('8', 0.018469761725281114)], 656: [('162', 0.021165863428616732), ('8', 0.008240355231279268)], 686: [('162', 0.020232075336177758), ('8', 0.007876810147546359)], 689: [('162', 0.022929685381001458)], 690: [('162', 0.05291465857154183), ('8', 0.020600888078198168)], 691: [('162', 0.031994909833955525), ('8', 0.012456350931003543)], 695: [('162', 0.02547742820111273), ('8', 0.009918946111725042)], 697: [('162', 0.03126775279227472)], 701: [('162', 0.040464150672355516), ('8', 0.031507240590185434)], 713: [('162', 0.02331832411627267), ('8', 0.009078357458189022)], 714: [('162', 0.03126775279227472), ('8', 0.012173252046208009)], 716: [('162', 0.057324213452503645)], 717: [('162', 0.041690337056366294), ('8', 0.016231002728277343)], 727: [('162', 0.016378346700715328)], 731: [('162', 0.02697610044823701), ('8', 0.01050241353006181)], 736: [('162', 0.06551338680286131), ('8', 0.02550586143015011)], 746: [('162', 0.039308032081716786), ('8', 0.03060703371618013)], 747: [('162', 0.057324213452503645), ('8', 0.022317628751381345)], 749: [('162', 0.02697610044823701)], 750: [('162', 0.030236947755166763), ('8', 0.005885968022342334)], 753: [('162', 0.040464150672355516), ('8', 0.015753620295092717)], 758: [('162', 0.01937719891352236)], 769: [('162', 0.04299316008937774)], 774: [('162', 0.03057291384133528)], 777: [('162', 0.028662106726251822), ('8', 0.011158814375690673)], 781: [('162', 0.05095485640222546), ('8', 0.019837892223450084)], 788: [('162', 0.02990828527956712)], 791: [('162', 0.01859163679540659), ('8', 0.01447629973062574)], 796: [('162', 0.015997454916977762), ('8', 0.012456350931003543)], 806: [('162', 0.03355563714292897), ('8', 0.013063977805686643)], 807: [('162', 0.021165863428616732), ('8', 0.008240355231279268)], 809: [('162', 0.01859163679540659)], 813: [('162', 0.05981657055913424)], 815: [('162', 0.09827008020429197), ('8', 0.038258792145225165)], 819: [('162', 0.021165863428616732), ('933', 0.05169653443007012), ('8', 0.008240355231279268)], 823: [('162', 0.06878905614300439)], 825: [('162', 0.022929685381001458), ('8', 0.008927051500552539)], 831: [('162', 0.038216142301669094), ('8', 0.014878419167587564)], 835: [('162', 0.02183779560095377), ('8', 0.008501953810050037)], 840: [('162', 0.028662106726251822), ('8', 0.011158814375690673)], 841: [('162', 0.02927193878425718)], 845: [('162', 0.057324213452503645), ('8', 0.022317628751381345)], 847: [('162', 0.05095485640222546), ('8', 0.009918946111725042)], 860: [('162', 0.02547742820111273), ('8', 0.009918946111725042)], 862: [('162', 0.026457329285770916), ('8', 0.020600888078198168)], 863: [('162', 0.0705528780953891)], 866: [('162', 0.06551338680286131), ('8', 0.012752930715075056)], 870: [('162', 0.03718327359081318), ('8', 0.01447629973062574)], 871: [('162', 0.02927193878425718), ('8', 0.011396235958152177)], 874: [('162', 0.04299316008937774)], 875: [('162', 0.04299316008937774), ('8', 0.01673822156353601)], 877: [('162', 0.01581357612482859)], 879: [('162', 0.03126775279227472), ('8', 0.012173252046208009)], 884: [('162', 0.024136510927369955), ('8', 0.009396896316371093)], 885: [('162', 0.057324213452503645), ('8', 0.022317628751381345)], 887: [('162', 0.020845168528183147)], 888: [('162', 0.02990828527956712), ('8', 0.011643980218112008)], 890: [('162', 0.01859163679540659), ('8', 0.02171444959593861)], 891: [('162', 0.03620476639105493), ('8', 0.01409534447455664)], 894: [('162', 0.03527643904769455), ('8', 0.013733925385465444)], 903: [('162', 0.020534046609852055), ('8', 0.0159887489562135)], 904: [('162', 0.039877713706089495)], 909: [('162', 0.02697610044823701), ('8', 0.01050241353006181)], 910: [('162', 0.02547742820111273), ('8', 0.009918946111725042)], 911: [('162', 0.057324213452503645)], 915: [('162', 0.031994909833955525)], 916: [('162', 0.05095485640222546), ('8', 0.019837892223450084)], 919: [('162', 0.024567520051072992), ('8', 0.009564698036306291)], 921: [('162', 0.041690337056366294), ('8', 0.016231002728277343)], 922: [('162', 0.045859370762002916), ('8', 0.017854103001105077)], 923: [('162', 0.05291465857154183), ('933', 0.1292413360751753), ('8', 0.020600888078198168)], 933: [('162', 0.038216142301669094)], 939: [('162', 0.024136510927369955)], 940: [('162', 0.020845168528183147), ('8', 0.016231002728277343)], 955: [('162', 0.057324213452503645)], 959: [('162', 0.016777818571464483)], 969: [('162', 0.02149658004468887)], 970: [('162', 0.024136510927369955), ('8', 0.009396896316371093)], 975: [('162', 0.039308032081716786)], 977: [('162', 0.08598632017875547), ('8', 0.03347644312707202)], 978: [('162', 0.05095485640222546), ('8', 0.019837892223450084)], 984: [('162', 0.07240953278210986), ('8', 0.02819068894911328)], 987: [('162', 0.04744072837448578)], 996: [('162', 0.04438003622129315)], 998: [('162', 0.06253550558454944)], 999: [('162', 0.020534046609852055), ('8', 0.00799437447810675)], 1000: [('162', 0.05981657055913424), ('8', 0.023287960436224015)], 1002: [('162', 0.03620476639105493), ('8', 0.01409534447455664)], 1006: [('162', 0.09171874152400583)], 1011: [('162', 0.022190018110646574)], 1013: [('162', 0.01884631675150805), ('8', 0.007337302603193868)], 1014: [('162', 0.014183310544949356), ('8', 0.005521887526114972)], 1017: [('162', 0.05291465857154183), ('8', 0.020600888078198168)], 1019: [('162', 0.04438003622129315), ('8', 0.017278164194617817)], 1033: [('162', 0.04438003622129315), ('8', 0.017278164194617817)], 1034: [('162', 0.020845168528183147), ('8', 0.008115501364138671)], 1035: [('162', 0.024567520051072992), ('8', 0.009564698036306291)], 1036: [('162', 0.04438003622129315)], 1037: [('162', 0.03057291384133528), ('8', 0.011902735334070052)], 1040: [('162', 0.040464150672355516)], 1048: [('162', 0.03355563714292897), ('8', 0.013063977805686643)], 1050: [('162', 0.03527643904769455)], 1054: [('162', 0.04744072837448578), ('8', 0.018469761725281114)], 1056: [('162', 0.05981657055913424), ('8', 0.023287960436224015)], 1059: [('162', 0.04744072837448578), ('8', 0.018469761725281114)], 1062: [('162', 0.05095485640222546), ('8', 0.019837892223450084)], 1064: [('162', 0.034394528071502194), ('8', 0.01339057725082881)], 1069: [('162', 0.01834374830480117)], 1070: [('162', 0.022929685381001458), ('8', 0.008927051500552539)], 1079: [('162', 0.022190018110646574), ('8', 0.008639082097308909)], 1082: [('162', 0.01884631675150805), ('8', 0.014674605206387735)], 1083: [('162', 0.03527643904769455)], 1084: [('162', 0.03620476639105493)], 1090: [('162', 0.022190018110646574)], 1095: [('162', 0.024567520051072992)], 1106: [('162', 0.032756693401430656), ('8', 0.012752930715075056)], 1109: [('162', 0.01786728730987127), ('8', 0.0069561440264045765)], 1112: [('162', 0.022929685381001458), ('8', 0.008927051500552539)], 1114: [('162', 0.02927193878425718), ('8', 0.011396235958152177)], 1116: [('162', 0.020534046609852055), ('8', 0.00799437447810675)], 1122: [('162', 0.026457329285770916), ('8', 0.020600888078198168)], 1125: [('162', 0.038216142301669094), ('8', 0.014878419167587564)], 1133: [('162', 0.08092830134471103)], 1137: [('162', 0.08598632017875547)], 1140: [('162', 0.06253550558454944), ('8', 0.024346504092416017)], 1145: [('162', 0.019654016040858393), ('8', 0.007651758429045033)], 1148: [('162', 0.05095485640222546), ('8', 0.019837892223450084)], 1149: [('162', 0.07240953278210986), ('8', 0.02819068894911328)], 1154: [('162', 0.038216142301669094), ('8', 0.014878419167587564)], 1155: [('162', 0.03527643904769455), ('8', 0.013733925385465444)], 1157: [('162', 0.01884631675150805), ('8', 0.014674605206387735)], 1160: [('162', 0.049135040102145984), ('8', 0.019129396072612583)], 1161: [('162', 0.02331832411627267), ('8', 0.009078357458189022)], 1163: [('162', 0.032756693401430656), ('8', 0.012752930715075056)], 1165: [('162', 0.01884631675150805), ('8', 0.007337302603193868)], 1166: [('162', 0.032756693401430656)], 1169: [('162', 0.019654016040858393), ('8', 0.015303516858090066)], 1170: [('162', 0.032756693401430656), ('8', 0.012752930715075056)], 1181: [('162', 0.011185212380976323), ('8', 0.008709318537124429)], 1182: [('162', 0.02149658004468887), ('8', 0.008369110781768005)], 1186: [('162', 0.024567520051072992), ('8', 0.019129396072612583)], 1187: [('162', 0.040464150672355516), ('8', 0.015753620295092717)], 1191: [('162', 0.02331832411627267), ('8', 0.009078357458189022)], 1198: [('162', 0.013102677360572263)], 1199: [('162', 0.031994909833955525)], 1200: [('162', 0.019654016040858393), ('8', 0.007651758429045033)], 1201: [('162', 0.031994909833955525), ('8', 0.012456350931003543)], 1203: [('162', 0.028662106726251822), ('8', 0.011158814375690673)], 1209: [('162', 0.03057291384133528), ('8', 0.011902735334070052)], 1211: [('162', 0.06398981966791105), ('8', 0.012456350931003543)], 1212: [('162', 0.028077165772654848), ('8', 0.010931083470064332)], 1214: [('162', 0.03718327359081318), ('8', 0.01447629973062574)], 1219: [('162', 0.024136510927369955)], 1220: [('162', 0.04299316008937774)], 1221: [('162', 0.027515622457201752), ('8', 0.010712461800663048)], 1222: [('162', 0.06878905614300439), ('8', 0.02678115450165762)], 1227: [('162', 0.025958134393586556), ('8', 0.010106096038361365)], 1231: [('162', 0.07240953278210986)], 1235: [('162', 0.026457329285770916), ('8', 0.010300444039099084)], 1239: [('162', 0.028662106726251822)], 1244: [('162', 0.020534046609852055)], 1251: [('162', 0.015997454916977762), ('8', 0.0062281754655017715)], 1254: [('162', 0.031994909833955525), ('8', 0.012456350931003543)], 1258: [('162', 0.028662106726251822), ('8', 0.011158814375690673)], 1259: [('162', 0.034394528071502194), ('8', 0.01339057725082881)], 1262: [('162', 0.02183779560095377), ('8', 0.017003907620100074)], 1268: [('162', 0.020232075336177758), ('8', 0.007876810147546359)], 1269: [('162', 0.021165863428616732), ('933', 0.05169653443007012), ('8', 0.008240355231279268)], 1275: [('162', 0.05095485640222546), ('933', 0.12445461992424287)], 1276: [('162', 0.022929685381001458)], 1281: [('162', 0.0225537888993457), ('8', 0.008780706393986105)], 1290: [('162', 0.02990828527956712)], 1294: [('162', 0.01834374830480117), ('8', 0.014283282400884063)], 1303: [('162', 0.03126775279227472), ('8', 0.012173252046208009)], 1306: [('162', 0.021165863428616732), ('8', 0.008240355231279268)], 1310: [('162', 0.02697610044823701), ('8', 0.01050241353006181)], 1311: [('162', 0.024136510927369955)], 1312: [('162', 0.039308032081716786), ('8', 0.015303516858090066)], 1313: [('162', 0.040464150672355516), ('8', 0.015753620295092717)], 1319: [('162', 0.02927193878425718)], 1321: [('162', 0.019108071150834547), ('8', 0.007439209583793782)], 1326: [('162', 0.039308032081716786), ('8', 0.015303516858090066)], 1328: [('162', 0.045859370762002916), ('8', 0.017854103001105077)], 1333: [('162', 0.10582931714308366), ('8', 0.041201776156396336)], 1335: [('162', 0.06551338680286131)], 1339: [('162', 0.04438003622129315)], 1340: [('162', 0.02697610044823701), ('8', 0.01050241353006181)], 1341: [('162', 0.03718327359081318), ('8', 0.01447629973062574)], 1348: [('162', 0.032756693401430656)], 1353: [('162', 0.01495414263978356)], 1355: [('162', 0.04299316008937774), ('8', 0.01673822156353601)], 1358: [('162', 0.042331726857233465), ('8', 0.008240355231279268)], 1360: [('162', 0.03527643904769455), ('8', 0.013733925385465444)], 1361: [('162', 0.032756693401430656), ('8', 0.012752930715075056)], 1364: [('162', 0.031994909833955525), ('8', 0.012456350931003543)], 1367: [('162', 0.017197264035751097)], 1373: [('162', 0.0225537888993457), ('8', 0.008780706393986105)], 1384: [('162', 0.027515622457201752), ('8', 0.010712461800663048)], 1386: [('162', 0.02697610044823701), ('8', 0.01050241353006181)], 1396: [('162', 0.0225537888993457)], 1398: [('162', 0.038216142301669094), ('8', 0.014878419167587564)], 1400: [('162', 0.034394528071502194)], 1405: [('162', 0.02927193878425718), ('8', 0.011396235958152177)], 1415: [('162', 0.025014202233819772)], 1421: [('162', 0.0376926335030161)], 1425: [('162', 0.045859370762002916), ('8', 0.017854103001105077)], 1429: [('162', 0.03718327359081318), ('8', 0.01447629973062574)], 1430: [('162', 0.05291465857154183), ('8', 0.020600888078198168)], 1431: [('162', 0.02697610044823701), ('8', 0.01050241353006181)], 1435: [('162', 0.032756693401430656), ('933', 0.08000654137987041)], 1438: [('162', 0.05095485640222546)], 1441: [('162', 0.08092830134471103)], 1455: [('162', 0.08338067411273259), ('8', 0.016231002728277343)], 1463: [('162', 0.041690337056366294), ('8', 0.016231002728277343)], 1485: [('162', 0.09488145674897155), ('8', 0.018469761725281114)], 1487: [('162', 0.06253550558454944), ('8', 0.024346504092416017)], 1493: [('162', 0.020534046609852055)], 1496: [('162', 0.024136510927369955)], 1501: [('162', 0.011370091924463534), ('8', 0.004426637107712003)], 1504: [('162', 0.01937719891352236), ('8', 0.007543987183565526)], 1511: [('162', 0.02990828527956712), ('8', 0.011643980218112008)], 1512: [('162', 0.034394528071502194), ('8', 0.02678115450165762)], 1513: [('162', 0.02990828527956712), ('8', 0.011643980218112008)], 1514: [('162', 0.022190018110646574), ('8', 0.008639082097308909)], 1518: [('162', 0.041690337056366294)], 1519: [('162', 0.041690337056366294)], 1521: [('162', 0.031994909833955525), ('8', 0.012456350931003543)], 1525: [('162', 0.05095485640222546), ('8', 0.019837892223450084)], 1535: [('162', 0.039308032081716786), ('8', 0.015303516858090066)], 1536: [('162', 0.034394528071502194), ('8', 0.01339057725082881)], 1539: [('162', 0.028662106726251822), ('8', 0.011158814375690673)], 1540: [('162', 0.022929685381001458), ('8', 0.008927051500552539)], 1558: [('162', 0.041690337056366294)], 1562: [('162', 0.03527643904769455), ('8', 0.006866962692732722)], 1565: [('162', 0.032756693401430656), ('8', 0.012752930715075056)], 1566: [('162', 0.02149658004468887), ('8', 0.004184555390884003)], 1569: [('162', 0.057324213452503645), ('8', 0.022317628751381345)], 1570: [('162', 0.04299316008937774)], 1572: [('162', 0.022929685381001458), ('8', 0.008927051500552539)], 1577: [('162', 0.038216142301669094), ('8', 0.014878419167587564)], 1581: [('162', 0.028077165772654848)], 1584: [('162', 0.020534046609852055)], 1586: [('162', 0.020534046609852055), ('8', 0.00799437447810675)], 1588: [('162', 0.041690337056366294)], 1589: [('162', 0.013102677360572263), ('8', 0.005101172286030023)], 1598: [('162', 0.017638219523847275)], 1600: [('162', 0.022190018110646574), ('8', 0.017278164194617817)], 1605: [('162', 0.04663664823254534), ('933', 0.05695380911787386), ('8', 0.009078357458189022)], 1608: [('162', 0.03355563714292897), ('933', 0.08195792043791604), ('8', 0.013063977805686643)], 1610: [('162', 0.034394528071502194)], 1612: [('162', 0.025014202233819772), ('8', 0.019477203273932812)], 1616: [('162', 0.03126775279227472), ('8', 0.012173252046208009)], 1621: [('162', 0.03527643904769455)], 1622: [('162', 0.016984952134075155), ('8', 0.013225261482300058)], 1623: [('162', 0.04438003622129315), ('8', 0.017278164194617817)], 1625: [('162', 0.03718327359081318)], 1628: [('162', 0.028077165772654848), ('933', 0.06857703546846035)], 1635: [('162', 0.057324213452503645)], 1636: [('162', 0.025014202233819772)], 1649: [('162', 0.03620476639105493)], 1650: [('162', 0.02331832411627267), ('8', 0.018156714916378044)], 1653: [('162', 0.03355563714292897), ('8', 0.013063977805686643)], 1654: [('162', 0.032756693401430656)], 1655: [('162', 0.05291465857154183)], 1657: [('162', 0.0887600724425863)], 1658: [('162', 0.039308032081716786), ('8', 0.015303516858090066)], 1664: [('162', 0.028662106726251822), ('933', 0.07000572370738661), ('8', 0.011158814375690673)], 1669: [('162', 0.025014202233819772), ('8', 0.019477203273932812)], 1675: [('162', 0.038216142301669094)], 1676: [('162', 0.015118473877583381)], 1678: [('162', 0.03527643904769455), ('8', 0.013733925385465444)], 1679: [('162', 0.055031244914403504), ('8', 0.021424923601326095)], 1681: [('162', 0.05095485640222546), ('8', 0.019837892223450084)], 1685: [('162', 0.049135040102145984), ('8', 0.019129396072612583)], 1689: [('162', 0.05981657055913424), ('8', 0.011643980218112008)], 1690: [('162', 0.01884631675150805), ('8', 0.007337302603193868)], 1691: [('162', 0.09827008020429197), ('8', 0.038258792145225165)], 1711: [('162', 0.045859370762002916), ('8', 0.017854103001105077)], 1712: [('162', 0.028662106726251822), ('8', 0.022317628751381345)], 1716: [('162', 0.03527643904769455)], 1717: [('162', 0.040464150672355516), ('8', 0.015753620295092717)], 1718: [('162', 0.05291465857154183), ('933', 0.1292413360751753)], 1722: [('162', 0.016777818571464483), ('8', 0.006531988902843322)], 1728: [('162', 0.04744072837448578)], 1736: [('162', 0.022190018110646574), ('8', 0.017278164194617817)], 1742: [('162', 0.022929685381001458), ('8', 0.008927051500552539)], 1743: [('162', 0.022929685381001458), ('8', 0.008927051500552539)], 1746: [('162', 0.04299316008937774), ('8', 0.01673822156353601)], 1748: [('162', 0.057324213452503645), ('8', 0.022317628751381345)], 1751: [('162', 0.01563387639613736)], 1755: [('162', 0.02149658004468887), ('8', 0.008369110781768005)], 1760: [('162', 0.027515622457201752), ('8', 0.010712461800663048)], 1761: [('162', 0.049135040102145984), ('8', 0.009564698036306291)], 1762: [('162', 0.01834374830480117), ('8', 0.007141641200442032)], 1763: [('162', 0.02183779560095377), ('8', 0.008501953810050037)], 1766: [('162', 0.04438003622129315), ('8', 0.017278164194617817)], 1769: [('162', 0.07240953278210986), ('8', 0.02819068894911328)], 1770: [('162', 0.06878905614300439)], 1771: [('162', 0.06253550558454944)], 1777: [('162', 0.040464150672355516), ('8', 0.015753620295092717)], 1779: [('162', 0.02183779560095377), ('8', 0.008501953810050037)], 1781: [('162', 0.022929685381001458)], 1784: [('162', 0.02990828527956712), ('8', 0.011643980218112008)], 1786: [('162', 0.031994909833955525)], 1790: [('162', 0.022929685381001458)], 1796: [('162', 0.028662106726251822), ('8', 0.011158814375690673)], 1800: [('162', 0.039308032081716786), ('8', 0.015303516858090066)], 1801: [('162', 0.034394528071502194), ('8', 0.01339057725082881)], 1820: [('162', 0.04438003622129315), ('8', 0.017278164194617817)], 1821: [('162', 0.039308032081716786), ('8', 0.015303516858090066)], 1823: [('162', 0.025014202233819772), ('8', 0.009738601636966406)], 1827: [('162', 0.027515622457201752)], 1833: [('162', 0.05981657055913424), ('933', 0.07304945082509907)], 1836: [('162', 0.09171874152400583)], 1839: [('162', 0.045859370762002916), ('8', 0.017854103001105077)], 1847: [('162', 0.02183779560095377), ('8', 0.008501953810050037)], 1855: [('162', 0.032756693401430656)], 1857: [('162', 0.028662106726251822), ('8', 0.011158814375690673)], 1859: [('162', 0.049135040102145984), ('8', 0.019129396072612583)], 1862: [('162', 0.027515622457201752), ('8', 0.010712461800663048)], 1863: [('162', 0.04744072837448578), ('8', 0.018469761725281114)], 1866: [('162', 0.045859370762002916)], 1871: [('162', 0.02547742820111273), ('8', 0.009918946111725042)], 1873: [('162', 0.03527643904769455), ('8', 0.013733925385465444)], 1876: [('162', 0.03620476639105493), ('8', 0.01409534447455664)], 1878: [('162', 0.016984952134075155), ('8', 0.006612630741150029)], 1879: [('162', 0.03527643904769455)], 1881: [('162', 0.0887600724425863)], 1889: [('162', 0.03126775279227472), ('8', 0.012173252046208009)], 1891: [('162', 0.01563387639613736), ('8', 0.006086626023104004)], 1908: [('162', 0.03718327359081318)], 1914: [('162', 0.057324213452503645)], 1915: [('162', 0.04744072837448578)], 1919: [('162', 0.028662106726251822), ('8', 0.011158814375690673)], 1922: [('162', 0.013757811228600876), ('8', 0.010712461800663048)], 1924: [('162', 0.03355563714292897)], 1926: [('162', 0.026457329285770916), ('8', 0.010300444039099084)], 1927: [('162', 0.027515622457201752), ('8', 0.010712461800663048)], 1930: [('162', 0.034394528071502194), ('8', 0.01339057725082881)], 1931: [('162', 0.04438003622129315), ('8', 0.017278164194617817)], 1932: [('162', 0.024567520051072992), ('8', 0.009564698036306291)], 1933: [('162', 0.020534046609852055)], 1946: [('162', 0.02990828527956712)], 1950: [('162', 0.05095485640222546), ('8', 0.019837892223450084)], 1952: [('162', 0.014183310544949356), ('8', 0.005521887526114972)], 1955: [('162', 0.04299316008937774), ('8', 0.01673822156353601)], 1963: [('162', 0.017638219523847275), ('8', 0.006866962692732722)], 1964: [('162', 0.03620476639105493), ('8', 0.01409534447455664)], 1965: [('162', 0.040464150672355516), ('933', 0.09883160993983993)], 1972: [('162', 0.04299316008937774), ('8', 0.01673822156353601)], 1975: [('162', 0.03620476639105493)], 1976: [('162', 0.03620476639105493), ('8', 0.00704767223727832)], 1982: [('162', 0.039308032081716786)], 72: [('933', 0.03953264397593597), ('8', 0.012602896236074173)], 124: [('933', 0.08842828257775151), ('8', 0.01409534447455664)], 203: [('933', 0.046031160793898046)], 223: [('933', 0.09883160993983993)], 241: [('933', 0.06462066803758765)], 259: [('933', 0.0960078496558445)], 286: [('933', 0.09334096494318214)], 327: [('933', 0.08842828257775151)], 329: [('933', 0.054197979644428344), ('8', 0.008639082097308909)], 344: [('933', 0.1344109895181823)], 450: [('933', 0.12000981206980561), ('8', 0.019129396072612583)], 504: [('933', 0.05600457896590929), ('8', 0.008927051500552539)], 564: [('933', 0.04667048247159107), ('8', 0.007439209583793782)], 600: [('933', 0.0707426260622012), ('8', 0.005638137789822656)], 659: [('933', 0.05895218838516767)], 664: [('933', 0.08000654137987041), ('8', 0.012752930715075056)], 684: [('933', 0.05895218838516767)], 719: [('933', 0.03360274737954558), ('8', 0.01606869270099457)], 754: [('933', 0.07000572370738661), ('8', 0.011158814375690673)], 756: [('933', 0.07304945082509907)], 761: [('933', 0.08842828257775151), ('8', 0.01409534447455664)], 782: [('933', 0.07467277195454572)], 810: [('933', 0.05508647111400914), ('8', 0.008780706393986105)], 821: [('933', 0.09081823616093398)], 912: [('933', 0.11587154268808819)], 913: [('933', 0.06588773995989328)], 953: [('933', 0.09081823616093398)], 961: [('933', 0.061095904326446494), ('8', 0.009738601636966406)], 1073: [('933', 0.03907296206923904), ('8', 0.012456350931003543)], 1113: [('933', 0.0960078496558445), ('8', 0.015303516858090066)], 1132: [('933', 0.07149520719052249)], 1342: [('933', 0.07467277195454572)], 1352: [('933', 0.05169653443007012), ('8', 0.008240355231279268)], 1395: [('933', 0.12445461992424287), ('8', 0.009918946111725042)], 1434: [('933', 0.07467277195454572), ('8', 0.011902735334070052)], 1466: [('933', 0.08616089071678353)], 1537: [('933', 0.07814592413847808)], 1630: [('933', 0.05250429278053996), ('8', 0.008369110781768005)], 1648: [('933', 0.07304945082509907)], 1660: [('933', 0.043639931661747504), ('8', 0.0069561440264045765)], 1706: [('933', 0.09883160993983993), ('8', 0.015753620295092717)], 1772: [('933', 0.11587154268808819), ('8', 0.018469761725281114)], 1776: [('933', 0.030272745386977995), ('8', 0.009650866487083826)], 1780: [('933', 0.08195792043791604)], 1782: [('933', 0.07636988040805813), ('8', 0.012173252046208009)], 1830: [('933', 0.08400686844886394), ('8', 0.01339057725082881)], 1842: [('933', 0.07636988040805813), ('8', 0.012173252046208009)], 1852: [('933', 0.1344109895181823), ('8', 0.010712461800663048)], 1869: [('933', 0.08400686844886394)], 1894: [('933', 0.021819965830873752), ('8', 0.0069561440264045765)], 1917: [('933', 0.05508647111400914), ('8', 0.01756141278797221)], 1979: [('933', 0.049415804969919964), ('8', 0.007876810147546359)], 0: [('8', 0.012173252046208009)], 7: [('8', 0.005465541735032166)], 8: [('8', 0.00723814986531287)], 10: [('8', 0.007141641200442032)], 12: [('8', 0.008240355231279268)], 15: [('8', 0.009396896316371093)], 16: [('8', 0.009396896316371093)], 18: [('8', 0.038258792145225165)], 20: [('8', 0.009564698036306291)], 21: [('8', 0.012752930715075056)], 26: [('8', 0.024346504092416017)], 27: [('8', 0.031507240590185434)], 32: [('8', 0.0069561440264045765)], 34: [('8', 0.014878419167587564)], 39: [('8', 0.015753620295092717)], 41: [('8', 0.012173252046208009)], 47: [('8', 0.009564698036306291)], 50: [('8', 0.01447629973062574)], 51: [('8', 0.018469761725281114)], 52: [('8', 0.012752930715075056)], 53: [('8', 0.01339057725082881)], 54: [('8', 0.009234880862640557)], 56: [('8', 0.011771936044684668)], 60: [('8', 0.029756838335175128)], 61: [('8', 0.019837892223450084)], 62: [('8', 0.020600888078198168)], 67: [('8', 0.031507240590185434)], 71: [('8', 0.015753620295092717)], 73: [('8', 0.015303516858090066)], 76: [('8', 0.01673822156353601)], 77: [('8', 0.024346504092416017)], 78: [('8', 0.01409534447455664)], 82: [('8', 0.012173252046208009)], 84: [('8', 0.019837892223450084)], 87: [('8', 0.031507240590185434)], 93: [('8', 0.022317628751381345)], 94: [('8', 0.009078357458189022)], 101: [('8', 0.006531988902843322)], 102: [('8', 0.005698117979076088)], 103: [('8', 0.017854103001105077)], 104: [('8', 0.019837892223450084)], 106: [('8', 0.008369110781768005)], 108: [('8', 0.025917246291926724)], 110: [('8', 0.020600888078198168)], 112: [('8', 0.008780706393986105)], 115: [('8', 0.010931083470064332)], 117: [('8', 0.01447629973062574)], 122: [('8', 0.012173252046208009)], 125: [('8', 0.013063977805686643)], 128: [('8', 0.019837892223450084)], 130: [('8', 0.02550586143015011)], 131: [('8', 0.031507240590185434)], 135: [('8', 0.013733925385465444)], 136: [('8', 0.035708206002210155)], 139: [('8', 0.013733925385465444)], 140: [('8', 0.006453290241363281)], 142: [('8', 0.010712461800663048)], 143: [('8', 0.016231002728277343)], 144: [('8', 0.02678115450165762)], 145: [('8', 0.012752930715075056)], 147: [('8', 0.014878419167587564)], 149: [('8', 0.008369110781768005)], 151: [('8', 0.01447629973062574)], 152: [('8', 0.015753620295092717)], 154: [('8', 0.01339057725082881)], 157: [('8', 0.01050241353006181)], 160: [('8', 0.015753620295092717)], 161: [('8', 0.012456350931003543)], 172: [('8', 0.016231002728277343)], 175: [('8', 0.013733925385465444)], 176: [('8', 0.018469761725281114)], 178: [('8', 0.0046174404313202785)], 180: [('8', 0.03347644312707202)], 188: [('8', 0.019837892223450084)], 192: [('8', 0.011643980218112008)], 193: [('8', 0.015753620295092717)], 195: [('8', 0.016231002728277343)], 202: [('8', 0.031507240590185434)], 212: [('8', 0.017278164194617817)], 214: [('8', 0.012456350931003543)], 216: [('8', 0.011643980218112008)], 217: [('8', 0.011902735334070052)], 220: [('8', 0.006086626023104004)], 224: [('8', 0.017278164194617817)], 226: [('8', 0.008927051500552539)], 228: [('8', 0.014878419167587564)], 231: [('8', 0.012173252046208009)], 232: [('8', 0.011902735334070052)], 236: [('8', 0.014878419167587564)], 238: [('8', 0.005885968022342334)], 239: [('8', 0.007543987183565526)], 240: [('8', 0.011158814375690673)], 242: [('8', 0.022317628751381345)], 243: [('8', 0.035708206002210155)], 245: [('8', 0.041201776156396336)], 246: [('8', 0.00799437447810675)], 248: [('8', 0.034556328389235634)], 249: [('8', 0.021424923601326095)], 251: [('8', 0.01447629973062574)], 255: [('8', 0.007543987183565526)], 262: [('8', 0.031507240590185434)], 263: [('8', 0.015753620295092717)], 264: [('8', 0.01339057725082881)], 265: [('8', 0.01673822156353601)], 266: [('8', 0.01339057725082881)], 268: [('8', 0.017854103001105077)], 272: [('8', 0.021424923601326095)], 273: [('8', 0.009918946111725042)], 274: [('8', 0.03347644312707202)], 275: [('8', 0.012456350931003543)], 278: [('8', 0.029756838335175128)], 282: [('8', 0.020600888078198168)], 288: [('8', 0.005200224175079148)], 289: [('8', 0.021424923601326095)], 290: [('8', 0.012752930715075056)], 294: [('8', 0.007876810147546359)], 296: [('8', 0.013733925385465444)], 297: [('8', 0.005005823271337872)], 299: [('8', 0.012456350931003543)], 302: [('8', 0.011643980218112008)], 305: [('8', 0.007876810147546359)], 307: [('8', 0.008639082097308909)], 310: [('8', 0.009564698036306291)], 313: [('8', 0.009918946111725042)], 315: [('8', 0.01409534447455664)], 316: [('8', 0.01050241353006181)], 319: [('8', 0.015303516858090066)], 320: [('8', 0.019129396072612583)], 321: [('8', 0.035708206002210155)], 322: [('8', 0.03347644312707202)], 324: [('8', 0.013733925385465444)], 326: [('8', 0.016231002728277343)], 328: [('8', 0.02678115450165762)], 332: [('8', 0.010106096038361365)], 337: [('8', 0.010300444039099084)], 343: [('8', 0.014878419167587564)], 347: [('8', 0.017278164194617817)], 348: [('8', 0.008639082097308909)], 351: [('8', 0.023287960436224015)], 356: [('8', 0.010931083470064332)], 357: [('8', 0.012456350931003543)], 359: [('8', 0.01673822156353601)], 362: [('8', 0.029756838335175128)], 363: [('8', 0.020600888078198168)], 365: [('8', 0.015753620295092717)], 369: [('8', 0.013733925385465444)], 371: [('8', 0.023287960436224015)], 372: [('8', 0.012456350931003543)], 374: [('8', 0.019129396072612583)], 376: [('8', 0.011902735334070052)], 381: [('8', 0.008240355231279268)], 382: [('8', 0.041201776156396336)], 384: [('8', 0.016231002728277343)], 386: [('8', 0.011902735334070052)], 387: [('8', 0.011902735334070052)], 390: [('8', 0.011643980218112008)], 391: [('8', 0.029756838335175128)], 395: [('8', 0.02550586143015011)], 398: [('8', 0.007543987183565526)], 403: [('8', 0.01409534447455664)], 404: [('8', 0.015753620295092717)], 406: [('8', 0.005951367667035026)], 409: [('8', 0.008369110781768005)], 410: [('8', 0.007762653478741339)], 412: [('8', 0.01673822156353601)], 414: [('8', 0.010300444039099084)], 415: [('8', 0.022317628751381345)], 428: [('8', 0.02819068894911328)], 430: [('8', 0.013063977805686643)], 432: [('8', 0.010106096038361365)], 433: [('8', 0.005356230900331524)], 436: [('8', 0.00704767223727832)], 437: [('8', 0.01409534447455664)], 438: [('8', 0.016231002728277343)], 440: [('8', 0.023805470668140104)], 444: [('8', 0.029756838335175128)], 445: [('8', 0.010106096038361365)], 449: [('8', 0.0069561440264045765)], 454: [('8', 0.01447629973062574)], 458: [('8', 0.01050241353006181)], 460: [('8', 0.013063977805686643)], 461: [('8', 0.018469761725281114)], 462: [('8', 0.02021219207672273)], 463: [('8', 0.041201776156396336)], 464: [('8', 0.006018236966664633)], 465: [('8', 0.016231002728277343)], 466: [('8', 0.004426637107712003)], 470: [('8', 0.009234880862640557)], 473: [('8', 0.015303516858090066)], 477: [('8', 0.01447629973062574)], 480: [('8', 0.009396896316371093)], 481: [('8', 0.0045010343700264905)], 483: [('8', 0.029756838335175128)], 484: [('8', 0.017854103001105077)], 485: [('8', 0.008369110781768005)], 487: [('8', 0.0062281754655017715)], 490: [('8', 0.012456350931003543)], 495: [('8', 0.012173252046208009)], 496: [('8', 0.012173252046208009)], 497: [('8', 0.015303516858090066)], 500: [('8', 0.009918946111725042)], 501: [('8', 0.020600888078198168)], 506: [('8', 0.00723814986531287)], 507: [('8', 0.009234880862640557)], 508: [('8', 0.018469761725281114)], 516: [('8', 0.014878419167587564)], 517: [('8', 0.02550586143015011)], 519: [('8', 0.009078357458189022)], 524: [('8', 0.018469761725281114)], 525: [('8', 0.019837892223450084)], 526: [('8', 0.035708206002210155)], 527: [('8', 0.008501953810050037)], 528: [('8', 0.007141641200442032)], 532: [('8', 0.023287960436224015)], 533: [('8', 0.011643980218112008)], 534: [('8', 0.023287960436224015)], 538: [('8', 0.007876810147546359)], 539: [('8', 0.017854103001105077)], 541: [('8', 0.009234880862640557)], 542: [('8', 0.01409534447455664)], 544: [('8', 0.008927051500552539)], 546: [('8', 0.021424923601326095)], 548: [('8', 0.008369110781768005)], 551: [('8', 0.035708206002210155)], 552: [('8', 0.007439209583793782)], 553: [('8', 0.009564698036306291)], 555: [('8', 0.01409534447455664)], 559: [('8', 0.014878419167587564)], 566: [('8', 0.008240355231279268)], 569: [('8', 0.03347644312707202)], 572: [('8', 0.017278164194617817)], 573: [('8', 0.016231002728277343)], 578: [('8', 0.01409534447455664)], 579: [('8', 0.019837892223450084)], 580: [('8', 0.011902735334070052)], 581: [('8', 0.014283282400884063)], 583: [('8', 0.023287960436224015)], 585: [('8', 0.041201776156396336)], 586: [('8', 0.012456350931003543)], 587: [('8', 0.011902735334070052)], 590: [('8', 0.009396896316371093)], 592: [('8', 0.02770464258792167)], 594: [('8', 0.038258792145225165)], 598: [('8', 0.008780706393986105)], 599: [('8', 0.02678115450165762)], 602: [('8', 0.031507240590185434)], 603: [('8', 0.009078357458189022)], 605: [('8', 0.01339057725082881)], 609: [('8', 0.035708206002210155)], 610: [('8', 0.013063977805686643)], 617: [('8', 0.010106096038361365)], 618: [('8', 0.008501953810050037)], 619: [('8', 0.022317628751381345)], 621: [('8', 0.017854103001105077)], 622: [('8', 0.024346504092416017)], 625: [('8', 0.022317628751381345)], 627: [('8', 0.011902735334070052)], 629: [('8', 0.013063977805686643)], 630: [('8', 0.01339057725082881)], 632: [('8', 0.011396235958152177)], 633: [('8', 0.015303516858090066)], 642: [('8', 0.011158814375690673)], 647: [('8', 0.010712461800663048)], 649: [('8', 0.009396896316371093)], 650: [('8', 0.024346504092416017)], 653: [('8', 0.021424923601326095)], 661: [('8', 0.03347644312707202)], 662: [('8', 0.012173252046208009)], 672: [('8', 0.03693952345056223)], 678: [('8', 0.010712461800663048)], 681: [('8', 0.019837892223450084)], 682: [('8', 0.01409534447455664)], 683: [('8', 0.01673822156353601)], 685: [('8', 0.009827946606112888)], 692: [('8', 0.013063977805686643)], 693: [('8', 0.009396896316371093)], 696: [('8', 0.019837892223450084)], 698: [('8', 0.01339057725082881)], 699: [('8', 0.02819068894911328)], 700: [('8', 0.020600888078198168)], 702: [('8', 0.015303516858090066)], 707: [('8', 0.007141641200442032)], 708: [('8', 0.006866962692732722)], 709: [('8', 0.017854103001105077)], 710: [('8', 0.005885968022342334)], 720: [('8', 0.024346504092416017)], 724: [('8', 0.012173252046208009)], 725: [('8', 0.009564698036306291)], 726: [('8', 0.02678115450165762)], 728: [('8', 0.020600888078198168)], 729: [('8', 0.02550586143015011)], 730: [('8', 0.02895259946125148)], 732: [('8', 0.007876810147546359)], 733: [('8', 0.011396235958152177)], 734: [('8', 0.019129396072612583)], 735: [('8', 0.018793792632742185)], 740: [('8', 0.019837892223450084)], 743: [('8', 0.008927051500552539)], 745: [('8', 0.023287960436224015)], 748: [('8', 0.029756838335175128)], 751: [('8', 0.02819068894911328)], 752: [('8', 0.011158814375690673)], 755: [('8', 0.01673822156353601)], 757: [('8', 0.0063014481180370865)], 759: [('8', 0.017278164194617817)], 762: [('8', 0.004959473055862521)], 763: [('8', 0.019837892223450084)], 764: [('8', 0.01050241353006181)], 765: [('8', 0.014878419167587564)], 766: [('8', 0.014878419167587564)], 768: [('8', 0.009564698036306291)], 771: [('8', 0.007651758429045033)], 773: [('8', 0.010931083470064332)], 779: [('8', 0.016231002728277343)], 784: [('8', 0.017854103001105077)], 786: [('8', 0.012456350931003543)], 790: [('8', 0.008639082097308909)], 792: [('8', 0.019837892223450084)], 793: [('8', 0.017278164194617817)], 798: [('8', 0.022317628751381345)], 799: [('8', 0.007876810147546359)], 800: [('8', 0.01409534447455664)], 801: [('8', 0.012456350931003543)], 803: [('8', 0.012456350931003543)], 804: [('8', 0.007762653478741339)], 805: [('8', 0.010712461800663048)], 808: [('8', 0.02021219207672273)], 811: [('8', 0.00723814986531287)], 812: [('8', 0.01339057725082881)], 814: [('8', 0.010931083470064332)], 817: [('8', 0.020600888078198168)], 818: [('8', 0.01409534447455664)], 822: [('8', 0.012036473933329265)], 824: [('8', 0.011643980218112008)], 829: [('8', 0.020600888078198168)], 830: [('8', 0.01339057725082881)], 832: [('8', 0.018469761725281114)], 833: [('8', 0.010300444039099084)], 837: [('8', 0.008369110781768005)], 838: [('8', 0.011902735334070052)], 839: [('8', 0.019129396072612583)], 843: [('8', 0.01050241353006181)], 844: [('8', 0.010931083470064332)], 846: [('8', 0.009564698036306291)], 850: [('8', 0.023287960436224015)], 851: [('8', 0.008240355231279268)], 852: [('8', 0.016231002728277343)], 853: [('8', 0.01050241353006181)], 854: [('8', 0.008780706393986105)], 855: [('8', 0.019129396072612583)], 864: [('8', 0.012752930715075056)], 867: [('8', 0.015753620295092717)], 873: [('8', 0.017278164194617817)], 876: [('8', 0.015753620295092717)], 878: [('8', 0.009396896316371093)], 883: [('8', 0.014878419167587564)], 889: [('8', 0.005698117979076088)], 893: [('8', 0.015303516858090066)], 895: [('8', 0.013733925385465444)], 897: [('8', 0.01409534447455664)], 898: [('8', 0.01673822156353601)], 899: [('8', 0.009918946111725042)], 902: [('8', 0.017854103001105077)], 906: [('8', 0.009078357458189022)], 907: [('8', 0.009738601636966406)], 917: [('8', 0.03347644312707202)], 918: [('8', 0.017854103001105077)], 920: [('8', 0.01673822156353601)], 925: [('8', 0.023287960436224015)], 926: [('8', 0.03347644312707202)], 927: [('8', 0.012752930715075056)], 929: [('8', 0.007439209583793782)], 934: [('8', 0.011158814375690673)], 935: [('8', 0.019837892223450084)], 937: [('8', 0.007141641200442032)], 938: [('8', 0.01050241353006181)], 941: [('8', 0.022317628751381345)], 942: [('8', 0.02678115450165762)], 945: [('8', 0.012456350931003543)], 947: [('8', 0.012173252046208009)], 949: [('8', 0.01409534447455664)], 951: [('8', 0.011643980218112008)], 952: [('8', 0.014283282400884063)], 954: [('8', 0.01673822156353601)], 956: [('8', 0.013733925385465444)], 962: [('8', 0.008780706393986105)], 964: [('8', 0.010931083470064332)], 966: [('8', 0.007543987183565526)], 967: [('8', 0.010931083470064332)], 968: [('8', 0.005410334242759115)], 971: [('8', 0.011902735334070052)], 973: [('8', 0.017854103001105077)], 974: [('8', 0.017003907620100074)], 988: [('8', 0.01050241353006181)], 990: [('8', 0.012752930715075056)], 991: [('8', 0.032462005456554685)], 992: [('8', 0.007876810147546359)], 993: [('8', 0.012752930715075056)], 997: [('8', 0.015753620295092717)], 1001: [('8', 0.009918946111725042)], 1003: [('8', 0.01447629973062574)], 1005: [('8', 0.018469761725281114)], 1007: [('8', 0.014878419167587564)], 1008: [('8', 0.035708206002210155)], 1012: [('8', 0.020600888078198168)], 1015: [('8', 0.02678115450165762)], 1020: [('8', 0.014878419167587564)], 1021: [('8', 0.019477203273932812)], 1022: [('8', 0.015753620295092717)], 1023: [('8', 0.023287960436224015)], 1024: [('8', 0.017854103001105077)], 1026: [('8', 0.035708206002210155)], 1027: [('8', 0.011902735334070052)], 1028: [('8', 0.011396235958152177)], 1029: [('8', 0.005005823271337872)], 1030: [('8', 0.012752930715075056)], 1031: [('8', 0.007543987183565526)], 1032: [('8', 0.009918946111725042)], 1039: [('8', 0.009564698036306291)], 1041: [('8', 0.011902735334070052)], 1042: [('8', 0.038258792145225165)], 1043: [('8', 0.014878419167587564)], 1044: [('8', 0.01409534447455664)], 1045: [('8', 0.009396896316371093)], 1046: [('8', 0.012752930715075056)], 1047: [('8', 0.016231002728277343)], 1049: [('8', 0.011158814375690673)], 1052: [('8', 0.008639082097308909)], 1053: [('8', 0.008369110781768005)], 1055: [('8', 0.018469761725281114)], 1058: [('8', 0.0062281754655017715)], 1063: [('8', 0.016231002728277343)], 1066: [('8', 0.017278164194617817)], 1067: [('8', 0.023287960436224015)], 1068: [('8', 0.011396235958152177)], 1074: [('8', 0.019129396072612583)], 1075: [('8', 0.021424923601326095)], 1076: [('8', 0.01339057725082881)], 1077: [('8', 0.008639082097308909)], 1086: [('8', 0.016231002728277343)], 1087: [('8', 0.031507240590185434)], 1091: [('8', 0.012173252046208009)], 1092: [('8', 0.020600888078198168)], 1093: [('8', 0.017854103001105077)], 1094: [('8', 0.010300444039099084)], 1096: [('8', 0.006018236966664633)], 1099: [('8', 0.023287960436224015)], 1100: [('8', 0.01673822156353601)], 1101: [('8', 0.010712461800663048)], 1102: [('8', 0.013063977805686643)], 1103: [('8', 0.003570820600221016)], 1105: [('8', 0.009738601636966406)], 1110: [('8', 0.021862166940128665)], 1111: [('8', 0.009396896316371093)], 1115: [('8', 0.005759388064872606)], 1118: [('8', 0.011396235958152177)], 1119: [('8', 0.009564698036306291)], 1123: [('8', 0.008780706393986105)], 1126: [('8', 0.011643980218112008)], 1129: [('8', 0.014878419167587564)], 1130: [('8', 0.005465541735032166)], 1131: [('8', 0.015303516858090066)], 1135: [('8', 0.01673822156353601)], 1136: [('8', 0.013733925385465444)], 1139: [('8', 0.017278164194617817)], 1141: [('8', 0.01447629973062574)], 1143: [('8', 0.031507240590185434)], 1147: [('8', 0.03693952345056223)], 1152: [('8', 0.0063014481180370865)], 1153: [('8', 0.007651758429045033)], 1156: [('8', 0.011902735334070052)], 1158: [('8', 0.01447629973062574)], 1159: [('8', 0.018469761725281114)], 1162: [('8', 0.012173252046208009)], 1164: [('8', 0.011902735334070052)], 1171: [('8', 0.01673822156353601)], 1172: [('8', 0.023287960436224015)], 1173: [('8', 0.02819068894911328)], 1175: [('8', 0.019837892223450084)], 1176: [('8', 0.01673822156353601)], 1178: [('8', 0.007141641200442032)], 1179: [('8', 0.011158814375690673)], 1183: [('8', 0.015753620295092717)], 1184: [('8', 0.012456350931003543)], 1192: [('8', 0.009396896316371093)], 1194: [('8', 0.01339057725082881)], 1195: [('8', 0.005821990109056004)], 1196: [('8', 0.011643980218112008)], 1197: [('8', 0.015303516858090066)], 1202: [('8', 0.012173252046208009)], 1204: [('8', 0.01673822156353601)], 1205: [('8', 0.020600888078198168)], 1207: [('8', 0.010106096038361365)], 1210: [('8', 0.020600888078198168)], 1216: [('8', 0.008927051500552539)], 1218: [('8', 0.017854103001105077)], 1223: [('8', 0.00799437447810675)], 1225: [('8', 0.015753620295092717)], 1228: [('8', 0.020600888078198168)], 1229: [('8', 0.00723814986531287)], 1230: [('8', 0.013063977805686643)], 1232: [('8', 0.015753620295092717)], 1234: [('8', 0.007141641200442032)], 1238: [('8', 0.007141641200442032)], 1241: [('8', 0.020600888078198168)], 1243: [('8', 0.02819068894911328)], 1250: [('8', 0.01409534447455664)], 1252: [('8', 0.011902735334070052)], 1256: [('8', 0.005951367667035026)], 1257: [('8', 0.015303516858090066)], 1261: [('8', 0.006453290241363281)], 1263: [('8', 0.009564698036306291)], 1265: [('8', 0.009918946111725042)], 1266: [('8', 0.011158814375690673)], 1267: [('8', 0.018469761725281114)], 1270: [('8', 0.018469761725281114)], 1271: [('8', 0.013733925385465444)], 1272: [('8', 0.022792471916304353)], 1273: [('8', 0.014878419167587564)], 1274: [('8', 0.011158814375690673)], 1278: [('8', 0.029756838335175128)], 1279: [('8', 0.010106096038361365)], 1282: [('8', 0.008115501364138671)], 1284: [('8', 0.009918946111725042)], 1287: [('8', 0.021424923601326095)], 1288: [('8', 0.019129396072612583)], 1289: [('8', 0.008501953810050037)], 1295: [('8', 0.01339057725082881)], 1296: [('8', 0.018469761725281114)], 1298: [('8', 0.00799437447810675)], 1299: [('8', 0.013063977805686643)], 1300: [('8', 0.011902735334070052)], 1304: [('8', 0.019129396072612583)], 1305: [('8', 0.009918946111725042)], 1308: [('8', 0.0067800391143437)], 1316: [('8', 0.009918946111725042)], 1318: [('8', 0.01447629973062574)], 1320: [('8', 0.013733925385465444)], 1325: [('8', 0.02678115450165762)], 1327: [('8', 0.01447629973062574)], 1329: [('8', 0.019129396072612583)], 1331: [('8', 0.018469761725281114)], 1332: [('8', 0.019837892223450084)], 1334: [('8', 0.022317628751381345)], 1336: [('8', 0.005465541735032166)], 1338: [('8', 0.03347644312707202)], 1343: [('8', 0.012752930715075056)], 1344: [('8', 0.022792471916304353)], 1345: [('8', 0.007337302603193868)], 1354: [('8', 0.009078357458189022)], 1357: [('8', 0.015753620295092717)], 1366: [('8', 0.017854103001105077)], 1368: [('8', 0.022317628751381345)], 1372: [('8', 0.007439209583793782)], 1374: [('8', 0.0069561440264045765)], 1375: [('8', 0.006612630741150029)], 1376: [('8', 0.01339057725082881)], 1379: [('8', 0.024912701862007086)], 1380: [('8', 0.009234880862640557)], 1385: [('8', 0.021424923601326095)], 1389: [('8', 0.01050241353006181)], 1390: [('8', 0.013063977805686643)], 1391: [('8', 0.012752930715075056)], 1392: [('8', 0.012173252046208009)], 1393: [('8', 0.014878419167587564)], 1394: [('8', 0.017278164194617817)], 1401: [('8', 0.01447629973062574)], 1402: [('8', 0.014878419167587564)], 1403: [('8', 0.009234880862640557)], 1406: [('8', 0.011902735334070052)], 1407: [('8', 0.007337302603193868)], 1408: [('8', 0.013733925385465444)], 1413: [('8', 0.02550586143015011)], 1416: [('8', 0.014878419167587564)], 1417: [('8', 0.04463525750276269)], 1422: [('8', 0.018469761725281114)], 1423: [('8', 0.019837892223450084)], 1424: [('8', 0.016231002728277343)], 1426: [('8', 0.015303516858090066)], 1428: [('8', 0.041201776156396336)], 1432: [('8', 0.010300444039099084)], 1437: [('8', 0.010712461800663048)], 1440: [('8', 0.018469761725281114)], 1443: [('8', 0.024346504092416017)], 1444: [('8', 0.010300444039099084)], 1448: [('8', 0.007337302603193868)], 1449: [('8', 0.02550586143015011)], 1452: [('8', 0.010931083470064332)], 1453: [('8', 0.01339057725082881)], 1454: [('8', 0.029756838335175128)], 1458: [('8', 0.01673822156353601)], 1459: [('8', 0.010712461800663048)], 1462: [('8', 0.023287960436224015)], 1464: [('8', 0.017854103001105077)], 1465: [('8', 0.011902735334070052)], 1467: [('8', 0.012456350931003543)], 1468: [('8', 0.010712461800663048)], 1469: [('8', 0.011902735334070052)], 1471: [('8', 0.011771936044684668)], 1472: [('8', 0.01339057725082881)], 1473: [('8', 0.024346504092416017)], 1475: [('8', 0.017854103001105077)], 1478: [('8', 0.00723814986531287)], 1479: [('8', 0.010931083470064332)], 1480: [('8', 0.016231002728277343)], 1483: [('8', 0.02021219207672273)], 1484: [('8', 0.023287960436224015)], 1486: [('8', 0.010931083470064332)], 1488: [('8', 0.02819068894911328)], 1490: [('8', 0.013063977805686643)], 1491: [('8', 0.008927051500552539)], 1494: [('8', 0.012752930715075056)], 1495: [('8', 0.018469761725281114)], 1498: [('8', 0.017278164194617817)], 1500: [('8', 0.017278164194617817)], 1502: [('8', 0.02895259946125148)], 1505: [('8', 0.012752930715075056)], 1506: [('8', 0.0069561440264045765)], 1509: [('8', 0.019129396072612583)], 1510: [('8', 0.014878419167587564)], 1515: [('8', 0.012752930715075056)], 1522: [('8', 0.02678115450165762)], 1524: [('8', 0.018469761725281114)], 1526: [('8', 0.017003907620100074)], 1528: [('8', 0.0062281754655017715)], 1529: [('8', 0.008927051500552539)], 1530: [('8', 0.019129396072612583)], 1531: [('8', 0.009234880862640557)], 1533: [('8', 0.011643980218112008)], 1534: [('8', 0.005821990109056004)], 1538: [('8', 0.02550586143015011)], 1542: [('8', 0.01447629973062574)], 1543: [('8', 0.048693008184832035)], 1544: [('8', 0.011643980218112008)], 1549: [('8', 0.0063014481180370865)], 1552: [('8', 0.017278164194617817)], 1553: [('8', 0.022317628751381345)], 1555: [('8', 0.010931083470064332)], 1559: [('8', 0.008639082097308909)], 1560: [('8', 0.031507240590185434)], 1561: [('8', 0.02819068894911328)], 1563: [('8', 0.03347644312707202)], 1564: [('8', 0.008369110781768005)], 1571: [('8', 0.014878419167587564)], 1573: [('8', 0.048693008184832035)], 1575: [('8', 0.021424923601326095)], 1579: [('8', 0.007337302603193868)], 1580: [('8', 0.009396896316371093)], 1582: [('8', 0.008639082097308909)], 1587: [('8', 0.007543987183565526)], 1590: [('8', 0.01447629973062574)], 1591: [('8', 0.012173252046208009)], 1592: [('8', 0.017278164194617817)], 1593: [('8', 0.00704767223727832)], 1594: [('8', 0.015525306957482677)], 1596: [('8', 0.011902735334070052)], 1599: [('8', 0.010712461800663048)], 1602: [('8', 0.017854103001105077)], 1603: [('8', 0.008501953810050037)], 1604: [('8', 0.019129396072612583)], 1606: [('8', 0.006453290241363281)], 1609: [('8', 0.009918946111725042)], 1611: [('8', 0.004539178729094511)], 1613: [('8', 0.008639082097308909)], 1614: [('8', 0.012173252046208009)], 1618: [('8', 0.012173252046208009)], 1627: [('8', 0.017854103001105077)], 1632: [('8', 0.008639082097308909)], 1633: [('8', 0.005759388064872606)], 1637: [('8', 0.012456350931003543)], 1638: [('8', 0.018469761725281114)], 1639: [('8', 0.011902735334070052)], 1641: [('8', 0.021862166940128665)], 1642: [('8', 0.021424923601326095)], 1643: [('8', 0.014878419167587564)], 1644: [('8', 0.009564698036306291)], 1646: [('8', 0.009918946111725042)], 1647: [('8', 0.01339057725082881)], 1651: [('8', 0.01447629973062574)], 1652: [('8', 0.007876810147546359)], 1659: [('8', 0.015303516858090066)], 1663: [('8', 0.019129396072612583)], 1665: [('8', 0.02678115450165762)], 1666: [('8', 0.029756838335175128)], 1667: [('8', 0.01409534447455664)], 1668: [('8', 0.019837892223450084)], 1670: [('8', 0.009234880862640557)], 1673: [('8', 0.014878419167587564)], 1682: [('8', 0.0067800391143437)], 1686: [('8', 0.019837892223450084)], 1687: [('8', 0.023287960436224015)], 1688: [('8', 0.017854103001105077)], 1697: [('8', 0.03347644312707202)], 1698: [('8', 0.029756838335175128)], 1699: [('8', 0.015753620295092717)], 1700: [('8', 0.011158814375690673)], 1704: [('8', 0.020600888078198168)], 1707: [('8', 0.013063977805686643)], 1708: [('8', 0.013063977805686643)], 1710: [('8', 0.015525306957482677)], 1713: [('8', 0.023287960436224015)], 1720: [('8', 0.02550586143015011)], 1721: [('8', 0.019837892223450084)], 1724: [('8', 0.031507240590185434)], 1725: [('8', 0.013733925385465444)], 1727: [('8', 0.011902735334070052)], 1729: [('8', 0.013733925385465444)], 1732: [('8', 0.007762653478741339)], 1733: [('8', 0.013063977805686643)], 1734: [('8', 0.011396235958152177)], 1738: [('8', 0.024346504092416017)], 1740: [('8', 0.012456350931003543)], 1741: [('8', 0.013063977805686643)], 1744: [('8', 0.00723814986531287)], 1747: [('8', 0.02819068894911328)], 1749: [('8', 0.017278164194617817)], 1750: [('8', 0.013063977805686643)], 1752: [('8', 0.011158814375690673)], 1759: [('8', 0.019129396072612583)], 1768: [('8', 0.023287960436224015)], 1773: [('8', 0.01447629973062574)], 1774: [('8', 0.03060703371618013)], 1775: [('8', 0.0063014481180370865)], 1778: [('8', 0.012752930715075056)], 1785: [('8', 0.010931083470064332)], 1788: [('8', 0.007876810147546359)], 1791: [('8', 0.016231002728277343)], 1792: [('8', 0.015753620295092717)], 1793: [('8', 0.011158814375690673)], 1794: [('8', 0.013733925385465444)], 1795: [('8', 0.008927051500552539)], 1797: [('8', 0.009564698036306291)], 1798: [('8', 0.0069561440264045765)], 1799: [('8', 0.012173252046208009)], 1802: [('8', 0.019837892223450084)], 1805: [('8', 0.010106096038361365)], 1807: [('8', 0.010712461800663048)], 1808: [('8', 0.024346504092416017)], 1809: [('8', 0.016231002728277343)], 1815: [('8', 0.010931083470064332)], 1816: [('8', 0.009738601636966406)], 1822: [('8', 0.011158814375690673)], 1824: [('8', 0.009564698036306291)], 1825: [('8', 0.007762653478741339)], 1826: [('8', 0.021424923601326095)], 1829: [('8', 0.018469761725281114)], 1840: [('8', 0.017854103001105077)], 1843: [('8', 0.013733925385465444)], 1845: [('8', 0.017278164194617817)], 1846: [('8', 0.013063977805686643)], 1848: [('8', 0.020600888078198168)], 1850: [('8', 0.010712461800663048)], 1851: [('8', 0.013733925385465444)], 1861: [('8', 0.009564698036306291)], 1865: [('8', 0.01409534447455664)], 1867: [('8', 0.01447629973062574)], 1872: [('8', 0.01447629973062574)], 1874: [('8', 0.017854103001105077)], 1884: [('8', 0.017854103001105077)], 1886: [('8', 0.010712461800663048)], 1887: [('8', 0.019837892223450084)], 1895: [('8', 0.01673822156353601)], 1896: [('8', 0.01447629973062574)], 1897: [('8', 0.0069561440264045765)], 1898: [('8', 0.02819068894911328)], 1899: [('8', 0.041201776156396336)], 1902: [('8', 0.023287960436224015)], 1903: [('8', 0.013063977805686643)], 1904: [('8', 0.03347644312707202)], 1905: [('8', 0.024346504092416017)], 1907: [('8', 0.009234880862640557)], 1909: [('8', 0.013733925385465444)], 1916: [('8', 0.011396235958152177)], 1918: [('8', 0.012456350931003543)], 1921: [('8', 0.013912288052809153)], 1928: [('8', 0.02819068894911328)], 1929: [('8', 0.021424923601326095)], 1934: [('8', 0.03347644312707202)], 1935: [('8', 0.029756838335175128)], 1936: [('8', 0.008240355231279268)], 1938: [('8', 0.007876810147546359)], 1941: [('8', 0.008115501364138671)], 1942: [('8', 0.021424923601326095)], 1943: [('8', 0.019837892223450084)], 1945: [('8', 0.013733925385465444)], 1947: [('8', 0.01756141278797221)], 1948: [('8', 0.01050241353006181)], 1951: [('8', 0.008369110781768005)], 1954: [('8', 0.008369110781768005)], 1956: [('8', 0.01447629973062574)], 1957: [('8', 0.013063977805686643)], 1958: [('8', 0.011902735334070052)], 1967: [('8', 0.016231002728277343)], 1971: [('8', 0.007337302603193868)], 1977: [('8', 0.035708206002210155)], 1978: [('8', 0.012752930715075056)], 1983: [('8', 0.017854103001105077)], 1984: [('8', 0.009396896316371093)], 1985: [('8', 0.012173252046208009)]}\n",
      "[('162', 2.6064114846196897), ('933', 2.5426770423101113), ('8', 2.6849467403670078)]\n"
     ]
    }
   ],
   "source": [
    "similarities = engine.rank_documents(query_preprocessed, updated_inverted_index, df, vocabulary)"
   ]
  },
  {
   "cell_type": "markdown",
   "metadata": {},
   "source": [
    "3. Return the top-k results or all matching restaurants if fewer than k have non-zero similarity."
   ]
  },
  {
   "cell_type": "code",
   "execution_count": 170,
   "metadata": {},
   "outputs": [
    {
     "name": "stderr",
     "output_type": "stream",
     "text": [
      "C:\\Users\\Marco\\AppData\\Local\\Temp\\ipykernel_38156\\1052310851.py:4: SettingWithCopyWarning: \n",
      "A value is trying to be set on a copy of a slice from a DataFrame.\n",
      "Try using .loc[row_indexer,col_indexer] = value instead\n",
      "\n",
      "See the caveats in the documentation: https://pandas.pydata.org/pandas-docs/stable/user_guide/indexing.html#returning-a-view-versus-a-copy\n",
      "  documents_best_k[\"similarity_score\"] = [values[1] for values in top_k_values]\n"
     ]
    },
    {
     "data": {
      "text/html": [
       "<div>\n",
       "<style scoped>\n",
       "    .dataframe tbody tr th:only-of-type {\n",
       "        vertical-align: middle;\n",
       "    }\n",
       "\n",
       "    .dataframe tbody tr th {\n",
       "        vertical-align: top;\n",
       "    }\n",
       "\n",
       "    .dataframe thead th {\n",
       "        text-align: right;\n",
       "    }\n",
       "</style>\n",
       "<table border=\"1\" class=\"dataframe\">\n",
       "  <thead>\n",
       "    <tr style=\"text-align: right;\">\n",
       "      <th></th>\n",
       "      <th>restaurant_name</th>\n",
       "      <th>address</th>\n",
       "      <th>description</th>\n",
       "      <th>url</th>\n",
       "      <th>similarity_score</th>\n",
       "    </tr>\n",
       "  </thead>\n",
       "  <tbody>\n",
       "    <tr>\n",
       "      <th>1605</th>\n",
       "      <td>Sintesi</td>\n",
       "      <td>viale dei Castani 17</td>\n",
       "      <td>A modern, welcoming restaurant whose motto “Tradition &amp; Innovation” perfectly sums up its cuisine. On the à la carte and tasting menus alike you’ll find classic dishes including risotto with peas, lemon and raw scampi alongside more creative offerings such as grilled pannicolo (hanger steak) with Nemi strawberries and herbs, all presented in a modern and precise manner, and with the occasional nod to Asian techniques and northern European culinary methods (fermentation, marinades, dry aging of fish etc). The wine list changes with the seasons and the menu.</td>\n",
       "      <td>http://ristorantesintesi.it</td>\n",
       "      <td>0.866468</td>\n",
       "    </tr>\n",
       "    <tr>\n",
       "      <th>890</th>\n",
       "      <td>San Giorgio</td>\n",
       "      <td>viale Brigate Bisagno 69r</td>\n",
       "      <td>Situated in the city albeit not right in the centre, San Giorgio is a typical Genovese restaurant – elegant and classic in style, with excellent cuisine served by the Scala family who have been in charge for decades. Young chef Samuele Di Mauro is at the helm, having started here as an apprentice and worked his way to the position of sous-chef and then head chef in 2022. Despite a focus on modern presentation and techniques, as demonstrated in dishes such as the raw bluefin tuna seasoned with an intense verbena mousse and served with caper cream and a “caviar” of dried and fried tuna, his cuisine is Mediterranean in style, with its roots in Ligurian aromas and flavours. The wine list is as impressive as the cuisine, with an entire section dedicated to French and Italian sparkling wines.</td>\n",
       "      <td>https://www.ristorantesangiorgiogenova.it/</td>\n",
       "      <td>0.825504</td>\n",
       "    </tr>\n",
       "    <tr>\n",
       "      <th>298</th>\n",
       "      <td>Sissi</td>\n",
       "      <td>via Galilei 44</td>\n",
       "      <td>Situated just outside the pedestrianised area of beautiful Merano, the main dining room of this restaurant has a welcoming feel and is decorated in attractive Art-Nouveau style. Here, owner-chef Andrea Fenoglio divides his time between the kitchen and front of house so that he can take time to chat with guests. His cuisine has solid classic foundations, with a good choice of dishes on the à la carte, plus a surprise tasting menu (Settepiatti ) which changes every year (as does the ceramic tableware on which it is served!). The cuisine is comforting and full of generous flavours, to which Fenoglio adds a light modern touch with his carefully chosen accompaniments and presentation. Whatever dish you choose, you can be sure of finding the perfect wine pairing for your meal on the skilfully constructed wine list.</td>\n",
       "      <td>https://sissi.andreafenoglio.com/it/home/1-0.html</td>\n",
       "      <td>0.819180</td>\n",
       "    </tr>\n",
       "    <tr>\n",
       "      <th>1186</th>\n",
       "      <td>Vignamare</td>\n",
       "      <td>strada Castello, 20 - Colla Micheri</td>\n",
       "      <td>From Andora, head uphill along a winding road, then leave the car in the car park and follow a path through the vineyards to get to this restaurant, where meals are served either on a panoramic terrace (in fine weather) or indoors in a modern, wood-furnished dining room. Wherever you choose, the regionally influenced cuisine (often with a focus on vegetables) is extraordinary, with many ingredients grown or produced on the property. There are three tasting menus of various lengths, all of which showcase Ligurian cuisine. Similarly, the wine is sourced exclusively from the restaurant’s own estate.</td>\n",
       "      <td>https://www.peqagri.it/pages/ristorante-vignamare</td>\n",
       "      <td>0.819180</td>\n",
       "    </tr>\n",
       "    <tr>\n",
       "      <th>1612</th>\n",
       "      <td>Pentole e Provette</td>\n",
       "      <td>Via Musco 37</td>\n",
       "      <td>This restaurant run by Luca Trabalzini and his partner Rossella is a real gem in the small town of Fasano. Their story, which began in Australia, adds a fascinating touch to this gastronomic project. The atmosphere here is warm and lively, making this the perfect setting in which to enjoy the chef’s innovative cuisine, which he showcases on three distinct menus dedicated to meat, fish and vegetarian dishes respectively. Luca’s cuisine is modern and elegant, with particular attention paid to flavours and textures so that each and every dish offers a fully rounded sensorial experience.</td>\n",
       "      <td>http://www.pentoleeprovette.com</td>\n",
       "      <td>0.819180</td>\n",
       "    </tr>\n",
       "  </tbody>\n",
       "</table>\n",
       "</div>"
      ],
      "text/plain": [
       "         restaurant_name                              address  \\\n",
       "1605             Sintesi                 viale dei Castani 17   \n",
       "890          San Giorgio            viale Brigate Bisagno 69r   \n",
       "298                Sissi                       via Galilei 44   \n",
       "1186           Vignamare  strada Castello, 20 - Colla Micheri   \n",
       "1612  Pentole e Provette                         Via Musco 37   \n",
       "\n",
       "                                                                                                                                                                                                                                                                                                                                                                                                                                                                                                                                                                                                                                                                                                                                                                                                                                               description  \\\n",
       "1605                                                                                                                                                                                                                                                                    A modern, welcoming restaurant whose motto “Tradition & Innovation” perfectly sums up its cuisine. On the à la carte and tasting menus alike you’ll find classic dishes including risotto with peas, lemon and raw scampi alongside more creative offerings such as grilled pannicolo (hanger steak) with Nemi strawberries and herbs, all presented in a modern and precise manner, and with the occasional nod to Asian techniques and northern European culinary methods (fermentation, marinades, dry aging of fish etc). The wine list changes with the seasons and the menu.   \n",
       "890                          Situated in the city albeit not right in the centre, San Giorgio is a typical Genovese restaurant – elegant and classic in style, with excellent cuisine served by the Scala family who have been in charge for decades. Young chef Samuele Di Mauro is at the helm, having started here as an apprentice and worked his way to the position of sous-chef and then head chef in 2022. Despite a focus on modern presentation and techniques, as demonstrated in dishes such as the raw bluefin tuna seasoned with an intense verbena mousse and served with caper cream and a “caviar” of dried and fried tuna, his cuisine is Mediterranean in style, with its roots in Ligurian aromas and flavours. The wine list is as impressive as the cuisine, with an entire section dedicated to French and Italian sparkling wines.   \n",
       "298   Situated just outside the pedestrianised area of beautiful Merano, the main dining room of this restaurant has a welcoming feel and is decorated in attractive Art-Nouveau style. Here, owner-chef Andrea Fenoglio divides his time between the kitchen and front of house so that he can take time to chat with guests. His cuisine has solid classic foundations, with a good choice of dishes on the à la carte, plus a surprise tasting menu (Settepiatti ) which changes every year (as does the ceramic tableware on which it is served!). The cuisine is comforting and full of generous flavours, to which Fenoglio adds a light modern touch with his carefully chosen accompaniments and presentation. Whatever dish you choose, you can be sure of finding the perfect wine pairing for your meal on the skilfully constructed wine list.   \n",
       "1186                                                                                                                                                                                                                           From Andora, head uphill along a winding road, then leave the car in the car park and follow a path through the vineyards to get to this restaurant, where meals are served either on a panoramic terrace (in fine weather) or indoors in a modern, wood-furnished dining room. Wherever you choose, the regionally influenced cuisine (often with a focus on vegetables) is extraordinary, with many ingredients grown or produced on the property. There are three tasting menus of various lengths, all of which showcase Ligurian cuisine. Similarly, the wine is sourced exclusively from the restaurant’s own estate.   \n",
       "1612                                                                                                                                                                                                                                        This restaurant run by Luca Trabalzini and his partner Rossella is a real gem in the small town of Fasano. Their story, which began in Australia, adds a fascinating touch to this gastronomic project. The atmosphere here is warm and lively, making this the perfect setting in which to enjoy the chef’s innovative cuisine, which he showcases on three distinct menus dedicated to meat, fish and vegetarian dishes respectively. Luca’s cuisine is modern and elegant, with particular attention paid to flavours and textures so that each and every dish offers a fully rounded sensorial experience.   \n",
       "\n",
       "                                                    url  similarity_score  \n",
       "1605                        http://ristorantesintesi.it          0.866468  \n",
       "890          https://www.ristorantesangiorgiogenova.it/          0.825504  \n",
       "298   https://sissi.andreafenoglio.com/it/home/1-0.html          0.819180  \n",
       "1186  https://www.peqagri.it/pages/ristorante-vignamare          0.819180  \n",
       "1612                    http://www.pentoleeprovette.com          0.819180  "
      ]
     },
     "execution_count": 170,
     "metadata": {},
     "output_type": "execute_result"
    }
   ],
   "source": [
    "k = 5  \n",
    "top_k_values = similarities[:k]\n",
    "documents_best_k = df_tfidf.iloc[[top_k_index[0] for top_k_index in top_k_values]]\n",
    "documents_best_k[\"similarity_score\"] = [values[1] for values in top_k_values]\n",
    "documents_best_k[[\"restaurant_name\", \"address\", \"description\", \"url\", \"similarity_score\"]]"
   ]
  },
  {
   "cell_type": "markdown",
   "metadata": {},
   "source": [
    "## **3. Define a New Score!**\n",
    "\n",
    "___"
   ]
  },
  {
   "cell_type": "markdown",
   "metadata": {},
   "source": [
    "1. **User Query**: The user provides a text query. We’ll retrieve relevant documents using the search engine built in Step 2.1."
   ]
  },
  {
   "cell_type": "code",
   "execution_count": null,
   "metadata": {},
   "outputs": [],
   "source": []
  },
  {
   "cell_type": "markdown",
   "metadata": {},
   "source": [
    "2. **New Ranking Metric**: After retrieving relevant documents, we’ll rank them using a new custom score. Instead of limiting the scoring to only the description field, we can include other attributes like `priceRange`, `facilitiesServices`, and `cuisineType`."
   ]
  },
  {
   "cell_type": "code",
   "execution_count": null,
   "metadata": {},
   "outputs": [],
   "source": []
  },
  {
   "cell_type": "markdown",
   "metadata": {},
   "source": [
    "3. You will use a **heap data structure** (e.g., Python’s heapq library) to maintain the *top-k* restaurants.\n"
   ]
  },
  {
   "cell_type": "code",
   "execution_count": null,
   "metadata": {},
   "outputs": [],
   "source": []
  },
  {
   "cell_type": "markdown",
   "metadata": {},
   "source": [
    "## **4. Visualizing the Most Relevant Restaurants**\n",
    "\n",
    "___"
   ]
  },
  {
   "cell_type": "markdown",
   "metadata": {},
   "source": [
    "Geocode Locations were already parsed when scraping the HTML files, since the info was contained in the webpage and could be extracted using REGEX on the link that connected to Google Maps"
   ]
  },
  {
   "cell_type": "code",
   "execution_count": 12,
   "metadata": {},
   "outputs": [
    {
     "name": "stdout",
     "output_type": "stream",
     "text": [
      "Collecting folium\n",
      "  Downloading folium-0.18.0-py2.py3-none-any.whl.metadata (3.8 kB)\n",
      "Collecting branca>=0.6.0 (from folium)\n",
      "  Downloading branca-0.8.0-py3-none-any.whl.metadata (1.5 kB)\n",
      "Requirement already satisfied: jinja2>=2.9 in c:\\users\\emanu\\miniconda3\\envs\\basicpy\\lib\\site-packages (from folium) (3.1.3)\n",
      "Requirement already satisfied: numpy in c:\\users\\emanu\\miniconda3\\envs\\basicpy\\lib\\site-packages (from folium) (1.26.4)\n",
      "Requirement already satisfied: requests in c:\\users\\emanu\\miniconda3\\envs\\basicpy\\lib\\site-packages (from folium) (2.31.0)\n",
      "Collecting xyzservices (from folium)\n",
      "  Downloading xyzservices-2024.9.0-py3-none-any.whl.metadata (4.1 kB)\n",
      "Requirement already satisfied: MarkupSafe>=2.0 in c:\\users\\emanu\\miniconda3\\envs\\basicpy\\lib\\site-packages (from jinja2>=2.9->folium) (2.1.5)\n",
      "Requirement already satisfied: charset-normalizer<4,>=2 in c:\\users\\emanu\\miniconda3\\envs\\basicpy\\lib\\site-packages (from requests->folium) (3.3.2)\n",
      "Requirement already satisfied: idna<4,>=2.5 in c:\\users\\emanu\\miniconda3\\envs\\basicpy\\lib\\site-packages (from requests->folium) (3.6)\n",
      "Requirement already satisfied: urllib3<3,>=1.21.1 in c:\\users\\emanu\\miniconda3\\envs\\basicpy\\lib\\site-packages (from requests->folium) (1.26.18)\n",
      "Requirement already satisfied: certifi>=2017.4.17 in c:\\users\\emanu\\miniconda3\\envs\\basicpy\\lib\\site-packages (from requests->folium) (2024.2.2)\n",
      "Downloading folium-0.18.0-py2.py3-none-any.whl (108 kB)\n",
      "Downloading branca-0.8.0-py3-none-any.whl (25 kB)\n",
      "Downloading xyzservices-2024.9.0-py3-none-any.whl (85 kB)\n",
      "Installing collected packages: xyzservices, branca, folium\n",
      "Successfully installed branca-0.8.0 folium-0.18.0 xyzservices-2024.9.0\n"
     ]
    },
    {
     "name": "stderr",
     "output_type": "stream",
     "text": [
      "\n",
      "[notice] A new release of pip is available: 24.2 -> 24.3.1\n",
      "[notice] To update, run: python.exe -m pip install --upgrade pip\n"
     ]
    }
   ],
   "source": [
    "!pip install folium"
   ]
  },
  {
   "cell_type": "markdown",
   "metadata": {},
   "source": [
    "## Why Folium\n",
    "\n",
    "We chose **Folium** due to its simplicity, flexibility, and all the integration avaible.\n",
    "\n",
    "### Key Benefits of Using Folium\n",
    "- **Interactive Maps**: Allows users to zoom, pan, and explore different locations dynamically.\n",
    "- **Customization**: Supports adding custom markers, color coding, and popups to display detailed information.\n",
    "- **Plugin Integration**: Folium supports various plugins that enhance interactivity\n",
    "\n",
    "For more details: **[Folium Documentation](https://python-visualization.github.io/folium/)**.\n",
    "\n",
    "---\n",
    "\n",
    "## Explanation of Folium Plugins Used\n",
    "\n",
    "\n",
    "### 1. MarkerCluster\n",
    "\n",
    "The MarkerCluster plugin groups nearby markers into clusters, which expand to show individual markers as the user zooms in. It prevents overcrowding of markers on the map on high density area.\n",
    "\n",
    "**Documentation**: [MarkerCluster Documentation](https://python-visualization.github.io/folium/latest/user_guide/plugins/marker_cluster.html)\n",
    "\n",
    "---\n",
    "\n",
    "### 2. MiniMap\n",
    "\n",
    "The MiniMap plugin adds a mini-map to the right-bottom corner of the main map, helping users orient themselves within the broader region.\n",
    "\n",
    "**Documentation**: [MiniMap Documentation](https://python-visualization.github.io/folium/latest/user_guide/plugins/mini_map.html)\n",
    "\n",
    "---\n",
    "\n",
    "### 3. HeatMap\n",
    "\n",
    "The HeatMap plugin creates a heat map overlay that highlights areas with a high concentration of restaurants.\n",
    "\n",
    "**Documentation**: [HeatMap Documentation](https://python-visualization.github.io/folium/latest/user_guide/plugins/heatmap.html)\n",
    "\n",
    "---\n",
    "\n",
    "### 4. MeasureControl\n",
    "\n",
    "The MeasureControl plugin adds a tool to measure distances directly on the map. \n",
    "\n",
    "**Documentation**: [MeasureControl Documentation](https://python-visualization.github.io/folium/latest/user_guide/plugins/measure_control.html)\n",
    "\n",
    "---\n",
    "\n",
    "### 5. LocateControl\n",
    "\n",
    "The LocateControl plugin adds a button that centers the map on the user’s current location.\n",
    "\n",
    "**Documentation**: [LocateControl Documentation](https://python-visualization.github.io/folium/latest/user_guide/plugins/locate_control.html)\n"
   ]
  },
  {
   "cell_type": "code",
   "execution_count": null,
   "metadata": {},
   "outputs": [
    {
     "name": "stdout",
     "output_type": "stream",
     "text": [
      "Map has been saved to restaurants_map.html\n"
     ]
    }
   ],
   "source": [
    "import folium\n",
    "import pandas as pd\n",
    "from folium.plugins import MarkerCluster, HeatMap, MiniMap, MeasureControl, LocateControl\n",
    "\n",
    "def create_restaurant_map(csv_file, output_map=\"restaurants_map.html\"):\n",
    "    data = pd.read_csv(csv_file)\n",
    "    \n",
    "    data['latitude'] = pd.to_numeric(data['latitude'], errors='coerce')\n",
    "    data['longitude'] = pd.to_numeric(data['longitude'], errors='coerce')\n",
    "    \n",
    "    data = data.dropna(subset=['latitude', 'longitude'])\n",
    "    \n",
    "    # to center the map\n",
    "    avg_lat = data['latitude'].mean()\n",
    "    avg_lon = data['longitude'].mean()\n",
    "    \n",
    "    # Initialize map \n",
    "    m = folium.Map(location=[avg_lat, avg_lon], zoom_start=6, control_scale=True)\n",
    "\n",
    "    # plugins\n",
    "    marker_cluster = MarkerCluster().add_to(m) #group nearby markers to make it easier to explore the map (specially in high density zones)\n",
    "    minimap = MiniMap().add_to(m) # improves navigation\n",
    "    HeatMap([[row['latitude'], row['longitude']] for _, row in data.iterrows()]).add_to(m) # highlights areas with high concentrations of restaurants\n",
    "    m.add_child(MeasureControl()) # tool to calculate distances directly on the map\n",
    "    LocateControl().add_to(m) # to retrieve users current position\n",
    "\n",
    "    # color mapping for price ranges\n",
    "    price_color_mapping = {\n",
    "        \"€\": \"green\",\n",
    "        \"€€\": \"blue\",\n",
    "        \"€€€\": \"orange\",\n",
    "        \"€€€€\": \"red\"\n",
    "    }\n",
    "    \n",
    "    # pop-up HTML for each restaurant so we can provide all the needed info when u click on it\n",
    "    def create_popup_html(row):\n",
    "        info = f\"\"\"\n",
    "        <strong>{row['restaurant_name']}</strong><br>\n",
    "        <em>{row['cuisine_type']}</em><br>\n",
    "        <br><strong>Address:</strong> {row['address']}, {row['city']}, {row['postal_code']}, {row['country']}<br>\n",
    "        <strong>Price Range:</strong> {row['price_range']}<br>\n",
    "        <strong>Phone:</strong> {row['phone_number']}<br>\n",
    "        <strong>Website:</strong> <a href=\"{row['url']}\" target=\"_blank\">{row['url']}</a><br>\n",
    "        <strong>Description:</strong> {row['description']}<br>\n",
    "        <br><strong>Opening Hours:</strong><br>\n",
    "        <table style=\"width:100%; border:1px solid black;\">\n",
    "            <tr><td><strong>Monday</strong></td><td>{row['monday_hours']}</td></tr>\n",
    "            <tr><td><strong>Tuesday</strong></td><td>{row['tuesday_hours']}</td></tr>\n",
    "            <tr><td><strong>Wednesday</strong></td><td>{row['wednesday_hours']}</td></tr>\n",
    "            <tr><td><strong>Thursday</strong></td><td>{row['thursday_hours']}</td></tr>\n",
    "            <tr><td><strong>Friday</strong></td><td>{row['friday_hours']}</td></tr>\n",
    "            <tr><td><strong>Saturday</strong></td><td>{row['saturday_hours']}</td></tr>\n",
    "            <tr><td><strong>Sunday</strong></td><td>{row['sunday_hours']}</td></tr>\n",
    "        </table><br>\n",
    "        <strong>Facilities:</strong> {row['facilities_services']}<br>\n",
    "        <strong>Credit Cards:</strong> {row['credit_cards']}\n",
    "        \"\"\"\n",
    "        return info\n",
    "    \n",
    "    # markers\n",
    "    for _, row in data.iterrows():\n",
    "        lat, lon = row['latitude'], row['longitude']\n",
    "        price_range = row['price_range']\n",
    "        \n",
    "        marker_color = price_color_mapping.get(price_range, \"gray\")\n",
    "        \n",
    "        # pop up to store info for each restaurant\n",
    "        popup_html = create_popup_html(row)\n",
    "        popup = folium.Popup(popup_html, max_width=300)\n",
    "        \n",
    "        # Create a marker for each restaurant\n",
    "        folium.Marker(\n",
    "            location=[lat, lon],\n",
    "            popup=popup,\n",
    "            tooltip_text = f\"{row['restaurant_name']} - {row['price_range']} - {row['cuisine_type']}\",\n",
    "            icon=folium.Icon(color=marker_color, icon=\"cutlery\", prefix=\"fa\") # to make it more pretty I added cutlery icon from FontAwesome\n",
    "        ).add_to(marker_cluster)\n",
    "    \n",
    "    #legend for price range\n",
    "    legend_html = '''\n",
    "     <div style=\"position: fixed; \n",
    "                 bottom: 50px; left: 50px; width: 150px; height: 140px; \n",
    "                 background-color: white; border:2px solid grey; z-index:9999; font-size:14px;\">\n",
    "     <strong>Price Range Legend</strong><br>\n",
    "     <i style=\"color:green; font-size:15px;\">&#9679;</i> €<br>\n",
    "     <i style=\"color:blue; font-size:15px;\">&#9679;</i> €€<br>\n",
    "     <i style=\"color:orange; font-size:15px;\">&#9679;</i> €€€<br>\n",
    "     <i style=\"color:red; font-size:15px;\">&#9679;</i> €€€€<br>\n",
    "     </div>\n",
    "     '''\n",
    "    m.get_root().html.add_child(folium.Element(legend_html))\n",
    "    \n",
    "    m.save(output_map)\n",
    "    print(f\"Map has been saved to {output_map}\")\n",
    "\n",
    "create_restaurant_map(\"michelin_restaurants_data.csv\")\n"
   ]
  },
  {
   "cell_type": "markdown",
   "metadata": {},
   "source": [
    "## **5. BONUS: Advanced Search Engine**\n",
    "\n",
    "___"
   ]
  },
  {
   "cell_type": "code",
   "execution_count": null,
   "metadata": {},
   "outputs": [],
   "source": []
  },
  {
   "cell_type": "markdown",
   "metadata": {},
   "source": [
    "## **Algorithmic Question (AQ)**\n",
    "___"
   ]
  },
  {
   "cell_type": "markdown",
   "metadata": {},
   "source": [
    "1. Write the pseudocode for an algorithm that solves this problem.\n"
   ]
  },
  {
   "cell_type": "markdown",
   "metadata": {},
   "source": [
    "### **Overview**\n",
    "The algorithm is designed to guide a robot that collects packages located on a grid, starting from the origin point (0,0). The robot can only move right ('R') or up ('U'). The goal is to collect all packages using the fewest moves while maintaining a lexicographically smallest path.\n",
    "\n",
    "\n",
    "#### **Input**\n",
    "- The number of test cases, `t`.\n",
    "- For each test case:\n",
    "  - The number of packages, `n`.\n",
    "  - The coordinates `(x_i, y_i)` of each package.\n",
    "\n",
    "#### **Output**\n",
    "- For each test case, print \"YES\" followed by the smallest path if all packages can be collected, or \"NO\" if it is impossible.\n",
    "\n",
    "\n",
    "### **Pseudocode**\n",
    "- The idea behind the followed *pseudocode* is that we want to divide each problem into smaller problems. Instead of thinking about \"How can we collect all the packages in the best way?\", we can firstly solve the problem \"How can i reach in the fastes way the next package?\" and iterate over the packages.\n",
    "- To develop this in the most efficient way, we have to sort the collection that will contain the coordinates of each package we are receiving in input, because we dont want to solve in the brute force way trying every path possible. To do that\n",
    "we compute the distance between the origin and each of the coordinates and we sort them on this distance. \n",
    "- Then we compute the **Manhattan Distance** (or **L1 distance**) that helps up to compute the number of single steps from point A to point B:\n",
    "$$ d = |x_1 - x_2| + |y_1 - y_2| $$\n",
    "- We iterate over this number and in each iteration we decide to go up or right giving more value to the right because lexicographycally  $\"R\" < \"U\"$\n",
    "- Finally return the Path scaling this idea\n",
    "\n",
    "Here the pseudocode:\n",
    "\n",
    "```python\n",
    "    FOR each test_case FROM 1 TO t DO\n",
    "      n = READ integer from input\n",
    "      list_of_coordinates = []\n",
    "\n",
    "      FOR each package FROM 1 to N DO\n",
    "        coordinates = READ integers from input\n",
    "        ADD coordinates to list_of_coordinates\n",
    "\n",
    "      sorted_coordinates = sort(list_of_coordinates)\n",
    "\n",
    "      FOR target_x, target_yy IN sorted_coordinates DO\n",
    "        if target_x or target_y LESS THAN current_coordinates\n",
    "          BREAK\n",
    "          PRINT(\"NO\")\n",
    "\n",
    "        COMPUTE DISTANCE BETWEEN target_x, target_y AND current_coordinates\n",
    "\n",
    "        FOR steps FROM 1 TO distance DO\n",
    "          IF current_coordinate_x LESS THAN target_x \n",
    "            THEN MOVE RIGHT AND ADD \"R\" TO PATH\n",
    "            CONTINUE\n",
    "\n",
    "          ELSE IF current_coordinate_Y LESS THAN target_y\n",
    "            THEN MOVE UP AND ADD \"U\" TO PATH\n",
    "\n",
    "    RETURN PATH\n",
    "\n",
    "\n",
    "```\n",
    "\n",
    "\n"
   ]
  },
  {
   "cell_type": "markdown",
   "metadata": {},
   "source": [
    "Then we have implemented in python this solution using numpy package to make the sorting more efficient:"
   ]
  },
  {
   "cell_type": "code",
   "execution_count": null,
   "metadata": {},
   "outputs": [
    {
     "name": "stdout",
     "output_type": "stream",
     "text": [
      "YES\n",
      "RUUURRRRUU\n",
      "NO\n",
      "YES\n",
      "RRRRUUU\n"
     ]
    }
   ],
   "source": [
    "import numpy as np \n",
    "import functions\n",
    "\n",
    "with open(\"algorithmic_input.txt\") as file:\n",
    "\n",
    "    # Select the number of Test Cases\n",
    "    t = int(file.readline().strip())\n",
    "    # Iterate over the number fo test cases\n",
    "    for _ in range(t):\n",
    "        \n",
    "        # Extract the number of Packages to collect\n",
    "        number_packages = int(file.readline().strip())\n",
    "\n",
    "        # Store all the input coordinate into the Numpy Array\n",
    "        list_of_coordinates = np.array([tuple(map(int, file.readline().strip().split())) for _ in range(number_packages)] , dtype = int)\n",
    "\n",
    "        # I compute the distance from the (0,0) point to sort the list\n",
    "        distances = np.sqrt(list_of_coordinates[:, 0]**2 + list_of_coordinates[:, 1]**2)\n",
    "\n",
    "        # I have used the argsort function in order to return the indices of the distances ordered in ascendent way\n",
    "        sorted_indices = np.argsort(distances)\n",
    "\n",
    "        # I return the list ordered\n",
    "        sorted_coordinates = list_of_coordinates[sorted_indices]\n",
    "\n",
    "        # Execute the function to return the smallest path given an array of sorted coordinates\n",
    "        functions.compute_smallest_path(sorted_coordinates)\n",
    "\n",
    "    \n",
    "\n",
    "\n"
   ]
  },
  {
   "cell_type": "markdown",
   "metadata": {},
   "source": [
    "2. Prove that your algorithm is correct."
   ]
  },
  {
   "cell_type": "markdown",
   "metadata": {},
   "source": [
    "To prove the correctness of our algorithm, which contains a loop, the best way to do it is applying the **Invariant of the Loop**.\n",
    "It is a logic condition that remains true at the beginning and end of each iteration of a loop during the execution of an algorithm.\n",
    "Showing that a loop has an invariant can help to prove that the loop behaves correctly and in general the correctness of the algorithm.\n",
    "\n",
    "#### **Invariant of the Loop**\n",
    "\n",
    "**Loop Invariant**: At the beginning of each iteration, the current_coordinate represents a point reachable from the origin using only \"U\" and \"R\" moves, and result contains a valid path from the origin to current_coordinate.\n",
    "\n",
    "**Proof**:\n",
    "\n",
    "- **Initialization**: The starting point is (0, 0), which is trivially reachable from the origin.\n",
    "\n",
    "- **Maintenance**:\n",
    "The algorithm checks if the next coordinate (`target_x`, `target_y`) can be reached using only \"U\" and \"R\". This is verified by checking that `target_x` is not less than `current_coordinate[0]` and `target_y` is not less than `current_coordinate[1]`.\n",
    "If this condition fails, the algorithm outputs \"NO\" and terminates, proving that reaching all points in the list is impossible with the allowed moves.\n",
    "If the condition holds, the algorithm updates current_coordinate and appends \"R\" and \"U\" moves accordingly, ensuring that only valid moves are added to result.\n",
    "\n",
    "- **Termination**: The loop iterates over all coordinates in list. When it completes without triggering the \"NO\" condition, it implies that all coordinates were reachable from the previous position using only \"U\" and \"R\" moves.\n",
    "\n",
    "**Conclusion**: The loop invariant holds true throughout each iteration, guaranteeing that result represents a valid path up to `current_coordinate`.\n",
    "\n",
    "Obviously we can scale up the invariant also for the external loop over the number_of_packages to complete the proof."
   ]
  },
  {
   "cell_type": "markdown",
   "metadata": {},
   "source": [
    "___\n",
    "3. Compute the time complexity of your algorithm in Big O notation. Break down the steps involved in the algorithm, and explain which parts contribute most to the overall time complexity.\n",
    "___"
   ]
  },
  {
   "cell_type": "markdown",
   "metadata": {},
   "source": [
    "To Compute the time complexity of the algorithm int the **BIG O** Notation we have to consider in the *worst case*  the operation in your algorithm that consumes the most execution time.\n",
    "\n",
    "The *worst case* happens when we are able to collect all the packages in input, so there is no stopping condition.\n",
    "\n",
    "Let's break down the steps in the algorithm.\n",
    "We define $t$ as the number of `test cases` and $n$ as the number of `packages` our robot has to collect each test case $t$.\n",
    "\n",
    "- So at first we have to execute a for loop to iterate over the `test cases` t, so everything we'll be describe below will be executed $t$ times:\n",
    "    ```python\n",
    "                            for _ in range(t):\n",
    "    ```\n",
    "    - Then we use a list comprehension (*python functionality*) to store all the coordinates of the `packages` for that test case:\n",
    "    ```python\n",
    "    list_of_coordinates = np.array([tuple(map(int, file.readline().strip().split())) for _ in range(number_packages)] ,dtype = int)\n",
    "    ```\n",
    "    - The previous instruction maps a series of $n$ tuples (`number of packages`) inside the numpy array, so the instruction \n",
    "    ```python \n",
    "                            tuple(map(int, file.readline().strip().split())) \n",
    "    ``` \n",
    "    - will be executed $n$ times.\n",
    "\n",
    "    - The **fundamental instruction** of the algorithm, is:\n",
    "    ```python \n",
    "                            sorted_indices = np.argsort(distances)\n",
    "    ```\n",
    "    - Infact, as we know in the worst case the most efficient **Sorting algorithms** based on comparisons like *Merge Sort* have a lower bound of $O(n\\log(n))$\n",
    "\n",
    "Even if the previous instruction consumes the most execution time, let's be specific in the calculus of complexity and dive in the remaining part of the code.\n",
    "\n",
    "- the function `compute_smallest_path` takes in input the *list_of_sorted_coordinates* and outputs the smallest path to collect all the packages if it is possible:\n",
    "\n",
    "\n",
    "    - Ignoring instructions of initialization we consider $O(1)$ computationally, we iterate over the input list of size $n$ that contains the coordinates of each package sorted by the distance to the origin:\n",
    "\n",
    "```python \n",
    "                            for target_x, target_y in list:\n",
    "``` \n",
    "\n",
    "- The *fundamental operation* in this function is this loop, that in the worst case will be executed $s_i$ times where $s_i$ is the single step distance between the i-th and i+1-th package. \n",
    "\n",
    "```python \n",
    "                            for _ in range(distance_from_next):\n",
    "\n",
    "``` \n",
    "\n",
    "- If we call $p$ the number of total steps, $p =  \\sum_{i=1}^{n} s_i $\n",
    "\n",
    "\n",
    "So the algorithm will have time complexity equal to $O(t \\times n\\log(n)) + O(t \\times p \\times n)$\n",
    "\n"
   ]
  },
  {
   "cell_type": "markdown",
   "metadata": {},
   "source": [
    "___\n",
    "4. Ask an LLM tool (such as ChatGPT, Claude AI, Gemini, Perplexity, etc.) to evaluate the time complexity of your code using Big O notation. Is the assessment accurate? If it differs from your previous analysis, which would be correct? Please explain your reasoning.\n",
    "___"
   ]
  },
  {
   "cell_type": "markdown",
   "metadata": {},
   "source": [
    "> My prompt to *ChatGpt* was `\"##CODE## evaluate the time complexity of this code using Big O notation \"`.\n",
    "\n",
    "This was the answer:\n",
    "\n",
    "To analyze the time complexity of this code, let’s break down each section and determine the number of operations relative to $n$, where $n$ represents the number of packages.\n",
    "\n",
    "#### 1. **Reading and Parsing Input**\n",
    "   - **File Reading**: The code reads $t$ test cases from a file. For each test case, it reads the number of packages and coordinates.\n",
    "   - **Parsing Coordinates**: Each coordinate pair is read and converted into an integer tuple, which is stored in a Numpy array. Parsing takes $O(n)$ time per test case since it reads $n$ coordinates, each in $O(1)$ time.\n",
    "   \n",
    "   **Time Complexity for Parsing Input**: $O(t \\times n)$.\n",
    "\n",
    "#### 2. **Calculating Distances**\n",
    "   - For each coordinate, the distance from the origin $0,0$ is calculated using the Euclidean formula $\\sqrt{x^2 + y^2}$.\n",
    "   - Calculating the distance for each of the $n$ points takes $O(n)$ time, as computing the distance for each point is $O(1)$.\n",
    "\n",
    "   **Time Complexity for Distance Calculation**: $O(t \\times n)$.\n",
    "\n",
    "#### 3. **Sorting Coordinates by Distance**\n",
    "   - The code sorts the indices based on their distances from the origin. Sorting an array of $n$ elements takes $O(n \\log n)$.\n",
    "   - After sorting, the code creates a new array `sorted_coordinates` by rearranging the coordinates based on the sorted order, which is $O(n)$.\n",
    "\n",
    "   **Time Complexity for Sorting**: $O(t \\times n \\log n)$.\n",
    "\n",
    "#### 4. **Computing the Smallest Path**\n",
    "   - The `compute_smallest_path` function iterates through each of the sorted coordinates in $O(n)$ time.\n",
    "   - For each coordinate, it checks if the target coordinate can be reached by only moving \"up\" (U) or \"right\" (R). This involves a constant-time check and, if infeasible, it returns immediately.\n",
    "   - If the target can be reached, the code calculates the distance along $x$ and $y$ axes.\n",
    "   - For each coordinate, it adds the steps to reach it. Moving each step and updating coordinates takes $O(1)$, and each package requires a bounded number of steps (no more than $x + y$ operations per package).\n",
    "\n",
    "   Overall, this is an $O(n)$ operation since it iterates through all coordinates once and performs a bounded amount of work for each coordinate.\n",
    "\n",
    "   **Time Complexity for Smallest Path Calculation**: $O(t \\times n)$.\n",
    "\n",
    "#### 5. **Printing Results**\n",
    "   - Printing “YES” or “NO” and the path string is $O(n)$ for each test case.\n",
    "\n",
    "   **Time Complexity for Printing**: $O(t \\times n)$.\n",
    "\n",
    "#### **Total Time Complexity**\n",
    "\n",
    "Summing up the complexities for each step, the dominant term is $O(t \\times n \\log n)$ from the sorting step. Thus, the overall time complexity is:\n",
    "\n",
    "$$O(t \\times n \\log n)$$\n",
    "\n",
    "\n",
    "where:\n",
    "- $t$ is the number of test cases,\n",
    "- $n$ is the number of packages per test case.\n",
    "\n",
    "This complexity indicates that the code's performance primarily depends on the sorting operation within each test case.\n"
   ]
  },
  {
   "cell_type": "markdown",
   "metadata": {},
   "source": [
    " - I dont fully agree with the response give by *ChatGPT*. It has broken in small parts the calculus of time complexity like we have done, but it wasnt accurate in my opinion on the study of the algorithm `compute_smallest_path` because it has made the assumption that the size of the path $p$ is $O(1)$. \n",
    "\n",
    "- But if $p$ is $O(n)$ for example the **Total time complexity** is not $O(t \\times \\log(n))$ but it would be $O(t \\times n^2)$ which would be the worst case because the function `compute_smallest_path` would consume the most amount of time."
   ]
  },
  {
   "cell_type": "markdown",
   "metadata": {},
   "source": [
    "5. Assume now that the robot can also move towards the left or downwards, and consider the greedy approach: from the current location go to the closest package. Notice that now we can always collect all packages. Prove that the greedy algorithm is optimal (i.e., it minimizes the total distance traveled), or provide a counterexample showing that it is not.   "
   ]
  },
  {
   "cell_type": "markdown",
   "metadata": {},
   "source": [
    "The proof of optimality for this greedy approach relies on the optimal substructure of the problem. Specifically, we show that if the greedy choice is not optimal at some step, swapping the greedy move with an alternative will equalize or increase the total distance traveled. \n",
    "\n",
    "#### **Step-by-Step Analysis**: \n",
    "\n",
    "The algorithm is based on the calculus of the **Manhattan Distance** that minimizes by definition the number of single steps between two points.\n",
    "\n",
    "**Initial State**: The robot starts at some position $(𝑥_0,𝑦_0)$ and is tasked with collecting a set of packages, each located at $( 𝑥_𝑖 , 𝑦_𝑖 )$.\n",
    "\n",
    "**Greedy Step**: At each step, the robot moves to the closest package (because we have previously sorted the list of packages). \n",
    "Let’s assume the greedy algorithm at some stage goes from the current position $(x_k,y_k)$ to some package $( 𝑥_𝑞 , 𝑦_𝑞)$, and then from $(x_q ​ ,y_q ​ )$ to $(x_p ​ ,y_p ​ )$ selecting the closest package.\n",
    "\n",
    " Now, let’s consider an another algorithm alternative (not *greedy*) swapping the two steps: first move from $(x_k ​ ,y_k ​ )$ to $(x_p ​ ,y_p ​ )$, and then move from $( 𝑥_𝑝 , 𝑦_𝑝 )$ to $(x_q ​ ,y_q ​)$. \n",
    "\n",
    " The total distance (equal to the **Manhattan Distance**) for the greedy choice is: $𝐷_{greedy} = |x_k − 𝑥_𝑝|+ |𝑦_𝑘 − 𝑦_𝑝| + |𝑥_𝑝 − 𝑥_𝑞| + |𝑦_𝑝 − 𝑦_𝑞|$\n",
    "\n",
    "The total distance for the alternative choice is: $D_{alternative} ​ = ∣x_k ​− x_q ∣ + ∣y_k− y_q∣ + ∣x_q − x_p∣ + |y_q​ − y_p|$\n",
    "\n",
    "The key observation here is that, by the triangle **inequality for Manhattan distance**, we have: \n",
    "$$ |x_k ​ −x_p ∣ + ∣y_k ​− y_p∣ + |𝑥_𝑝 − 𝑥_𝑞| + |𝑦_𝑝 − 𝑦_𝑞| \\le ∣ x_k − x_q∣ + ∣y_k​ − y_q∣ + ∣x_q − x_p∣ + ∣y_q​ − y_p∣$$\n",
    "Hence, moving directly from  $(x_k,y_k )$ to $(x_p,y_p)$ and then to $(x_q ,y_q)$ will not result in a greater distance than the alternative move. \n",
    " \n",
    "Therefore, the greedy approach (choosing the closest package at each step) is at least as good as any alternative strategy in terms of total distance."
   ]
  },
  {
   "cell_type": "markdown",
   "metadata": {},
   "source": [
    "For completeness, we have implemented also the function that simulates this extended case."
   ]
  },
  {
   "cell_type": "code",
   "execution_count": null,
   "metadata": {},
   "outputs": [
    {
     "name": "stdout",
     "output_type": "stream",
     "text": [
      "YES\n",
      "RUUURRRRUU\n",
      "YES\n",
      "RLU\n",
      "YES\n",
      "RRRRUUU\n"
     ]
    }
   ],
   "source": [
    "import numpy as np \n",
    "import functions\n",
    "\n",
    "with open(\"algorithmic_input.txt\") as file:\n",
    "\n",
    "    # Select the number of Test Cases\n",
    "    t = int(file.readline().strip())\n",
    "    # Iterate over the number fo test cases\n",
    "    for _ in range(t):\n",
    "        \n",
    "        # Extract the number of Packages to collect\n",
    "        number_packages = int(file.readline().strip())\n",
    "\n",
    "        # Store all the input coordinate into the Numpy Array\n",
    "        list_of_coordinates = np.array([tuple(map(int, file.readline().strip().split())) for _ in range(number_packages)] , dtype = int)\n",
    "\n",
    "        # I compute the distance from the (0,0) point to sort the list\n",
    "        distances = np.sqrt(list_of_coordinates[:, 0]**2 + list_of_coordinates[:, 1]**2)\n",
    "\n",
    "        # I have used the argsort function in order to return the indices of the distances ordered in ascendent way\n",
    "        sorted_indices = np.argsort(distances)\n",
    "\n",
    "        # I return the list ordered\n",
    "        sorted_coordinates = list_of_coordinates[sorted_indices]\n",
    "\n",
    "        # Execute the function to return the smallest path given an array of sorted coordinates\n",
    "        functions.extended_compute_smallest_path(sorted_coordinates)\n",
    "\n",
    "    \n",
    "\n",
    "\n"
   ]
  },
  {
   "cell_type": "markdown",
   "metadata": {},
   "source": [
    "We can see that in this case we are able to collect all the packages, so \"NO\" is not printed in the output"
   ]
  }
 ],
 "metadata": {
  "kernelspec": {
   "display_name": "BasicPy",
   "language": "python",
   "name": "python3"
  },
  "language_info": {
   "codemirror_mode": {
    "name": "ipython",
    "version": 3
   },
   "file_extension": ".py",
   "mimetype": "text/x-python",
   "name": "python",
   "nbconvert_exporter": "python",
   "pygments_lexer": "ipython3",
   "version": "3.12.2"
  }
 },
 "nbformat": 4,
 "nbformat_minor": 2
}
